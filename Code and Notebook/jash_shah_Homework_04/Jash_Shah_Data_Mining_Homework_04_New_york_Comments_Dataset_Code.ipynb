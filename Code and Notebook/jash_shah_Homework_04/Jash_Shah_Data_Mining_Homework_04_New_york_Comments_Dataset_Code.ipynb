{
 "cells": [
  {
   "cell_type": "code",
   "execution_count": 2,
   "id": "1b99aeca",
   "metadata": {},
   "outputs": [
    {
     "name": "stderr",
     "output_type": "stream",
     "text": [
      "[nltk_data] Downloading package wordnet to\n",
      "[nltk_data]     /N/u/javshah/Carbonate/nltk_data...\n",
      "[nltk_data]   Package wordnet is already up-to-date!\n",
      "[nltk_data] Downloading package stopwords to\n",
      "[nltk_data]     /N/u/javshah/Carbonate/nltk_data...\n",
      "[nltk_data]   Package stopwords is already up-to-date!\n"
     ]
    },
    {
     "data": {
      "text/plain": [
       "True"
      ]
     },
     "execution_count": 2,
     "metadata": {},
     "output_type": "execute_result"
    }
   ],
   "source": [
    "import pandas as pd\n",
    "import numpy as np\n",
    "import matplotlib.pyplot as plt\n",
    "#import swifter\n",
    "import seaborn as sns\n",
    "import string\n",
    "import nltk\n",
    "from nltk.corpus import stopwords\n",
    "from nltk.stem import WordNetLemmatizer\n",
    "import re\n",
    "from nltk.probability import FreqDist\n",
    "from nltk.tokenize import word_tokenize\n",
    "from nltk.probability import FreqDist\n",
    "nltk.download('wordnet')\n",
    "nltk.download('stopwords')"
   ]
  },
  {
   "cell_type": "code",
   "execution_count": 3,
   "id": "4235b4d1",
   "metadata": {},
   "outputs": [],
   "source": [
    "import swifter"
   ]
  },
  {
   "cell_type": "code",
   "execution_count": 4,
   "id": "6484b9c2",
   "metadata": {},
   "outputs": [],
   "source": [
    "df_new_york=pd.read_csv('nyt-comments-2020.csv',low_memory=False)"
   ]
  },
  {
   "cell_type": "code",
   "execution_count": 5,
   "id": "7c1ac070",
   "metadata": {},
   "outputs": [],
   "source": [
    "import string\n",
    "import nltk\n",
    "from nltk.corpus import stopwords\n",
    "from nltk.stem import WordNetLemmatizer\n",
    "import re\n",
    "from nltk.probability import FreqDist\n",
    "from nltk.tokenize import word_tokenize\n",
    "from nltk.probability import FreqDist\n",
    "from nltk.stem import PorterStemmer\n",
    "\n",
    "def preprocess(corpus):\n",
    "    #Converting text to lower case\n",
    "    word_tokens_initialize=word_tokenize(corpus)\n",
    "    corpus = corpus.lower()\n",
    "    # Remove punctuation\n",
    "    corpus = corpus.translate(str.maketrans('', '', string.punctuation))\n",
    "    #remove numbers\n",
    "    corpus = re.sub(r'\\d+', '', corpus)\n",
    "    #Reomve URLS\n",
    "    corpus = re.sub(r'http\\S+', '',corpus)\n",
    "    # Remove non-alphabetic\n",
    "    corpus = re.sub(r'[^a-zA-Z0-9\\s]', '',corpus)\n",
    "    #Remove Stop words\n",
    "    word_tokens=word_tokenize(corpus)\n",
    "    stop_words = set(stopwords.words('english'))\n",
    "    word_tokens = [word for word in word_tokens if word not in stop_words]\n",
    "    #Applying Stemming\n",
    "    stemmer = PorterStemmer()\n",
    "    word_tokens=[stemmer.stem(word) for word in word_tokens]\n",
    "    corpus = ' '.join(word_tokens)\n",
    "    return corpus\n",
    "    "
   ]
  },
  {
   "cell_type": "code",
   "execution_count": 6,
   "id": "dfab357b",
   "metadata": {},
   "outputs": [
    {
     "data": {
      "application/vnd.jupyter.widget-view+json": {
       "model_id": "63315d811d0545aa9e5e9f701002ab7c",
       "version_major": 2,
       "version_minor": 0
      },
      "text/plain": [
       "Pandas Apply:   0%|          | 0/4986461 [00:00<?, ?it/s]"
      ]
     },
     "metadata": {},
     "output_type": "display_data"
    }
   ],
   "source": [
    "df_new_york['Cleaned_data']=df_new_york['commentBody'].swifter.apply(lambda x: preprocess(x))"
   ]
  },
  {
   "cell_type": "code",
   "execution_count": 10,
   "id": "de98f662",
   "metadata": {},
   "outputs": [],
   "source": [
    "df_new_york.to_csv('Final_data.csv')"
   ]
  },
  {
   "cell_type": "code",
   "execution_count": 113,
   "id": "b5e1b88b",
   "metadata": {},
   "outputs": [],
   "source": [
    "df_first_copy=df_new_york.copy()"
   ]
  },
  {
   "cell_type": "code",
   "execution_count": 78,
   "id": "0d9d38dc",
   "metadata": {},
   "outputs": [
    {
     "data": {
      "text/html": [
       "<div>\n",
       "<style scoped>\n",
       "    .dataframe tbody tr th:only-of-type {\n",
       "        vertical-align: middle;\n",
       "    }\n",
       "\n",
       "    .dataframe tbody tr th {\n",
       "        vertical-align: top;\n",
       "    }\n",
       "\n",
       "    .dataframe thead th {\n",
       "        text-align: right;\n",
       "    }\n",
       "</style>\n",
       "<table border=\"1\" class=\"dataframe\">\n",
       "  <thead>\n",
       "    <tr style=\"text-align: right;\">\n",
       "      <th></th>\n",
       "      <th>commentID</th>\n",
       "      <th>status</th>\n",
       "      <th>commentSequence</th>\n",
       "      <th>userID</th>\n",
       "      <th>userDisplayName</th>\n",
       "      <th>userLocation</th>\n",
       "      <th>userTitle</th>\n",
       "      <th>commentBody</th>\n",
       "      <th>createDate</th>\n",
       "      <th>updateDate</th>\n",
       "      <th>...</th>\n",
       "      <th>parentID</th>\n",
       "      <th>parentUserDisplayName</th>\n",
       "      <th>depth</th>\n",
       "      <th>commentType</th>\n",
       "      <th>trusted</th>\n",
       "      <th>recommendedFlag</th>\n",
       "      <th>permID</th>\n",
       "      <th>isAnonymous</th>\n",
       "      <th>articleID</th>\n",
       "      <th>Cleaned_data</th>\n",
       "    </tr>\n",
       "  </thead>\n",
       "  <tbody>\n",
       "    <tr>\n",
       "      <th>0</th>\n",
       "      <td>104387472</td>\n",
       "      <td>approved</td>\n",
       "      <td>104387472</td>\n",
       "      <td>60215558</td>\n",
       "      <td>magicisnotreal</td>\n",
       "      <td>earth</td>\n",
       "      <td>NaN</td>\n",
       "      <td>Here is something I think is fraudulent that v...</td>\n",
       "      <td>2020-01-01 01:05:46</td>\n",
       "      <td>2020-01-01 08:13:39</td>\n",
       "      <td>...</td>\n",
       "      <td>NaN</td>\n",
       "      <td>NaN</td>\n",
       "      <td>1</td>\n",
       "      <td>comment</td>\n",
       "      <td>0</td>\n",
       "      <td>0</td>\n",
       "      <td>104387472</td>\n",
       "      <td>False</td>\n",
       "      <td>nyt://article/69a7090b-9f36-569e-b5ab-b0ba5bb3...</td>\n",
       "      <td>someth think fraudul vet subject use va home l...</td>\n",
       "    </tr>\n",
       "    <tr>\n",
       "      <th>1</th>\n",
       "      <td>104387873</td>\n",
       "      <td>approved</td>\n",
       "      <td>104387873</td>\n",
       "      <td>65691034</td>\n",
       "      <td>JD</td>\n",
       "      <td>Elko</td>\n",
       "      <td>NaN</td>\n",
       "      <td>@magicisnotreal  I have used my VA loan option...</td>\n",
       "      <td>2020-01-01 01:52:25</td>\n",
       "      <td>2020-01-01 20:55:19</td>\n",
       "      <td>...</td>\n",
       "      <td>104387472.0</td>\n",
       "      <td>magicisnotreal</td>\n",
       "      <td>2</td>\n",
       "      <td>userReply</td>\n",
       "      <td>0</td>\n",
       "      <td>0</td>\n",
       "      <td>104387873</td>\n",
       "      <td>False</td>\n",
       "      <td>nyt://article/69a7090b-9f36-569e-b5ab-b0ba5bb3...</td>\n",
       "      <td>magicisnotr use va loan option four time everi...</td>\n",
       "    </tr>\n",
       "    <tr>\n",
       "      <th>2</th>\n",
       "      <td>104387976</td>\n",
       "      <td>approved</td>\n",
       "      <td>104387976</td>\n",
       "      <td>65110053</td>\n",
       "      <td>ebmem</td>\n",
       "      <td>Memphis, TN</td>\n",
       "      <td>NaN</td>\n",
       "      <td>@magi\\n\\nWhy would someone take out a VA loan ...</td>\n",
       "      <td>2020-01-01 02:06:05</td>\n",
       "      <td>2020-01-01 20:55:35</td>\n",
       "      <td>...</td>\n",
       "      <td>104387472.0</td>\n",
       "      <td>magicisnotreal</td>\n",
       "      <td>2</td>\n",
       "      <td>userReply</td>\n",
       "      <td>0</td>\n",
       "      <td>0</td>\n",
       "      <td>104387976</td>\n",
       "      <td>False</td>\n",
       "      <td>nyt://article/69a7090b-9f36-569e-b5ab-b0ba5bb3...</td>\n",
       "      <td>magi would someon take va loan convent loan lo...</td>\n",
       "    </tr>\n",
       "    <tr>\n",
       "      <th>3</th>\n",
       "      <td>104390628</td>\n",
       "      <td>approved</td>\n",
       "      <td>104390628</td>\n",
       "      <td>60215558</td>\n",
       "      <td>magicisnotreal</td>\n",
       "      <td>earth</td>\n",
       "      <td>NaN</td>\n",
       "      <td>@JD\\nOut here in the Alabama of the PNW they w...</td>\n",
       "      <td>2020-01-01 14:38:50</td>\n",
       "      <td>2020-01-01 20:56:46</td>\n",
       "      <td>...</td>\n",
       "      <td>104387873.0</td>\n",
       "      <td>magicisnotreal</td>\n",
       "      <td>2</td>\n",
       "      <td>userReply</td>\n",
       "      <td>0</td>\n",
       "      <td>0</td>\n",
       "      <td>104390628</td>\n",
       "      <td>False</td>\n",
       "      <td>nyt://article/69a7090b-9f36-569e-b5ab-b0ba5bb3...</td>\n",
       "      <td>jd alabama pnw tri steal home heloc scam autho...</td>\n",
       "    </tr>\n",
       "    <tr>\n",
       "      <th>4</th>\n",
       "      <td>104391463</td>\n",
       "      <td>approved</td>\n",
       "      <td>104391463</td>\n",
       "      <td>65691034</td>\n",
       "      <td>JD</td>\n",
       "      <td>Elko</td>\n",
       "      <td>NaN</td>\n",
       "      <td>@magicisnotreal  just a guess but I doubt that...</td>\n",
       "      <td>2020-01-01 16:23:14</td>\n",
       "      <td>2020-01-01 16:25:57</td>\n",
       "      <td>...</td>\n",
       "      <td>104390628.0</td>\n",
       "      <td>magicisnotreal</td>\n",
       "      <td>2</td>\n",
       "      <td>userReply</td>\n",
       "      <td>0</td>\n",
       "      <td>0</td>\n",
       "      <td>104391463</td>\n",
       "      <td>False</td>\n",
       "      <td>nyt://article/69a7090b-9f36-569e-b5ab-b0ba5bb3...</td>\n",
       "      <td>magicisnotr guess doubt credit union made sign...</td>\n",
       "    </tr>\n",
       "    <tr>\n",
       "      <th>5</th>\n",
       "      <td>104392390</td>\n",
       "      <td>approved</td>\n",
       "      <td>104392390</td>\n",
       "      <td>60215558</td>\n",
       "      <td>magicisnotreal</td>\n",
       "      <td>earth</td>\n",
       "      <td>NaN</td>\n",
       "      <td>@JD \\n1st you should take note of the past ten...</td>\n",
       "      <td>2020-01-01 18:22:09</td>\n",
       "      <td>2020-01-01 18:22:11</td>\n",
       "      <td>...</td>\n",
       "      <td>104391463.0</td>\n",
       "      <td>magicisnotreal</td>\n",
       "      <td>2</td>\n",
       "      <td>userReply</td>\n",
       "      <td>0</td>\n",
       "      <td>0</td>\n",
       "      <td>104392390</td>\n",
       "      <td>False</td>\n",
       "      <td>nyt://article/69a7090b-9f36-569e-b5ab-b0ba5bb3...</td>\n",
       "      <td>jd st take note past tens post actual make get...</td>\n",
       "    </tr>\n",
       "    <tr>\n",
       "      <th>6</th>\n",
       "      <td>104387855</td>\n",
       "      <td>approved</td>\n",
       "      <td>104387855</td>\n",
       "      <td>66232009</td>\n",
       "      <td>DAWGPOUND HAR</td>\n",
       "      <td>NYC</td>\n",
       "      <td>NaN</td>\n",
       "      <td>Sick.\\nBut some action now.\\nHopefully.</td>\n",
       "      <td>2020-01-01 01:50:53</td>\n",
       "      <td>2020-01-01 14:11:39</td>\n",
       "      <td>...</td>\n",
       "      <td>NaN</td>\n",
       "      <td>NaN</td>\n",
       "      <td>1</td>\n",
       "      <td>comment</td>\n",
       "      <td>0</td>\n",
       "      <td>0</td>\n",
       "      <td>104387855</td>\n",
       "      <td>False</td>\n",
       "      <td>nyt://article/69a7090b-9f36-569e-b5ab-b0ba5bb3...</td>\n",
       "      <td>sick action hope</td>\n",
       "    </tr>\n",
       "    <tr>\n",
       "      <th>7</th>\n",
       "      <td>104387893</td>\n",
       "      <td>approved</td>\n",
       "      <td>104387893</td>\n",
       "      <td>73299044</td>\n",
       "      <td>K Pow</td>\n",
       "      <td>NYC</td>\n",
       "      <td>NaN</td>\n",
       "      <td>From all of this comes: Congress members love ...</td>\n",
       "      <td>2020-01-01 01:54:26</td>\n",
       "      <td>2020-01-03 12:21:08</td>\n",
       "      <td>...</td>\n",
       "      <td>NaN</td>\n",
       "      <td>NaN</td>\n",
       "      <td>1</td>\n",
       "      <td>comment</td>\n",
       "      <td>0</td>\n",
       "      <td>0</td>\n",
       "      <td>104387893</td>\n",
       "      <td>False</td>\n",
       "      <td>nyt://article/69a7090b-9f36-569e-b5ab-b0ba5bb3...</td>\n",
       "      <td>come congress member love money love spend isn...</td>\n",
       "    </tr>\n",
       "    <tr>\n",
       "      <th>8</th>\n",
       "      <td>104388059</td>\n",
       "      <td>approved</td>\n",
       "      <td>104388059</td>\n",
       "      <td>79346393</td>\n",
       "      <td>Es</td>\n",
       "      <td>Mo</td>\n",
       "      <td>NaN</td>\n",
       "      <td>I'm a veteran, and the focus should be on prot...</td>\n",
       "      <td>2020-01-01 02:18:54</td>\n",
       "      <td>2020-01-15 00:00:21</td>\n",
       "      <td>...</td>\n",
       "      <td>NaN</td>\n",
       "      <td>NaN</td>\n",
       "      <td>1</td>\n",
       "      <td>comment</td>\n",
       "      <td>0</td>\n",
       "      <td>0</td>\n",
       "      <td>104388059</td>\n",
       "      <td>False</td>\n",
       "      <td>nyt://article/69a7090b-9f36-569e-b5ab-b0ba5bb3...</td>\n",
       "      <td>im veteran focu protect everybodi fraud</td>\n",
       "    </tr>\n",
       "    <tr>\n",
       "      <th>9</th>\n",
       "      <td>104388656</td>\n",
       "      <td>approved</td>\n",
       "      <td>104388656</td>\n",
       "      <td>85853572</td>\n",
       "      <td>mplo</td>\n",
       "      <td>Somerville, MA--USA</td>\n",
       "      <td>NaN</td>\n",
       "      <td>@Es \\n\\nI totally agree with you, Es.  Well said.</td>\n",
       "      <td>2020-01-01 04:14:02</td>\n",
       "      <td>2020-01-01 17:21:03</td>\n",
       "      <td>...</td>\n",
       "      <td>104388059.0</td>\n",
       "      <td>Es</td>\n",
       "      <td>2</td>\n",
       "      <td>userReply</td>\n",
       "      <td>0</td>\n",
       "      <td>0</td>\n",
       "      <td>104388656</td>\n",
       "      <td>False</td>\n",
       "      <td>nyt://article/69a7090b-9f36-569e-b5ab-b0ba5bb3...</td>\n",
       "      <td>es total agre es well said</td>\n",
       "    </tr>\n",
       "  </tbody>\n",
       "</table>\n",
       "<p>10 rows × 24 columns</p>\n",
       "</div>"
      ],
      "text/plain": [
       "   commentID    status  commentSequence    userID userDisplayName  \\\n",
       "0  104387472  approved        104387472  60215558  magicisnotreal   \n",
       "1  104387873  approved        104387873  65691034              JD   \n",
       "2  104387976  approved        104387976  65110053           ebmem   \n",
       "3  104390628  approved        104390628  60215558  magicisnotreal   \n",
       "4  104391463  approved        104391463  65691034              JD   \n",
       "5  104392390  approved        104392390  60215558  magicisnotreal   \n",
       "6  104387855  approved        104387855  66232009   DAWGPOUND HAR   \n",
       "7  104387893  approved        104387893  73299044           K Pow   \n",
       "8  104388059  approved        104388059  79346393              Es   \n",
       "9  104388656  approved        104388656  85853572            mplo   \n",
       "\n",
       "          userLocation userTitle  \\\n",
       "0                earth       NaN   \n",
       "1                 Elko       NaN   \n",
       "2          Memphis, TN       NaN   \n",
       "3                earth       NaN   \n",
       "4                 Elko       NaN   \n",
       "5                earth       NaN   \n",
       "6                  NYC       NaN   \n",
       "7                  NYC       NaN   \n",
       "8                   Mo       NaN   \n",
       "9  Somerville, MA--USA       NaN   \n",
       "\n",
       "                                         commentBody           createDate  \\\n",
       "0  Here is something I think is fraudulent that v...  2020-01-01 01:05:46   \n",
       "1  @magicisnotreal  I have used my VA loan option...  2020-01-01 01:52:25   \n",
       "2  @magi\\n\\nWhy would someone take out a VA loan ...  2020-01-01 02:06:05   \n",
       "3  @JD\\nOut here in the Alabama of the PNW they w...  2020-01-01 14:38:50   \n",
       "4  @magicisnotreal  just a guess but I doubt that...  2020-01-01 16:23:14   \n",
       "5  @JD \\n1st you should take note of the past ten...  2020-01-01 18:22:09   \n",
       "6            Sick.\\nBut some action now.\\nHopefully.  2020-01-01 01:50:53   \n",
       "7  From all of this comes: Congress members love ...  2020-01-01 01:54:26   \n",
       "8  I'm a veteran, and the focus should be on prot...  2020-01-01 02:18:54   \n",
       "9  @Es \\n\\nI totally agree with you, Es.  Well said.  2020-01-01 04:14:02   \n",
       "\n",
       "            updateDate  ...     parentID  parentUserDisplayName  depth  \\\n",
       "0  2020-01-01 08:13:39  ...          NaN                    NaN      1   \n",
       "1  2020-01-01 20:55:19  ...  104387472.0         magicisnotreal      2   \n",
       "2  2020-01-01 20:55:35  ...  104387472.0         magicisnotreal      2   \n",
       "3  2020-01-01 20:56:46  ...  104387873.0         magicisnotreal      2   \n",
       "4  2020-01-01 16:25:57  ...  104390628.0         magicisnotreal      2   \n",
       "5  2020-01-01 18:22:11  ...  104391463.0         magicisnotreal      2   \n",
       "6  2020-01-01 14:11:39  ...          NaN                    NaN      1   \n",
       "7  2020-01-03 12:21:08  ...          NaN                    NaN      1   \n",
       "8  2020-01-15 00:00:21  ...          NaN                    NaN      1   \n",
       "9  2020-01-01 17:21:03  ...  104388059.0                     Es      2   \n",
       "\n",
       "   commentType  trusted recommendedFlag     permID isAnonymous  \\\n",
       "0      comment        0               0  104387472       False   \n",
       "1    userReply        0               0  104387873       False   \n",
       "2    userReply        0               0  104387976       False   \n",
       "3    userReply        0               0  104390628       False   \n",
       "4    userReply        0               0  104391463       False   \n",
       "5    userReply        0               0  104392390       False   \n",
       "6      comment        0               0  104387855       False   \n",
       "7      comment        0               0  104387893       False   \n",
       "8      comment        0               0  104388059       False   \n",
       "9    userReply        0               0  104388656       False   \n",
       "\n",
       "                                           articleID  \\\n",
       "0  nyt://article/69a7090b-9f36-569e-b5ab-b0ba5bb3...   \n",
       "1  nyt://article/69a7090b-9f36-569e-b5ab-b0ba5bb3...   \n",
       "2  nyt://article/69a7090b-9f36-569e-b5ab-b0ba5bb3...   \n",
       "3  nyt://article/69a7090b-9f36-569e-b5ab-b0ba5bb3...   \n",
       "4  nyt://article/69a7090b-9f36-569e-b5ab-b0ba5bb3...   \n",
       "5  nyt://article/69a7090b-9f36-569e-b5ab-b0ba5bb3...   \n",
       "6  nyt://article/69a7090b-9f36-569e-b5ab-b0ba5bb3...   \n",
       "7  nyt://article/69a7090b-9f36-569e-b5ab-b0ba5bb3...   \n",
       "8  nyt://article/69a7090b-9f36-569e-b5ab-b0ba5bb3...   \n",
       "9  nyt://article/69a7090b-9f36-569e-b5ab-b0ba5bb3...   \n",
       "\n",
       "                                        Cleaned_data  \n",
       "0  someth think fraudul vet subject use va home l...  \n",
       "1  magicisnotr use va loan option four time everi...  \n",
       "2  magi would someon take va loan convent loan lo...  \n",
       "3  jd alabama pnw tri steal home heloc scam autho...  \n",
       "4  magicisnotr guess doubt credit union made sign...  \n",
       "5  jd st take note past tens post actual make get...  \n",
       "6                                   sick action hope  \n",
       "7  come congress member love money love spend isn...  \n",
       "8            im veteran focu protect everybodi fraud  \n",
       "9                         es total agre es well said  \n",
       "\n",
       "[10 rows x 24 columns]"
      ]
     },
     "execution_count": 78,
     "metadata": {},
     "output_type": "execute_result"
    }
   ],
   "source": [
    "df_new_york.head(10)"
   ]
  },
  {
   "cell_type": "code",
   "execution_count": null,
   "id": "b2e0f231",
   "metadata": {},
   "outputs": [],
   "source": [
    "df_new_york['commentType'].value_counts()\n"
   ]
  },
  {
   "cell_type": "code",
   "execution_count": 82,
   "id": "35ffa604",
   "metadata": {},
   "outputs": [],
   "source": [
    "df_first_copy=df_new_york[df_new_york['commentType']=='comment']"
   ]
  },
  {
   "cell_type": "code",
   "execution_count": 114,
   "id": "2e3351b8",
   "metadata": {},
   "outputs": [],
   "source": [
    "df_new_york_final=df_first_copy[['Cleaned_data','editorsSelection','commentBody']]"
   ]
  },
  {
   "cell_type": "code",
   "execution_count": 115,
   "id": "98efebb5",
   "metadata": {},
   "outputs": [
    {
     "data": {
      "text/plain": [
       "(4986461, 3)"
      ]
     },
     "execution_count": 115,
     "metadata": {},
     "output_type": "execute_result"
    }
   ],
   "source": [
    "df_new_york_final_01=df_new_york_final.copy()\n",
    "df_new_york_final_01.shape"
   ]
  },
  {
   "cell_type": "code",
   "execution_count": 117,
   "id": "369c9bde",
   "metadata": {},
   "outputs": [],
   "source": [
    "import numpy as np\n",
    "df_new_york_final_01['Cleaned_data'].replace({'':np.nan},inplace=True)\n"
   ]
  },
  {
   "cell_type": "code",
   "execution_count": 118,
   "id": "b59cd00f",
   "metadata": {},
   "outputs": [],
   "source": [
    "df_new_york_final_01=df_new_york_final_01.dropna()"
   ]
  },
  {
   "cell_type": "markdown",
   "id": "66a3bb87",
   "metadata": {},
   "source": [
    "# Applying Count Vectorizer to convert in matrix form Threshold 2.95 Percent"
   ]
  },
  {
   "cell_type": "code",
   "execution_count": 120,
   "id": "cb8b44bf",
   "metadata": {},
   "outputs": [
    {
     "data": {
      "text/plain": [
       "147061"
      ]
     },
     "execution_count": 120,
     "metadata": {},
     "output_type": "execute_result"
    }
   ],
   "source": [
    "from sklearn.feature_extraction.text import CountVectorizer\n",
    "num_docs = len(df_new_york_final_01)\n",
    "min_df_pct =0.0295\n",
    "min_df = int(min_df_pct * num_docs)\n",
    "min_df\n"
   ]
  },
  {
   "cell_type": "code",
   "execution_count": 121,
   "id": "ec58383d",
   "metadata": {},
   "outputs": [
    {
     "name": "stderr",
     "output_type": "stream",
     "text": [
      "100%|██████████| 4985132/4985132 [03:14<00:00, 25647.67it/s]\n"
     ]
    }
   ],
   "source": [
    "from tqdm import tqdm\n",
    "#To chcek the percentage bar\n",
    "from sklearn.feature_extraction.text import CountVectorizer\n",
    "#Applying count vectorizer with min df as 2.7 percent\n",
    "vectorizer = CountVectorizer(min_df=min_df)\n",
    "#Hence we have only kept those key words whos minimum occurence is 2.7 percent in data\n",
    "bag_of_words_matrix = vectorizer.fit_transform(tqdm(df_new_york_final_01['Cleaned_data']))\n",
    "count_vectorizer_df= pd.DataFrame.sparse.from_spmatrix(bag_of_words_matrix, columns=vectorizer.get_feature_names())"
   ]
  },
  {
   "cell_type": "code",
   "execution_count": 208,
   "id": "392f7d23",
   "metadata": {},
   "outputs": [
    {
     "data": {
      "text/plain": [
       "(4985132, 168)"
      ]
     },
     "execution_count": 208,
     "metadata": {},
     "output_type": "execute_result"
    }
   ],
   "source": [
    "count_vectorizer_df.shape"
   ]
  },
  {
   "cell_type": "code",
   "execution_count": 123,
   "id": "624af593",
   "metadata": {},
   "outputs": [],
   "source": [
    "count_vectorizer_df['editorsSelection']=df_new_york_final_01['editorsSelection']"
   ]
  },
  {
   "cell_type": "code",
   "execution_count": 102,
   "id": "47963bc4",
   "metadata": {},
   "outputs": [
    {
     "data": {
      "text/plain": [
       "0.0    1546688\n",
       "1.0      29798\n",
       "Name: editorsSelection, dtype: int64"
      ]
     },
     "execution_count": 102,
     "metadata": {},
     "output_type": "execute_result"
    }
   ],
   "source": [
    "count_vectorizer_df['editorsSelection'].value_counts()"
   ]
  },
  {
   "cell_type": "code",
   "execution_count": 124,
   "id": "31f5e269",
   "metadata": {},
   "outputs": [],
   "source": [
    "count_vectorizer_df['editorsSelection'] = count_vectorizer_df['editorsSelection'].replace({True:1,False:0})"
   ]
  },
  {
   "cell_type": "code",
   "execution_count": 222,
   "id": "8eb64087",
   "metadata": {},
   "outputs": [
    {
     "data": {
      "text/plain": [
       "(4985132, 168)"
      ]
     },
     "execution_count": 222,
     "metadata": {},
     "output_type": "execute_result"
    }
   ],
   "source": [
    "count_vectorizer_df.shape"
   ]
  },
  {
   "cell_type": "code",
   "execution_count": 196,
   "id": "b8cb073b",
   "metadata": {},
   "outputs": [],
   "source": [
    "df_sample=count_vectorizer_df.copy()\n",
    "df_sample=df_sample.head(1000000)"
   ]
  },
  {
   "cell_type": "markdown",
   "id": "50562b00",
   "metadata": {},
   "source": [
    "# K means using TOU and Target Variable Error"
   ]
  },
  {
   "cell_type": "code",
   "execution_count": 213,
   "id": "ae7fc4d2",
   "metadata": {},
   "outputs": [],
   "source": [
    "\n",
    "import numpy as np\n",
    "import swifter\n",
    "from scipy.spatial.distance import euclidean\n",
    "from scipy.spatial.distance import cdist\n",
    "import time\n",
    "\n",
    "         \n",
    "def get_random_centroids(input_dataframe,no_of_clusters):\n",
    "    '''\n",
    "    The function takes a dataframe as an input and creates a random K centroids from uniform distribution\n",
    "    '''\n",
    "    #Initialize random centroids from dataset\n",
    "    list_of_centroids = []\n",
    "    \n",
    "    for cluster in range(no_of_clusters):\n",
    "        #Generates a centroids randomly from uniform distribution \n",
    "        random_centroid = input_dataframe.swifter.apply(lambda x:float(x.sample()))\n",
    "        #From the given dataset it randomly selects centroids\n",
    "        list_of_centroids.append(random_centroid)\n",
    "    \n",
    "    centroid_df=pd.concat(list_of_centroids,axis=1)\n",
    "    #Naming the column as Label for ease of purpose\n",
    "    centroid_df.index.name='Cluster_Assigned'\n",
    "    '''\n",
    "    The function returns a dataframe consisting of no of clusters required\n",
    "    '''\n",
    "    return centroid_df\n",
    "\n",
    "def get_labels(input_dataframe,centroid_df):\n",
    "    '''\n",
    "    This function takes centroids as input and takes the initial dataframe and gives them labels to which cluster\n",
    "    they belong to\n",
    "    '''\n",
    "    euclidean_distances = centroid_df.swifter.apply(lambda x: np.sqrt(((input_dataframe - x) ** 2).sum(axis=1)))\n",
    "    #Here we use idxmin functionality to handle ties in the dataset \n",
    "    #and it randomly assigns if euclideab distance results in a tie\n",
    "    '''\n",
    "    This function returns the index of minimum distances as a dataframe\n",
    "    '''\n",
    "    return pd.DataFrame(euclidean_distances.idxmin(axis=1))\n",
    "\n",
    "        \n",
    "def get_new_centroids(df_clustered_label,input_dataframe):\n",
    "    '''\n",
    "    The input dataframe is the dataframe with clusters labelled and the original dataframe\n",
    "    '''\n",
    "    df_original_label_join=input_dataframe.join(df_clustered_label)\n",
    "    #This is a dataframe that consists of datapoints as well as the cluster assigned \n",
    "    df_original_label_join.rename(columns={0:'Cluster_Assigned'},inplace=True)\n",
    "    #To get the new centroids we group by the Label column and take its mean\n",
    "    new_centroids=df_original_label_join.groupby('Cluster_Assigned').mean()\n",
    "    #Here transpose is taken to maintain consistency between original random centroids and \n",
    "    return new_centroids.T\n",
    "\n",
    "\n",
    "def kmeans_llyod(input_dataframe,no_of_clusters,threshold,no_of_iterations):\n",
    "    '''\n",
    "    This function takes original dataframe,number of clusters,threshold as input.\n",
    "    '''\n",
    "    start_time=time.time()\n",
    "    iteration=0\n",
    "    #Step 1 of k means is to get random _Centroids\n",
    "    initial_centroid=get_random_centroids(input_dataframe,no_of_clusters)\n",
    "    #Randomly generated centroids would be stored on centroids \n",
    "    #Storing the column list to handle K ties \n",
    "    initial_centroid_column_list=initial_centroid.columns.to_list()\n",
    "    \n",
    "    while True:\n",
    "        '''\n",
    "        The while loop runs until convergence condition is met\n",
    "        '''\n",
    "        df_cluster_label=get_labels(input_dataframe,initial_centroid)\n",
    "        df_new_centroids=get_new_centroids(df_cluster_label,input_dataframe)\n",
    "        '''\n",
    "        Handling (Maintaining K Centroids)\n",
    "        '''\n",
    "        new_list_of_columns=df_new_centroids.columns.to_list()\n",
    "        #Keeping the number of clusters same\n",
    "        initial_set_columns = set(initial_centroid_column_list)\n",
    "        new_set_columns = set(new_list_of_columns)\n",
    "        missing_columns = initial_set_columns - new_set_columns\n",
    "        for col in missing_columns:\n",
    "            df_new_centroids[col]=initial_centroid[col]\n",
    "        \n",
    "        from scipy.spatial.distance import euclidean\n",
    "        scalar_product = [euclidean(initial_centroid[col],df_new_centroids[col]) for col in initial_centroid.columns]\n",
    "        threshold_calculated=float(sum(scalar_product))/no_of_clusters\n",
    "        \n",
    "        iteration+=1\n",
    "        \n",
    "        if threshold_calculated<threshold:\n",
    "            print(\"The input Threshold was {}\".format(threshold))\n",
    "            print(\"The calculated threshold is {}\".format(threshold_calculated))\n",
    "        \n",
    "        if iteration>no_of_iterations:\n",
    "            print(\"Limit for iterations has exceeded\")\n",
    "        \n",
    "        if threshold_calculated<threshold or iteration>no_of_iterations:\n",
    "            error=cluster_error_target_variable(df_cluster_label,input_dataframe,no_of_clusters,df_new_centroids)\n",
    "            sum_of_square_error=sum_of_square_error_function(df_cluster_label,input_dataframe,df_new_centroids,no_of_clusters)\n",
    "            end_time=time.time()\n",
    "            return df_new_centroids,error,sum_of_square_error,end_time-start_time\n",
    "            break\n",
    "        else:\n",
    "            initial_centroid= df_new_centroids\n",
    "        \n",
    "\n",
    "def sum_of_square_error_function(df_cluster_label,input_dataframe,df_new_centroids,no_of_clusters):\n",
    "    '''\n",
    "    This function calculates the euclidean distance between new formed \n",
    "    centroids and the datapoints in that cluster\n",
    "    '''\n",
    "    df_data_label=input_dataframe.join(df_cluster_label)\n",
    "    #Renaming the column\n",
    "    df_data_label.rename(columns={0:'Cluster_Assigned'},inplace=True)\n",
    "    total_error=[]\n",
    "    for cluster in range(no_of_clusters):\n",
    "        df_data_label_cluster=df_data_label[df_data_label['Cluster_Assigned']==cluster]\n",
    "        df_data_label_cluster=df_data_label_cluster.drop('Cluster_Assigned',axis=1)\n",
    "        centroids=pd.DataFrame(df_new_centroids[cluster])\n",
    "        euclidean_distance=cdist(df_data_label_cluster,centroids.T,metric='euclidean')\n",
    "        total_error.append(np.nansum(euclidean_distance))\n",
    "    \n",
    "    return round(np.nansum(total_error),3)\n",
    "    #return round(float(''.join(map(str, sum(total_error)))),3)\n",
    "        \n",
    "        \n",
    "        \n",
    "def cluster_error_target_variable(df_cluster_label,input_dataframe,no_of_clusters,df_new_centroids):\n",
    "    '''\n",
    "    This calculates the error for every cluster and sums up the error based on the formula for error\n",
    "    '''\n",
    "    \n",
    "    target_variable_centroid=input_dataframe.groupby('editorsSelection').mean().reset_index()\n",
    "    '''\n",
    "    Target variable centroid is input dataframe taking mean\n",
    "    '''\n",
    "    new_centroids= df_new_centroids.T\n",
    "    #\n",
    "    df_data_label=input_dataframe.join(df_cluster_label)\n",
    "    #Renaming the column\n",
    "    df_data_label.rename(columns={0:'Cluster_Assigned'},inplace=True)\n",
    "\n",
    "    # Get the columns of the data dataframe\n",
    "    columns = input_dataframe.columns\n",
    "\n",
    "    sum_of_square_Error= []\n",
    "    # Compute the distance between each data point and its assigned centroid\n",
    "    for i in range(len(new_centroids)):   \n",
    "        s=[]\n",
    "        for j in range(len(target_variable_centroid)): ### mean centroid\n",
    "            #Calculating the error between target variable centroid and new centroids\n",
    "            distance = np.sum(np.square(target_variable_centroid[target_variable_centroid['editorsSelection']==j][columns] - new_centroids.iloc[i][columns]), axis=1)\n",
    "            #Storing the distance\n",
    "            s.append(distance.iloc[0])\n",
    "        sum_of_square_Error.append(s)\n",
    "    \n",
    "    \n",
    "    merged_new_label=pd.DataFrame(sum_of_square_Error).idxmin(axis=1)\n",
    "    \n",
    "    #Merging of cluster\n",
    "    mapping_dictionary=merged_new_label.to_dict() \n",
    "    \n",
    "    #Getting clusters to a new column\n",
    "    df_data_label['target_variable_cluster']=df_data_label['Cluster_Assigned'].replace(mapping_dictionary)\n",
    "    \n",
    "    \n",
    "    total_cluster_error = []\n",
    "    \n",
    "    for class_name in range(0,2):\n",
    "        df_cluster = df_data_label[df_data_label['target_variable_cluster'] == class_name] \n",
    "        yi = len(df_cluster[df_cluster['editorsSelection'] == 1]) \n",
    "        #Calculating Ni\n",
    "        ni = len(df_cluster[df_cluster['editorsSelection'] == 0]) \n",
    "        if yi == 0 and ni == 0:\n",
    "            error_ci = 0\n",
    "        else:\n",
    "            error_ci = ni / (ni + yi) # calculate the error rate of the current cluster\n",
    "        total_cluster_error.append(error_ci)\n",
    "    return round(sum(total_cluster_error),3)"
   ]
  },
  {
   "cell_type": "markdown",
   "id": "eae74d4a",
   "metadata": {},
   "source": [
    "# Running K means Llyod Multiple times"
   ]
  },
  {
   "cell_type": "code",
   "execution_count": null,
   "id": "03654798",
   "metadata": {},
   "outputs": [],
   "source": []
  },
  {
   "cell_type": "code",
   "execution_count": 254,
   "id": "6fc3dacc",
   "metadata": {},
   "outputs": [],
   "source": [
    "df_sample=count_vectorizer_df.copy()\n",
    "df_sample=df_sample.head(100000)"
   ]
  },
  {
   "cell_type": "code",
   "execution_count": 255,
   "id": "35926104",
   "metadata": {},
   "outputs": [
    {
     "data": {
      "application/vnd.jupyter.widget-view+json": {
       "model_id": "421405d0c02c4f08a771dfd8924f62d9",
       "version_major": 2,
       "version_minor": 0
      },
      "text/plain": [
       "Pandas Apply:   0%|          | 0/2 [00:00<?, ?it/s]"
      ]
     },
     "metadata": {},
     "output_type": "display_data"
    },
    {
     "name": "stderr",
     "output_type": "stream",
     "text": [
      "/tmp/ipykernel_2816/3452164459.py:51: PerformanceWarning: Concatenating sparse arrays with multiple fill values: '[0, 1.0, 4.0]'. Picking the first and converting the rest.\n",
      "  euclidean_distances = centroid_df.swifter.apply(lambda x: np.sqrt(((input_dataframe - x) ** 2).sum(axis=1)))\n"
     ]
    },
    {
     "name": "stdout",
     "output_type": "stream",
     "text": [
      "The input Threshold was 10\n",
      "The calculated threshold is 3.0000275941362426\n"
     ]
    },
    {
     "data": {
      "application/vnd.jupyter.widget-view+json": {
       "model_id": "318b1506a2144adf90a3d76182d840cd",
       "version_major": 2,
       "version_minor": 0
      },
      "text/plain": [
       "Pandas Apply:   0%|          | 0/2 [00:00<?, ?it/s]"
      ]
     },
     "metadata": {},
     "output_type": "display_data"
    },
    {
     "name": "stderr",
     "output_type": "stream",
     "text": [
      "/tmp/ipykernel_2816/3452164459.py:51: PerformanceWarning: Concatenating sparse arrays with multiple fill values: '[0, 1.0]'. Picking the first and converting the rest.\n",
      "  euclidean_distances = centroid_df.swifter.apply(lambda x: np.sqrt(((input_dataframe - x) ** 2).sum(axis=1)))\n"
     ]
    },
    {
     "name": "stdout",
     "output_type": "stream",
     "text": [
      "The input Threshold was 10\n",
      "The calculated threshold is 2.9889074533447095\n"
     ]
    },
    {
     "data": {
      "application/vnd.jupyter.widget-view+json": {
       "model_id": "a1554dd9cd594b869a63d640e578c81e",
       "version_major": 2,
       "version_minor": 0
      },
      "text/plain": [
       "Pandas Apply:   0%|          | 0/2 [00:00<?, ?it/s]"
      ]
     },
     "metadata": {},
     "output_type": "display_data"
    },
    {
     "name": "stderr",
     "output_type": "stream",
     "text": [
      "/tmp/ipykernel_2816/3452164459.py:51: PerformanceWarning: Concatenating sparse arrays with multiple fill values: '[0, 4.0, 1.0]'. Picking the first and converting the rest.\n",
      "  euclidean_distances = centroid_df.swifter.apply(lambda x: np.sqrt(((input_dataframe - x) ** 2).sum(axis=1)))\n"
     ]
    },
    {
     "name": "stdout",
     "output_type": "stream",
     "text": [
      "The input Threshold was 10\n",
      "The calculated threshold is 3.475792541360282\n"
     ]
    },
    {
     "data": {
      "application/vnd.jupyter.widget-view+json": {
       "model_id": "b1fa555c6c864582874d45d8c4d2068d",
       "version_major": 2,
       "version_minor": 0
      },
      "text/plain": [
       "Pandas Apply:   0%|          | 0/2 [00:00<?, ?it/s]"
      ]
     },
     "metadata": {},
     "output_type": "display_data"
    },
    {
     "name": "stderr",
     "output_type": "stream",
     "text": [
      "/tmp/ipykernel_2816/3452164459.py:51: PerformanceWarning: Concatenating sparse arrays with multiple fill values: '[0, 4.0, 1.0, 9.0]'. Picking the first and converting the rest.\n",
      "  euclidean_distances = centroid_df.swifter.apply(lambda x: np.sqrt(((input_dataframe - x) ** 2).sum(axis=1)))\n"
     ]
    },
    {
     "name": "stdout",
     "output_type": "stream",
     "text": [
      "The input Threshold was 10\n",
      "The calculated threshold is 4.990976871777917\n"
     ]
    },
    {
     "data": {
      "application/vnd.jupyter.widget-view+json": {
       "model_id": "3532e5ddb7b54e058be1f2d2109b5e72",
       "version_major": 2,
       "version_minor": 0
      },
      "text/plain": [
       "Pandas Apply:   0%|          | 0/2 [00:00<?, ?it/s]"
      ]
     },
     "metadata": {},
     "output_type": "display_data"
    },
    {
     "name": "stderr",
     "output_type": "stream",
     "text": [
      "/tmp/ipykernel_2816/3452164459.py:51: PerformanceWarning: Concatenating sparse arrays with multiple fill values: '[0, 1.0]'. Picking the first and converting the rest.\n",
      "  euclidean_distances = centroid_df.swifter.apply(lambda x: np.sqrt(((input_dataframe - x) ** 2).sum(axis=1)))\n"
     ]
    },
    {
     "name": "stdout",
     "output_type": "stream",
     "text": [
      "The input Threshold was 10\n",
      "The calculated threshold is 2.5779749268388104\n"
     ]
    },
    {
     "data": {
      "application/vnd.jupyter.widget-view+json": {
       "model_id": "301e9b76eef84c0080c0f5b392ecf805",
       "version_major": 2,
       "version_minor": 0
      },
      "text/plain": [
       "Pandas Apply:   0%|          | 0/2 [00:00<?, ?it/s]"
      ]
     },
     "metadata": {},
     "output_type": "display_data"
    },
    {
     "name": "stderr",
     "output_type": "stream",
     "text": [
      "/tmp/ipykernel_2816/3452164459.py:51: PerformanceWarning: Concatenating sparse arrays with multiple fill values: '[0, 1.0, 4.0]'. Picking the first and converting the rest.\n",
      "  euclidean_distances = centroid_df.swifter.apply(lambda x: np.sqrt(((input_dataframe - x) ** 2).sum(axis=1)))\n"
     ]
    },
    {
     "name": "stdout",
     "output_type": "stream",
     "text": [
      "The input Threshold was 10\n",
      "The calculated threshold is 4.123125833222991\n"
     ]
    },
    {
     "data": {
      "application/vnd.jupyter.widget-view+json": {
       "model_id": "84ee10cbe8dc4749998cbfbc09061495",
       "version_major": 2,
       "version_minor": 0
      },
      "text/plain": [
       "Pandas Apply:   0%|          | 0/2 [00:00<?, ?it/s]"
      ]
     },
     "metadata": {},
     "output_type": "display_data"
    },
    {
     "name": "stderr",
     "output_type": "stream",
     "text": [
      "/tmp/ipykernel_2816/3452164459.py:51: PerformanceWarning: Concatenating sparse arrays with multiple fill values: '[0, 1.0, 16.0, 4.0]'. Picking the first and converting the rest.\n",
      "  euclidean_distances = centroid_df.swifter.apply(lambda x: np.sqrt(((input_dataframe - x) ** 2).sum(axis=1)))\n"
     ]
    },
    {
     "name": "stdout",
     "output_type": "stream",
     "text": [
      "The input Threshold was 10\n",
      "The calculated threshold is 4.000026034491551\n"
     ]
    },
    {
     "data": {
      "application/vnd.jupyter.widget-view+json": {
       "model_id": "5c728d9e753a49798f3f4587d3bc4559",
       "version_major": 2,
       "version_minor": 0
      },
      "text/plain": [
       "Pandas Apply:   0%|          | 0/2 [00:00<?, ?it/s]"
      ]
     },
     "metadata": {},
     "output_type": "display_data"
    },
    {
     "name": "stderr",
     "output_type": "stream",
     "text": [
      "/tmp/ipykernel_2816/3452164459.py:51: PerformanceWarning: Concatenating sparse arrays with multiple fill values: '[0, 1.0]'. Picking the first and converting the rest.\n",
      "  euclidean_distances = centroid_df.swifter.apply(lambda x: np.sqrt(((input_dataframe - x) ** 2).sum(axis=1)))\n"
     ]
    },
    {
     "name": "stdout",
     "output_type": "stream",
     "text": [
      "The input Threshold was 10\n",
      "The calculated threshold is 2.8660581744640226\n"
     ]
    },
    {
     "data": {
      "application/vnd.jupyter.widget-view+json": {
       "model_id": "685e6e002e2045f088173b68badab6e1",
       "version_major": 2,
       "version_minor": 0
      },
      "text/plain": [
       "Pandas Apply:   0%|          | 0/2 [00:00<?, ?it/s]"
      ]
     },
     "metadata": {},
     "output_type": "display_data"
    },
    {
     "name": "stderr",
     "output_type": "stream",
     "text": [
      "/tmp/ipykernel_2816/3452164459.py:51: PerformanceWarning: Concatenating sparse arrays with multiple fill values: '[0, 1.0, 9.0]'. Picking the first and converting the rest.\n",
      "  euclidean_distances = centroid_df.swifter.apply(lambda x: np.sqrt(((input_dataframe - x) ** 2).sum(axis=1)))\n"
     ]
    },
    {
     "name": "stdout",
     "output_type": "stream",
     "text": [
      "The input Threshold was 10\n",
      "The calculated threshold is 4.182892597608144\n"
     ]
    },
    {
     "data": {
      "application/vnd.jupyter.widget-view+json": {
       "model_id": "6eaffb8e5df449759f9f53ec2b0ed8ae",
       "version_major": 2,
       "version_minor": 0
      },
      "text/plain": [
       "Pandas Apply:   0%|          | 0/2 [00:00<?, ?it/s]"
      ]
     },
     "metadata": {},
     "output_type": "display_data"
    },
    {
     "name": "stderr",
     "output_type": "stream",
     "text": [
      "/tmp/ipykernel_2816/3452164459.py:51: PerformanceWarning: Concatenating sparse arrays with multiple fill values: '[0, 1.0]'. Picking the first and converting the rest.\n",
      "  euclidean_distances = centroid_df.swifter.apply(lambda x: np.sqrt(((input_dataframe - x) ** 2).sum(axis=1)))\n"
     ]
    },
    {
     "name": "stdout",
     "output_type": "stream",
     "text": [
      "The input Threshold was 10\n",
      "The calculated threshold is 2.5981133979091515\n"
     ]
    },
    {
     "data": {
      "application/vnd.jupyter.widget-view+json": {
       "model_id": "ece0add99e3447c28cce1c005c78e9ca",
       "version_major": 2,
       "version_minor": 0
      },
      "text/plain": [
       "Pandas Apply:   0%|          | 0/2 [00:00<?, ?it/s]"
      ]
     },
     "metadata": {},
     "output_type": "display_data"
    },
    {
     "name": "stderr",
     "output_type": "stream",
     "text": [
      "/tmp/ipykernel_2816/3452164459.py:51: PerformanceWarning: Concatenating sparse arrays with multiple fill values: '[0, 4.0, 9.0, 1.0]'. Picking the first and converting the rest.\n",
      "  euclidean_distances = centroid_df.swifter.apply(lambda x: np.sqrt(((input_dataframe - x) ** 2).sum(axis=1)))\n"
     ]
    },
    {
     "name": "stdout",
     "output_type": "stream",
     "text": [
      "The input Threshold was 10\n",
      "The calculated threshold is 4.496627502204818\n"
     ]
    },
    {
     "data": {
      "application/vnd.jupyter.widget-view+json": {
       "model_id": "7a88bf33b2a945fc805953fc9b2fe590",
       "version_major": 2,
       "version_minor": 0
      },
      "text/plain": [
       "Pandas Apply:   0%|          | 0/2 [00:00<?, ?it/s]"
      ]
     },
     "metadata": {},
     "output_type": "display_data"
    },
    {
     "name": "stderr",
     "output_type": "stream",
     "text": [
      "/tmp/ipykernel_2816/3452164459.py:51: PerformanceWarning: Concatenating sparse arrays with multiple fill values: '[0, 1.0]'. Picking the first and converting the rest.\n",
      "  euclidean_distances = centroid_df.swifter.apply(lambda x: np.sqrt(((input_dataframe - x) ** 2).sum(axis=1)))\n"
     ]
    },
    {
     "name": "stdout",
     "output_type": "stream",
     "text": [
      "The input Threshold was 10\n",
      "The calculated threshold is 2.7687041455015926\n"
     ]
    },
    {
     "data": {
      "application/vnd.jupyter.widget-view+json": {
       "model_id": "cb659bf912924de4aa4bec5d47d36820",
       "version_major": 2,
       "version_minor": 0
      },
      "text/plain": [
       "Pandas Apply:   0%|          | 0/2 [00:00<?, ?it/s]"
      ]
     },
     "metadata": {},
     "output_type": "display_data"
    },
    {
     "name": "stderr",
     "output_type": "stream",
     "text": [
      "/tmp/ipykernel_2816/3452164459.py:51: PerformanceWarning: Concatenating sparse arrays with multiple fill values: '[0, 4.0, 1.0]'. Picking the first and converting the rest.\n",
      "  euclidean_distances = centroid_df.swifter.apply(lambda x: np.sqrt(((input_dataframe - x) ** 2).sum(axis=1)))\n"
     ]
    },
    {
     "name": "stdout",
     "output_type": "stream",
     "text": [
      "The input Threshold was 10\n",
      "The calculated threshold is 4.300788479950518\n"
     ]
    },
    {
     "data": {
      "application/vnd.jupyter.widget-view+json": {
       "model_id": "213ecb59d75049f59a8f0519b504b161",
       "version_major": 2,
       "version_minor": 0
      },
      "text/plain": [
       "Pandas Apply:   0%|          | 0/2 [00:00<?, ?it/s]"
      ]
     },
     "metadata": {},
     "output_type": "display_data"
    },
    {
     "name": "stderr",
     "output_type": "stream",
     "text": [
      "/tmp/ipykernel_2816/3452164459.py:51: PerformanceWarning: Concatenating sparse arrays with multiple fill values: '[0, 1.0, 16.0, 4.0]'. Picking the first and converting the rest.\n",
      "  euclidean_distances = centroid_df.swifter.apply(lambda x: np.sqrt(((input_dataframe - x) ** 2).sum(axis=1)))\n"
     ]
    },
    {
     "name": "stdout",
     "output_type": "stream",
     "text": [
      "The input Threshold was 10\n",
      "The calculated threshold is 4.1621278568807325\n"
     ]
    },
    {
     "data": {
      "application/vnd.jupyter.widget-view+json": {
       "model_id": "105ce5518f514175b8e738acbff2cabf",
       "version_major": 2,
       "version_minor": 0
      },
      "text/plain": [
       "Pandas Apply:   0%|          | 0/2 [00:00<?, ?it/s]"
      ]
     },
     "metadata": {},
     "output_type": "display_data"
    },
    {
     "name": "stderr",
     "output_type": "stream",
     "text": [
      "/tmp/ipykernel_2816/3452164459.py:51: PerformanceWarning: Concatenating sparse arrays with multiple fill values: '[0, 1.0, 9.0, 4.0]'. Picking the first and converting the rest.\n",
      "  euclidean_distances = centroid_df.swifter.apply(lambda x: np.sqrt(((input_dataframe - x) ** 2).sum(axis=1)))\n"
     ]
    },
    {
     "name": "stdout",
     "output_type": "stream",
     "text": [
      "The input Threshold was 10\n",
      "The calculated threshold is 4.415506628126972\n"
     ]
    },
    {
     "data": {
      "application/vnd.jupyter.widget-view+json": {
       "model_id": "fa9c334a0f264f0a866453b85d068f2d",
       "version_major": 2,
       "version_minor": 0
      },
      "text/plain": [
       "Pandas Apply:   0%|          | 0/2 [00:00<?, ?it/s]"
      ]
     },
     "metadata": {},
     "output_type": "display_data"
    },
    {
     "name": "stderr",
     "output_type": "stream",
     "text": [
      "/tmp/ipykernel_2816/3452164459.py:51: PerformanceWarning: Concatenating sparse arrays with multiple fill values: '[0, 1.0, 4.0]'. Picking the first and converting the rest.\n",
      "  euclidean_distances = centroid_df.swifter.apply(lambda x: np.sqrt(((input_dataframe - x) ** 2).sum(axis=1)))\n"
     ]
    },
    {
     "name": "stdout",
     "output_type": "stream",
     "text": [
      "The input Threshold was 10\n",
      "The calculated threshold is 3.529163672158231\n"
     ]
    },
    {
     "data": {
      "application/vnd.jupyter.widget-view+json": {
       "model_id": "8a0fce8ba5774f7cb2e5f2b8e8da791e",
       "version_major": 2,
       "version_minor": 0
      },
      "text/plain": [
       "Pandas Apply:   0%|          | 0/2 [00:00<?, ?it/s]"
      ]
     },
     "metadata": {},
     "output_type": "display_data"
    },
    {
     "name": "stderr",
     "output_type": "stream",
     "text": [
      "/tmp/ipykernel_2816/3452164459.py:51: PerformanceWarning: Concatenating sparse arrays with multiple fill values: '[0, 1.0, 4.0]'. Picking the first and converting the rest.\n",
      "  euclidean_distances = centroid_df.swifter.apply(lambda x: np.sqrt(((input_dataframe - x) ** 2).sum(axis=1)))\n"
     ]
    },
    {
     "name": "stdout",
     "output_type": "stream",
     "text": [
      "The input Threshold was 10\n",
      "The calculated threshold is 3.224775236881168\n"
     ]
    },
    {
     "data": {
      "application/vnd.jupyter.widget-view+json": {
       "model_id": "c2f7c65e23c7487fb8683d3c5fb44b86",
       "version_major": 2,
       "version_minor": 0
      },
      "text/plain": [
       "Pandas Apply:   0%|          | 0/2 [00:00<?, ?it/s]"
      ]
     },
     "metadata": {},
     "output_type": "display_data"
    },
    {
     "name": "stderr",
     "output_type": "stream",
     "text": [
      "/tmp/ipykernel_2816/3452164459.py:51: PerformanceWarning: Concatenating sparse arrays with multiple fill values: '[1.0, 0]'. Picking the first and converting the rest.\n",
      "  euclidean_distances = centroid_df.swifter.apply(lambda x: np.sqrt(((input_dataframe - x) ** 2).sum(axis=1)))\n"
     ]
    },
    {
     "name": "stdout",
     "output_type": "stream",
     "text": [
      "The input Threshold was 10\n",
      "The calculated threshold is 3.1050624562329108\n"
     ]
    },
    {
     "data": {
      "application/vnd.jupyter.widget-view+json": {
       "model_id": "4b9ef959c9e44b65bcf86ba2ec0a9e2e",
       "version_major": 2,
       "version_minor": 0
      },
      "text/plain": [
       "Pandas Apply:   0%|          | 0/2 [00:00<?, ?it/s]"
      ]
     },
     "metadata": {},
     "output_type": "display_data"
    },
    {
     "name": "stderr",
     "output_type": "stream",
     "text": [
      "/tmp/ipykernel_2816/3452164459.py:51: PerformanceWarning: Concatenating sparse arrays with multiple fill values: '[0, 1.0, 4.0]'. Picking the first and converting the rest.\n",
      "  euclidean_distances = centroid_df.swifter.apply(lambda x: np.sqrt(((input_dataframe - x) ** 2).sum(axis=1)))\n"
     ]
    },
    {
     "name": "stdout",
     "output_type": "stream",
     "text": [
      "The input Threshold was 10\n",
      "The calculated threshold is 3.158338986889259\n"
     ]
    },
    {
     "data": {
      "application/vnd.jupyter.widget-view+json": {
       "model_id": "5829538dd1e544e9a384049e40bece91",
       "version_major": 2,
       "version_minor": 0
      },
      "text/plain": [
       "Pandas Apply:   0%|          | 0/2 [00:00<?, ?it/s]"
      ]
     },
     "metadata": {},
     "output_type": "display_data"
    },
    {
     "name": "stderr",
     "output_type": "stream",
     "text": [
      "/tmp/ipykernel_2816/3452164459.py:51: PerformanceWarning: Concatenating sparse arrays with multiple fill values: '[0, 1.0, 4.0]'. Picking the first and converting the rest.\n",
      "  euclidean_distances = centroid_df.swifter.apply(lambda x: np.sqrt(((input_dataframe - x) ** 2).sum(axis=1)))\n"
     ]
    },
    {
     "name": "stdout",
     "output_type": "stream",
     "text": [
      "The input Threshold was 10\n",
      "The calculated threshold is 3.9921667359507342\n"
     ]
    },
    {
     "data": {
      "application/vnd.jupyter.widget-view+json": {
       "model_id": "42be17e324314b0ea2cb52df8870ef14",
       "version_major": 2,
       "version_minor": 0
      },
      "text/plain": [
       "Pandas Apply:   0%|          | 0/3 [00:00<?, ?it/s]"
      ]
     },
     "metadata": {},
     "output_type": "display_data"
    },
    {
     "name": "stderr",
     "output_type": "stream",
     "text": [
      "/tmp/ipykernel_2816/3452164459.py:51: PerformanceWarning: Concatenating sparse arrays with multiple fill values: '[0, 1.0]'. Picking the first and converting the rest.\n",
      "  euclidean_distances = centroid_df.swifter.apply(lambda x: np.sqrt(((input_dataframe - x) ** 2).sum(axis=1)))\n"
     ]
    },
    {
     "name": "stdout",
     "output_type": "stream",
     "text": [
      "The input Threshold was 10\n",
      "The calculated threshold is 2.1868662090614053\n"
     ]
    },
    {
     "data": {
      "application/vnd.jupyter.widget-view+json": {
       "model_id": "514d7b18e4664b418c26c9b4e066a70d",
       "version_major": 2,
       "version_minor": 0
      },
      "text/plain": [
       "Pandas Apply:   0%|          | 0/3 [00:00<?, ?it/s]"
      ]
     },
     "metadata": {},
     "output_type": "display_data"
    },
    {
     "name": "stderr",
     "output_type": "stream",
     "text": [
      "/tmp/ipykernel_2816/3452164459.py:51: PerformanceWarning: Concatenating sparse arrays with multiple fill values: '[0, 1.0, 4.0]'. Picking the first and converting the rest.\n",
      "  euclidean_distances = centroid_df.swifter.apply(lambda x: np.sqrt(((input_dataframe - x) ** 2).sum(axis=1)))\n",
      "/tmp/ipykernel_2816/3452164459.py:51: PerformanceWarning: Concatenating sparse arrays with multiple fill values: '[0, 1.0, 4.0, 9.0, 25.0]'. Picking the first and converting the rest.\n",
      "  euclidean_distances = centroid_df.swifter.apply(lambda x: np.sqrt(((input_dataframe - x) ** 2).sum(axis=1)))\n"
     ]
    },
    {
     "name": "stdout",
     "output_type": "stream",
     "text": [
      "The input Threshold was 10\n",
      "The calculated threshold is 5.148936634504957\n"
     ]
    },
    {
     "data": {
      "application/vnd.jupyter.widget-view+json": {
       "model_id": "f8c4239280e140388085caa2be4f3ba3",
       "version_major": 2,
       "version_minor": 0
      },
      "text/plain": [
       "Pandas Apply:   0%|          | 0/3 [00:00<?, ?it/s]"
      ]
     },
     "metadata": {},
     "output_type": "display_data"
    },
    {
     "name": "stderr",
     "output_type": "stream",
     "text": [
      "/tmp/ipykernel_2816/3452164459.py:51: PerformanceWarning: Concatenating sparse arrays with multiple fill values: '[0, 9.0, 1.0]'. Picking the first and converting the rest.\n",
      "  euclidean_distances = centroid_df.swifter.apply(lambda x: np.sqrt(((input_dataframe - x) ** 2).sum(axis=1)))\n",
      "/tmp/ipykernel_2816/3452164459.py:51: PerformanceWarning: Concatenating sparse arrays with multiple fill values: '[0, 1.0, 4.0]'. Picking the first and converting the rest.\n",
      "  euclidean_distances = centroid_df.swifter.apply(lambda x: np.sqrt(((input_dataframe - x) ** 2).sum(axis=1)))\n"
     ]
    },
    {
     "name": "stdout",
     "output_type": "stream",
     "text": [
      "The input Threshold was 10\n",
      "The calculated threshold is 4.074574276823333\n"
     ]
    },
    {
     "data": {
      "application/vnd.jupyter.widget-view+json": {
       "model_id": "196d5461ff1840da99cab95c02f834a0",
       "version_major": 2,
       "version_minor": 0
      },
      "text/plain": [
       "Pandas Apply:   0%|          | 0/3 [00:00<?, ?it/s]"
      ]
     },
     "metadata": {},
     "output_type": "display_data"
    },
    {
     "name": "stderr",
     "output_type": "stream",
     "text": [
      "/tmp/ipykernel_2816/3452164459.py:51: PerformanceWarning: Concatenating sparse arrays with multiple fill values: '[0, 4.0, 1.0]'. Picking the first and converting the rest.\n",
      "  euclidean_distances = centroid_df.swifter.apply(lambda x: np.sqrt(((input_dataframe - x) ** 2).sum(axis=1)))\n",
      "/tmp/ipykernel_2816/3452164459.py:51: PerformanceWarning: Concatenating sparse arrays with multiple fill values: '[0, 1.0, 4.0]'. Picking the first and converting the rest.\n",
      "  euclidean_distances = centroid_df.swifter.apply(lambda x: np.sqrt(((input_dataframe - x) ** 2).sum(axis=1)))\n"
     ]
    },
    {
     "name": "stdout",
     "output_type": "stream",
     "text": [
      "The input Threshold was 10\n",
      "The calculated threshold is 3.1547250164591993\n"
     ]
    },
    {
     "data": {
      "application/vnd.jupyter.widget-view+json": {
       "model_id": "f943aebc641f411e848c07ca1629077e",
       "version_major": 2,
       "version_minor": 0
      },
      "text/plain": [
       "Pandas Apply:   0%|          | 0/3 [00:00<?, ?it/s]"
      ]
     },
     "metadata": {},
     "output_type": "display_data"
    },
    {
     "name": "stderr",
     "output_type": "stream",
     "text": [
      "/tmp/ipykernel_2816/3452164459.py:51: PerformanceWarning: Concatenating sparse arrays with multiple fill values: '[0, 1.0, 4.0]'. Picking the first and converting the rest.\n",
      "  euclidean_distances = centroid_df.swifter.apply(lambda x: np.sqrt(((input_dataframe - x) ** 2).sum(axis=1)))\n"
     ]
    },
    {
     "name": "stdout",
     "output_type": "stream",
     "text": [
      "The input Threshold was 10\n",
      "The calculated threshold is 1.9470164489247666\n"
     ]
    },
    {
     "data": {
      "application/vnd.jupyter.widget-view+json": {
       "model_id": "d2082cfe228e442d99f0570ae446ac7b",
       "version_major": 2,
       "version_minor": 0
      },
      "text/plain": [
       "Pandas Apply:   0%|          | 0/3 [00:00<?, ?it/s]"
      ]
     },
     "metadata": {},
     "output_type": "display_data"
    },
    {
     "name": "stderr",
     "output_type": "stream",
     "text": [
      "/tmp/ipykernel_2816/3452164459.py:51: PerformanceWarning: Concatenating sparse arrays with multiple fill values: '[0, 1.0]'. Picking the first and converting the rest.\n",
      "  euclidean_distances = centroid_df.swifter.apply(lambda x: np.sqrt(((input_dataframe - x) ** 2).sum(axis=1)))\n",
      "/tmp/ipykernel_2816/3452164459.py:51: PerformanceWarning: Concatenating sparse arrays with multiple fill values: '[0, 1.0, 9.0, 25.0, 49.0, 4.0]'. Picking the first and converting the rest.\n",
      "  euclidean_distances = centroid_df.swifter.apply(lambda x: np.sqrt(((input_dataframe - x) ** 2).sum(axis=1)))\n"
     ]
    },
    {
     "name": "stdout",
     "output_type": "stream",
     "text": [
      "The input Threshold was 10\n",
      "The calculated threshold is 3.8981445895493994\n"
     ]
    },
    {
     "data": {
      "application/vnd.jupyter.widget-view+json": {
       "model_id": "9c3a3e3a847b4110928ba10ea49f0139",
       "version_major": 2,
       "version_minor": 0
      },
      "text/plain": [
       "Pandas Apply:   0%|          | 0/3 [00:00<?, ?it/s]"
      ]
     },
     "metadata": {},
     "output_type": "display_data"
    },
    {
     "name": "stderr",
     "output_type": "stream",
     "text": [
      "/tmp/ipykernel_2816/3452164459.py:51: PerformanceWarning: Concatenating sparse arrays with multiple fill values: '[0, 1.0, 4.0, 16.0]'. Picking the first and converting the rest.\n",
      "  euclidean_distances = centroid_df.swifter.apply(lambda x: np.sqrt(((input_dataframe - x) ** 2).sum(axis=1)))\n",
      "/tmp/ipykernel_2816/3452164459.py:51: PerformanceWarning: Concatenating sparse arrays with multiple fill values: '[0, 1.0]'. Picking the first and converting the rest.\n",
      "  euclidean_distances = centroid_df.swifter.apply(lambda x: np.sqrt(((input_dataframe - x) ** 2).sum(axis=1)))\n"
     ]
    },
    {
     "name": "stdout",
     "output_type": "stream",
     "text": [
      "The input Threshold was 10\n",
      "The calculated threshold is 4.129316020821632\n"
     ]
    },
    {
     "data": {
      "application/vnd.jupyter.widget-view+json": {
       "model_id": "da55ffe7e4f34b1fb591b91f677742e5",
       "version_major": 2,
       "version_minor": 0
      },
      "text/plain": [
       "Pandas Apply:   0%|          | 0/3 [00:00<?, ?it/s]"
      ]
     },
     "metadata": {},
     "output_type": "display_data"
    },
    {
     "name": "stderr",
     "output_type": "stream",
     "text": [
      "/tmp/ipykernel_2816/3452164459.py:51: PerformanceWarning: Concatenating sparse arrays with multiple fill values: '[0, 1.0]'. Picking the first and converting the rest.\n",
      "  euclidean_distances = centroid_df.swifter.apply(lambda x: np.sqrt(((input_dataframe - x) ** 2).sum(axis=1)))\n"
     ]
    },
    {
     "name": "stdout",
     "output_type": "stream",
     "text": [
      "The input Threshold was 10\n",
      "The calculated threshold is 3.078717908281345\n"
     ]
    },
    {
     "data": {
      "application/vnd.jupyter.widget-view+json": {
       "model_id": "dd3422b4c4b549be96746492a4a28120",
       "version_major": 2,
       "version_minor": 0
      },
      "text/plain": [
       "Pandas Apply:   0%|          | 0/3 [00:00<?, ?it/s]"
      ]
     },
     "metadata": {},
     "output_type": "display_data"
    },
    {
     "name": "stderr",
     "output_type": "stream",
     "text": [
      "/tmp/ipykernel_2816/3452164459.py:51: PerformanceWarning: Concatenating sparse arrays with multiple fill values: '[0, 1.0]'. Picking the first and converting the rest.\n",
      "  euclidean_distances = centroid_df.swifter.apply(lambda x: np.sqrt(((input_dataframe - x) ** 2).sum(axis=1)))\n"
     ]
    },
    {
     "name": "stdout",
     "output_type": "stream",
     "text": [
      "The input Threshold was 10\n",
      "The calculated threshold is 2.4914238965617415\n"
     ]
    },
    {
     "data": {
      "application/vnd.jupyter.widget-view+json": {
       "model_id": "24adaf93ea014f03870da117c5b0e560",
       "version_major": 2,
       "version_minor": 0
      },
      "text/plain": [
       "Pandas Apply:   0%|          | 0/3 [00:00<?, ?it/s]"
      ]
     },
     "metadata": {},
     "output_type": "display_data"
    },
    {
     "name": "stderr",
     "output_type": "stream",
     "text": [
      "/tmp/ipykernel_2816/3452164459.py:51: PerformanceWarning: Concatenating sparse arrays with multiple fill values: '[0, 1.0, 4.0]'. Picking the first and converting the rest.\n",
      "  euclidean_distances = centroid_df.swifter.apply(lambda x: np.sqrt(((input_dataframe - x) ** 2).sum(axis=1)))\n",
      "/tmp/ipykernel_2816/3452164459.py:51: PerformanceWarning: Concatenating sparse arrays with multiple fill values: '[0, 4.0, 1.0]'. Picking the first and converting the rest.\n",
      "  euclidean_distances = centroid_df.swifter.apply(lambda x: np.sqrt(((input_dataframe - x) ** 2).sum(axis=1)))\n"
     ]
    },
    {
     "name": "stdout",
     "output_type": "stream",
     "text": [
      "The input Threshold was 10\n",
      "The calculated threshold is 3.9704273947174844\n"
     ]
    },
    {
     "data": {
      "application/vnd.jupyter.widget-view+json": {
       "model_id": "cc9ff323f2c14bb98f33091fa45c805f",
       "version_major": 2,
       "version_minor": 0
      },
      "text/plain": [
       "Pandas Apply:   0%|          | 0/3 [00:00<?, ?it/s]"
      ]
     },
     "metadata": {},
     "output_type": "display_data"
    },
    {
     "name": "stderr",
     "output_type": "stream",
     "text": [
      "/tmp/ipykernel_2816/3452164459.py:51: PerformanceWarning: Concatenating sparse arrays with multiple fill values: '[0, 1.0, 9.0]'. Picking the first and converting the rest.\n",
      "  euclidean_distances = centroid_df.swifter.apply(lambda x: np.sqrt(((input_dataframe - x) ** 2).sum(axis=1)))\n",
      "/tmp/ipykernel_2816/3452164459.py:51: PerformanceWarning: Concatenating sparse arrays with multiple fill values: '[0, 1.0]'. Picking the first and converting the rest.\n",
      "  euclidean_distances = centroid_df.swifter.apply(lambda x: np.sqrt(((input_dataframe - x) ** 2).sum(axis=1)))\n"
     ]
    },
    {
     "name": "stdout",
     "output_type": "stream",
     "text": [
      "The input Threshold was 10\n",
      "The calculated threshold is 3.9854568952847367\n"
     ]
    },
    {
     "data": {
      "application/vnd.jupyter.widget-view+json": {
       "model_id": "158444c569ce47e99fdab9abe6edf696",
       "version_major": 2,
       "version_minor": 0
      },
      "text/plain": [
       "Pandas Apply:   0%|          | 0/3 [00:00<?, ?it/s]"
      ]
     },
     "metadata": {},
     "output_type": "display_data"
    },
    {
     "name": "stderr",
     "output_type": "stream",
     "text": [
      "/tmp/ipykernel_2816/3452164459.py:51: PerformanceWarning: Concatenating sparse arrays with multiple fill values: '[0, 4.0, 1.0, 9.0]'. Picking the first and converting the rest.\n",
      "  euclidean_distances = centroid_df.swifter.apply(lambda x: np.sqrt(((input_dataframe - x) ** 2).sum(axis=1)))\n",
      "/tmp/ipykernel_2816/3452164459.py:51: PerformanceWarning: Concatenating sparse arrays with multiple fill values: '[0, 1.0, 9.0, 4.0]'. Picking the first and converting the rest.\n",
      "  euclidean_distances = centroid_df.swifter.apply(lambda x: np.sqrt(((input_dataframe - x) ** 2).sum(axis=1)))\n"
     ]
    },
    {
     "name": "stdout",
     "output_type": "stream",
     "text": [
      "The input Threshold was 10\n",
      "The calculated threshold is 4.4397742628269246\n"
     ]
    },
    {
     "data": {
      "application/vnd.jupyter.widget-view+json": {
       "model_id": "037eb10a03ee4274858ec0e1baec951e",
       "version_major": 2,
       "version_minor": 0
      },
      "text/plain": [
       "Pandas Apply:   0%|          | 0/3 [00:00<?, ?it/s]"
      ]
     },
     "metadata": {},
     "output_type": "display_data"
    },
    {
     "name": "stderr",
     "output_type": "stream",
     "text": [
      "/tmp/ipykernel_2816/3452164459.py:51: PerformanceWarning: Concatenating sparse arrays with multiple fill values: '[0, 1.0]'. Picking the first and converting the rest.\n",
      "  euclidean_distances = centroid_df.swifter.apply(lambda x: np.sqrt(((input_dataframe - x) ** 2).sum(axis=1)))\n",
      "/tmp/ipykernel_2816/3452164459.py:51: PerformanceWarning: Concatenating sparse arrays with multiple fill values: '[0, 1.0, 4.0, 49.0, 64.0]'. Picking the first and converting the rest.\n",
      "  euclidean_distances = centroid_df.swifter.apply(lambda x: np.sqrt(((input_dataframe - x) ** 2).sum(axis=1)))\n"
     ]
    },
    {
     "name": "stdout",
     "output_type": "stream",
     "text": [
      "The input Threshold was 10\n",
      "The calculated threshold is 4.889220822092711\n"
     ]
    },
    {
     "data": {
      "application/vnd.jupyter.widget-view+json": {
       "model_id": "b6b7da2120ee432c9b248048975308c4",
       "version_major": 2,
       "version_minor": 0
      },
      "text/plain": [
       "Pandas Apply:   0%|          | 0/3 [00:00<?, ?it/s]"
      ]
     },
     "metadata": {},
     "output_type": "display_data"
    },
    {
     "name": "stderr",
     "output_type": "stream",
     "text": [
      "/tmp/ipykernel_2816/3452164459.py:51: PerformanceWarning: Concatenating sparse arrays with multiple fill values: '[0, 1.0]'. Picking the first and converting the rest.\n",
      "  euclidean_distances = centroid_df.swifter.apply(lambda x: np.sqrt(((input_dataframe - x) ** 2).sum(axis=1)))\n"
     ]
    },
    {
     "name": "stdout",
     "output_type": "stream",
     "text": [
      "The input Threshold was 10\n",
      "The calculated threshold is 2.5134021328135465\n"
     ]
    },
    {
     "data": {
      "application/vnd.jupyter.widget-view+json": {
       "model_id": "be036f857a2a4d7583426eca8a809965",
       "version_major": 2,
       "version_minor": 0
      },
      "text/plain": [
       "Pandas Apply:   0%|          | 0/3 [00:00<?, ?it/s]"
      ]
     },
     "metadata": {},
     "output_type": "display_data"
    },
    {
     "name": "stderr",
     "output_type": "stream",
     "text": [
      "/tmp/ipykernel_2816/3452164459.py:51: PerformanceWarning: Concatenating sparse arrays with multiple fill values: '[0, 1.0, 4.0, 9.0]'. Picking the first and converting the rest.\n",
      "  euclidean_distances = centroid_df.swifter.apply(lambda x: np.sqrt(((input_dataframe - x) ** 2).sum(axis=1)))\n"
     ]
    },
    {
     "name": "stdout",
     "output_type": "stream",
     "text": [
      "The input Threshold was 10\n",
      "The calculated threshold is 4.9607277634025335\n"
     ]
    },
    {
     "data": {
      "application/vnd.jupyter.widget-view+json": {
       "model_id": "a2d3f7f9a6e84ba2aea27630ac21e40b",
       "version_major": 2,
       "version_minor": 0
      },
      "text/plain": [
       "Pandas Apply:   0%|          | 0/3 [00:00<?, ?it/s]"
      ]
     },
     "metadata": {},
     "output_type": "display_data"
    },
    {
     "name": "stderr",
     "output_type": "stream",
     "text": [
      "/tmp/ipykernel_2816/3452164459.py:51: PerformanceWarning: Concatenating sparse arrays with multiple fill values: '[0, 4.0, 1.0]'. Picking the first and converting the rest.\n",
      "  euclidean_distances = centroid_df.swifter.apply(lambda x: np.sqrt(((input_dataframe - x) ** 2).sum(axis=1)))\n",
      "/tmp/ipykernel_2816/3452164459.py:51: PerformanceWarning: Concatenating sparse arrays with multiple fill values: '[0, 1.0, 4.0]'. Picking the first and converting the rest.\n",
      "  euclidean_distances = centroid_df.swifter.apply(lambda x: np.sqrt(((input_dataframe - x) ** 2).sum(axis=1)))\n"
     ]
    },
    {
     "name": "stdout",
     "output_type": "stream",
     "text": [
      "The input Threshold was 10\n",
      "The calculated threshold is 3.766882145893503\n"
     ]
    },
    {
     "data": {
      "application/vnd.jupyter.widget-view+json": {
       "model_id": "d743633b60664cb484d5a47afe10e67f",
       "version_major": 2,
       "version_minor": 0
      },
      "text/plain": [
       "Pandas Apply:   0%|          | 0/3 [00:00<?, ?it/s]"
      ]
     },
     "metadata": {},
     "output_type": "display_data"
    },
    {
     "name": "stderr",
     "output_type": "stream",
     "text": [
      "/tmp/ipykernel_2816/3452164459.py:51: PerformanceWarning: Concatenating sparse arrays with multiple fill values: '[0, 4.0, 1.0]'. Picking the first and converting the rest.\n",
      "  euclidean_distances = centroid_df.swifter.apply(lambda x: np.sqrt(((input_dataframe - x) ** 2).sum(axis=1)))\n",
      "/tmp/ipykernel_2816/3452164459.py:51: PerformanceWarning: Concatenating sparse arrays with multiple fill values: '[0, 1.0]'. Picking the first and converting the rest.\n",
      "  euclidean_distances = centroid_df.swifter.apply(lambda x: np.sqrt(((input_dataframe - x) ** 2).sum(axis=1)))\n"
     ]
    },
    {
     "name": "stdout",
     "output_type": "stream",
     "text": [
      "The input Threshold was 10\n",
      "The calculated threshold is 2.6818085315955575\n"
     ]
    },
    {
     "data": {
      "application/vnd.jupyter.widget-view+json": {
       "model_id": "6c64d93ac9f44235ae329bf4e23cf107",
       "version_major": 2,
       "version_minor": 0
      },
      "text/plain": [
       "Pandas Apply:   0%|          | 0/3 [00:00<?, ?it/s]"
      ]
     },
     "metadata": {},
     "output_type": "display_data"
    },
    {
     "name": "stderr",
     "output_type": "stream",
     "text": [
      "/tmp/ipykernel_2816/3452164459.py:51: PerformanceWarning: Concatenating sparse arrays with multiple fill values: '[0, 1.0, 9.0]'. Picking the first and converting the rest.\n",
      "  euclidean_distances = centroid_df.swifter.apply(lambda x: np.sqrt(((input_dataframe - x) ** 2).sum(axis=1)))\n",
      "/tmp/ipykernel_2816/3452164459.py:51: PerformanceWarning: Concatenating sparse arrays with multiple fill values: '[0, 1.0, 4.0, 9.0]'. Picking the first and converting the rest.\n",
      "  euclidean_distances = centroid_df.swifter.apply(lambda x: np.sqrt(((input_dataframe - x) ** 2).sum(axis=1)))\n"
     ]
    },
    {
     "name": "stdout",
     "output_type": "stream",
     "text": [
      "The input Threshold was 10\n",
      "The calculated threshold is 4.592625956232248\n"
     ]
    },
    {
     "data": {
      "application/vnd.jupyter.widget-view+json": {
       "model_id": "acc5cee36a2e4830b9f39ae6a111d981",
       "version_major": 2,
       "version_minor": 0
      },
      "text/plain": [
       "Pandas Apply:   0%|          | 0/3 [00:00<?, ?it/s]"
      ]
     },
     "metadata": {},
     "output_type": "display_data"
    },
    {
     "name": "stderr",
     "output_type": "stream",
     "text": [
      "/tmp/ipykernel_2816/3452164459.py:51: PerformanceWarning: Concatenating sparse arrays with multiple fill values: '[0, 1.0]'. Picking the first and converting the rest.\n",
      "  euclidean_distances = centroid_df.swifter.apply(lambda x: np.sqrt(((input_dataframe - x) ** 2).sum(axis=1)))\n",
      "/tmp/ipykernel_2816/3452164459.py:51: PerformanceWarning: Concatenating sparse arrays with multiple fill values: '[1.0, 0]'. Picking the first and converting the rest.\n",
      "  euclidean_distances = centroid_df.swifter.apply(lambda x: np.sqrt(((input_dataframe - x) ** 2).sum(axis=1)))\n"
     ]
    },
    {
     "name": "stdout",
     "output_type": "stream",
     "text": [
      "The input Threshold was 10\n",
      "The calculated threshold is 2.566758910686048\n"
     ]
    },
    {
     "data": {
      "application/vnd.jupyter.widget-view+json": {
       "model_id": "284ecd11e05e4714bee75b89cd0566ec",
       "version_major": 2,
       "version_minor": 0
      },
      "text/plain": [
       "Pandas Apply:   0%|          | 0/3 [00:00<?, ?it/s]"
      ]
     },
     "metadata": {},
     "output_type": "display_data"
    },
    {
     "name": "stderr",
     "output_type": "stream",
     "text": [
      "/tmp/ipykernel_2816/3452164459.py:51: PerformanceWarning: Concatenating sparse arrays with multiple fill values: '[0, 1.0]'. Picking the first and converting the rest.\n",
      "  euclidean_distances = centroid_df.swifter.apply(lambda x: np.sqrt(((input_dataframe - x) ** 2).sum(axis=1)))\n"
     ]
    },
    {
     "name": "stdout",
     "output_type": "stream",
     "text": [
      "The input Threshold was 10\n",
      "The calculated threshold is 2.504690284878657\n"
     ]
    },
    {
     "data": {
      "application/vnd.jupyter.widget-view+json": {
       "model_id": "4b11b5573c5c4ec98b3dd7c60fc4d6bc",
       "version_major": 2,
       "version_minor": 0
      },
      "text/plain": [
       "Pandas Apply:   0%|          | 0/4 [00:00<?, ?it/s]"
      ]
     },
     "metadata": {},
     "output_type": "display_data"
    },
    {
     "name": "stderr",
     "output_type": "stream",
     "text": [
      "/tmp/ipykernel_2816/3452164459.py:51: PerformanceWarning: Concatenating sparse arrays with multiple fill values: '[0, 1.0]'. Picking the first and converting the rest.\n",
      "  euclidean_distances = centroid_df.swifter.apply(lambda x: np.sqrt(((input_dataframe - x) ** 2).sum(axis=1)))\n",
      "/tmp/ipykernel_2816/3452164459.py:51: PerformanceWarning: Concatenating sparse arrays with multiple fill values: '[0, 1.0, 4.0, 9.0, 16.0]'. Picking the first and converting the rest.\n",
      "  euclidean_distances = centroid_df.swifter.apply(lambda x: np.sqrt(((input_dataframe - x) ** 2).sum(axis=1)))\n",
      "/tmp/ipykernel_2816/3452164459.py:51: PerformanceWarning: Concatenating sparse arrays with multiple fill values: '[0, 1.0, 4.0]'. Picking the first and converting the rest.\n",
      "  euclidean_distances = centroid_df.swifter.apply(lambda x: np.sqrt(((input_dataframe - x) ** 2).sum(axis=1)))\n"
     ]
    },
    {
     "name": "stdout",
     "output_type": "stream",
     "text": [
      "The input Threshold was 10\n",
      "The calculated threshold is 4.5232099282949925\n"
     ]
    },
    {
     "data": {
      "application/vnd.jupyter.widget-view+json": {
       "model_id": "e5ccd4cb68fa4383bfca4c22776ff334",
       "version_major": 2,
       "version_minor": 0
      },
      "text/plain": [
       "Pandas Apply:   0%|          | 0/4 [00:00<?, ?it/s]"
      ]
     },
     "metadata": {},
     "output_type": "display_data"
    },
    {
     "name": "stderr",
     "output_type": "stream",
     "text": [
      "/tmp/ipykernel_2816/3452164459.py:51: PerformanceWarning: Concatenating sparse arrays with multiple fill values: '[0, 1.0]'. Picking the first and converting the rest.\n",
      "  euclidean_distances = centroid_df.swifter.apply(lambda x: np.sqrt(((input_dataframe - x) ** 2).sum(axis=1)))\n",
      "/tmp/ipykernel_2816/3452164459.py:51: PerformanceWarning: Concatenating sparse arrays with multiple fill values: '[0, 1.0, 9.0, 4.0]'. Picking the first and converting the rest.\n",
      "  euclidean_distances = centroid_df.swifter.apply(lambda x: np.sqrt(((input_dataframe - x) ** 2).sum(axis=1)))\n"
     ]
    },
    {
     "name": "stdout",
     "output_type": "stream",
     "text": [
      "The input Threshold was 10\n",
      "The calculated threshold is 2.955997397975571\n"
     ]
    },
    {
     "data": {
      "application/vnd.jupyter.widget-view+json": {
       "model_id": "c1f5a184ec68410187f7bbe695e117ac",
       "version_major": 2,
       "version_minor": 0
      },
      "text/plain": [
       "Pandas Apply:   0%|          | 0/4 [00:00<?, ?it/s]"
      ]
     },
     "metadata": {},
     "output_type": "display_data"
    },
    {
     "name": "stderr",
     "output_type": "stream",
     "text": [
      "/tmp/ipykernel_2816/3452164459.py:51: PerformanceWarning: Concatenating sparse arrays with multiple fill values: '[0, 4.0, 1.0]'. Picking the first and converting the rest.\n",
      "  euclidean_distances = centroid_df.swifter.apply(lambda x: np.sqrt(((input_dataframe - x) ** 2).sum(axis=1)))\n",
      "/tmp/ipykernel_2816/3452164459.py:51: PerformanceWarning: Concatenating sparse arrays with multiple fill values: '[1.0, 0, 4.0, 9.0]'. Picking the first and converting the rest.\n",
      "  euclidean_distances = centroid_df.swifter.apply(lambda x: np.sqrt(((input_dataframe - x) ** 2).sum(axis=1)))\n",
      "/tmp/ipykernel_2816/3452164459.py:51: PerformanceWarning: Concatenating sparse arrays with multiple fill values: '[0, 1.0, 4.0]'. Picking the first and converting the rest.\n",
      "  euclidean_distances = centroid_df.swifter.apply(lambda x: np.sqrt(((input_dataframe - x) ** 2).sum(axis=1)))\n"
     ]
    },
    {
     "name": "stdout",
     "output_type": "stream",
     "text": [
      "The input Threshold was 10\n",
      "The calculated threshold is 3.9328240716678478\n"
     ]
    },
    {
     "data": {
      "application/vnd.jupyter.widget-view+json": {
       "model_id": "9589030ce5824a9e81f2bf34f9c9ef23",
       "version_major": 2,
       "version_minor": 0
      },
      "text/plain": [
       "Pandas Apply:   0%|          | 0/4 [00:00<?, ?it/s]"
      ]
     },
     "metadata": {},
     "output_type": "display_data"
    },
    {
     "name": "stderr",
     "output_type": "stream",
     "text": [
      "/tmp/ipykernel_2816/3452164459.py:51: PerformanceWarning: Concatenating sparse arrays with multiple fill values: '[0, 1.0]'. Picking the first and converting the rest.\n",
      "  euclidean_distances = centroid_df.swifter.apply(lambda x: np.sqrt(((input_dataframe - x) ** 2).sum(axis=1)))\n",
      "/tmp/ipykernel_2816/3452164459.py:51: PerformanceWarning: Concatenating sparse arrays with multiple fill values: '[0, 4.0, 1.0, 16.0]'. Picking the first and converting the rest.\n",
      "  euclidean_distances = centroid_df.swifter.apply(lambda x: np.sqrt(((input_dataframe - x) ** 2).sum(axis=1)))\n",
      "/tmp/ipykernel_2816/3452164459.py:51: PerformanceWarning: Concatenating sparse arrays with multiple fill values: '[0, 1.0, 4.0]'. Picking the first and converting the rest.\n",
      "  euclidean_distances = centroid_df.swifter.apply(lambda x: np.sqrt(((input_dataframe - x) ** 2).sum(axis=1)))\n"
     ]
    },
    {
     "name": "stdout",
     "output_type": "stream",
     "text": [
      "The input Threshold was 10\n",
      "The calculated threshold is 3.309592283159411\n"
     ]
    },
    {
     "data": {
      "application/vnd.jupyter.widget-view+json": {
       "model_id": "8bddd6f0cf314d1d85ee0b4f9124c7fe",
       "version_major": 2,
       "version_minor": 0
      },
      "text/plain": [
       "Pandas Apply:   0%|          | 0/4 [00:00<?, ?it/s]"
      ]
     },
     "metadata": {},
     "output_type": "display_data"
    },
    {
     "name": "stderr",
     "output_type": "stream",
     "text": [
      "/tmp/ipykernel_2816/3452164459.py:51: PerformanceWarning: Concatenating sparse arrays with multiple fill values: '[0, 1.0]'. Picking the first and converting the rest.\n",
      "  euclidean_distances = centroid_df.swifter.apply(lambda x: np.sqrt(((input_dataframe - x) ** 2).sum(axis=1)))\n",
      "/tmp/ipykernel_2816/3452164459.py:51: PerformanceWarning: Concatenating sparse arrays with multiple fill values: '[0, 1.0, 4.0, 16.0, 25.0]'. Picking the first and converting the rest.\n",
      "  euclidean_distances = centroid_df.swifter.apply(lambda x: np.sqrt(((input_dataframe - x) ** 2).sum(axis=1)))\n",
      "/tmp/ipykernel_2816/3452164459.py:51: PerformanceWarning: Concatenating sparse arrays with multiple fill values: '[0, 4.0]'. Picking the first and converting the rest.\n",
      "  euclidean_distances = centroid_df.swifter.apply(lambda x: np.sqrt(((input_dataframe - x) ** 2).sum(axis=1)))\n"
     ]
    },
    {
     "name": "stdout",
     "output_type": "stream",
     "text": [
      "The input Threshold was 10\n",
      "The calculated threshold is 3.4626680033947848\n"
     ]
    },
    {
     "data": {
      "application/vnd.jupyter.widget-view+json": {
       "model_id": "a461d67600ec482abcb4167d75527eb1",
       "version_major": 2,
       "version_minor": 0
      },
      "text/plain": [
       "Pandas Apply:   0%|          | 0/4 [00:00<?, ?it/s]"
      ]
     },
     "metadata": {},
     "output_type": "display_data"
    },
    {
     "name": "stderr",
     "output_type": "stream",
     "text": [
      "/tmp/ipykernel_2816/3452164459.py:51: PerformanceWarning: Concatenating sparse arrays with multiple fill values: '[0, 1.0, 4.0]'. Picking the first and converting the rest.\n",
      "  euclidean_distances = centroid_df.swifter.apply(lambda x: np.sqrt(((input_dataframe - x) ** 2).sum(axis=1)))\n"
     ]
    },
    {
     "name": "stdout",
     "output_type": "stream",
     "text": [
      "The input Threshold was 10\n",
      "The calculated threshold is 3.1335088043295034\n"
     ]
    },
    {
     "data": {
      "application/vnd.jupyter.widget-view+json": {
       "model_id": "8d9b36562e9a47a8a6b80937de810cdf",
       "version_major": 2,
       "version_minor": 0
      },
      "text/plain": [
       "Pandas Apply:   0%|          | 0/4 [00:00<?, ?it/s]"
      ]
     },
     "metadata": {},
     "output_type": "display_data"
    },
    {
     "name": "stderr",
     "output_type": "stream",
     "text": [
      "/tmp/ipykernel_2816/3452164459.py:51: PerformanceWarning: Concatenating sparse arrays with multiple fill values: '[0, 1.0, 4.0, 9.0]'. Picking the first and converting the rest.\n",
      "  euclidean_distances = centroid_df.swifter.apply(lambda x: np.sqrt(((input_dataframe - x) ** 2).sum(axis=1)))\n",
      "/tmp/ipykernel_2816/3452164459.py:51: PerformanceWarning: Concatenating sparse arrays with multiple fill values: '[0, 1.0, 4.0, 25.0, 9.0, 16.0]'. Picking the first and converting the rest.\n",
      "  euclidean_distances = centroid_df.swifter.apply(lambda x: np.sqrt(((input_dataframe - x) ** 2).sum(axis=1)))\n",
      "/tmp/ipykernel_2816/3452164459.py:51: PerformanceWarning: Concatenating sparse arrays with multiple fill values: '[0, 1.0]'. Picking the first and converting the rest.\n",
      "  euclidean_distances = centroid_df.swifter.apply(lambda x: np.sqrt(((input_dataframe - x) ** 2).sum(axis=1)))\n"
     ]
    },
    {
     "name": "stdout",
     "output_type": "stream",
     "text": [
      "The input Threshold was 10\n",
      "The calculated threshold is 3.9989098893707484\n"
     ]
    },
    {
     "data": {
      "application/vnd.jupyter.widget-view+json": {
       "model_id": "fac9e78fe0654843864ab1aeba455411",
       "version_major": 2,
       "version_minor": 0
      },
      "text/plain": [
       "Pandas Apply:   0%|          | 0/4 [00:00<?, ?it/s]"
      ]
     },
     "metadata": {},
     "output_type": "display_data"
    },
    {
     "name": "stderr",
     "output_type": "stream",
     "text": [
      "/tmp/ipykernel_2816/3452164459.py:51: PerformanceWarning: Concatenating sparse arrays with multiple fill values: '[0, 1.0]'. Picking the first and converting the rest.\n",
      "  euclidean_distances = centroid_df.swifter.apply(lambda x: np.sqrt(((input_dataframe - x) ** 2).sum(axis=1)))\n",
      "/tmp/ipykernel_2816/3452164459.py:51: PerformanceWarning: Concatenating sparse arrays with multiple fill values: '[0, 9.0, 1.0, 4.0]'. Picking the first and converting the rest.\n",
      "  euclidean_distances = centroid_df.swifter.apply(lambda x: np.sqrt(((input_dataframe - x) ** 2).sum(axis=1)))\n"
     ]
    },
    {
     "name": "stdout",
     "output_type": "stream",
     "text": [
      "The input Threshold was 10\n",
      "The calculated threshold is 4.059252621370557\n"
     ]
    },
    {
     "data": {
      "application/vnd.jupyter.widget-view+json": {
       "model_id": "0560a5e535384636a53e68011d757915",
       "version_major": 2,
       "version_minor": 0
      },
      "text/plain": [
       "Pandas Apply:   0%|          | 0/4 [00:00<?, ?it/s]"
      ]
     },
     "metadata": {},
     "output_type": "display_data"
    },
    {
     "name": "stderr",
     "output_type": "stream",
     "text": [
      "/tmp/ipykernel_2816/3452164459.py:51: PerformanceWarning: Concatenating sparse arrays with multiple fill values: '[0, 4.0, 1.0, 16.0, 9.0, 81.0, 25.0]'. Picking the first and converting the rest.\n",
      "  euclidean_distances = centroid_df.swifter.apply(lambda x: np.sqrt(((input_dataframe - x) ** 2).sum(axis=1)))\n",
      "/tmp/ipykernel_2816/3452164459.py:51: PerformanceWarning: Concatenating sparse arrays with multiple fill values: '[0, 4.0, 16.0, 1.0, 9.0]'. Picking the first and converting the rest.\n",
      "  euclidean_distances = centroid_df.swifter.apply(lambda x: np.sqrt(((input_dataframe - x) ** 2).sum(axis=1)))\n",
      "/tmp/ipykernel_2816/3452164459.py:51: PerformanceWarning: Concatenating sparse arrays with multiple fill values: '[0, 64.0, 1.0, 4.0, 16.0, 9.0]'. Picking the first and converting the rest.\n",
      "  euclidean_distances = centroid_df.swifter.apply(lambda x: np.sqrt(((input_dataframe - x) ** 2).sum(axis=1)))\n"
     ]
    },
    {
     "name": "stdout",
     "output_type": "stream",
     "text": [
      "The input Threshold was 10\n",
      "The calculated threshold is 5.86976419055695\n"
     ]
    },
    {
     "data": {
      "application/vnd.jupyter.widget-view+json": {
       "model_id": "889e1a56197641e085c6ebb3112deacf",
       "version_major": 2,
       "version_minor": 0
      },
      "text/plain": [
       "Pandas Apply:   0%|          | 0/4 [00:00<?, ?it/s]"
      ]
     },
     "metadata": {},
     "output_type": "display_data"
    },
    {
     "name": "stderr",
     "output_type": "stream",
     "text": [
      "/tmp/ipykernel_2816/3452164459.py:51: PerformanceWarning: Concatenating sparse arrays with multiple fill values: '[0, 1.0, 4.0]'. Picking the first and converting the rest.\n",
      "  euclidean_distances = centroid_df.swifter.apply(lambda x: np.sqrt(((input_dataframe - x) ** 2).sum(axis=1)))\n",
      "/tmp/ipykernel_2816/3452164459.py:51: PerformanceWarning: Concatenating sparse arrays with multiple fill values: '[0, 1.0]'. Picking the first and converting the rest.\n",
      "  euclidean_distances = centroid_df.swifter.apply(lambda x: np.sqrt(((input_dataframe - x) ** 2).sum(axis=1)))\n"
     ]
    },
    {
     "name": "stdout",
     "output_type": "stream",
     "text": [
      "The input Threshold was 10\n",
      "The calculated threshold is 3.3012871659434313\n"
     ]
    },
    {
     "data": {
      "application/vnd.jupyter.widget-view+json": {
       "model_id": "a8d5e7ce69c84095b753c02a533db160",
       "version_major": 2,
       "version_minor": 0
      },
      "text/plain": [
       "Pandas Apply:   0%|          | 0/4 [00:00<?, ?it/s]"
      ]
     },
     "metadata": {},
     "output_type": "display_data"
    },
    {
     "name": "stderr",
     "output_type": "stream",
     "text": [
      "/tmp/ipykernel_2816/3452164459.py:51: PerformanceWarning: Concatenating sparse arrays with multiple fill values: '[0, 1.0, 16.0]'. Picking the first and converting the rest.\n",
      "  euclidean_distances = centroid_df.swifter.apply(lambda x: np.sqrt(((input_dataframe - x) ** 2).sum(axis=1)))\n",
      "/tmp/ipykernel_2816/3452164459.py:51: PerformanceWarning: Concatenating sparse arrays with multiple fill values: '[0, 1.0, 4.0]'. Picking the first and converting the rest.\n",
      "  euclidean_distances = centroid_df.swifter.apply(lambda x: np.sqrt(((input_dataframe - x) ** 2).sum(axis=1)))\n"
     ]
    },
    {
     "name": "stdout",
     "output_type": "stream",
     "text": [
      "The input Threshold was 10\n",
      "The calculated threshold is 2.914636447835405\n"
     ]
    },
    {
     "data": {
      "application/vnd.jupyter.widget-view+json": {
       "model_id": "15780b48fbcd4c3787dae7c8db4487cf",
       "version_major": 2,
       "version_minor": 0
      },
      "text/plain": [
       "Pandas Apply:   0%|          | 0/4 [00:00<?, ?it/s]"
      ]
     },
     "metadata": {},
     "output_type": "display_data"
    },
    {
     "name": "stderr",
     "output_type": "stream",
     "text": [
      "/tmp/ipykernel_2816/3452164459.py:51: PerformanceWarning: Concatenating sparse arrays with multiple fill values: '[0, 4.0, 1.0]'. Picking the first and converting the rest.\n",
      "  euclidean_distances = centroid_df.swifter.apply(lambda x: np.sqrt(((input_dataframe - x) ** 2).sum(axis=1)))\n",
      "/tmp/ipykernel_2816/3452164459.py:51: PerformanceWarning: Concatenating sparse arrays with multiple fill values: '[0, 1.0]'. Picking the first and converting the rest.\n",
      "  euclidean_distances = centroid_df.swifter.apply(lambda x: np.sqrt(((input_dataframe - x) ** 2).sum(axis=1)))\n",
      "/tmp/ipykernel_2816/3452164459.py:51: PerformanceWarning: Concatenating sparse arrays with multiple fill values: '[0, 1.0, 4.0, 9.0]'. Picking the first and converting the rest.\n",
      "  euclidean_distances = centroid_df.swifter.apply(lambda x: np.sqrt(((input_dataframe - x) ** 2).sum(axis=1)))\n"
     ]
    },
    {
     "name": "stdout",
     "output_type": "stream",
     "text": [
      "The input Threshold was 10\n",
      "The calculated threshold is 3.318487831479409\n"
     ]
    },
    {
     "data": {
      "application/vnd.jupyter.widget-view+json": {
       "model_id": "e0f51f17ceb44d9ab78926e50e101c39",
       "version_major": 2,
       "version_minor": 0
      },
      "text/plain": [
       "Pandas Apply:   0%|          | 0/4 [00:00<?, ?it/s]"
      ]
     },
     "metadata": {},
     "output_type": "display_data"
    },
    {
     "name": "stderr",
     "output_type": "stream",
     "text": [
      "/tmp/ipykernel_2816/3452164459.py:51: PerformanceWarning: Concatenating sparse arrays with multiple fill values: '[0, 4.0, 1.0, 9.0]'. Picking the first and converting the rest.\n",
      "  euclidean_distances = centroid_df.swifter.apply(lambda x: np.sqrt(((input_dataframe - x) ** 2).sum(axis=1)))\n",
      "/tmp/ipykernel_2816/3452164459.py:51: PerformanceWarning: Concatenating sparse arrays with multiple fill values: '[0, 1.0, 4.0]'. Picking the first and converting the rest.\n",
      "  euclidean_distances = centroid_df.swifter.apply(lambda x: np.sqrt(((input_dataframe - x) ** 2).sum(axis=1)))\n",
      "/tmp/ipykernel_2816/3452164459.py:51: PerformanceWarning: Concatenating sparse arrays with multiple fill values: '[0, 1.0, 9.0, 4.0]'. Picking the first and converting the rest.\n",
      "  euclidean_distances = centroid_df.swifter.apply(lambda x: np.sqrt(((input_dataframe - x) ** 2).sum(axis=1)))\n"
     ]
    },
    {
     "name": "stdout",
     "output_type": "stream",
     "text": [
      "The input Threshold was 10\n",
      "The calculated threshold is 3.02114792768937\n"
     ]
    },
    {
     "data": {
      "application/vnd.jupyter.widget-view+json": {
       "model_id": "8894358ba995498dad562cbd8cfb5d1c",
       "version_major": 2,
       "version_minor": 0
      },
      "text/plain": [
       "Pandas Apply:   0%|          | 0/4 [00:00<?, ?it/s]"
      ]
     },
     "metadata": {},
     "output_type": "display_data"
    },
    {
     "name": "stderr",
     "output_type": "stream",
     "text": [
      "/tmp/ipykernel_2816/3452164459.py:51: PerformanceWarning: Concatenating sparse arrays with multiple fill values: '[0, 1.0, 4.0]'. Picking the first and converting the rest.\n",
      "  euclidean_distances = centroid_df.swifter.apply(lambda x: np.sqrt(((input_dataframe - x) ** 2).sum(axis=1)))\n",
      "/tmp/ipykernel_2816/3452164459.py:51: PerformanceWarning: Concatenating sparse arrays with multiple fill values: '[0, 1.0]'. Picking the first and converting the rest.\n",
      "  euclidean_distances = centroid_df.swifter.apply(lambda x: np.sqrt(((input_dataframe - x) ** 2).sum(axis=1)))\n",
      "/tmp/ipykernel_2816/3452164459.py:51: PerformanceWarning: Concatenating sparse arrays with multiple fill values: '[0, 1.0, 4.0, 9.0, 25.0]'. Picking the first and converting the rest.\n",
      "  euclidean_distances = centroid_df.swifter.apply(lambda x: np.sqrt(((input_dataframe - x) ** 2).sum(axis=1)))\n"
     ]
    },
    {
     "name": "stdout",
     "output_type": "stream",
     "text": [
      "The input Threshold was 10\n",
      "The calculated threshold is 4.071427259351049\n"
     ]
    },
    {
     "data": {
      "application/vnd.jupyter.widget-view+json": {
       "model_id": "2970378b13ad4ee38075d7a0a457db84",
       "version_major": 2,
       "version_minor": 0
      },
      "text/plain": [
       "Pandas Apply:   0%|          | 0/4 [00:00<?, ?it/s]"
      ]
     },
     "metadata": {},
     "output_type": "display_data"
    },
    {
     "name": "stderr",
     "output_type": "stream",
     "text": [
      "/tmp/ipykernel_2816/3452164459.py:51: PerformanceWarning: Concatenating sparse arrays with multiple fill values: '[0, 1.0]'. Picking the first and converting the rest.\n",
      "  euclidean_distances = centroid_df.swifter.apply(lambda x: np.sqrt(((input_dataframe - x) ** 2).sum(axis=1)))\n",
      "/tmp/ipykernel_2816/3452164459.py:51: PerformanceWarning: Concatenating sparse arrays with multiple fill values: '[1.0, 0, 4.0, 9.0]'. Picking the first and converting the rest.\n",
      "  euclidean_distances = centroid_df.swifter.apply(lambda x: np.sqrt(((input_dataframe - x) ** 2).sum(axis=1)))\n",
      "/tmp/ipykernel_2816/3452164459.py:51: PerformanceWarning: Concatenating sparse arrays with multiple fill values: '[0, 1.0, 16.0, 4.0]'. Picking the first and converting the rest.\n",
      "  euclidean_distances = centroid_df.swifter.apply(lambda x: np.sqrt(((input_dataframe - x) ** 2).sum(axis=1)))\n"
     ]
    },
    {
     "name": "stdout",
     "output_type": "stream",
     "text": [
      "The input Threshold was 10\n",
      "The calculated threshold is 3.95024173853201\n"
     ]
    },
    {
     "data": {
      "application/vnd.jupyter.widget-view+json": {
       "model_id": "0c8b0966999547efb9d4ed8997d799c2",
       "version_major": 2,
       "version_minor": 0
      },
      "text/plain": [
       "Pandas Apply:   0%|          | 0/4 [00:00<?, ?it/s]"
      ]
     },
     "metadata": {},
     "output_type": "display_data"
    },
    {
     "name": "stderr",
     "output_type": "stream",
     "text": [
      "/tmp/ipykernel_2816/3452164459.py:51: PerformanceWarning: Concatenating sparse arrays with multiple fill values: '[0, 1.0, 4.0]'. Picking the first and converting the rest.\n",
      "  euclidean_distances = centroid_df.swifter.apply(lambda x: np.sqrt(((input_dataframe - x) ** 2).sum(axis=1)))\n",
      "/tmp/ipykernel_2816/3452164459.py:51: PerformanceWarning: Concatenating sparse arrays with multiple fill values: '[0, 1.0]'. Picking the first and converting the rest.\n",
      "  euclidean_distances = centroid_df.swifter.apply(lambda x: np.sqrt(((input_dataframe - x) ** 2).sum(axis=1)))\n"
     ]
    },
    {
     "name": "stdout",
     "output_type": "stream",
     "text": [
      "The input Threshold was 10\n",
      "The calculated threshold is 2.44917336731032\n"
     ]
    },
    {
     "data": {
      "application/vnd.jupyter.widget-view+json": {
       "model_id": "7063a263178c4c6b94be0c3bfb8bc97d",
       "version_major": 2,
       "version_minor": 0
      },
      "text/plain": [
       "Pandas Apply:   0%|          | 0/4 [00:00<?, ?it/s]"
      ]
     },
     "metadata": {},
     "output_type": "display_data"
    },
    {
     "name": "stderr",
     "output_type": "stream",
     "text": [
      "/tmp/ipykernel_2816/3452164459.py:51: PerformanceWarning: Concatenating sparse arrays with multiple fill values: '[0, 1.0, 4.0]'. Picking the first and converting the rest.\n",
      "  euclidean_distances = centroid_df.swifter.apply(lambda x: np.sqrt(((input_dataframe - x) ** 2).sum(axis=1)))\n",
      "/tmp/ipykernel_2816/3452164459.py:51: PerformanceWarning: Concatenating sparse arrays with multiple fill values: '[0, 1.0, 9.0, 4.0]'. Picking the first and converting the rest.\n",
      "  euclidean_distances = centroid_df.swifter.apply(lambda x: np.sqrt(((input_dataframe - x) ** 2).sum(axis=1)))\n",
      "/tmp/ipykernel_2816/3452164459.py:51: PerformanceWarning: Concatenating sparse arrays with multiple fill values: '[0, 1.0, 4.0, 9.0]'. Picking the first and converting the rest.\n",
      "  euclidean_distances = centroid_df.swifter.apply(lambda x: np.sqrt(((input_dataframe - x) ** 2).sum(axis=1)))\n"
     ]
    },
    {
     "name": "stdout",
     "output_type": "stream",
     "text": [
      "The input Threshold was 10\n",
      "The calculated threshold is 4.923661700197554\n"
     ]
    },
    {
     "data": {
      "application/vnd.jupyter.widget-view+json": {
       "model_id": "e6c8466ec7f74533a1f102f8bc2033b8",
       "version_major": 2,
       "version_minor": 0
      },
      "text/plain": [
       "Pandas Apply:   0%|          | 0/4 [00:00<?, ?it/s]"
      ]
     },
     "metadata": {},
     "output_type": "display_data"
    },
    {
     "name": "stderr",
     "output_type": "stream",
     "text": [
      "/tmp/ipykernel_2816/3452164459.py:51: PerformanceWarning: Concatenating sparse arrays with multiple fill values: '[0, 1.0, 4.0]'. Picking the first and converting the rest.\n",
      "  euclidean_distances = centroid_df.swifter.apply(lambda x: np.sqrt(((input_dataframe - x) ** 2).sum(axis=1)))\n",
      "/tmp/ipykernel_2816/3452164459.py:51: PerformanceWarning: Concatenating sparse arrays with multiple fill values: '[0, 1.0]'. Picking the first and converting the rest.\n",
      "  euclidean_distances = centroid_df.swifter.apply(lambda x: np.sqrt(((input_dataframe - x) ** 2).sum(axis=1)))\n"
     ]
    },
    {
     "name": "stdout",
     "output_type": "stream",
     "text": [
      "The input Threshold was 10\n",
      "The calculated threshold is 2.722607762415134\n"
     ]
    },
    {
     "data": {
      "application/vnd.jupyter.widget-view+json": {
       "model_id": "b1f4d9ff2846454c9a4ee460da531ec4",
       "version_major": 2,
       "version_minor": 0
      },
      "text/plain": [
       "Pandas Apply:   0%|          | 0/4 [00:00<?, ?it/s]"
      ]
     },
     "metadata": {},
     "output_type": "display_data"
    },
    {
     "name": "stderr",
     "output_type": "stream",
     "text": [
      "/tmp/ipykernel_2816/3452164459.py:51: PerformanceWarning: Concatenating sparse arrays with multiple fill values: '[0, 1.0]'. Picking the first and converting the rest.\n",
      "  euclidean_distances = centroid_df.swifter.apply(lambda x: np.sqrt(((input_dataframe - x) ** 2).sum(axis=1)))\n",
      "/tmp/ipykernel_2816/3452164459.py:51: PerformanceWarning: Concatenating sparse arrays with multiple fill values: '[1.0, 0, 4.0]'. Picking the first and converting the rest.\n",
      "  euclidean_distances = centroid_df.swifter.apply(lambda x: np.sqrt(((input_dataframe - x) ** 2).sum(axis=1)))\n",
      "/tmp/ipykernel_2816/3452164459.py:51: PerformanceWarning: Concatenating sparse arrays with multiple fill values: '[0, 1.0, 9.0]'. Picking the first and converting the rest.\n",
      "  euclidean_distances = centroid_df.swifter.apply(lambda x: np.sqrt(((input_dataframe - x) ** 2).sum(axis=1)))\n"
     ]
    },
    {
     "name": "stdout",
     "output_type": "stream",
     "text": [
      "The input Threshold was 10\n",
      "The calculated threshold is 3.565124773107823\n"
     ]
    },
    {
     "data": {
      "application/vnd.jupyter.widget-view+json": {
       "model_id": "1cd5a4d7736f46b68c892dc001d63356",
       "version_major": 2,
       "version_minor": 0
      },
      "text/plain": [
       "Pandas Apply:   0%|          | 0/4 [00:00<?, ?it/s]"
      ]
     },
     "metadata": {},
     "output_type": "display_data"
    },
    {
     "name": "stderr",
     "output_type": "stream",
     "text": [
      "/tmp/ipykernel_2816/3452164459.py:51: PerformanceWarning: Concatenating sparse arrays with multiple fill values: '[0, 1.0, 9.0]'. Picking the first and converting the rest.\n",
      "  euclidean_distances = centroid_df.swifter.apply(lambda x: np.sqrt(((input_dataframe - x) ** 2).sum(axis=1)))\n",
      "/tmp/ipykernel_2816/3452164459.py:51: PerformanceWarning: Concatenating sparse arrays with multiple fill values: '[0, 1.0, 4.0, 9.0]'. Picking the first and converting the rest.\n",
      "  euclidean_distances = centroid_df.swifter.apply(lambda x: np.sqrt(((input_dataframe - x) ** 2).sum(axis=1)))\n",
      "/tmp/ipykernel_2816/3452164459.py:51: PerformanceWarning: Concatenating sparse arrays with multiple fill values: '[0, 4.0, 1.0, 9.0]'. Picking the first and converting the rest.\n",
      "  euclidean_distances = centroid_df.swifter.apply(lambda x: np.sqrt(((input_dataframe - x) ** 2).sum(axis=1)))\n"
     ]
    },
    {
     "name": "stdout",
     "output_type": "stream",
     "text": [
      "The input Threshold was 10\n",
      "The calculated threshold is 3.8820735980978287\n"
     ]
    },
    {
     "data": {
      "application/vnd.jupyter.widget-view+json": {
       "model_id": "4b364e5cc8c64e46910a610237d02d57",
       "version_major": 2,
       "version_minor": 0
      },
      "text/plain": [
       "Pandas Apply:   0%|          | 0/5 [00:00<?, ?it/s]"
      ]
     },
     "metadata": {},
     "output_type": "display_data"
    },
    {
     "name": "stderr",
     "output_type": "stream",
     "text": [
      "/tmp/ipykernel_2816/3452164459.py:51: PerformanceWarning: Concatenating sparse arrays with multiple fill values: '[0, 1.0]'. Picking the first and converting the rest.\n",
      "  euclidean_distances = centroid_df.swifter.apply(lambda x: np.sqrt(((input_dataframe - x) ** 2).sum(axis=1)))\n",
      "/tmp/ipykernel_2816/3452164459.py:51: PerformanceWarning: Concatenating sparse arrays with multiple fill values: '[0, 4.0, 1.0]'. Picking the first and converting the rest.\n",
      "  euclidean_distances = centroid_df.swifter.apply(lambda x: np.sqrt(((input_dataframe - x) ** 2).sum(axis=1)))\n"
     ]
    },
    {
     "name": "stdout",
     "output_type": "stream",
     "text": [
      "The input Threshold was 10\n",
      "The calculated threshold is 2.2944615398790837\n"
     ]
    },
    {
     "data": {
      "application/vnd.jupyter.widget-view+json": {
       "model_id": "f0628c3dee9d493895a2f67ab3ab8855",
       "version_major": 2,
       "version_minor": 0
      },
      "text/plain": [
       "Pandas Apply:   0%|          | 0/5 [00:00<?, ?it/s]"
      ]
     },
     "metadata": {},
     "output_type": "display_data"
    },
    {
     "name": "stderr",
     "output_type": "stream",
     "text": [
      "/tmp/ipykernel_2816/3452164459.py:51: PerformanceWarning: Concatenating sparse arrays with multiple fill values: '[0, 1.0, 4.0]'. Picking the first and converting the rest.\n",
      "  euclidean_distances = centroid_df.swifter.apply(lambda x: np.sqrt(((input_dataframe - x) ** 2).sum(axis=1)))\n",
      "/tmp/ipykernel_2816/3452164459.py:51: PerformanceWarning: Concatenating sparse arrays with multiple fill values: '[0, 1.0, 4.0, 9.0, 16.0]'. Picking the first and converting the rest.\n",
      "  euclidean_distances = centroid_df.swifter.apply(lambda x: np.sqrt(((input_dataframe - x) ** 2).sum(axis=1)))\n",
      "/tmp/ipykernel_2816/3452164459.py:51: PerformanceWarning: Concatenating sparse arrays with multiple fill values: '[0, 1.0]'. Picking the first and converting the rest.\n",
      "  euclidean_distances = centroid_df.swifter.apply(lambda x: np.sqrt(((input_dataframe - x) ** 2).sum(axis=1)))\n"
     ]
    },
    {
     "name": "stdout",
     "output_type": "stream",
     "text": [
      "The input Threshold was 10\n",
      "The calculated threshold is 2.5269985267664525\n"
     ]
    },
    {
     "data": {
      "application/vnd.jupyter.widget-view+json": {
       "model_id": "eb5e1d256077453db1a239f6b09df77a",
       "version_major": 2,
       "version_minor": 0
      },
      "text/plain": [
       "Pandas Apply:   0%|          | 0/5 [00:00<?, ?it/s]"
      ]
     },
     "metadata": {},
     "output_type": "display_data"
    },
    {
     "name": "stderr",
     "output_type": "stream",
     "text": [
      "/tmp/ipykernel_2816/3452164459.py:51: PerformanceWarning: Concatenating sparse arrays with multiple fill values: '[0, 1.0]'. Picking the first and converting the rest.\n",
      "  euclidean_distances = centroid_df.swifter.apply(lambda x: np.sqrt(((input_dataframe - x) ** 2).sum(axis=1)))\n",
      "/tmp/ipykernel_2816/3452164459.py:51: PerformanceWarning: Concatenating sparse arrays with multiple fill values: '[0, 4.0, 1.0, 9.0]'. Picking the first and converting the rest.\n",
      "  euclidean_distances = centroid_df.swifter.apply(lambda x: np.sqrt(((input_dataframe - x) ** 2).sum(axis=1)))\n",
      "/tmp/ipykernel_2816/3452164459.py:51: PerformanceWarning: Concatenating sparse arrays with multiple fill values: '[0, 1.0, 4.0]'. Picking the first and converting the rest.\n",
      "  euclidean_distances = centroid_df.swifter.apply(lambda x: np.sqrt(((input_dataframe - x) ** 2).sum(axis=1)))\n"
     ]
    },
    {
     "name": "stdout",
     "output_type": "stream",
     "text": [
      "The input Threshold was 10\n",
      "The calculated threshold is 2.2617538558400976\n"
     ]
    },
    {
     "data": {
      "application/vnd.jupyter.widget-view+json": {
       "model_id": "f02241e3d90b4e0bbecf70893e6ddacd",
       "version_major": 2,
       "version_minor": 0
      },
      "text/plain": [
       "Pandas Apply:   0%|          | 0/5 [00:00<?, ?it/s]"
      ]
     },
     "metadata": {},
     "output_type": "display_data"
    },
    {
     "name": "stderr",
     "output_type": "stream",
     "text": [
      "/tmp/ipykernel_2816/3452164459.py:51: PerformanceWarning: Concatenating sparse arrays with multiple fill values: '[0, 1.0]'. Picking the first and converting the rest.\n",
      "  euclidean_distances = centroid_df.swifter.apply(lambda x: np.sqrt(((input_dataframe - x) ** 2).sum(axis=1)))\n",
      "/tmp/ipykernel_2816/3452164459.py:51: PerformanceWarning: Concatenating sparse arrays with multiple fill values: '[0, 1.0, 4.0]'. Picking the first and converting the rest.\n",
      "  euclidean_distances = centroid_df.swifter.apply(lambda x: np.sqrt(((input_dataframe - x) ** 2).sum(axis=1)))\n"
     ]
    },
    {
     "name": "stdout",
     "output_type": "stream",
     "text": [
      "The input Threshold was 10\n",
      "The calculated threshold is 2.688281583500657\n"
     ]
    },
    {
     "data": {
      "application/vnd.jupyter.widget-view+json": {
       "model_id": "0eab3bddc4f446f9aa5357c2390a5f54",
       "version_major": 2,
       "version_minor": 0
      },
      "text/plain": [
       "Pandas Apply:   0%|          | 0/5 [00:00<?, ?it/s]"
      ]
     },
     "metadata": {},
     "output_type": "display_data"
    },
    {
     "name": "stderr",
     "output_type": "stream",
     "text": [
      "/tmp/ipykernel_2816/3452164459.py:51: PerformanceWarning: Concatenating sparse arrays with multiple fill values: '[0, 1.0, 36.0, 4.0, 9.0]'. Picking the first and converting the rest.\n",
      "  euclidean_distances = centroid_df.swifter.apply(lambda x: np.sqrt(((input_dataframe - x) ** 2).sum(axis=1)))\n",
      "/tmp/ipykernel_2816/3452164459.py:51: PerformanceWarning: Concatenating sparse arrays with multiple fill values: '[0, 1.0]'. Picking the first and converting the rest.\n",
      "  euclidean_distances = centroid_df.swifter.apply(lambda x: np.sqrt(((input_dataframe - x) ** 2).sum(axis=1)))\n",
      "/tmp/ipykernel_2816/3452164459.py:51: PerformanceWarning: Concatenating sparse arrays with multiple fill values: '[0, 1.0, 4.0, 16.0, 9.0]'. Picking the first and converting the rest.\n",
      "  euclidean_distances = centroid_df.swifter.apply(lambda x: np.sqrt(((input_dataframe - x) ** 2).sum(axis=1)))\n"
     ]
    },
    {
     "name": "stdout",
     "output_type": "stream",
     "text": [
      "The input Threshold was 10\n",
      "The calculated threshold is 3.841283407228309\n"
     ]
    },
    {
     "data": {
      "application/vnd.jupyter.widget-view+json": {
       "model_id": "2c46f31786f74ad58a165808d37a4cac",
       "version_major": 2,
       "version_minor": 0
      },
      "text/plain": [
       "Pandas Apply:   0%|          | 0/5 [00:00<?, ?it/s]"
      ]
     },
     "metadata": {},
     "output_type": "display_data"
    },
    {
     "name": "stderr",
     "output_type": "stream",
     "text": [
      "/tmp/ipykernel_2816/3452164459.py:51: PerformanceWarning: Concatenating sparse arrays with multiple fill values: '[0, 1.0]'. Picking the first and converting the rest.\n",
      "  euclidean_distances = centroid_df.swifter.apply(lambda x: np.sqrt(((input_dataframe - x) ** 2).sum(axis=1)))\n",
      "/tmp/ipykernel_2816/3452164459.py:51: PerformanceWarning: Concatenating sparse arrays with multiple fill values: '[0, 1.0, 4.0, 9.0]'. Picking the first and converting the rest.\n",
      "  euclidean_distances = centroid_df.swifter.apply(lambda x: np.sqrt(((input_dataframe - x) ** 2).sum(axis=1)))\n"
     ]
    },
    {
     "name": "stdout",
     "output_type": "stream",
     "text": [
      "The input Threshold was 10\n",
      "The calculated threshold is 2.7541175875699855\n"
     ]
    },
    {
     "data": {
      "application/vnd.jupyter.widget-view+json": {
       "model_id": "20274118c3984742910aa71ad6dfaa71",
       "version_major": 2,
       "version_minor": 0
      },
      "text/plain": [
       "Pandas Apply:   0%|          | 0/5 [00:00<?, ?it/s]"
      ]
     },
     "metadata": {},
     "output_type": "display_data"
    },
    {
     "name": "stderr",
     "output_type": "stream",
     "text": [
      "/tmp/ipykernel_2816/3452164459.py:51: PerformanceWarning: Concatenating sparse arrays with multiple fill values: '[0, 1.0, 4.0]'. Picking the first and converting the rest.\n",
      "  euclidean_distances = centroid_df.swifter.apply(lambda x: np.sqrt(((input_dataframe - x) ** 2).sum(axis=1)))\n",
      "/tmp/ipykernel_2816/3452164459.py:51: PerformanceWarning: Concatenating sparse arrays with multiple fill values: '[0, 1.0, 4.0, 9.0]'. Picking the first and converting the rest.\n",
      "  euclidean_distances = centroid_df.swifter.apply(lambda x: np.sqrt(((input_dataframe - x) ** 2).sum(axis=1)))\n"
     ]
    },
    {
     "name": "stdout",
     "output_type": "stream",
     "text": [
      "The input Threshold was 10\n",
      "The calculated threshold is 2.849828549248\n"
     ]
    },
    {
     "data": {
      "application/vnd.jupyter.widget-view+json": {
       "model_id": "7fdedfb158474cb19ed95ed481aefaf3",
       "version_major": 2,
       "version_minor": 0
      },
      "text/plain": [
       "Pandas Apply:   0%|          | 0/5 [00:00<?, ?it/s]"
      ]
     },
     "metadata": {},
     "output_type": "display_data"
    },
    {
     "name": "stderr",
     "output_type": "stream",
     "text": [
      "/tmp/ipykernel_2816/3452164459.py:51: PerformanceWarning: Concatenating sparse arrays with multiple fill values: '[0, 1.0]'. Picking the first and converting the rest.\n",
      "  euclidean_distances = centroid_df.swifter.apply(lambda x: np.sqrt(((input_dataframe - x) ** 2).sum(axis=1)))\n",
      "/tmp/ipykernel_2816/3452164459.py:51: PerformanceWarning: Concatenating sparse arrays with multiple fill values: '[0, 1.0, 4.0]'. Picking the first and converting the rest.\n",
      "  euclidean_distances = centroid_df.swifter.apply(lambda x: np.sqrt(((input_dataframe - x) ** 2).sum(axis=1)))\n"
     ]
    },
    {
     "name": "stdout",
     "output_type": "stream",
     "text": [
      "The input Threshold was 10\n",
      "The calculated threshold is 2.517233708101272\n"
     ]
    },
    {
     "data": {
      "application/vnd.jupyter.widget-view+json": {
       "model_id": "11325b3565cb4b7382df9945cd62b660",
       "version_major": 2,
       "version_minor": 0
      },
      "text/plain": [
       "Pandas Apply:   0%|          | 0/5 [00:00<?, ?it/s]"
      ]
     },
     "metadata": {},
     "output_type": "display_data"
    },
    {
     "name": "stderr",
     "output_type": "stream",
     "text": [
      "/tmp/ipykernel_2816/3452164459.py:51: PerformanceWarning: Concatenating sparse arrays with multiple fill values: '[0, 1.0]'. Picking the first and converting the rest.\n",
      "  euclidean_distances = centroid_df.swifter.apply(lambda x: np.sqrt(((input_dataframe - x) ** 2).sum(axis=1)))\n",
      "/tmp/ipykernel_2816/3452164459.py:51: PerformanceWarning: Concatenating sparse arrays with multiple fill values: '[0, 1.0, 4.0]'. Picking the first and converting the rest.\n",
      "  euclidean_distances = centroid_df.swifter.apply(lambda x: np.sqrt(((input_dataframe - x) ** 2).sum(axis=1)))\n",
      "/tmp/ipykernel_2816/3452164459.py:51: PerformanceWarning: Concatenating sparse arrays with multiple fill values: '[0, 4.0, 1.0, 9.0]'. Picking the first and converting the rest.\n",
      "  euclidean_distances = centroid_df.swifter.apply(lambda x: np.sqrt(((input_dataframe - x) ** 2).sum(axis=1)))\n"
     ]
    },
    {
     "name": "stdout",
     "output_type": "stream",
     "text": [
      "The input Threshold was 10\n",
      "The calculated threshold is 4.079265910305219\n"
     ]
    },
    {
     "data": {
      "application/vnd.jupyter.widget-view+json": {
       "model_id": "1a7c05e561ef44e3909e57bf40ce2ca2",
       "version_major": 2,
       "version_minor": 0
      },
      "text/plain": [
       "Pandas Apply:   0%|          | 0/5 [00:00<?, ?it/s]"
      ]
     },
     "metadata": {},
     "output_type": "display_data"
    },
    {
     "name": "stderr",
     "output_type": "stream",
     "text": [
      "/tmp/ipykernel_2816/3452164459.py:51: PerformanceWarning: Concatenating sparse arrays with multiple fill values: '[0, 1.0, 4.0]'. Picking the first and converting the rest.\n",
      "  euclidean_distances = centroid_df.swifter.apply(lambda x: np.sqrt(((input_dataframe - x) ** 2).sum(axis=1)))\n",
      "/tmp/ipykernel_2816/3452164459.py:51: PerformanceWarning: Concatenating sparse arrays with multiple fill values: '[0, 1.0, 4.0, 9.0]'. Picking the first and converting the rest.\n",
      "  euclidean_distances = centroid_df.swifter.apply(lambda x: np.sqrt(((input_dataframe - x) ** 2).sum(axis=1)))\n",
      "/tmp/ipykernel_2816/3452164459.py:51: PerformanceWarning: Concatenating sparse arrays with multiple fill values: '[0, 1.0, 4.0, 16.0]'. Picking the first and converting the rest.\n",
      "  euclidean_distances = centroid_df.swifter.apply(lambda x: np.sqrt(((input_dataframe - x) ** 2).sum(axis=1)))\n",
      "/tmp/ipykernel_2816/3452164459.py:51: PerformanceWarning: Concatenating sparse arrays with multiple fill values: '[0, 1.0]'. Picking the first and converting the rest.\n",
      "  euclidean_distances = centroid_df.swifter.apply(lambda x: np.sqrt(((input_dataframe - x) ** 2).sum(axis=1)))\n"
     ]
    },
    {
     "name": "stdout",
     "output_type": "stream",
     "text": [
      "The input Threshold was 10\n",
      "The calculated threshold is 4.0525378929806966\n"
     ]
    },
    {
     "data": {
      "application/vnd.jupyter.widget-view+json": {
       "model_id": "9c5ee1fcdd8345cfac1bd7ca14c7e478",
       "version_major": 2,
       "version_minor": 0
      },
      "text/plain": [
       "Pandas Apply:   0%|          | 0/5 [00:00<?, ?it/s]"
      ]
     },
     "metadata": {},
     "output_type": "display_data"
    },
    {
     "name": "stderr",
     "output_type": "stream",
     "text": [
      "/tmp/ipykernel_2816/3452164459.py:51: PerformanceWarning: Concatenating sparse arrays with multiple fill values: '[0, 1.0, 4.0]'. Picking the first and converting the rest.\n",
      "  euclidean_distances = centroid_df.swifter.apply(lambda x: np.sqrt(((input_dataframe - x) ** 2).sum(axis=1)))\n",
      "/tmp/ipykernel_2816/3452164459.py:51: PerformanceWarning: Concatenating sparse arrays with multiple fill values: '[0, 1.0]'. Picking the first and converting the rest.\n",
      "  euclidean_distances = centroid_df.swifter.apply(lambda x: np.sqrt(((input_dataframe - x) ** 2).sum(axis=1)))\n"
     ]
    },
    {
     "name": "stdout",
     "output_type": "stream",
     "text": [
      "The input Threshold was 10\n",
      "The calculated threshold is 3.4419920785171767\n"
     ]
    },
    {
     "data": {
      "application/vnd.jupyter.widget-view+json": {
       "model_id": "cc6e55c6fdc04124aef85a7437249ccc",
       "version_major": 2,
       "version_minor": 0
      },
      "text/plain": [
       "Pandas Apply:   0%|          | 0/5 [00:00<?, ?it/s]"
      ]
     },
     "metadata": {},
     "output_type": "display_data"
    },
    {
     "name": "stderr",
     "output_type": "stream",
     "text": [
      "/tmp/ipykernel_2816/3452164459.py:51: PerformanceWarning: Concatenating sparse arrays with multiple fill values: '[0, 1.0, 9.0, 4.0]'. Picking the first and converting the rest.\n",
      "  euclidean_distances = centroid_df.swifter.apply(lambda x: np.sqrt(((input_dataframe - x) ** 2).sum(axis=1)))\n",
      "/tmp/ipykernel_2816/3452164459.py:51: PerformanceWarning: Concatenating sparse arrays with multiple fill values: '[0, 1.0, 4.0]'. Picking the first and converting the rest.\n",
      "  euclidean_distances = centroid_df.swifter.apply(lambda x: np.sqrt(((input_dataframe - x) ** 2).sum(axis=1)))\n"
     ]
    },
    {
     "name": "stdout",
     "output_type": "stream",
     "text": [
      "The input Threshold was 10\n",
      "The calculated threshold is 3.7578212768354127\n"
     ]
    },
    {
     "data": {
      "application/vnd.jupyter.widget-view+json": {
       "model_id": "4169904dcbd246ec8075da4155fb9b06",
       "version_major": 2,
       "version_minor": 0
      },
      "text/plain": [
       "Pandas Apply:   0%|          | 0/5 [00:00<?, ?it/s]"
      ]
     },
     "metadata": {},
     "output_type": "display_data"
    },
    {
     "name": "stderr",
     "output_type": "stream",
     "text": [
      "/tmp/ipykernel_2816/3452164459.py:51: PerformanceWarning: Concatenating sparse arrays with multiple fill values: '[0, 1.0]'. Picking the first and converting the rest.\n",
      "  euclidean_distances = centroid_df.swifter.apply(lambda x: np.sqrt(((input_dataframe - x) ** 2).sum(axis=1)))\n",
      "/tmp/ipykernel_2816/3452164459.py:51: PerformanceWarning: Concatenating sparse arrays with multiple fill values: '[0, 1.0, 4.0]'. Picking the first and converting the rest.\n",
      "  euclidean_distances = centroid_df.swifter.apply(lambda x: np.sqrt(((input_dataframe - x) ** 2).sum(axis=1)))\n",
      "/tmp/ipykernel_2816/3452164459.py:51: PerformanceWarning: Concatenating sparse arrays with multiple fill values: '[0, 4.0, 1.0]'. Picking the first and converting the rest.\n",
      "  euclidean_distances = centroid_df.swifter.apply(lambda x: np.sqrt(((input_dataframe - x) ** 2).sum(axis=1)))\n",
      "/tmp/ipykernel_2816/3452164459.py:51: PerformanceWarning: Concatenating sparse arrays with multiple fill values: '[0, 1.0, 4.0, 16.0, 36.0]'. Picking the first and converting the rest.\n",
      "  euclidean_distances = centroid_df.swifter.apply(lambda x: np.sqrt(((input_dataframe - x) ** 2).sum(axis=1)))\n"
     ]
    },
    {
     "name": "stdout",
     "output_type": "stream",
     "text": [
      "The input Threshold was 10\n",
      "The calculated threshold is 3.2504226293689227\n"
     ]
    },
    {
     "data": {
      "application/vnd.jupyter.widget-view+json": {
       "model_id": "ea0790b9a6634f6f928fc9eabafe4de4",
       "version_major": 2,
       "version_minor": 0
      },
      "text/plain": [
       "Pandas Apply:   0%|          | 0/5 [00:00<?, ?it/s]"
      ]
     },
     "metadata": {},
     "output_type": "display_data"
    },
    {
     "name": "stderr",
     "output_type": "stream",
     "text": [
      "/tmp/ipykernel_2816/3452164459.py:51: PerformanceWarning: Concatenating sparse arrays with multiple fill values: '[0, 4.0, 1.0, 16.0]'. Picking the first and converting the rest.\n",
      "  euclidean_distances = centroid_df.swifter.apply(lambda x: np.sqrt(((input_dataframe - x) ** 2).sum(axis=1)))\n",
      "/tmp/ipykernel_2816/3452164459.py:51: PerformanceWarning: Concatenating sparse arrays with multiple fill values: '[0, 4.0, 1.0, 9.0]'. Picking the first and converting the rest.\n",
      "  euclidean_distances = centroid_df.swifter.apply(lambda x: np.sqrt(((input_dataframe - x) ** 2).sum(axis=1)))\n",
      "/tmp/ipykernel_2816/3452164459.py:51: PerformanceWarning: Concatenating sparse arrays with multiple fill values: '[0, 1.0]'. Picking the first and converting the rest.\n",
      "  euclidean_distances = centroid_df.swifter.apply(lambda x: np.sqrt(((input_dataframe - x) ** 2).sum(axis=1)))\n"
     ]
    },
    {
     "name": "stdout",
     "output_type": "stream",
     "text": [
      "The input Threshold was 10\n",
      "The calculated threshold is 3.6427180118692917\n"
     ]
    },
    {
     "data": {
      "application/vnd.jupyter.widget-view+json": {
       "model_id": "5a006216770c4badafe5b1ef9c7916fa",
       "version_major": 2,
       "version_minor": 0
      },
      "text/plain": [
       "Pandas Apply:   0%|          | 0/5 [00:00<?, ?it/s]"
      ]
     },
     "metadata": {},
     "output_type": "display_data"
    },
    {
     "name": "stderr",
     "output_type": "stream",
     "text": [
      "/tmp/ipykernel_2816/3452164459.py:51: PerformanceWarning: Concatenating sparse arrays with multiple fill values: '[0, 1.0, 4.0]'. Picking the first and converting the rest.\n",
      "  euclidean_distances = centroid_df.swifter.apply(lambda x: np.sqrt(((input_dataframe - x) ** 2).sum(axis=1)))\n",
      "/tmp/ipykernel_2816/3452164459.py:51: PerformanceWarning: Concatenating sparse arrays with multiple fill values: '[0, 1.0, 4.0, 16.0]'. Picking the first and converting the rest.\n",
      "  euclidean_distances = centroid_df.swifter.apply(lambda x: np.sqrt(((input_dataframe - x) ** 2).sum(axis=1)))\n",
      "/tmp/ipykernel_2816/3452164459.py:51: PerformanceWarning: Concatenating sparse arrays with multiple fill values: '[0, 1.0]'. Picking the first and converting the rest.\n",
      "  euclidean_distances = centroid_df.swifter.apply(lambda x: np.sqrt(((input_dataframe - x) ** 2).sum(axis=1)))\n"
     ]
    },
    {
     "name": "stdout",
     "output_type": "stream",
     "text": [
      "The input Threshold was 10\n",
      "The calculated threshold is 3.569335864408827\n"
     ]
    },
    {
     "data": {
      "application/vnd.jupyter.widget-view+json": {
       "model_id": "b58c04687e1e4e729d2843c7f8461267",
       "version_major": 2,
       "version_minor": 0
      },
      "text/plain": [
       "Pandas Apply:   0%|          | 0/5 [00:00<?, ?it/s]"
      ]
     },
     "metadata": {},
     "output_type": "display_data"
    },
    {
     "name": "stderr",
     "output_type": "stream",
     "text": [
      "/tmp/ipykernel_2816/3452164459.py:51: PerformanceWarning: Concatenating sparse arrays with multiple fill values: '[0, 1.0, 9.0]'. Picking the first and converting the rest.\n",
      "  euclidean_distances = centroid_df.swifter.apply(lambda x: np.sqrt(((input_dataframe - x) ** 2).sum(axis=1)))\n",
      "/tmp/ipykernel_2816/3452164459.py:51: PerformanceWarning: Concatenating sparse arrays with multiple fill values: '[0, 1.0]'. Picking the first and converting the rest.\n",
      "  euclidean_distances = centroid_df.swifter.apply(lambda x: np.sqrt(((input_dataframe - x) ** 2).sum(axis=1)))\n",
      "/tmp/ipykernel_2816/3452164459.py:51: PerformanceWarning: Concatenating sparse arrays with multiple fill values: '[0, 1.0, 4.0]'. Picking the first and converting the rest.\n",
      "  euclidean_distances = centroid_df.swifter.apply(lambda x: np.sqrt(((input_dataframe - x) ** 2).sum(axis=1)))\n",
      "/tmp/ipykernel_2816/3452164459.py:51: PerformanceWarning: Concatenating sparse arrays with multiple fill values: '[0, 4.0, 1.0]'. Picking the first and converting the rest.\n",
      "  euclidean_distances = centroid_df.swifter.apply(lambda x: np.sqrt(((input_dataframe - x) ** 2).sum(axis=1)))\n"
     ]
    },
    {
     "name": "stdout",
     "output_type": "stream",
     "text": [
      "The input Threshold was 10\n",
      "The calculated threshold is 2.7794293898135374\n"
     ]
    },
    {
     "data": {
      "application/vnd.jupyter.widget-view+json": {
       "model_id": "0df35672032d4f26842b5ec6f9b0d20e",
       "version_major": 2,
       "version_minor": 0
      },
      "text/plain": [
       "Pandas Apply:   0%|          | 0/5 [00:00<?, ?it/s]"
      ]
     },
     "metadata": {},
     "output_type": "display_data"
    },
    {
     "name": "stderr",
     "output_type": "stream",
     "text": [
      "/tmp/ipykernel_2816/3452164459.py:51: PerformanceWarning: Concatenating sparse arrays with multiple fill values: '[0, 1.0, 4.0]'. Picking the first and converting the rest.\n",
      "  euclidean_distances = centroid_df.swifter.apply(lambda x: np.sqrt(((input_dataframe - x) ** 2).sum(axis=1)))\n",
      "/tmp/ipykernel_2816/3452164459.py:51: PerformanceWarning: Concatenating sparse arrays with multiple fill values: '[0, 1.0]'. Picking the first and converting the rest.\n",
      "  euclidean_distances = centroid_df.swifter.apply(lambda x: np.sqrt(((input_dataframe - x) ** 2).sum(axis=1)))\n",
      "/tmp/ipykernel_2816/3452164459.py:51: PerformanceWarning: Concatenating sparse arrays with multiple fill values: '[0, 1.0, 4.0, 9.0, 16.0]'. Picking the first and converting the rest.\n",
      "  euclidean_distances = centroid_df.swifter.apply(lambda x: np.sqrt(((input_dataframe - x) ** 2).sum(axis=1)))\n"
     ]
    },
    {
     "name": "stdout",
     "output_type": "stream",
     "text": [
      "The input Threshold was 10\n",
      "The calculated threshold is 3.236125447355191\n"
     ]
    },
    {
     "data": {
      "application/vnd.jupyter.widget-view+json": {
       "model_id": "1921fa20b108470dbdaef57f51411e73",
       "version_major": 2,
       "version_minor": 0
      },
      "text/plain": [
       "Pandas Apply:   0%|          | 0/5 [00:00<?, ?it/s]"
      ]
     },
     "metadata": {},
     "output_type": "display_data"
    },
    {
     "name": "stderr",
     "output_type": "stream",
     "text": [
      "/tmp/ipykernel_2816/3452164459.py:51: PerformanceWarning: Concatenating sparse arrays with multiple fill values: '[0, 1.0]'. Picking the first and converting the rest.\n",
      "  euclidean_distances = centroid_df.swifter.apply(lambda x: np.sqrt(((input_dataframe - x) ** 2).sum(axis=1)))\n",
      "/tmp/ipykernel_2816/3452164459.py:51: PerformanceWarning: Concatenating sparse arrays with multiple fill values: '[0, 1.0, 25.0]'. Picking the first and converting the rest.\n",
      "  euclidean_distances = centroid_df.swifter.apply(lambda x: np.sqrt(((input_dataframe - x) ** 2).sum(axis=1)))\n",
      "/tmp/ipykernel_2816/3452164459.py:51: PerformanceWarning: Concatenating sparse arrays with multiple fill values: '[0, 1.0, 4.0]'. Picking the first and converting the rest.\n",
      "  euclidean_distances = centroid_df.swifter.apply(lambda x: np.sqrt(((input_dataframe - x) ** 2).sum(axis=1)))\n"
     ]
    },
    {
     "name": "stdout",
     "output_type": "stream",
     "text": [
      "The input Threshold was 10\n",
      "The calculated threshold is 2.9264363187227493\n"
     ]
    },
    {
     "data": {
      "application/vnd.jupyter.widget-view+json": {
       "model_id": "a26a69595e264f5b9e5736dc7319dfa2",
       "version_major": 2,
       "version_minor": 0
      },
      "text/plain": [
       "Pandas Apply:   0%|          | 0/5 [00:00<?, ?it/s]"
      ]
     },
     "metadata": {},
     "output_type": "display_data"
    },
    {
     "name": "stderr",
     "output_type": "stream",
     "text": [
      "/tmp/ipykernel_2816/3452164459.py:51: PerformanceWarning: Concatenating sparse arrays with multiple fill values: '[0, 1.0, 4.0]'. Picking the first and converting the rest.\n",
      "  euclidean_distances = centroid_df.swifter.apply(lambda x: np.sqrt(((input_dataframe - x) ** 2).sum(axis=1)))\n",
      "/tmp/ipykernel_2816/3452164459.py:51: PerformanceWarning: Concatenating sparse arrays with multiple fill values: '[0, 1.0, 9.0]'. Picking the first and converting the rest.\n",
      "  euclidean_distances = centroid_df.swifter.apply(lambda x: np.sqrt(((input_dataframe - x) ** 2).sum(axis=1)))\n",
      "/tmp/ipykernel_2816/3452164459.py:51: PerformanceWarning: Concatenating sparse arrays with multiple fill values: '[0, 1.0]'. Picking the first and converting the rest.\n",
      "  euclidean_distances = centroid_df.swifter.apply(lambda x: np.sqrt(((input_dataframe - x) ** 2).sum(axis=1)))\n"
     ]
    },
    {
     "name": "stdout",
     "output_type": "stream",
     "text": [
      "The input Threshold was 10\n",
      "The calculated threshold is 3.7578169003571795\n"
     ]
    },
    {
     "data": {
      "application/vnd.jupyter.widget-view+json": {
       "model_id": "7729c10d7e0942a38f9b5010612712e5",
       "version_major": 2,
       "version_minor": 0
      },
      "text/plain": [
       "Pandas Apply:   0%|          | 0/5 [00:00<?, ?it/s]"
      ]
     },
     "metadata": {},
     "output_type": "display_data"
    },
    {
     "name": "stderr",
     "output_type": "stream",
     "text": [
      "/tmp/ipykernel_2816/3452164459.py:51: PerformanceWarning: Concatenating sparse arrays with multiple fill values: '[0, 9.0, 1.0, 4.0]'. Picking the first and converting the rest.\n",
      "  euclidean_distances = centroid_df.swifter.apply(lambda x: np.sqrt(((input_dataframe - x) ** 2).sum(axis=1)))\n",
      "/tmp/ipykernel_2816/3452164459.py:51: PerformanceWarning: Concatenating sparse arrays with multiple fill values: '[0, 1.0, 9.0, 4.0]'. Picking the first and converting the rest.\n",
      "  euclidean_distances = centroid_df.swifter.apply(lambda x: np.sqrt(((input_dataframe - x) ** 2).sum(axis=1)))\n",
      "/tmp/ipykernel_2816/3452164459.py:51: PerformanceWarning: Concatenating sparse arrays with multiple fill values: '[0, 1.0, 4.0]'. Picking the first and converting the rest.\n",
      "  euclidean_distances = centroid_df.swifter.apply(lambda x: np.sqrt(((input_dataframe - x) ** 2).sum(axis=1)))\n",
      "/tmp/ipykernel_2816/3452164459.py:51: PerformanceWarning: Concatenating sparse arrays with multiple fill values: '[0, 1.0, 9.0, 4.0, 16.0]'. Picking the first and converting the rest.\n",
      "  euclidean_distances = centroid_df.swifter.apply(lambda x: np.sqrt(((input_dataframe - x) ** 2).sum(axis=1)))\n"
     ]
    },
    {
     "name": "stdout",
     "output_type": "stream",
     "text": [
      "The input Threshold was 10\n",
      "The calculated threshold is 5.04499083307457\n"
     ]
    }
   ],
   "source": [
    "error_values=[]\n",
    "for no_of_clusters in range(2,6):\n",
    "    #Taking the cluster value from 2 to 5\n",
    "    for no_of_experiments in range(1,21):\n",
    "        #Performing experiments for each cluster 20 times\n",
    "        final_centroids,error_target_variable,sum_of_squared_error,run_time=kmeans_llyod(df_sample,no_of_clusters,10,100)\n",
    "        #Storing the variables in dataframe\n",
    "        error_values.append([no_of_clusters,no_of_experiments,error_target_variable,sum_of_squared_error,run_time])\n",
    "error_values_df= pd.DataFrame(error_values,columns=['No_of_Clusters', 'Iteration Number', 'Target Variable Error','Sum_of_squared_Errors','run_time'])  \n",
    "error_values_df.to_csv('Kmeans_llyod_20_iteration_1lakh.csv')"
   ]
  },
  {
   "cell_type": "markdown",
   "id": "656f19c6",
   "metadata": {},
   "source": [
    "# Done both the dataframes"
   ]
  },
  {
   "cell_type": "code",
   "execution_count": 264,
   "id": "3ce3e12a",
   "metadata": {},
   "outputs": [
    {
     "data": {
      "text/html": [
       "<div>\n",
       "<style scoped>\n",
       "    .dataframe tbody tr th:only-of-type {\n",
       "        vertical-align: middle;\n",
       "    }\n",
       "\n",
       "    .dataframe tbody tr th {\n",
       "        vertical-align: top;\n",
       "    }\n",
       "\n",
       "    .dataframe thead th {\n",
       "        text-align: right;\n",
       "    }\n",
       "</style>\n",
       "<table border=\"1\" class=\"dataframe\">\n",
       "  <thead>\n",
       "    <tr style=\"text-align: right;\">\n",
       "      <th></th>\n",
       "      <th>No_of_Clusters</th>\n",
       "      <th>Iteration Number</th>\n",
       "      <th>Target Variable Error</th>\n",
       "      <th>Sum_of_squared_Errors</th>\n",
       "      <th>run_time</th>\n",
       "    </tr>\n",
       "  </thead>\n",
       "  <tbody>\n",
       "    <tr>\n",
       "      <th>0</th>\n",
       "      <td>2</td>\n",
       "      <td>1</td>\n",
       "      <td>0.987</td>\n",
       "      <td>324552.550</td>\n",
       "      <td>10.644651</td>\n",
       "    </tr>\n",
       "    <tr>\n",
       "      <th>1</th>\n",
       "      <td>2</td>\n",
       "      <td>2</td>\n",
       "      <td>0.987</td>\n",
       "      <td>323808.672</td>\n",
       "      <td>11.224484</td>\n",
       "    </tr>\n",
       "    <tr>\n",
       "      <th>2</th>\n",
       "      <td>2</td>\n",
       "      <td>3</td>\n",
       "      <td>0.987</td>\n",
       "      <td>324135.854</td>\n",
       "      <td>10.483995</td>\n",
       "    </tr>\n",
       "    <tr>\n",
       "      <th>3</th>\n",
       "      <td>2</td>\n",
       "      <td>4</td>\n",
       "      <td>0.987</td>\n",
       "      <td>319224.160</td>\n",
       "      <td>10.656195</td>\n",
       "    </tr>\n",
       "    <tr>\n",
       "      <th>4</th>\n",
       "      <td>2</td>\n",
       "      <td>5</td>\n",
       "      <td>0.987</td>\n",
       "      <td>322792.602</td>\n",
       "      <td>10.692482</td>\n",
       "    </tr>\n",
       "    <tr>\n",
       "      <th>...</th>\n",
       "      <td>...</td>\n",
       "      <td>...</td>\n",
       "      <td>...</td>\n",
       "      <td>...</td>\n",
       "      <td>...</td>\n",
       "    </tr>\n",
       "    <tr>\n",
       "      <th>75</th>\n",
       "      <td>5</td>\n",
       "      <td>16</td>\n",
       "      <td>0.987</td>\n",
       "      <td>320049.564</td>\n",
       "      <td>16.136392</td>\n",
       "    </tr>\n",
       "    <tr>\n",
       "      <th>76</th>\n",
       "      <td>5</td>\n",
       "      <td>17</td>\n",
       "      <td>0.987</td>\n",
       "      <td>322130.155</td>\n",
       "      <td>16.076394</td>\n",
       "    </tr>\n",
       "    <tr>\n",
       "      <th>77</th>\n",
       "      <td>5</td>\n",
       "      <td>18</td>\n",
       "      <td>0.987</td>\n",
       "      <td>318237.758</td>\n",
       "      <td>16.147666</td>\n",
       "    </tr>\n",
       "    <tr>\n",
       "      <th>78</th>\n",
       "      <td>5</td>\n",
       "      <td>19</td>\n",
       "      <td>0.987</td>\n",
       "      <td>315744.064</td>\n",
       "      <td>16.227921</td>\n",
       "    </tr>\n",
       "    <tr>\n",
       "      <th>79</th>\n",
       "      <td>5</td>\n",
       "      <td>20</td>\n",
       "      <td>0.987</td>\n",
       "      <td>323804.373</td>\n",
       "      <td>16.208781</td>\n",
       "    </tr>\n",
       "  </tbody>\n",
       "</table>\n",
       "<p>80 rows × 5 columns</p>\n",
       "</div>"
      ],
      "text/plain": [
       "    No_of_Clusters  Iteration Number  Target Variable Error  \\\n",
       "0                2                 1                  0.987   \n",
       "1                2                 2                  0.987   \n",
       "2                2                 3                  0.987   \n",
       "3                2                 4                  0.987   \n",
       "4                2                 5                  0.987   \n",
       "..             ...               ...                    ...   \n",
       "75               5                16                  0.987   \n",
       "76               5                17                  0.987   \n",
       "77               5                18                  0.987   \n",
       "78               5                19                  0.987   \n",
       "79               5                20                  0.987   \n",
       "\n",
       "    Sum_of_squared_Errors   run_time  \n",
       "0              324552.550  10.644651  \n",
       "1              323808.672  11.224484  \n",
       "2              324135.854  10.483995  \n",
       "3              319224.160  10.656195  \n",
       "4              322792.602  10.692482  \n",
       "..                    ...        ...  \n",
       "75             320049.564  16.136392  \n",
       "76             322130.155  16.076394  \n",
       "77             318237.758  16.147666  \n",
       "78             315744.064  16.227921  \n",
       "79             323804.373  16.208781  \n",
       "\n",
       "[80 rows x 5 columns]"
      ]
     },
     "execution_count": 264,
     "metadata": {},
     "output_type": "execute_result"
    }
   ],
   "source": [
    "error_values_df"
   ]
  },
  {
   "cell_type": "code",
   "execution_count": 268,
   "id": "ed54f463",
   "metadata": {},
   "outputs": [
    {
     "data": {
      "text/html": [
       "<div>\n",
       "<style scoped>\n",
       "    .dataframe tbody tr th:only-of-type {\n",
       "        vertical-align: middle;\n",
       "    }\n",
       "\n",
       "    .dataframe tbody tr th {\n",
       "        vertical-align: top;\n",
       "    }\n",
       "\n",
       "    .dataframe thead th {\n",
       "        text-align: right;\n",
       "    }\n",
       "</style>\n",
       "<table border=\"1\" class=\"dataframe\">\n",
       "  <thead>\n",
       "    <tr style=\"text-align: right;\">\n",
       "      <th></th>\n",
       "      <th>No_of_Clusters</th>\n",
       "      <th>Target Variable Error</th>\n",
       "      <th>Sum_of_squared_Errors</th>\n",
       "      <th>run_time</th>\n",
       "    </tr>\n",
       "  </thead>\n",
       "  <tbody>\n",
       "    <tr>\n",
       "      <th>0</th>\n",
       "      <td>2</td>\n",
       "      <td>0.987</td>\n",
       "      <td>323264.92750</td>\n",
       "      <td>10.678611</td>\n",
       "    </tr>\n",
       "    <tr>\n",
       "      <th>1</th>\n",
       "      <td>3</td>\n",
       "      <td>0.987</td>\n",
       "      <td>321638.51665</td>\n",
       "      <td>12.615516</td>\n",
       "    </tr>\n",
       "    <tr>\n",
       "      <th>2</th>\n",
       "      <td>4</td>\n",
       "      <td>0.987</td>\n",
       "      <td>322363.83065</td>\n",
       "      <td>14.404066</td>\n",
       "    </tr>\n",
       "    <tr>\n",
       "      <th>3</th>\n",
       "      <td>5</td>\n",
       "      <td>0.987</td>\n",
       "      <td>320988.60535</td>\n",
       "      <td>16.202976</td>\n",
       "    </tr>\n",
       "  </tbody>\n",
       "</table>\n",
       "</div>"
      ],
      "text/plain": [
       "   No_of_Clusters  Target Variable Error  Sum_of_squared_Errors   run_time\n",
       "0               2                  0.987           323264.92750  10.678611\n",
       "1               3                  0.987           321638.51665  12.615516\n",
       "2               4                  0.987           322363.83065  14.404066\n",
       "3               5                  0.987           320988.60535  16.202976"
      ]
     },
     "execution_count": 268,
     "metadata": {},
     "output_type": "execute_result"
    }
   ],
   "source": [
    "error_plot=error_values_df.groupby(['No_of_Clusters']).mean().reset_index()[['No_of_Clusters','Target Variable Error','Sum_of_squared_Errors','run_time']]\n",
    "error_plot"
   ]
  },
  {
   "cell_type": "code",
   "execution_count": 305,
   "id": "fd6487d5",
   "metadata": {},
   "outputs": [
    {
     "data": {
      "image/png": "[encoded data removed]",
      "text/plain": [
       "<Figure size 432x288 with 2 Axes>"
      ]
     },
     "metadata": {
      "needs_background": "light"
     },
     "output_type": "display_data"
    }
   ],
   "source": [
    "ax = error_plot.plot(x='No_of_Clusters', y='Target Variable Error')\n",
    "ax2 =error_plot.plot(x='No_of_Clusters', y='Sum_of_squared_Errors',secondary_y=True, ax=ax)\n",
    "# set the axis labels and title\n",
    "ax.set_xlabel('No_of_Clusters')\n",
    "ax.set_ylabel('Target Variable Error')\n",
    "ax2.set_ylabel('Sum_of_squared_error')\n",
    "ax.set_title('Error and SSE vs No of clusters Tou In NYC')\n",
    "ax.legend(['Error'], loc='upper left')\n",
    "ax2.legend(['SSE'], loc='upper right')\n",
    "\n",
    "plt.show()"
   ]
  },
  {
   "cell_type": "code",
   "execution_count": 302,
   "id": "65d90fbd",
   "metadata": {},
   "outputs": [
    {
     "data": {
      "image/png": "[encoded data removed]",
      "text/plain": [
       "<Figure size 432x720 with 1 Axes>"
      ]
     },
     "metadata": {
      "needs_background": "light"
     },
     "output_type": "display_data"
    },
    {
     "data": {
      "image/png": "[encoded data removed]",
      "text/plain": [
       "<Figure size 432x720 with 1 Axes>"
      ]
     },
     "metadata": {
      "needs_background": "light"
     },
     "output_type": "display_data"
    },
    {
     "data": {
      "image/png": "[encoded data removed]",
      "text/plain": [
       "<Figure size 432x720 with 1 Axes>"
      ]
     },
     "metadata": {
      "needs_background": "light"
     },
     "output_type": "display_data"
    }
   ],
   "source": [
    "import seaborn as sns\n",
    "plt.figure(figsize=(6, 10))\n",
    "#Plotting Box plot\n",
    "#Plotting values of errors for 80 iterations\n",
    "sns.boxplot(x=error_values_df['No_of_Clusters'],y=error_values_df['Target Variable Error'])\n",
    "plt.title('Box Plot for K means LLyod nyc(error vs no of clusters)')\n",
    "plt.show()\n",
    "import seaborn as sns\n",
    "plt.figure(figsize=(6, 10))\n",
    "#Plotting Box plot\n",
    "#Plotting values of errors for 80 iterations\n",
    "sns.boxplot(x=error_values_df['No_of_Clusters'],y=error_values_df['Sum_of_squared_Errors'])\n",
    "plt.title('Box Plot for K means LLyod nyc(SSE vs no of clusters)')\n",
    "plt.show()\n",
    "import seaborn as sns\n",
    "plt.figure(figsize=(6, 10))\n",
    "#Plotting Box plot\n",
    "#Plotting values of errors for 80 iterations\n",
    "sns.boxplot(x=error_values_df['No_of_Clusters'],y=error_values_df['run_time'])\n",
    "plt.title('Box Plot for K means LLyod NYC (Run Time vs no of clusters)')\n",
    "plt.show()\n"
   ]
  },
  {
   "cell_type": "markdown",
   "id": "dbbe62df",
   "metadata": {},
   "source": [
    "# K means Plus Plus "
   ]
  },
  {
   "cell_type": "code",
   "execution_count": 232,
   "id": "315b1f24",
   "metadata": {},
   "outputs": [],
   "source": [
    "\n",
    "import numpy as np\n",
    "import swifter\n",
    "from scipy.spatial.distance import euclidean\n",
    "from scipy.spatial.distance import cdist\n",
    "import time\n",
    "\n",
    "         \n",
    "def kmeans_pp_init(input_dataframe,no_of_clusters):\n",
    "    '''\n",
    "    K-means++ is a variant of the K-means algorithm that aims to improve the initial centroids' selection \n",
    "    in the clustering process. \n",
    "    The standard K-means algorithm initializes the cluster centroids randomly, \n",
    "    which can lead to suboptimal clustering results, \n",
    "    especially if the dataset has complex or irregular structures.\n",
    "    '''\n",
    "    list_of_centroids=[]\n",
    "    #Choosing the first centroid randomly\n",
    "    centroid = input_dataframe.apply(lambda x: float(x.sample()))\n",
    "    list_of_centroids.append(centroid)\n",
    "    \n",
    "    iterator=2\n",
    "    while iterator<=no_of_clusters:\n",
    "        '''\n",
    "        Calculating the distances from the centroid to every data point\n",
    "        If the no of centroids are more than 1 calculate the distance from every centroid and take minimum distance\n",
    "        '''\n",
    "        distances = np.array(np.amin(cdist(input_dataframe,list_of_centroids,metric='euclidean'),axis=1))\n",
    "        #Next centroid will be selected with probability proportional to the distance\n",
    "        \n",
    "        probs = distances / np.nansum(distances)\n",
    "        probs = [0 if np.isnan(x) else x for x in probs]\n",
    "        '''\n",
    "        Selection of the next centroids\n",
    "        '''\n",
    "        next_centroid = input_dataframe.iloc[np.random.choice(len(input_dataframe),p=probs)]\n",
    "        list_of_centroids.append(next_centroid)\n",
    "        iterator+=1\n",
    "    \n",
    "    centroid_df=pd.concat(list_of_centroids,axis=1,ignore_index=True)\n",
    "    #Naming the column as Label for ease of purpose\n",
    "    centroid_df.index.name='Cluster_Assigned'   \n",
    "    \n",
    "        \n",
    "    return centroid_df\n",
    "\n",
    "def get_labels(input_dataframe,centroid_df):\n",
    "    '''\n",
    "    This function takes centroids as input and takes the initial dataframe and gives them labels to which cluster\n",
    "    they belong to\n",
    "    '''\n",
    "    euclidean_distances = centroid_df.swifter.apply(lambda x: np.sqrt(((input_dataframe - x) ** 2).sum(axis=1)))\n",
    "    #Here we use idxmin functionality to handle ties in the dataset \n",
    "    #and it randomly assigns if euclideab distance results in a tie\n",
    "    '''\n",
    "    This function returns the index of minimum distances as a dataframe\n",
    "    '''\n",
    "    return pd.DataFrame(euclidean_distances.idxmin(axis=1))\n",
    "\n",
    "        \n",
    "def get_new_centroids(df_clustered_label,input_dataframe):\n",
    "    '''\n",
    "    The input dataframe is the dataframe with clusters labelled and the original dataframe\n",
    "    '''\n",
    "    df_original_label_join=input_dataframe.join(df_clustered_label)\n",
    "    #This is a dataframe that consists of datapoints as well as the cluster assigned \n",
    "    df_original_label_join.rename(columns={0:'Cluster_Assigned'},inplace=True)\n",
    "    #To get the new centroids we group by the Label column and take its mean\n",
    "    new_centroids=df_original_label_join.groupby('Cluster_Assigned').mean()\n",
    "    #Here transpose is taken to maintain consistency between original random centroids and \n",
    "    return new_centroids.T\n",
    "\n",
    "\n",
    "def kmeans_llyod_kpp(input_dataframe,no_of_clusters,threshold,no_of_iterations):\n",
    "    '''\n",
    "    This function takes original dataframe,number of clusters,threshold as input.\n",
    "    '''\n",
    "    start_time=time.time()\n",
    "    iteration=0\n",
    "    #Step 1 of k means is to get random _Centroids\n",
    "    initial_centroid=kmeans_pp_init(input_dataframe,no_of_clusters)\n",
    "    #Randomly generated centroids would be stored on centroids \n",
    "    #Storing the column list to handle K ties \n",
    "    initial_centroid_column_list=initial_centroid.columns.to_list()\n",
    "    \n",
    "    while True:\n",
    "        '''\n",
    "        The while loop runs until convergence condition is met\n",
    "        '''\n",
    "        df_cluster_label=get_labels(input_dataframe,initial_centroid)\n",
    "        df_new_centroids=get_new_centroids(df_cluster_label,input_dataframe)\n",
    "        '''\n",
    "        Handling (Maintaining K Centroids)\n",
    "        '''\n",
    "        new_list_of_columns=df_new_centroids.columns.to_list()\n",
    "        #Keeping the number of clusters same\n",
    "        initial_set_columns = set(initial_centroid_column_list)\n",
    "        new_set_columns = set(new_list_of_columns)\n",
    "        missing_columns = initial_set_columns - new_set_columns\n",
    "        for col in missing_columns:\n",
    "            df_new_centroids[col]=initial_centroid[col]\n",
    "        \n",
    "        from scipy.spatial.distance import euclidean\n",
    "        scalar_product = [euclidean(initial_centroid[col],df_new_centroids[col]) for col in initial_centroid.columns]\n",
    "        threshold_calculated=float(sum(scalar_product))/no_of_clusters\n",
    "        \n",
    "        iteration+=1\n",
    "        \n",
    "        if threshold_calculated<threshold:\n",
    "            print(\"The input Threshold was {}\".format(threshold))\n",
    "            print(\"The calculated threshold is {}\".format(threshold_calculated))\n",
    "        \n",
    "        if iteration>no_of_iterations:\n",
    "            print(\"Limit for iterations has exceeded\")\n",
    "        \n",
    "        if threshold_calculated<threshold or iteration>no_of_iterations:\n",
    "            error=cluster_error_target_variable(df_cluster_label,input_dataframe,no_of_clusters,df_new_centroids)\n",
    "            sum_of_square_error=sum_of_square_error_function(df_cluster_label,input_dataframe,df_new_centroids,no_of_clusters)\n",
    "            end_time=time.time()\n",
    "            return df_new_centroids,error,sum_of_square_error,end_time-start_time\n",
    "            break\n",
    "        else:\n",
    "            initial_centroid= df_new_centroids\n",
    "        \n",
    "\n",
    "def sum_of_square_error_function(df_cluster_label,input_dataframe,df_new_centroids,no_of_clusters):\n",
    "    '''\n",
    "    This function calculates the euclidean distance between new formed \n",
    "    centroids and the datapoints in that cluster\n",
    "    '''\n",
    "    df_data_label=input_dataframe.join(df_cluster_label)\n",
    "    #Renaming the column\n",
    "    df_data_label.rename(columns={0:'Cluster_Assigned'},inplace=True)\n",
    "    total_error=[]\n",
    "    for cluster in range(no_of_clusters):\n",
    "        df_data_label_cluster=df_data_label[df_data_label['Cluster_Assigned']==cluster]\n",
    "        df_data_label_cluster=df_data_label_cluster.drop('Cluster_Assigned',axis=1)\n",
    "        centroids=pd.DataFrame(df_new_centroids[cluster])\n",
    "        euclidean_distance=cdist(df_data_label_cluster,centroids.T,metric='euclidean')\n",
    "        total_error.append(np.nansum(euclidean_distance))\n",
    "    \n",
    "    return round(np.nansum(total_error),3)\n",
    "    #return round(float(''.join(map(str, sum(total_error)))),3)\n",
    "        \n",
    "        \n",
    "        \n",
    "def cluster_error_target_variable(df_cluster_label,input_dataframe,no_of_clusters,df_new_centroids):\n",
    "    '''\n",
    "    This calculates the error for every cluster and sums up the error based on the formula for error\n",
    "    '''\n",
    "    \n",
    "    target_variable_centroid=input_dataframe.groupby('editorsSelection').mean().reset_index()\n",
    "    '''\n",
    "    Target variable centroid is input dataframe taking mean\n",
    "    '''\n",
    "    new_centroids= df_new_centroids.T\n",
    "    #\n",
    "    df_data_label=input_dataframe.join(df_cluster_label)\n",
    "    #Renaming the column\n",
    "    df_data_label.rename(columns={0:'Cluster_Assigned'},inplace=True)\n",
    "\n",
    "    # Get the columns of the data dataframe\n",
    "    columns = input_dataframe.columns\n",
    "\n",
    "    sum_of_square_Error= []\n",
    "    # Compute the distance between each data point and its assigned centroid\n",
    "    for i in range(len(new_centroids)):   \n",
    "        s=[]\n",
    "        for j in range(len(target_variable_centroid)): ### mean centroid\n",
    "            #Calculating the error between target variable centroid and new centroids\n",
    "            distance = np.sum(np.square(target_variable_centroid[target_variable_centroid['editorsSelection']==j][columns] - new_centroids.iloc[i][columns]), axis=1)\n",
    "            #Storing the distance\n",
    "            s.append(distance.iloc[0])\n",
    "        sum_of_square_Error.append(s)\n",
    "    \n",
    "    \n",
    "    merged_new_label=pd.DataFrame(sum_of_square_Error).idxmin(axis=1)\n",
    "    \n",
    "    #Merging of cluster\n",
    "    mapping_dictionary=merged_new_label.to_dict() \n",
    "    \n",
    "    #Getting clusters to a new column\n",
    "    df_data_label['target_variable_cluster']=df_data_label['Cluster_Assigned'].replace(mapping_dictionary)\n",
    "    \n",
    "    \n",
    "    total_cluster_error = []\n",
    "    \n",
    "    for class_name in range(0,2):\n",
    "        df_cluster = df_data_label[df_data_label['target_variable_cluster'] == class_name] \n",
    "        yi = len(df_cluster[df_cluster['editorsSelection'] == 1]) \n",
    "        #Calculating Ni\n",
    "        ni = len(df_cluster[df_cluster['editorsSelection'] == 0]) \n",
    "        if yi == 0 and ni == 0:\n",
    "            error_ci = 0\n",
    "        else:\n",
    "            error_ci = ni / (ni + yi) # calculate the error rate of the current cluster\n",
    "        total_cluster_error.append(error_ci)\n",
    "    return round(sum(total_cluster_error),3)"
   ]
  },
  {
   "cell_type": "code",
   "execution_count": null,
   "id": "ea00bfc9",
   "metadata": {},
   "outputs": [],
   "source": []
  },
  {
   "cell_type": "code",
   "execution_count": 309,
   "id": "134326e8",
   "metadata": {},
   "outputs": [
    {
     "data": {
      "application/vnd.jupyter.widget-view+json": {
       "model_id": "9c57dd1f028a4fc1a0b4f2c03c6e2e4b",
       "version_major": 2,
       "version_minor": 0
      },
      "text/plain": [
       "Pandas Apply:   0%|          | 0/2 [00:00<?, ?it/s]"
      ]
     },
     "metadata": {},
     "output_type": "display_data"
    },
    {
     "name": "stderr",
     "output_type": "stream",
     "text": [
      "/tmp/ipykernel_2816/2434844461.py:34: PerformanceWarning: Concatenating sparse arrays with multiple fill values: '[1.0, 0, 4.0]'. Picking the first and converting the rest.\n",
      "  euclidean_distances = centroid_df.swifter.apply(lambda x: np.sqrt(((input_dataframe - x) ** 2).sum(axis=1)))\n"
     ]
    },
    {
     "name": "stdout",
     "output_type": "stream",
     "text": [
      "The input Threshold was 10\n",
      "The calculated threshold is 4.114234309717363\n"
     ]
    },
    {
     "data": {
      "application/vnd.jupyter.widget-view+json": {
       "model_id": "be8e982518c544f881e62d848e225d01",
       "version_major": 2,
       "version_minor": 0
      },
      "text/plain": [
       "Pandas Apply:   0%|          | 0/2 [00:00<?, ?it/s]"
      ]
     },
     "metadata": {},
     "output_type": "display_data"
    },
    {
     "name": "stderr",
     "output_type": "stream",
     "text": [
      "/tmp/ipykernel_2816/2434844461.py:34: PerformanceWarning: Concatenating sparse arrays with multiple fill values: '[0, 1.0]'. Picking the first and converting the rest.\n",
      "  euclidean_distances = centroid_df.swifter.apply(lambda x: np.sqrt(((input_dataframe - x) ** 2).sum(axis=1)))\n"
     ]
    },
    {
     "name": "stdout",
     "output_type": "stream",
     "text": [
      "The input Threshold was 10\n",
      "The calculated threshold is 2.0300178079579916\n"
     ]
    },
    {
     "data": {
      "application/vnd.jupyter.widget-view+json": {
       "model_id": "c4ba8893a7db4a86b49e75eacbbb1874",
       "version_major": 2,
       "version_minor": 0
      },
      "text/plain": [
       "Pandas Apply:   0%|          | 0/2 [00:00<?, ?it/s]"
      ]
     },
     "metadata": {},
     "output_type": "display_data"
    },
    {
     "name": "stderr",
     "output_type": "stream",
     "text": [
      "/tmp/ipykernel_2816/2434844461.py:34: PerformanceWarning: Concatenating sparse arrays with multiple fill values: '[0, 4.0, 1.0, 9.0, 16.0]'. Picking the first and converting the rest.\n",
      "  euclidean_distances = centroid_df.swifter.apply(lambda x: np.sqrt(((input_dataframe - x) ** 2).sum(axis=1)))\n"
     ]
    },
    {
     "name": "stdout",
     "output_type": "stream",
     "text": [
      "The input Threshold was 10\n",
      "The calculated threshold is 5.340588085726059\n"
     ]
    },
    {
     "data": {
      "application/vnd.jupyter.widget-view+json": {
       "model_id": "79777fa0df9e469abb9bf25c41468aa8",
       "version_major": 2,
       "version_minor": 0
      },
      "text/plain": [
       "Pandas Apply:   0%|          | 0/2 [00:00<?, ?it/s]"
      ]
     },
     "metadata": {},
     "output_type": "display_data"
    },
    {
     "name": "stderr",
     "output_type": "stream",
     "text": [
      "/tmp/ipykernel_2816/2434844461.py:34: PerformanceWarning: Concatenating sparse arrays with multiple fill values: '[0, 1.0, 4.0]'. Picking the first and converting the rest.\n",
      "  euclidean_distances = centroid_df.swifter.apply(lambda x: np.sqrt(((input_dataframe - x) ** 2).sum(axis=1)))\n"
     ]
    },
    {
     "name": "stdout",
     "output_type": "stream",
     "text": [
      "The input Threshold was 10\n",
      "The calculated threshold is 4.889993977572522\n"
     ]
    },
    {
     "data": {
      "application/vnd.jupyter.widget-view+json": {
       "model_id": "b5af021f6bab43d69d39c63cb9c4eafe",
       "version_major": 2,
       "version_minor": 0
      },
      "text/plain": [
       "Pandas Apply:   0%|          | 0/2 [00:00<?, ?it/s]"
      ]
     },
     "metadata": {},
     "output_type": "display_data"
    },
    {
     "name": "stderr",
     "output_type": "stream",
     "text": [
      "/tmp/ipykernel_2816/2434844461.py:34: PerformanceWarning: Concatenating sparse arrays with multiple fill values: '[0, 1.0]'. Picking the first and converting the rest.\n",
      "  euclidean_distances = centroid_df.swifter.apply(lambda x: np.sqrt(((input_dataframe - x) ** 2).sum(axis=1)))\n"
     ]
    },
    {
     "name": "stdout",
     "output_type": "stream",
     "text": [
      "The input Threshold was 10\n",
      "The calculated threshold is 1.9840929423550548\n"
     ]
    },
    {
     "data": {
      "application/vnd.jupyter.widget-view+json": {
       "model_id": "53f0a4c58acb418fbf8758eb4b980130",
       "version_major": 2,
       "version_minor": 0
      },
      "text/plain": [
       "Pandas Apply:   0%|          | 0/2 [00:00<?, ?it/s]"
      ]
     },
     "metadata": {},
     "output_type": "display_data"
    },
    {
     "name": "stderr",
     "output_type": "stream",
     "text": [
      "/tmp/ipykernel_2816/2434844461.py:34: PerformanceWarning: Concatenating sparse arrays with multiple fill values: '[0, 1.0, 4.0, 100.0, 25.0]'. Picking the first and converting the rest.\n",
      "  euclidean_distances = centroid_df.swifter.apply(lambda x: np.sqrt(((input_dataframe - x) ** 2).sum(axis=1)))\n"
     ]
    },
    {
     "name": "stdout",
     "output_type": "stream",
     "text": [
      "The input Threshold was 10\n",
      "The calculated threshold is 6.531147818883758\n"
     ]
    },
    {
     "data": {
      "application/vnd.jupyter.widget-view+json": {
       "model_id": "54c843ddc0ce420185a7ecb9f81f0dad",
       "version_major": 2,
       "version_minor": 0
      },
      "text/plain": [
       "Pandas Apply:   0%|          | 0/2 [00:00<?, ?it/s]"
      ]
     },
     "metadata": {},
     "output_type": "display_data"
    },
    {
     "name": "stderr",
     "output_type": "stream",
     "text": [
      "/tmp/ipykernel_2816/2434844461.py:34: PerformanceWarning: Concatenating sparse arrays with multiple fill values: '[0, 1.0]'. Picking the first and converting the rest.\n",
      "  euclidean_distances = centroid_df.swifter.apply(lambda x: np.sqrt(((input_dataframe - x) ** 2).sum(axis=1)))\n"
     ]
    },
    {
     "name": "stdout",
     "output_type": "stream",
     "text": [
      "The input Threshold was 10\n",
      "The calculated threshold is 1.866060837323968\n"
     ]
    },
    {
     "data": {
      "application/vnd.jupyter.widget-view+json": {
       "model_id": "5d048579f71049249168c830203f0c9c",
       "version_major": 2,
       "version_minor": 0
      },
      "text/plain": [
       "Pandas Apply:   0%|          | 0/2 [00:00<?, ?it/s]"
      ]
     },
     "metadata": {},
     "output_type": "display_data"
    },
    {
     "name": "stderr",
     "output_type": "stream",
     "text": [
      "/tmp/ipykernel_2816/2434844461.py:34: PerformanceWarning: Concatenating sparse arrays with multiple fill values: '[0, 1.0]'. Picking the first and converting the rest.\n",
      "  euclidean_distances = centroid_df.swifter.apply(lambda x: np.sqrt(((input_dataframe - x) ** 2).sum(axis=1)))\n"
     ]
    },
    {
     "name": "stdout",
     "output_type": "stream",
     "text": [
      "The input Threshold was 10\n",
      "The calculated threshold is 2.5476463767581263\n"
     ]
    },
    {
     "data": {
      "application/vnd.jupyter.widget-view+json": {
       "model_id": "309e5c53e2334379bd2e85b43eef0a38",
       "version_major": 2,
       "version_minor": 0
      },
      "text/plain": [
       "Pandas Apply:   0%|          | 0/2 [00:00<?, ?it/s]"
      ]
     },
     "metadata": {},
     "output_type": "display_data"
    },
    {
     "name": "stderr",
     "output_type": "stream",
     "text": [
      "/tmp/ipykernel_2816/2434844461.py:34: PerformanceWarning: Concatenating sparse arrays with multiple fill values: '[0, 1.0, 4.0]'. Picking the first and converting the rest.\n",
      "  euclidean_distances = centroid_df.swifter.apply(lambda x: np.sqrt(((input_dataframe - x) ** 2).sum(axis=1)))\n"
     ]
    },
    {
     "name": "stdout",
     "output_type": "stream",
     "text": [
      "The input Threshold was 10\n",
      "The calculated threshold is 3.8643456690828097\n"
     ]
    },
    {
     "data": {
      "application/vnd.jupyter.widget-view+json": {
       "model_id": "c06f062ac3da41a3b82da5869bff8320",
       "version_major": 2,
       "version_minor": 0
      },
      "text/plain": [
       "Pandas Apply:   0%|          | 0/2 [00:00<?, ?it/s]"
      ]
     },
     "metadata": {},
     "output_type": "display_data"
    },
    {
     "name": "stderr",
     "output_type": "stream",
     "text": [
      "/tmp/ipykernel_2816/2434844461.py:34: PerformanceWarning: Concatenating sparse arrays with multiple fill values: '[1.0, 0, 9.0, 16.0]'. Picking the first and converting the rest.\n",
      "  euclidean_distances = centroid_df.swifter.apply(lambda x: np.sqrt(((input_dataframe - x) ** 2).sum(axis=1)))\n"
     ]
    },
    {
     "name": "stdout",
     "output_type": "stream",
     "text": [
      "The input Threshold was 10\n",
      "The calculated threshold is 4.412623971225699\n"
     ]
    },
    {
     "data": {
      "application/vnd.jupyter.widget-view+json": {
       "model_id": "ec07392272fb421fa3fa7b6adb6256a9",
       "version_major": 2,
       "version_minor": 0
      },
      "text/plain": [
       "Pandas Apply:   0%|          | 0/2 [00:00<?, ?it/s]"
      ]
     },
     "metadata": {},
     "output_type": "display_data"
    },
    {
     "name": "stderr",
     "output_type": "stream",
     "text": [
      "/tmp/ipykernel_2816/2434844461.py:34: PerformanceWarning: Concatenating sparse arrays with multiple fill values: '[0, 1.0, 9.0, 4.0, 16.0]'. Picking the first and converting the rest.\n",
      "  euclidean_distances = centroid_df.swifter.apply(lambda x: np.sqrt(((input_dataframe - x) ** 2).sum(axis=1)))\n"
     ]
    },
    {
     "name": "stdout",
     "output_type": "stream",
     "text": [
      "The input Threshold was 10\n",
      "The calculated threshold is 4.106818860175558\n"
     ]
    },
    {
     "data": {
      "application/vnd.jupyter.widget-view+json": {
       "model_id": "145e8b75925d4553897b1a246571ce20",
       "version_major": 2,
       "version_minor": 0
      },
      "text/plain": [
       "Pandas Apply:   0%|          | 0/2 [00:00<?, ?it/s]"
      ]
     },
     "metadata": {},
     "output_type": "display_data"
    },
    {
     "name": "stderr",
     "output_type": "stream",
     "text": [
      "/tmp/ipykernel_2816/2434844461.py:34: PerformanceWarning: Concatenating sparse arrays with multiple fill values: '[0, 1.0, 4.0]'. Picking the first and converting the rest.\n",
      "  euclidean_distances = centroid_df.swifter.apply(lambda x: np.sqrt(((input_dataframe - x) ** 2).sum(axis=1)))\n"
     ]
    },
    {
     "name": "stdout",
     "output_type": "stream",
     "text": [
      "The input Threshold was 10\n",
      "The calculated threshold is 4.107818990955056\n"
     ]
    },
    {
     "data": {
      "application/vnd.jupyter.widget-view+json": {
       "model_id": "fce9c38d451a40ec85d0ddac1e0c350d",
       "version_major": 2,
       "version_minor": 0
      },
      "text/plain": [
       "Pandas Apply:   0%|          | 0/2 [00:00<?, ?it/s]"
      ]
     },
     "metadata": {},
     "output_type": "display_data"
    },
    {
     "name": "stderr",
     "output_type": "stream",
     "text": [
      "/tmp/ipykernel_2816/2434844461.py:34: PerformanceWarning: Concatenating sparse arrays with multiple fill values: '[0, 1.0]'. Picking the first and converting the rest.\n",
      "  euclidean_distances = centroid_df.swifter.apply(lambda x: np.sqrt(((input_dataframe - x) ** 2).sum(axis=1)))\n"
     ]
    },
    {
     "name": "stdout",
     "output_type": "stream",
     "text": [
      "The input Threshold was 10\n",
      "The calculated threshold is 1.8251785855252245\n"
     ]
    },
    {
     "data": {
      "application/vnd.jupyter.widget-view+json": {
       "model_id": "a8b133e56d9f48c4b8bbf340088bbade",
       "version_major": 2,
       "version_minor": 0
      },
      "text/plain": [
       "Pandas Apply:   0%|          | 0/2 [00:00<?, ?it/s]"
      ]
     },
     "metadata": {},
     "output_type": "display_data"
    },
    {
     "name": "stderr",
     "output_type": "stream",
     "text": [
      "/tmp/ipykernel_2816/2434844461.py:34: PerformanceWarning: Concatenating sparse arrays with multiple fill values: '[0, 1.0, 4.0]'. Picking the first and converting the rest.\n",
      "  euclidean_distances = centroid_df.swifter.apply(lambda x: np.sqrt(((input_dataframe - x) ** 2).sum(axis=1)))\n"
     ]
    },
    {
     "name": "stdout",
     "output_type": "stream",
     "text": [
      "The input Threshold was 10\n",
      "The calculated threshold is 3.3132093194745815\n"
     ]
    },
    {
     "data": {
      "application/vnd.jupyter.widget-view+json": {
       "model_id": "98144ac028954f50a1dcd5cb5f16359b",
       "version_major": 2,
       "version_minor": 0
      },
      "text/plain": [
       "Pandas Apply:   0%|          | 0/2 [00:00<?, ?it/s]"
      ]
     },
     "metadata": {},
     "output_type": "display_data"
    },
    {
     "name": "stderr",
     "output_type": "stream",
     "text": [
      "/tmp/ipykernel_2816/2434844461.py:34: PerformanceWarning: Concatenating sparse arrays with multiple fill values: '[0, 1.0, 4.0]'. Picking the first and converting the rest.\n",
      "  euclidean_distances = centroid_df.swifter.apply(lambda x: np.sqrt(((input_dataframe - x) ** 2).sum(axis=1)))\n"
     ]
    },
    {
     "name": "stdout",
     "output_type": "stream",
     "text": [
      "The input Threshold was 10\n",
      "The calculated threshold is 3.451986527746174\n"
     ]
    },
    {
     "data": {
      "application/vnd.jupyter.widget-view+json": {
       "model_id": "1d6f726e86d7415cad3d26ad3a5df928",
       "version_major": 2,
       "version_minor": 0
      },
      "text/plain": [
       "Pandas Apply:   0%|          | 0/2 [00:00<?, ?it/s]"
      ]
     },
     "metadata": {},
     "output_type": "display_data"
    },
    {
     "name": "stderr",
     "output_type": "stream",
     "text": [
      "/tmp/ipykernel_2816/2434844461.py:34: PerformanceWarning: Concatenating sparse arrays with multiple fill values: '[0, 1.0, 4.0]'. Picking the first and converting the rest.\n",
      "  euclidean_distances = centroid_df.swifter.apply(lambda x: np.sqrt(((input_dataframe - x) ** 2).sum(axis=1)))\n"
     ]
    },
    {
     "name": "stdout",
     "output_type": "stream",
     "text": [
      "The input Threshold was 10\n",
      "The calculated threshold is 3.837779187733876\n"
     ]
    },
    {
     "data": {
      "application/vnd.jupyter.widget-view+json": {
       "model_id": "4fd7b70264f948bea2c4a4dca2082f44",
       "version_major": 2,
       "version_minor": 0
      },
      "text/plain": [
       "Pandas Apply:   0%|          | 0/2 [00:00<?, ?it/s]"
      ]
     },
     "metadata": {},
     "output_type": "display_data"
    },
    {
     "name": "stderr",
     "output_type": "stream",
     "text": [
      "/tmp/ipykernel_2816/2434844461.py:34: PerformanceWarning: Concatenating sparse arrays with multiple fill values: '[0, 1.0, 4.0, 9.0]'. Picking the first and converting the rest.\n",
      "  euclidean_distances = centroid_df.swifter.apply(lambda x: np.sqrt(((input_dataframe - x) ** 2).sum(axis=1)))\n"
     ]
    },
    {
     "name": "stdout",
     "output_type": "stream",
     "text": [
      "The input Threshold was 10\n",
      "The calculated threshold is 5.243839250004834\n"
     ]
    },
    {
     "data": {
      "application/vnd.jupyter.widget-view+json": {
       "model_id": "390dabda04a048d98170dc5daa425927",
       "version_major": 2,
       "version_minor": 0
      },
      "text/plain": [
       "Pandas Apply:   0%|          | 0/2 [00:00<?, ?it/s]"
      ]
     },
     "metadata": {},
     "output_type": "display_data"
    },
    {
     "name": "stdout",
     "output_type": "stream",
     "text": [
      "The input Threshold was 10\n",
      "The calculated threshold is 1.4199442317829605\n"
     ]
    },
    {
     "data": {
      "application/vnd.jupyter.widget-view+json": {
       "model_id": "b20561e8964f4dc789892bf70694d823",
       "version_major": 2,
       "version_minor": 0
      },
      "text/plain": [
       "Pandas Apply:   0%|          | 0/2 [00:00<?, ?it/s]"
      ]
     },
     "metadata": {},
     "output_type": "display_data"
    },
    {
     "name": "stderr",
     "output_type": "stream",
     "text": [
      "/tmp/ipykernel_2816/2434844461.py:34: PerformanceWarning: Concatenating sparse arrays with multiple fill values: '[0, 1.0]'. Picking the first and converting the rest.\n",
      "  euclidean_distances = centroid_df.swifter.apply(lambda x: np.sqrt(((input_dataframe - x) ** 2).sum(axis=1)))\n"
     ]
    },
    {
     "name": "stdout",
     "output_type": "stream",
     "text": [
      "The input Threshold was 10\n",
      "The calculated threshold is 2.5779660776369515\n"
     ]
    },
    {
     "data": {
      "application/vnd.jupyter.widget-view+json": {
       "model_id": "ff9c6bc9c849447b972fe784ccaf7334",
       "version_major": 2,
       "version_minor": 0
      },
      "text/plain": [
       "Pandas Apply:   0%|          | 0/2 [00:00<?, ?it/s]"
      ]
     },
     "metadata": {},
     "output_type": "display_data"
    },
    {
     "name": "stderr",
     "output_type": "stream",
     "text": [
      "/tmp/ipykernel_2816/2434844461.py:34: PerformanceWarning: Concatenating sparse arrays with multiple fill values: '[0, 1.0]'. Picking the first and converting the rest.\n",
      "  euclidean_distances = centroid_df.swifter.apply(lambda x: np.sqrt(((input_dataframe - x) ** 2).sum(axis=1)))\n"
     ]
    },
    {
     "name": "stdout",
     "output_type": "stream",
     "text": [
      "The input Threshold was 10\n",
      "The calculated threshold is 1.3660772894757316\n"
     ]
    },
    {
     "data": {
      "application/vnd.jupyter.widget-view+json": {
       "model_id": "c01207a460df47e7b8cd7341078e2c7a",
       "version_major": 2,
       "version_minor": 0
      },
      "text/plain": [
       "Pandas Apply:   0%|          | 0/3 [00:00<?, ?it/s]"
      ]
     },
     "metadata": {},
     "output_type": "display_data"
    },
    {
     "name": "stderr",
     "output_type": "stream",
     "text": [
      "/tmp/ipykernel_2816/2434844461.py:34: PerformanceWarning: Concatenating sparse arrays with multiple fill values: '[0, 1.0, 4.0, 9.0]'. Picking the first and converting the rest.\n",
      "  euclidean_distances = centroid_df.swifter.apply(lambda x: np.sqrt(((input_dataframe - x) ** 2).sum(axis=1)))\n"
     ]
    },
    {
     "name": "stdout",
     "output_type": "stream",
     "text": [
      "The input Threshold was 10\n",
      "The calculated threshold is 4.60933101450236\n"
     ]
    },
    {
     "data": {
      "application/vnd.jupyter.widget-view+json": {
       "model_id": "a8bcf0e40af34d659ab61919a2786b21",
       "version_major": 2,
       "version_minor": 0
      },
      "text/plain": [
       "Pandas Apply:   0%|          | 0/3 [00:00<?, ?it/s]"
      ]
     },
     "metadata": {},
     "output_type": "display_data"
    },
    {
     "name": "stderr",
     "output_type": "stream",
     "text": [
      "/tmp/ipykernel_2816/2434844461.py:34: PerformanceWarning: Concatenating sparse arrays with multiple fill values: '[0, 1.0]'. Picking the first and converting the rest.\n",
      "  euclidean_distances = centroid_df.swifter.apply(lambda x: np.sqrt(((input_dataframe - x) ** 2).sum(axis=1)))\n",
      "/tmp/ipykernel_2816/2434844461.py:34: PerformanceWarning: Concatenating sparse arrays with multiple fill values: '[0, 9.0, 1.0]'. Picking the first and converting the rest.\n",
      "  euclidean_distances = centroid_df.swifter.apply(lambda x: np.sqrt(((input_dataframe - x) ** 2).sum(axis=1)))\n"
     ]
    },
    {
     "name": "stdout",
     "output_type": "stream",
     "text": [
      "The input Threshold was 10\n",
      "The calculated threshold is 2.5395007242652365\n"
     ]
    },
    {
     "data": {
      "application/vnd.jupyter.widget-view+json": {
       "model_id": "0cac77bfc0e949ddbbe47e5363f25282",
       "version_major": 2,
       "version_minor": 0
      },
      "text/plain": [
       "Pandas Apply:   0%|          | 0/3 [00:00<?, ?it/s]"
      ]
     },
     "metadata": {},
     "output_type": "display_data"
    },
    {
     "name": "stderr",
     "output_type": "stream",
     "text": [
      "/tmp/ipykernel_2816/2434844461.py:34: PerformanceWarning: Concatenating sparse arrays with multiple fill values: '[0, 1.0, 36.0, 4.0]'. Picking the first and converting the rest.\n",
      "  euclidean_distances = centroid_df.swifter.apply(lambda x: np.sqrt(((input_dataframe - x) ** 2).sum(axis=1)))\n",
      "/tmp/ipykernel_2816/2434844461.py:34: PerformanceWarning: Concatenating sparse arrays with multiple fill values: '[0, 1.0]'. Picking the first and converting the rest.\n",
      "  euclidean_distances = centroid_df.swifter.apply(lambda x: np.sqrt(((input_dataframe - x) ** 2).sum(axis=1)))\n"
     ]
    },
    {
     "name": "stdout",
     "output_type": "stream",
     "text": [
      "The input Threshold was 10\n",
      "The calculated threshold is 4.1267441448242\n"
     ]
    },
    {
     "data": {
      "application/vnd.jupyter.widget-view+json": {
       "model_id": "3d633fca17394023adc8e53e9c49aa66",
       "version_major": 2,
       "version_minor": 0
      },
      "text/plain": [
       "Pandas Apply:   0%|          | 0/3 [00:00<?, ?it/s]"
      ]
     },
     "metadata": {},
     "output_type": "display_data"
    },
    {
     "name": "stderr",
     "output_type": "stream",
     "text": [
      "/tmp/ipykernel_2816/2434844461.py:34: PerformanceWarning: Concatenating sparse arrays with multiple fill values: '[0, 1.0]'. Picking the first and converting the rest.\n",
      "  euclidean_distances = centroid_df.swifter.apply(lambda x: np.sqrt(((input_dataframe - x) ** 2).sum(axis=1)))\n",
      "/tmp/ipykernel_2816/2434844461.py:34: PerformanceWarning: Concatenating sparse arrays with multiple fill values: '[0, 4.0, 1.0]'. Picking the first and converting the rest.\n",
      "  euclidean_distances = centroid_df.swifter.apply(lambda x: np.sqrt(((input_dataframe - x) ** 2).sum(axis=1)))\n"
     ]
    },
    {
     "name": "stdout",
     "output_type": "stream",
     "text": [
      "The input Threshold was 10\n",
      "The calculated threshold is 3.894084323200623\n"
     ]
    },
    {
     "data": {
      "application/vnd.jupyter.widget-view+json": {
       "model_id": "71d3d9fe181d4dd0b7c49a2775fcb134",
       "version_major": 2,
       "version_minor": 0
      },
      "text/plain": [
       "Pandas Apply:   0%|          | 0/3 [00:00<?, ?it/s]"
      ]
     },
     "metadata": {},
     "output_type": "display_data"
    },
    {
     "name": "stderr",
     "output_type": "stream",
     "text": [
      "/tmp/ipykernel_2816/2434844461.py:34: PerformanceWarning: Concatenating sparse arrays with multiple fill values: '[0, 1.0, 4.0]'. Picking the first and converting the rest.\n",
      "  euclidean_distances = centroid_df.swifter.apply(lambda x: np.sqrt(((input_dataframe - x) ** 2).sum(axis=1)))\n",
      "/tmp/ipykernel_2816/2434844461.py:34: PerformanceWarning: Concatenating sparse arrays with multiple fill values: '[0, 4.0, 1.0]'. Picking the first and converting the rest.\n",
      "  euclidean_distances = centroid_df.swifter.apply(lambda x: np.sqrt(((input_dataframe - x) ** 2).sum(axis=1)))\n"
     ]
    },
    {
     "name": "stdout",
     "output_type": "stream",
     "text": [
      "The input Threshold was 10\n",
      "The calculated threshold is 3.036374002808093\n"
     ]
    },
    {
     "data": {
      "application/vnd.jupyter.widget-view+json": {
       "model_id": "d691f26e279f45a3a00162b831235f52",
       "version_major": 2,
       "version_minor": 0
      },
      "text/plain": [
       "Pandas Apply:   0%|          | 0/3 [00:00<?, ?it/s]"
      ]
     },
     "metadata": {},
     "output_type": "display_data"
    },
    {
     "name": "stderr",
     "output_type": "stream",
     "text": [
      "/tmp/ipykernel_2816/2434844461.py:34: PerformanceWarning: Concatenating sparse arrays with multiple fill values: '[0, 1.0, 4.0]'. Picking the first and converting the rest.\n",
      "  euclidean_distances = centroid_df.swifter.apply(lambda x: np.sqrt(((input_dataframe - x) ** 2).sum(axis=1)))\n"
     ]
    },
    {
     "name": "stdout",
     "output_type": "stream",
     "text": [
      "The input Threshold was 10\n",
      "The calculated threshold is 4.093065294045931\n"
     ]
    },
    {
     "data": {
      "application/vnd.jupyter.widget-view+json": {
       "model_id": "60212454715c4e3795f15703f078f7e4",
       "version_major": 2,
       "version_minor": 0
      },
      "text/plain": [
       "Pandas Apply:   0%|          | 0/3 [00:00<?, ?it/s]"
      ]
     },
     "metadata": {},
     "output_type": "display_data"
    },
    {
     "name": "stderr",
     "output_type": "stream",
     "text": [
      "/tmp/ipykernel_2816/2434844461.py:34: PerformanceWarning: Concatenating sparse arrays with multiple fill values: '[0, 1.0]'. Picking the first and converting the rest.\n",
      "  euclidean_distances = centroid_df.swifter.apply(lambda x: np.sqrt(((input_dataframe - x) ** 2).sum(axis=1)))\n",
      "/tmp/ipykernel_2816/2434844461.py:34: PerformanceWarning: Concatenating sparse arrays with multiple fill values: '[0, 1.0, 4.0]'. Picking the first and converting the rest.\n",
      "  euclidean_distances = centroid_df.swifter.apply(lambda x: np.sqrt(((input_dataframe - x) ** 2).sum(axis=1)))\n"
     ]
    },
    {
     "name": "stdout",
     "output_type": "stream",
     "text": [
      "The input Threshold was 10\n",
      "The calculated threshold is 4.330825689507702\n"
     ]
    },
    {
     "data": {
      "application/vnd.jupyter.widget-view+json": {
       "model_id": "52b3b2cf2f394d8a902e68134ef36c28",
       "version_major": 2,
       "version_minor": 0
      },
      "text/plain": [
       "Pandas Apply:   0%|          | 0/3 [00:00<?, ?it/s]"
      ]
     },
     "metadata": {},
     "output_type": "display_data"
    },
    {
     "name": "stderr",
     "output_type": "stream",
     "text": [
      "/tmp/ipykernel_2816/2434844461.py:34: PerformanceWarning: Concatenating sparse arrays with multiple fill values: '[0, 1.0, 9.0]'. Picking the first and converting the rest.\n",
      "  euclidean_distances = centroid_df.swifter.apply(lambda x: np.sqrt(((input_dataframe - x) ** 2).sum(axis=1)))\n",
      "/tmp/ipykernel_2816/2434844461.py:34: PerformanceWarning: Concatenating sparse arrays with multiple fill values: '[0, 1.0, 4.0]'. Picking the first and converting the rest.\n",
      "  euclidean_distances = centroid_df.swifter.apply(lambda x: np.sqrt(((input_dataframe - x) ** 2).sum(axis=1)))\n"
     ]
    },
    {
     "name": "stdout",
     "output_type": "stream",
     "text": [
      "The input Threshold was 10\n",
      "The calculated threshold is 3.8213843867714257\n"
     ]
    },
    {
     "data": {
      "application/vnd.jupyter.widget-view+json": {
       "model_id": "e35af6af82d845fda9fe93f658ce29d9",
       "version_major": 2,
       "version_minor": 0
      },
      "text/plain": [
       "Pandas Apply:   0%|          | 0/3 [00:00<?, ?it/s]"
      ]
     },
     "metadata": {},
     "output_type": "display_data"
    },
    {
     "name": "stderr",
     "output_type": "stream",
     "text": [
      "/tmp/ipykernel_2816/2434844461.py:34: PerformanceWarning: Concatenating sparse arrays with multiple fill values: '[0, 4.0, 1.0, 16.0, 9.0]'. Picking the first and converting the rest.\n",
      "  euclidean_distances = centroid_df.swifter.apply(lambda x: np.sqrt(((input_dataframe - x) ** 2).sum(axis=1)))\n",
      "/tmp/ipykernel_2816/2434844461.py:34: PerformanceWarning: Concatenating sparse arrays with multiple fill values: '[0, 1.0]'. Picking the first and converting the rest.\n",
      "  euclidean_distances = centroid_df.swifter.apply(lambda x: np.sqrt(((input_dataframe - x) ** 2).sum(axis=1)))\n"
     ]
    },
    {
     "name": "stdout",
     "output_type": "stream",
     "text": [
      "The input Threshold was 10\n",
      "The calculated threshold is 4.2577268763688005\n"
     ]
    },
    {
     "data": {
      "application/vnd.jupyter.widget-view+json": {
       "model_id": "a249a0cfbfbc440b9ae6e132c477ba48",
       "version_major": 2,
       "version_minor": 0
      },
      "text/plain": [
       "Pandas Apply:   0%|          | 0/3 [00:00<?, ?it/s]"
      ]
     },
     "metadata": {},
     "output_type": "display_data"
    },
    {
     "name": "stderr",
     "output_type": "stream",
     "text": [
      "/tmp/ipykernel_2816/2434844461.py:34: PerformanceWarning: Concatenating sparse arrays with multiple fill values: '[0, 1.0, 16.0]'. Picking the first and converting the rest.\n",
      "  euclidean_distances = centroid_df.swifter.apply(lambda x: np.sqrt(((input_dataframe - x) ** 2).sum(axis=1)))\n",
      "/tmp/ipykernel_2816/2434844461.py:34: PerformanceWarning: Concatenating sparse arrays with multiple fill values: '[0, 4.0, 1.0]'. Picking the first and converting the rest.\n",
      "  euclidean_distances = centroid_df.swifter.apply(lambda x: np.sqrt(((input_dataframe - x) ** 2).sum(axis=1)))\n"
     ]
    },
    {
     "name": "stdout",
     "output_type": "stream",
     "text": [
      "The input Threshold was 10\n",
      "The calculated threshold is 4.119436665428189\n"
     ]
    },
    {
     "data": {
      "application/vnd.jupyter.widget-view+json": {
       "model_id": "22b42559ffb74d508f4f536ba95fdd0e",
       "version_major": 2,
       "version_minor": 0
      },
      "text/plain": [
       "Pandas Apply:   0%|          | 0/3 [00:00<?, ?it/s]"
      ]
     },
     "metadata": {},
     "output_type": "display_data"
    },
    {
     "name": "stderr",
     "output_type": "stream",
     "text": [
      "/tmp/ipykernel_2816/2434844461.py:34: PerformanceWarning: Concatenating sparse arrays with multiple fill values: '[0, 1.0]'. Picking the first and converting the rest.\n",
      "  euclidean_distances = centroid_df.swifter.apply(lambda x: np.sqrt(((input_dataframe - x) ** 2).sum(axis=1)))\n"
     ]
    },
    {
     "name": "stdout",
     "output_type": "stream",
     "text": [
      "The input Threshold was 10\n",
      "The calculated threshold is 3.1900487023216484\n"
     ]
    },
    {
     "data": {
      "application/vnd.jupyter.widget-view+json": {
       "model_id": "67d5580dc10849f5a933527dfa87903d",
       "version_major": 2,
       "version_minor": 0
      },
      "text/plain": [
       "Pandas Apply:   0%|          | 0/3 [00:00<?, ?it/s]"
      ]
     },
     "metadata": {},
     "output_type": "display_data"
    },
    {
     "name": "stderr",
     "output_type": "stream",
     "text": [
      "/tmp/ipykernel_2816/2434844461.py:34: PerformanceWarning: Concatenating sparse arrays with multiple fill values: '[0, 1.0]'. Picking the first and converting the rest.\n",
      "  euclidean_distances = centroid_df.swifter.apply(lambda x: np.sqrt(((input_dataframe - x) ** 2).sum(axis=1)))\n"
     ]
    },
    {
     "name": "stdout",
     "output_type": "stream",
     "text": [
      "The input Threshold was 10\n",
      "The calculated threshold is 2.507785446692818\n"
     ]
    },
    {
     "data": {
      "application/vnd.jupyter.widget-view+json": {
       "model_id": "9ceaa632d45b4e7185a0c5193ccf4b68",
       "version_major": 2,
       "version_minor": 0
      },
      "text/plain": [
       "Pandas Apply:   0%|          | 0/3 [00:00<?, ?it/s]"
      ]
     },
     "metadata": {},
     "output_type": "display_data"
    },
    {
     "name": "stderr",
     "output_type": "stream",
     "text": [
      "/tmp/ipykernel_2816/2434844461.py:34: PerformanceWarning: Concatenating sparse arrays with multiple fill values: '[0, 1.0, 16.0, 4.0]'. Picking the first and converting the rest.\n",
      "  euclidean_distances = centroid_df.swifter.apply(lambda x: np.sqrt(((input_dataframe - x) ** 2).sum(axis=1)))\n",
      "/tmp/ipykernel_2816/2434844461.py:34: PerformanceWarning: Concatenating sparse arrays with multiple fill values: '[0, 1.0, 4.0, 9.0]'. Picking the first and converting the rest.\n",
      "  euclidean_distances = centroid_df.swifter.apply(lambda x: np.sqrt(((input_dataframe - x) ** 2).sum(axis=1)))\n"
     ]
    },
    {
     "name": "stdout",
     "output_type": "stream",
     "text": [
      "The input Threshold was 10\n",
      "The calculated threshold is 4.680506343441075\n"
     ]
    },
    {
     "data": {
      "application/vnd.jupyter.widget-view+json": {
       "model_id": "402a56d24af7419d9ac4011f47235b3d",
       "version_major": 2,
       "version_minor": 0
      },
      "text/plain": [
       "Pandas Apply:   0%|          | 0/3 [00:00<?, ?it/s]"
      ]
     },
     "metadata": {},
     "output_type": "display_data"
    },
    {
     "name": "stderr",
     "output_type": "stream",
     "text": [
      "/tmp/ipykernel_2816/2434844461.py:34: PerformanceWarning: Concatenating sparse arrays with multiple fill values: '[0, 1.0, 4.0]'. Picking the first and converting the rest.\n",
      "  euclidean_distances = centroid_df.swifter.apply(lambda x: np.sqrt(((input_dataframe - x) ** 2).sum(axis=1)))\n",
      "/tmp/ipykernel_2816/2434844461.py:34: PerformanceWarning: Concatenating sparse arrays with multiple fill values: '[0, 4.0, 1.0, 9.0]'. Picking the first and converting the rest.\n",
      "  euclidean_distances = centroid_df.swifter.apply(lambda x: np.sqrt(((input_dataframe - x) ** 2).sum(axis=1)))\n"
     ]
    },
    {
     "name": "stdout",
     "output_type": "stream",
     "text": [
      "The input Threshold was 10\n",
      "The calculated threshold is 4.3946711806206835\n"
     ]
    },
    {
     "data": {
      "application/vnd.jupyter.widget-view+json": {
       "model_id": "b1d6da571659413499401c7e91cb59cf",
       "version_major": 2,
       "version_minor": 0
      },
      "text/plain": [
       "Pandas Apply:   0%|          | 0/3 [00:00<?, ?it/s]"
      ]
     },
     "metadata": {},
     "output_type": "display_data"
    },
    {
     "name": "stderr",
     "output_type": "stream",
     "text": [
      "/tmp/ipykernel_2816/2434844461.py:34: PerformanceWarning: Concatenating sparse arrays with multiple fill values: '[0, 1.0]'. Picking the first and converting the rest.\n",
      "  euclidean_distances = centroid_df.swifter.apply(lambda x: np.sqrt(((input_dataframe - x) ** 2).sum(axis=1)))\n"
     ]
    },
    {
     "name": "stdout",
     "output_type": "stream",
     "text": [
      "The input Threshold was 10\n",
      "The calculated threshold is 2.641247530936108\n"
     ]
    },
    {
     "data": {
      "application/vnd.jupyter.widget-view+json": {
       "model_id": "ea37e7f351c2480aad121b628c115a6d",
       "version_major": 2,
       "version_minor": 0
      },
      "text/plain": [
       "Pandas Apply:   0%|          | 0/3 [00:00<?, ?it/s]"
      ]
     },
     "metadata": {},
     "output_type": "display_data"
    },
    {
     "name": "stderr",
     "output_type": "stream",
     "text": [
      "/tmp/ipykernel_2816/2434844461.py:34: PerformanceWarning: Concatenating sparse arrays with multiple fill values: '[0, 1.0, 4.0]'. Picking the first and converting the rest.\n",
      "  euclidean_distances = centroid_df.swifter.apply(lambda x: np.sqrt(((input_dataframe - x) ** 2).sum(axis=1)))\n",
      "/tmp/ipykernel_2816/2434844461.py:34: PerformanceWarning: Concatenating sparse arrays with multiple fill values: '[9.0, 0, 1.0, 4.0]'. Picking the first and converting the rest.\n",
      "  euclidean_distances = centroid_df.swifter.apply(lambda x: np.sqrt(((input_dataframe - x) ** 2).sum(axis=1)))\n"
     ]
    },
    {
     "name": "stdout",
     "output_type": "stream",
     "text": [
      "The input Threshold was 10\n",
      "The calculated threshold is 4.332680331205307\n"
     ]
    },
    {
     "data": {
      "application/vnd.jupyter.widget-view+json": {
       "model_id": "a6be6beafb4141169fc20dabeff6292f",
       "version_major": 2,
       "version_minor": 0
      },
      "text/plain": [
       "Pandas Apply:   0%|          | 0/3 [00:00<?, ?it/s]"
      ]
     },
     "metadata": {},
     "output_type": "display_data"
    },
    {
     "name": "stderr",
     "output_type": "stream",
     "text": [
      "/tmp/ipykernel_2816/2434844461.py:34: PerformanceWarning: Concatenating sparse arrays with multiple fill values: '[0, 1.0, 4.0, 9.0, 25.0, 64.0]'. Picking the first and converting the rest.\n",
      "  euclidean_distances = centroid_df.swifter.apply(lambda x: np.sqrt(((input_dataframe - x) ** 2).sum(axis=1)))\n",
      "/tmp/ipykernel_2816/2434844461.py:34: PerformanceWarning: Concatenating sparse arrays with multiple fill values: '[0, 1.0, 4.0, 16.0]'. Picking the first and converting the rest.\n",
      "  euclidean_distances = centroid_df.swifter.apply(lambda x: np.sqrt(((input_dataframe - x) ** 2).sum(axis=1)))\n"
     ]
    },
    {
     "name": "stdout",
     "output_type": "stream",
     "text": [
      "The input Threshold was 10\n",
      "The calculated threshold is 6.761880389657901\n"
     ]
    },
    {
     "data": {
      "application/vnd.jupyter.widget-view+json": {
       "model_id": "69b3cb2b193f40369e0cd9cf82be65ec",
       "version_major": 2,
       "version_minor": 0
      },
      "text/plain": [
       "Pandas Apply:   0%|          | 0/3 [00:00<?, ?it/s]"
      ]
     },
     "metadata": {},
     "output_type": "display_data"
    },
    {
     "name": "stderr",
     "output_type": "stream",
     "text": [
      "/tmp/ipykernel_2816/2434844461.py:34: PerformanceWarning: Concatenating sparse arrays with multiple fill values: '[0, 1.0, 16.0]'. Picking the first and converting the rest.\n",
      "  euclidean_distances = centroid_df.swifter.apply(lambda x: np.sqrt(((input_dataframe - x) ** 2).sum(axis=1)))\n",
      "/tmp/ipykernel_2816/2434844461.py:34: PerformanceWarning: Concatenating sparse arrays with multiple fill values: '[0, 1.0]'. Picking the first and converting the rest.\n",
      "  euclidean_distances = centroid_df.swifter.apply(lambda x: np.sqrt(((input_dataframe - x) ** 2).sum(axis=1)))\n"
     ]
    },
    {
     "name": "stdout",
     "output_type": "stream",
     "text": [
      "The input Threshold was 10\n",
      "The calculated threshold is 3.0951505820840772\n"
     ]
    },
    {
     "data": {
      "application/vnd.jupyter.widget-view+json": {
       "model_id": "be13787f6a2b4ba89447242ca7f0b341",
       "version_major": 2,
       "version_minor": 0
      },
      "text/plain": [
       "Pandas Apply:   0%|          | 0/3 [00:00<?, ?it/s]"
      ]
     },
     "metadata": {},
     "output_type": "display_data"
    },
    {
     "name": "stderr",
     "output_type": "stream",
     "text": [
      "/tmp/ipykernel_2816/2434844461.py:34: PerformanceWarning: Concatenating sparse arrays with multiple fill values: '[1.0, 0, 4.0, 9.0]'. Picking the first and converting the rest.\n",
      "  euclidean_distances = centroid_df.swifter.apply(lambda x: np.sqrt(((input_dataframe - x) ** 2).sum(axis=1)))\n",
      "/tmp/ipykernel_2816/2434844461.py:34: PerformanceWarning: Concatenating sparse arrays with multiple fill values: '[0, 1.0, 4.0, 9.0]'. Picking the first and converting the rest.\n",
      "  euclidean_distances = centroid_df.swifter.apply(lambda x: np.sqrt(((input_dataframe - x) ** 2).sum(axis=1)))\n"
     ]
    },
    {
     "name": "stdout",
     "output_type": "stream",
     "text": [
      "The input Threshold was 10\n",
      "The calculated threshold is 5.35037385854589\n"
     ]
    },
    {
     "data": {
      "application/vnd.jupyter.widget-view+json": {
       "model_id": "9783e71867da4e908d0466e177716de9",
       "version_major": 2,
       "version_minor": 0
      },
      "text/plain": [
       "Pandas Apply:   0%|          | 0/3 [00:00<?, ?it/s]"
      ]
     },
     "metadata": {},
     "output_type": "display_data"
    },
    {
     "name": "stderr",
     "output_type": "stream",
     "text": [
      "/tmp/ipykernel_2816/2434844461.py:34: PerformanceWarning: Concatenating sparse arrays with multiple fill values: '[1.0, 0, 4.0, 9.0]'. Picking the first and converting the rest.\n",
      "  euclidean_distances = centroid_df.swifter.apply(lambda x: np.sqrt(((input_dataframe - x) ** 2).sum(axis=1)))\n",
      "/tmp/ipykernel_2816/2434844461.py:34: PerformanceWarning: Concatenating sparse arrays with multiple fill values: '[0, 4.0, 1.0]'. Picking the first and converting the rest.\n",
      "  euclidean_distances = centroid_df.swifter.apply(lambda x: np.sqrt(((input_dataframe - x) ** 2).sum(axis=1)))\n"
     ]
    },
    {
     "name": "stdout",
     "output_type": "stream",
     "text": [
      "The input Threshold was 10\n",
      "The calculated threshold is 4.690837011918018\n"
     ]
    },
    {
     "data": {
      "application/vnd.jupyter.widget-view+json": {
       "model_id": "a866c8b8a2484932a8eba03f96d5c18d",
       "version_major": 2,
       "version_minor": 0
      },
      "text/plain": [
       "Pandas Apply:   0%|          | 0/4 [00:00<?, ?it/s]"
      ]
     },
     "metadata": {},
     "output_type": "display_data"
    },
    {
     "name": "stderr",
     "output_type": "stream",
     "text": [
      "/tmp/ipykernel_2816/2434844461.py:34: PerformanceWarning: Concatenating sparse arrays with multiple fill values: '[0, 1.0, 4.0]'. Picking the first and converting the rest.\n",
      "  euclidean_distances = centroid_df.swifter.apply(lambda x: np.sqrt(((input_dataframe - x) ** 2).sum(axis=1)))\n"
     ]
    },
    {
     "name": "stdout",
     "output_type": "stream",
     "text": [
      "The input Threshold was 10\n",
      "The calculated threshold is 2.4934679118921617\n"
     ]
    },
    {
     "data": {
      "application/vnd.jupyter.widget-view+json": {
       "model_id": "a8d7e1415dc042edb3424d6445d58577",
       "version_major": 2,
       "version_minor": 0
      },
      "text/plain": [
       "Pandas Apply:   0%|          | 0/4 [00:00<?, ?it/s]"
      ]
     },
     "metadata": {},
     "output_type": "display_data"
    },
    {
     "name": "stderr",
     "output_type": "stream",
     "text": [
      "/tmp/ipykernel_2816/2434844461.py:34: PerformanceWarning: Concatenating sparse arrays with multiple fill values: '[0, 1.0, 9.0]'. Picking the first and converting the rest.\n",
      "  euclidean_distances = centroid_df.swifter.apply(lambda x: np.sqrt(((input_dataframe - x) ** 2).sum(axis=1)))\n",
      "/tmp/ipykernel_2816/2434844461.py:34: PerformanceWarning: Concatenating sparse arrays with multiple fill values: '[0, 1.0, 4.0]'. Picking the first and converting the rest.\n",
      "  euclidean_distances = centroid_df.swifter.apply(lambda x: np.sqrt(((input_dataframe - x) ** 2).sum(axis=1)))\n",
      "/tmp/ipykernel_2816/2434844461.py:34: PerformanceWarning: Concatenating sparse arrays with multiple fill values: '[0, 4.0, 1.0]'. Picking the first and converting the rest.\n",
      "  euclidean_distances = centroid_df.swifter.apply(lambda x: np.sqrt(((input_dataframe - x) ** 2).sum(axis=1)))\n"
     ]
    },
    {
     "name": "stdout",
     "output_type": "stream",
     "text": [
      "The input Threshold was 10\n",
      "The calculated threshold is 3.033960667950386\n"
     ]
    },
    {
     "data": {
      "application/vnd.jupyter.widget-view+json": {
       "model_id": "da66eaaf871f4ffea4e7e3d91b5a8131",
       "version_major": 2,
       "version_minor": 0
      },
      "text/plain": [
       "Pandas Apply:   0%|          | 0/4 [00:00<?, ?it/s]"
      ]
     },
     "metadata": {},
     "output_type": "display_data"
    },
    {
     "name": "stderr",
     "output_type": "stream",
     "text": [
      "/tmp/ipykernel_2816/2434844461.py:34: PerformanceWarning: Concatenating sparse arrays with multiple fill values: '[0, 1.0, 4.0]'. Picking the first and converting the rest.\n",
      "  euclidean_distances = centroid_df.swifter.apply(lambda x: np.sqrt(((input_dataframe - x) ** 2).sum(axis=1)))\n",
      "/tmp/ipykernel_2816/2434844461.py:34: PerformanceWarning: Concatenating sparse arrays with multiple fill values: '[0, 1.0, 4.0, 9.0]'. Picking the first and converting the rest.\n",
      "  euclidean_distances = centroid_df.swifter.apply(lambda x: np.sqrt(((input_dataframe - x) ** 2).sum(axis=1)))\n",
      "/tmp/ipykernel_2816/2434844461.py:34: PerformanceWarning: Concatenating sparse arrays with multiple fill values: '[0, 1.0]'. Picking the first and converting the rest.\n",
      "  euclidean_distances = centroid_df.swifter.apply(lambda x: np.sqrt(((input_dataframe - x) ** 2).sum(axis=1)))\n"
     ]
    },
    {
     "name": "stdout",
     "output_type": "stream",
     "text": [
      "The input Threshold was 10\n",
      "The calculated threshold is 3.550793731093834\n"
     ]
    },
    {
     "data": {
      "application/vnd.jupyter.widget-view+json": {
       "model_id": "cf0dbaa45bdf4a6bb8901bce237af34d",
       "version_major": 2,
       "version_minor": 0
      },
      "text/plain": [
       "Pandas Apply:   0%|          | 0/4 [00:00<?, ?it/s]"
      ]
     },
     "metadata": {},
     "output_type": "display_data"
    },
    {
     "name": "stderr",
     "output_type": "stream",
     "text": [
      "/tmp/ipykernel_2816/2434844461.py:34: PerformanceWarning: Concatenating sparse arrays with multiple fill values: '[0, 1.0]'. Picking the first and converting the rest.\n",
      "  euclidean_distances = centroid_df.swifter.apply(lambda x: np.sqrt(((input_dataframe - x) ** 2).sum(axis=1)))\n",
      "/tmp/ipykernel_2816/2434844461.py:34: PerformanceWarning: Concatenating sparse arrays with multiple fill values: '[0, 1.0, 4.0]'. Picking the first and converting the rest.\n",
      "  euclidean_distances = centroid_df.swifter.apply(lambda x: np.sqrt(((input_dataframe - x) ** 2).sum(axis=1)))\n"
     ]
    },
    {
     "name": "stdout",
     "output_type": "stream",
     "text": [
      "The input Threshold was 10\n",
      "The calculated threshold is 2.299644603181811\n"
     ]
    },
    {
     "data": {
      "application/vnd.jupyter.widget-view+json": {
       "model_id": "897ec59553c640faba668eabf6cec1a1",
       "version_major": 2,
       "version_minor": 0
      },
      "text/plain": [
       "Pandas Apply:   0%|          | 0/4 [00:00<?, ?it/s]"
      ]
     },
     "metadata": {},
     "output_type": "display_data"
    },
    {
     "name": "stderr",
     "output_type": "stream",
     "text": [
      "/tmp/ipykernel_2816/2434844461.py:34: PerformanceWarning: Concatenating sparse arrays with multiple fill values: '[0, 1.0, 4.0]'. Picking the first and converting the rest.\n",
      "  euclidean_distances = centroid_df.swifter.apply(lambda x: np.sqrt(((input_dataframe - x) ** 2).sum(axis=1)))\n",
      "/tmp/ipykernel_2816/2434844461.py:34: PerformanceWarning: Concatenating sparse arrays with multiple fill values: '[1.0, 0]'. Picking the first and converting the rest.\n",
      "  euclidean_distances = centroid_df.swifter.apply(lambda x: np.sqrt(((input_dataframe - x) ** 2).sum(axis=1)))\n"
     ]
    },
    {
     "name": "stdout",
     "output_type": "stream",
     "text": [
      "The input Threshold was 10\n",
      "The calculated threshold is 3.456325907527936\n"
     ]
    },
    {
     "data": {
      "application/vnd.jupyter.widget-view+json": {
       "model_id": "3e7f4f97c2344a88b0e494e3b22f90b0",
       "version_major": 2,
       "version_minor": 0
      },
      "text/plain": [
       "Pandas Apply:   0%|          | 0/4 [00:00<?, ?it/s]"
      ]
     },
     "metadata": {},
     "output_type": "display_data"
    },
    {
     "name": "stderr",
     "output_type": "stream",
     "text": [
      "/tmp/ipykernel_2816/2434844461.py:34: PerformanceWarning: Concatenating sparse arrays with multiple fill values: '[0, 1.0]'. Picking the first and converting the rest.\n",
      "  euclidean_distances = centroid_df.swifter.apply(lambda x: np.sqrt(((input_dataframe - x) ** 2).sum(axis=1)))\n",
      "/tmp/ipykernel_2816/2434844461.py:34: PerformanceWarning: Concatenating sparse arrays with multiple fill values: '[0, 1.0, 4.0]'. Picking the first and converting the rest.\n",
      "  euclidean_distances = centroid_df.swifter.apply(lambda x: np.sqrt(((input_dataframe - x) ** 2).sum(axis=1)))\n"
     ]
    },
    {
     "name": "stdout",
     "output_type": "stream",
     "text": [
      "The input Threshold was 10\n",
      "The calculated threshold is 2.782230581198005\n"
     ]
    },
    {
     "data": {
      "application/vnd.jupyter.widget-view+json": {
       "model_id": "2fe733a5ae52464b91a693a72ab6abc0",
       "version_major": 2,
       "version_minor": 0
      },
      "text/plain": [
       "Pandas Apply:   0%|          | 0/4 [00:00<?, ?it/s]"
      ]
     },
     "metadata": {},
     "output_type": "display_data"
    },
    {
     "name": "stderr",
     "output_type": "stream",
     "text": [
      "/tmp/ipykernel_2816/2434844461.py:34: PerformanceWarning: Concatenating sparse arrays with multiple fill values: '[0, 1.0, 9.0, 4.0]'. Picking the first and converting the rest.\n",
      "  euclidean_distances = centroid_df.swifter.apply(lambda x: np.sqrt(((input_dataframe - x) ** 2).sum(axis=1)))\n",
      "/tmp/ipykernel_2816/2434844461.py:34: PerformanceWarning: Concatenating sparse arrays with multiple fill values: '[0, 4.0, 1.0]'. Picking the first and converting the rest.\n",
      "  euclidean_distances = centroid_df.swifter.apply(lambda x: np.sqrt(((input_dataframe - x) ** 2).sum(axis=1)))\n",
      "/tmp/ipykernel_2816/2434844461.py:34: PerformanceWarning: Concatenating sparse arrays with multiple fill values: '[0, 1.0, 9.0]'. Picking the first and converting the rest.\n",
      "  euclidean_distances = centroid_df.swifter.apply(lambda x: np.sqrt(((input_dataframe - x) ** 2).sum(axis=1)))\n"
     ]
    },
    {
     "name": "stdout",
     "output_type": "stream",
     "text": [
      "The input Threshold was 10\n",
      "The calculated threshold is 3.9268457321177213\n"
     ]
    },
    {
     "data": {
      "application/vnd.jupyter.widget-view+json": {
       "model_id": "5926530eb0604d308eec967ef12ec568",
       "version_major": 2,
       "version_minor": 0
      },
      "text/plain": [
       "Pandas Apply:   0%|          | 0/4 [00:00<?, ?it/s]"
      ]
     },
     "metadata": {},
     "output_type": "display_data"
    },
    {
     "name": "stderr",
     "output_type": "stream",
     "text": [
      "/tmp/ipykernel_2816/2434844461.py:34: PerformanceWarning: Concatenating sparse arrays with multiple fill values: '[1.0, 0, 4.0]'. Picking the first and converting the rest.\n",
      "  euclidean_distances = centroid_df.swifter.apply(lambda x: np.sqrt(((input_dataframe - x) ** 2).sum(axis=1)))\n",
      "/tmp/ipykernel_2816/2434844461.py:34: PerformanceWarning: Concatenating sparse arrays with multiple fill values: '[0, 1.0, 4.0]'. Picking the first and converting the rest.\n",
      "  euclidean_distances = centroid_df.swifter.apply(lambda x: np.sqrt(((input_dataframe - x) ** 2).sum(axis=1)))\n",
      "/tmp/ipykernel_2816/2434844461.py:34: PerformanceWarning: Concatenating sparse arrays with multiple fill values: '[0, 1.0]'. Picking the first and converting the rest.\n",
      "  euclidean_distances = centroid_df.swifter.apply(lambda x: np.sqrt(((input_dataframe - x) ** 2).sum(axis=1)))\n"
     ]
    },
    {
     "name": "stdout",
     "output_type": "stream",
     "text": [
      "The input Threshold was 10\n",
      "The calculated threshold is 2.7889946665313876\n"
     ]
    },
    {
     "data": {
      "application/vnd.jupyter.widget-view+json": {
       "model_id": "28741827b3b54b2c88402b0cdefbf59c",
       "version_major": 2,
       "version_minor": 0
      },
      "text/plain": [
       "Pandas Apply:   0%|          | 0/4 [00:00<?, ?it/s]"
      ]
     },
     "metadata": {},
     "output_type": "display_data"
    },
    {
     "name": "stderr",
     "output_type": "stream",
     "text": [
      "/tmp/ipykernel_2816/2434844461.py:34: PerformanceWarning: Concatenating sparse arrays with multiple fill values: '[0, 1.0, 4.0]'. Picking the first and converting the rest.\n",
      "  euclidean_distances = centroid_df.swifter.apply(lambda x: np.sqrt(((input_dataframe - x) ** 2).sum(axis=1)))\n",
      "/tmp/ipykernel_2816/2434844461.py:34: PerformanceWarning: Concatenating sparse arrays with multiple fill values: '[1.0, 0, 9.0, 4.0, 16.0, 25.0]'. Picking the first and converting the rest.\n",
      "  euclidean_distances = centroid_df.swifter.apply(lambda x: np.sqrt(((input_dataframe - x) ** 2).sum(axis=1)))\n",
      "/tmp/ipykernel_2816/2434844461.py:34: PerformanceWarning: Concatenating sparse arrays with multiple fill values: '[0, 1.0]'. Picking the first and converting the rest.\n",
      "  euclidean_distances = centroid_df.swifter.apply(lambda x: np.sqrt(((input_dataframe - x) ** 2).sum(axis=1)))\n"
     ]
    },
    {
     "name": "stdout",
     "output_type": "stream",
     "text": [
      "The input Threshold was 10\n",
      "The calculated threshold is 4.068917949404375\n"
     ]
    },
    {
     "data": {
      "application/vnd.jupyter.widget-view+json": {
       "model_id": "59ffa77aa56e47a6bf6643f56117e999",
       "version_major": 2,
       "version_minor": 0
      },
      "text/plain": [
       "Pandas Apply:   0%|          | 0/4 [00:00<?, ?it/s]"
      ]
     },
     "metadata": {},
     "output_type": "display_data"
    },
    {
     "name": "stderr",
     "output_type": "stream",
     "text": [
      "/tmp/ipykernel_2816/2434844461.py:34: PerformanceWarning: Concatenating sparse arrays with multiple fill values: '[0, 1.0]'. Picking the first and converting the rest.\n",
      "  euclidean_distances = centroid_df.swifter.apply(lambda x: np.sqrt(((input_dataframe - x) ** 2).sum(axis=1)))\n",
      "/tmp/ipykernel_2816/2434844461.py:34: PerformanceWarning: Concatenating sparse arrays with multiple fill values: '[0, 1.0, 4.0]'. Picking the first and converting the rest.\n",
      "  euclidean_distances = centroid_df.swifter.apply(lambda x: np.sqrt(((input_dataframe - x) ** 2).sum(axis=1)))\n"
     ]
    },
    {
     "name": "stdout",
     "output_type": "stream",
     "text": [
      "The input Threshold was 10\n",
      "The calculated threshold is 2.4625202378166797\n"
     ]
    },
    {
     "data": {
      "application/vnd.jupyter.widget-view+json": {
       "model_id": "87471e4be5934ce683e1ed48568478d7",
       "version_major": 2,
       "version_minor": 0
      },
      "text/plain": [
       "Pandas Apply:   0%|          | 0/4 [00:00<?, ?it/s]"
      ]
     },
     "metadata": {},
     "output_type": "display_data"
    },
    {
     "name": "stderr",
     "output_type": "stream",
     "text": [
      "/tmp/ipykernel_2816/2434844461.py:34: PerformanceWarning: Concatenating sparse arrays with multiple fill values: '[0, 1.0, 9.0, 16.0, 4.0]'. Picking the first and converting the rest.\n",
      "  euclidean_distances = centroid_df.swifter.apply(lambda x: np.sqrt(((input_dataframe - x) ** 2).sum(axis=1)))\n",
      "/tmp/ipykernel_2816/2434844461.py:34: PerformanceWarning: Concatenating sparse arrays with multiple fill values: '[0, 1.0]'. Picking the first and converting the rest.\n",
      "  euclidean_distances = centroid_df.swifter.apply(lambda x: np.sqrt(((input_dataframe - x) ** 2).sum(axis=1)))\n"
     ]
    },
    {
     "name": "stdout",
     "output_type": "stream",
     "text": [
      "The input Threshold was 10\n",
      "The calculated threshold is 2.901284517101721\n"
     ]
    },
    {
     "data": {
      "application/vnd.jupyter.widget-view+json": {
       "model_id": "4e084760b93d44d8b89dc93050a7e0db",
       "version_major": 2,
       "version_minor": 0
      },
      "text/plain": [
       "Pandas Apply:   0%|          | 0/4 [00:00<?, ?it/s]"
      ]
     },
     "metadata": {},
     "output_type": "display_data"
    },
    {
     "name": "stderr",
     "output_type": "stream",
     "text": [
      "/tmp/ipykernel_2816/2434844461.py:34: PerformanceWarning: Concatenating sparse arrays with multiple fill values: '[0, 1.0, 4.0, 9.0]'. Picking the first and converting the rest.\n",
      "  euclidean_distances = centroid_df.swifter.apply(lambda x: np.sqrt(((input_dataframe - x) ** 2).sum(axis=1)))\n",
      "/tmp/ipykernel_2816/2434844461.py:34: PerformanceWarning: Concatenating sparse arrays with multiple fill values: '[0, 1.0, 9.0]'. Picking the first and converting the rest.\n",
      "  euclidean_distances = centroid_df.swifter.apply(lambda x: np.sqrt(((input_dataframe - x) ** 2).sum(axis=1)))\n",
      "/tmp/ipykernel_2816/2434844461.py:34: PerformanceWarning: Concatenating sparse arrays with multiple fill values: '[0, 1.0, 4.0]'. Picking the first and converting the rest.\n",
      "  euclidean_distances = centroid_df.swifter.apply(lambda x: np.sqrt(((input_dataframe - x) ** 2).sum(axis=1)))\n"
     ]
    },
    {
     "name": "stdout",
     "output_type": "stream",
     "text": [
      "The input Threshold was 10\n",
      "The calculated threshold is 4.431240191978611\n"
     ]
    },
    {
     "data": {
      "application/vnd.jupyter.widget-view+json": {
       "model_id": "7823818572ff47a4acd19a9024e248a9",
       "version_major": 2,
       "version_minor": 0
      },
      "text/plain": [
       "Pandas Apply:   0%|          | 0/4 [00:00<?, ?it/s]"
      ]
     },
     "metadata": {},
     "output_type": "display_data"
    },
    {
     "name": "stderr",
     "output_type": "stream",
     "text": [
      "/tmp/ipykernel_2816/2434844461.py:34: PerformanceWarning: Concatenating sparse arrays with multiple fill values: '[0, 1.0]'. Picking the first and converting the rest.\n",
      "  euclidean_distances = centroid_df.swifter.apply(lambda x: np.sqrt(((input_dataframe - x) ** 2).sum(axis=1)))\n",
      "/tmp/ipykernel_2816/2434844461.py:34: PerformanceWarning: Concatenating sparse arrays with multiple fill values: '[0, 1.0, 4.0, 9.0]'. Picking the first and converting the rest.\n",
      "  euclidean_distances = centroid_df.swifter.apply(lambda x: np.sqrt(((input_dataframe - x) ** 2).sum(axis=1)))\n"
     ]
    },
    {
     "name": "stdout",
     "output_type": "stream",
     "text": [
      "The input Threshold was 10\n",
      "The calculated threshold is 3.9381756191069917\n"
     ]
    },
    {
     "data": {
      "application/vnd.jupyter.widget-view+json": {
       "model_id": "8d6cc70fdfe14a91814550aba5af923f",
       "version_major": 2,
       "version_minor": 0
      },
      "text/plain": [
       "Pandas Apply:   0%|          | 0/4 [00:00<?, ?it/s]"
      ]
     },
     "metadata": {},
     "output_type": "display_data"
    },
    {
     "name": "stderr",
     "output_type": "stream",
     "text": [
      "/tmp/ipykernel_2816/2434844461.py:34: PerformanceWarning: Concatenating sparse arrays with multiple fill values: '[0, 1.0, 4.0]'. Picking the first and converting the rest.\n",
      "  euclidean_distances = centroid_df.swifter.apply(lambda x: np.sqrt(((input_dataframe - x) ** 2).sum(axis=1)))\n"
     ]
    },
    {
     "name": "stdout",
     "output_type": "stream",
     "text": [
      "The input Threshold was 10\n",
      "The calculated threshold is 2.6249968198540863\n"
     ]
    },
    {
     "data": {
      "application/vnd.jupyter.widget-view+json": {
       "model_id": "25081d12f94b46efb45ad1cb9630389a",
       "version_major": 2,
       "version_minor": 0
      },
      "text/plain": [
       "Pandas Apply:   0%|          | 0/4 [00:00<?, ?it/s]"
      ]
     },
     "metadata": {},
     "output_type": "display_data"
    },
    {
     "name": "stderr",
     "output_type": "stream",
     "text": [
      "/tmp/ipykernel_2816/2434844461.py:34: PerformanceWarning: Concatenating sparse arrays with multiple fill values: '[0, 1.0]'. Picking the first and converting the rest.\n",
      "  euclidean_distances = centroid_df.swifter.apply(lambda x: np.sqrt(((input_dataframe - x) ** 2).sum(axis=1)))\n",
      "/tmp/ipykernel_2816/2434844461.py:34: PerformanceWarning: Concatenating sparse arrays with multiple fill values: '[0, 1.0, 9.0]'. Picking the first and converting the rest.\n",
      "  euclidean_distances = centroid_df.swifter.apply(lambda x: np.sqrt(((input_dataframe - x) ** 2).sum(axis=1)))\n",
      "/tmp/ipykernel_2816/2434844461.py:34: PerformanceWarning: Concatenating sparse arrays with multiple fill values: '[0, 1.0, 4.0, 9.0, 36.0]'. Picking the first and converting the rest.\n",
      "  euclidean_distances = centroid_df.swifter.apply(lambda x: np.sqrt(((input_dataframe - x) ** 2).sum(axis=1)))\n"
     ]
    },
    {
     "name": "stdout",
     "output_type": "stream",
     "text": [
      "The input Threshold was 10\n",
      "The calculated threshold is 4.26110964899275\n"
     ]
    },
    {
     "data": {
      "application/vnd.jupyter.widget-view+json": {
       "model_id": "61410d129a9941f58ca0e1e8bed758c5",
       "version_major": 2,
       "version_minor": 0
      },
      "text/plain": [
       "Pandas Apply:   0%|          | 0/4 [00:00<?, ?it/s]"
      ]
     },
     "metadata": {},
     "output_type": "display_data"
    },
    {
     "name": "stderr",
     "output_type": "stream",
     "text": [
      "/tmp/ipykernel_2816/2434844461.py:34: PerformanceWarning: Concatenating sparse arrays with multiple fill values: '[0, 1.0]'. Picking the first and converting the rest.\n",
      "  euclidean_distances = centroid_df.swifter.apply(lambda x: np.sqrt(((input_dataframe - x) ** 2).sum(axis=1)))\n",
      "/tmp/ipykernel_2816/2434844461.py:34: PerformanceWarning: Concatenating sparse arrays with multiple fill values: '[1.0, 0, 4.0, 81.0]'. Picking the first and converting the rest.\n",
      "  euclidean_distances = centroid_df.swifter.apply(lambda x: np.sqrt(((input_dataframe - x) ** 2).sum(axis=1)))\n"
     ]
    },
    {
     "name": "stdout",
     "output_type": "stream",
     "text": [
      "The input Threshold was 10\n",
      "The calculated threshold is 3.7284193500127327\n"
     ]
    },
    {
     "data": {
      "application/vnd.jupyter.widget-view+json": {
       "model_id": "a0c5edf36a504f0794d8466d08ead0cd",
       "version_major": 2,
       "version_minor": 0
      },
      "text/plain": [
       "Pandas Apply:   0%|          | 0/4 [00:00<?, ?it/s]"
      ]
     },
     "metadata": {},
     "output_type": "display_data"
    },
    {
     "name": "stderr",
     "output_type": "stream",
     "text": [
      "/tmp/ipykernel_2816/2434844461.py:34: PerformanceWarning: Concatenating sparse arrays with multiple fill values: '[0, 1.0]'. Picking the first and converting the rest.\n",
      "  euclidean_distances = centroid_df.swifter.apply(lambda x: np.sqrt(((input_dataframe - x) ** 2).sum(axis=1)))\n",
      "/tmp/ipykernel_2816/2434844461.py:34: PerformanceWarning: Concatenating sparse arrays with multiple fill values: '[0, 1.0, 4.0]'. Picking the first and converting the rest.\n",
      "  euclidean_distances = centroid_df.swifter.apply(lambda x: np.sqrt(((input_dataframe - x) ** 2).sum(axis=1)))\n"
     ]
    },
    {
     "name": "stdout",
     "output_type": "stream",
     "text": [
      "The input Threshold was 10\n",
      "The calculated threshold is 2.70212956571671\n"
     ]
    },
    {
     "data": {
      "application/vnd.jupyter.widget-view+json": {
       "model_id": "4399504945a644ff9e7934e0f7430c50",
       "version_major": 2,
       "version_minor": 0
      },
      "text/plain": [
       "Pandas Apply:   0%|          | 0/4 [00:00<?, ?it/s]"
      ]
     },
     "metadata": {},
     "output_type": "display_data"
    },
    {
     "name": "stderr",
     "output_type": "stream",
     "text": [
      "/tmp/ipykernel_2816/2434844461.py:34: PerformanceWarning: Concatenating sparse arrays with multiple fill values: '[0, 1.0, 4.0]'. Picking the first and converting the rest.\n",
      "  euclidean_distances = centroid_df.swifter.apply(lambda x: np.sqrt(((input_dataframe - x) ** 2).sum(axis=1)))\n",
      "/tmp/ipykernel_2816/2434844461.py:34: PerformanceWarning: Concatenating sparse arrays with multiple fill values: '[0, 1.0]'. Picking the first and converting the rest.\n",
      "  euclidean_distances = centroid_df.swifter.apply(lambda x: np.sqrt(((input_dataframe - x) ** 2).sum(axis=1)))\n"
     ]
    },
    {
     "name": "stdout",
     "output_type": "stream",
     "text": [
      "The input Threshold was 10\n",
      "The calculated threshold is 2.908627151583565\n"
     ]
    },
    {
     "data": {
      "application/vnd.jupyter.widget-view+json": {
       "model_id": "b3799e00acb54aa4b85bb9448bb2eae4",
       "version_major": 2,
       "version_minor": 0
      },
      "text/plain": [
       "Pandas Apply:   0%|          | 0/4 [00:00<?, ?it/s]"
      ]
     },
     "metadata": {},
     "output_type": "display_data"
    },
    {
     "name": "stderr",
     "output_type": "stream",
     "text": [
      "/tmp/ipykernel_2816/2434844461.py:34: PerformanceWarning: Concatenating sparse arrays with multiple fill values: '[0, 1.0, 9.0, 4.0]'. Picking the first and converting the rest.\n",
      "  euclidean_distances = centroid_df.swifter.apply(lambda x: np.sqrt(((input_dataframe - x) ** 2).sum(axis=1)))\n",
      "/tmp/ipykernel_2816/2434844461.py:34: PerformanceWarning: Concatenating sparse arrays with multiple fill values: '[0, 1.0]'. Picking the first and converting the rest.\n",
      "  euclidean_distances = centroid_df.swifter.apply(lambda x: np.sqrt(((input_dataframe - x) ** 2).sum(axis=1)))\n",
      "/tmp/ipykernel_2816/2434844461.py:34: PerformanceWarning: Concatenating sparse arrays with multiple fill values: '[0, 1.0, 4.0]'. Picking the first and converting the rest.\n",
      "  euclidean_distances = centroid_df.swifter.apply(lambda x: np.sqrt(((input_dataframe - x) ** 2).sum(axis=1)))\n"
     ]
    },
    {
     "name": "stdout",
     "output_type": "stream",
     "text": [
      "The input Threshold was 10\n",
      "The calculated threshold is 4.42514199653251\n"
     ]
    },
    {
     "data": {
      "application/vnd.jupyter.widget-view+json": {
       "model_id": "c834cbdf84dd4f8ab872df00cee6cd22",
       "version_major": 2,
       "version_minor": 0
      },
      "text/plain": [
       "Pandas Apply:   0%|          | 0/4 [00:00<?, ?it/s]"
      ]
     },
     "metadata": {},
     "output_type": "display_data"
    },
    {
     "name": "stderr",
     "output_type": "stream",
     "text": [
      "/tmp/ipykernel_2816/2434844461.py:34: PerformanceWarning: Concatenating sparse arrays with multiple fill values: '[0, 1.0, 9.0, 4.0]'. Picking the first and converting the rest.\n",
      "  euclidean_distances = centroid_df.swifter.apply(lambda x: np.sqrt(((input_dataframe - x) ** 2).sum(axis=1)))\n",
      "/tmp/ipykernel_2816/2434844461.py:34: PerformanceWarning: Concatenating sparse arrays with multiple fill values: '[0, 4.0, 1.0]'. Picking the first and converting the rest.\n",
      "  euclidean_distances = centroid_df.swifter.apply(lambda x: np.sqrt(((input_dataframe - x) ** 2).sum(axis=1)))\n",
      "/tmp/ipykernel_2816/2434844461.py:34: PerformanceWarning: Concatenating sparse arrays with multiple fill values: '[0, 1.0, 4.0]'. Picking the first and converting the rest.\n",
      "  euclidean_distances = centroid_df.swifter.apply(lambda x: np.sqrt(((input_dataframe - x) ** 2).sum(axis=1)))\n"
     ]
    },
    {
     "name": "stdout",
     "output_type": "stream",
     "text": [
      "The input Threshold was 10\n",
      "The calculated threshold is 3.8019179809599812\n"
     ]
    },
    {
     "data": {
      "application/vnd.jupyter.widget-view+json": {
       "model_id": "324f9ad5943141c6a0b06303b3bec88e",
       "version_major": 2,
       "version_minor": 0
      },
      "text/plain": [
       "Pandas Apply:   0%|          | 0/5 [00:00<?, ?it/s]"
      ]
     },
     "metadata": {},
     "output_type": "display_data"
    },
    {
     "name": "stderr",
     "output_type": "stream",
     "text": [
      "/tmp/ipykernel_2816/2434844461.py:34: PerformanceWarning: Concatenating sparse arrays with multiple fill values: '[0, 1.0]'. Picking the first and converting the rest.\n",
      "  euclidean_distances = centroid_df.swifter.apply(lambda x: np.sqrt(((input_dataframe - x) ** 2).sum(axis=1)))\n",
      "/tmp/ipykernel_2816/2434844461.py:34: PerformanceWarning: Concatenating sparse arrays with multiple fill values: '[0, 4.0, 16.0, 1.0, 9.0]'. Picking the first and converting the rest.\n",
      "  euclidean_distances = centroid_df.swifter.apply(lambda x: np.sqrt(((input_dataframe - x) ** 2).sum(axis=1)))\n",
      "/tmp/ipykernel_2816/2434844461.py:34: PerformanceWarning: Concatenating sparse arrays with multiple fill values: '[0, 1.0, 9.0]'. Picking the first and converting the rest.\n",
      "  euclidean_distances = centroid_df.swifter.apply(lambda x: np.sqrt(((input_dataframe - x) ** 2).sum(axis=1)))\n"
     ]
    },
    {
     "name": "stdout",
     "output_type": "stream",
     "text": [
      "The input Threshold was 10\n",
      "The calculated threshold is 3.8595164115400173\n"
     ]
    },
    {
     "data": {
      "application/vnd.jupyter.widget-view+json": {
       "model_id": "89fad7f38f0e42a4838d7d970372a134",
       "version_major": 2,
       "version_minor": 0
      },
      "text/plain": [
       "Pandas Apply:   0%|          | 0/5 [00:00<?, ?it/s]"
      ]
     },
     "metadata": {},
     "output_type": "display_data"
    },
    {
     "name": "stderr",
     "output_type": "stream",
     "text": [
      "/tmp/ipykernel_2816/2434844461.py:34: PerformanceWarning: Concatenating sparse arrays with multiple fill values: '[0, 1.0, 4.0]'. Picking the first and converting the rest.\n",
      "  euclidean_distances = centroid_df.swifter.apply(lambda x: np.sqrt(((input_dataframe - x) ** 2).sum(axis=1)))\n",
      "/tmp/ipykernel_2816/2434844461.py:34: PerformanceWarning: Concatenating sparse arrays with multiple fill values: '[0, 1.0]'. Picking the first and converting the rest.\n",
      "  euclidean_distances = centroid_df.swifter.apply(lambda x: np.sqrt(((input_dataframe - x) ** 2).sum(axis=1)))\n",
      "/tmp/ipykernel_2816/2434844461.py:34: PerformanceWarning: Concatenating sparse arrays with multiple fill values: '[0, 4.0, 1.0]'. Picking the first and converting the rest.\n",
      "  euclidean_distances = centroid_df.swifter.apply(lambda x: np.sqrt(((input_dataframe - x) ** 2).sum(axis=1)))\n"
     ]
    },
    {
     "name": "stdout",
     "output_type": "stream",
     "text": [
      "The input Threshold was 10\n",
      "The calculated threshold is 2.86726365670401\n"
     ]
    },
    {
     "data": {
      "application/vnd.jupyter.widget-view+json": {
       "model_id": "50c524c7758642178f6861125984d5ce",
       "version_major": 2,
       "version_minor": 0
      },
      "text/plain": [
       "Pandas Apply:   0%|          | 0/5 [00:00<?, ?it/s]"
      ]
     },
     "metadata": {},
     "output_type": "display_data"
    },
    {
     "name": "stderr",
     "output_type": "stream",
     "text": [
      "/tmp/ipykernel_2816/2434844461.py:34: PerformanceWarning: Concatenating sparse arrays with multiple fill values: '[0, 1.0, 4.0, 16.0]'. Picking the first and converting the rest.\n",
      "  euclidean_distances = centroid_df.swifter.apply(lambda x: np.sqrt(((input_dataframe - x) ** 2).sum(axis=1)))\n",
      "/tmp/ipykernel_2816/2434844461.py:34: PerformanceWarning: Concatenating sparse arrays with multiple fill values: '[0, 1.0, 4.0]'. Picking the first and converting the rest.\n",
      "  euclidean_distances = centroid_df.swifter.apply(lambda x: np.sqrt(((input_dataframe - x) ** 2).sum(axis=1)))\n",
      "/tmp/ipykernel_2816/2434844461.py:34: PerformanceWarning: Concatenating sparse arrays with multiple fill values: '[0, 1.0, 9.0, 4.0]'. Picking the first and converting the rest.\n",
      "  euclidean_distances = centroid_df.swifter.apply(lambda x: np.sqrt(((input_dataframe - x) ** 2).sum(axis=1)))\n",
      "/tmp/ipykernel_2816/2434844461.py:34: PerformanceWarning: Concatenating sparse arrays with multiple fill values: '[0, 1.0]'. Picking the first and converting the rest.\n",
      "  euclidean_distances = centroid_df.swifter.apply(lambda x: np.sqrt(((input_dataframe - x) ** 2).sum(axis=1)))\n"
     ]
    },
    {
     "name": "stdout",
     "output_type": "stream",
     "text": [
      "The input Threshold was 10\n",
      "The calculated threshold is 4.146311141260837\n"
     ]
    },
    {
     "data": {
      "application/vnd.jupyter.widget-view+json": {
       "model_id": "26f57d7fbe4543518f01b1ad18fa77cc",
       "version_major": 2,
       "version_minor": 0
      },
      "text/plain": [
       "Pandas Apply:   0%|          | 0/5 [00:00<?, ?it/s]"
      ]
     },
     "metadata": {},
     "output_type": "display_data"
    },
    {
     "name": "stderr",
     "output_type": "stream",
     "text": [
      "/tmp/ipykernel_2816/2434844461.py:34: PerformanceWarning: Concatenating sparse arrays with multiple fill values: '[0, 1.0]'. Picking the first and converting the rest.\n",
      "  euclidean_distances = centroid_df.swifter.apply(lambda x: np.sqrt(((input_dataframe - x) ** 2).sum(axis=1)))\n",
      "/tmp/ipykernel_2816/2434844461.py:34: PerformanceWarning: Concatenating sparse arrays with multiple fill values: '[0, 1.0, 4.0, 9.0]'. Picking the first and converting the rest.\n",
      "  euclidean_distances = centroid_df.swifter.apply(lambda x: np.sqrt(((input_dataframe - x) ** 2).sum(axis=1)))\n",
      "/tmp/ipykernel_2816/2434844461.py:34: PerformanceWarning: Concatenating sparse arrays with multiple fill values: '[0, 4.0, 1.0, 9.0, 16.0]'. Picking the first and converting the rest.\n",
      "  euclidean_distances = centroid_df.swifter.apply(lambda x: np.sqrt(((input_dataframe - x) ** 2).sum(axis=1)))\n",
      "/tmp/ipykernel_2816/2434844461.py:34: PerformanceWarning: Concatenating sparse arrays with multiple fill values: '[1.0, 0, 25.0, 4.0]'. Picking the first and converting the rest.\n",
      "  euclidean_distances = centroid_df.swifter.apply(lambda x: np.sqrt(((input_dataframe - x) ** 2).sum(axis=1)))\n"
     ]
    },
    {
     "name": "stdout",
     "output_type": "stream",
     "text": [
      "The input Threshold was 10\n",
      "The calculated threshold is 4.287883904265002\n"
     ]
    },
    {
     "data": {
      "application/vnd.jupyter.widget-view+json": {
       "model_id": "86bea8cb75c842d4ad71524b6212aa53",
       "version_major": 2,
       "version_minor": 0
      },
      "text/plain": [
       "Pandas Apply:   0%|          | 0/5 [00:00<?, ?it/s]"
      ]
     },
     "metadata": {},
     "output_type": "display_data"
    },
    {
     "name": "stderr",
     "output_type": "stream",
     "text": [
      "/tmp/ipykernel_2816/2434844461.py:34: PerformanceWarning: Concatenating sparse arrays with multiple fill values: '[0, 1.0, 4.0]'. Picking the first and converting the rest.\n",
      "  euclidean_distances = centroid_df.swifter.apply(lambda x: np.sqrt(((input_dataframe - x) ** 2).sum(axis=1)))\n",
      "/tmp/ipykernel_2816/2434844461.py:34: PerformanceWarning: Concatenating sparse arrays with multiple fill values: '[0, 1.0]'. Picking the first and converting the rest.\n",
      "  euclidean_distances = centroid_df.swifter.apply(lambda x: np.sqrt(((input_dataframe - x) ** 2).sum(axis=1)))\n"
     ]
    },
    {
     "name": "stdout",
     "output_type": "stream",
     "text": [
      "The input Threshold was 10\n",
      "The calculated threshold is 3.0316706004101657\n"
     ]
    },
    {
     "data": {
      "application/vnd.jupyter.widget-view+json": {
       "model_id": "14682c1b11524ad392e2af5abcacc01c",
       "version_major": 2,
       "version_minor": 0
      },
      "text/plain": [
       "Pandas Apply:   0%|          | 0/5 [00:00<?, ?it/s]"
      ]
     },
     "metadata": {},
     "output_type": "display_data"
    },
    {
     "name": "stderr",
     "output_type": "stream",
     "text": [
      "/tmp/ipykernel_2816/2434844461.py:34: PerformanceWarning: Concatenating sparse arrays with multiple fill values: '[0, 1.0, 4.0]'. Picking the first and converting the rest.\n",
      "  euclidean_distances = centroid_df.swifter.apply(lambda x: np.sqrt(((input_dataframe - x) ** 2).sum(axis=1)))\n",
      "/tmp/ipykernel_2816/2434844461.py:34: PerformanceWarning: Concatenating sparse arrays with multiple fill values: '[0, 1.0]'. Picking the first and converting the rest.\n",
      "  euclidean_distances = centroid_df.swifter.apply(lambda x: np.sqrt(((input_dataframe - x) ** 2).sum(axis=1)))\n"
     ]
    },
    {
     "name": "stdout",
     "output_type": "stream",
     "text": [
      "The input Threshold was 10\n",
      "The calculated threshold is 2.4564736091303674\n"
     ]
    },
    {
     "data": {
      "application/vnd.jupyter.widget-view+json": {
       "model_id": "7ef59905bc874121b652e8d207b7cb90",
       "version_major": 2,
       "version_minor": 0
      },
      "text/plain": [
       "Pandas Apply:   0%|          | 0/5 [00:00<?, ?it/s]"
      ]
     },
     "metadata": {},
     "output_type": "display_data"
    },
    {
     "name": "stderr",
     "output_type": "stream",
     "text": [
      "/tmp/ipykernel_2816/2434844461.py:34: PerformanceWarning: Concatenating sparse arrays with multiple fill values: '[0, 1.0, 4.0, 9.0]'. Picking the first and converting the rest.\n",
      "  euclidean_distances = centroid_df.swifter.apply(lambda x: np.sqrt(((input_dataframe - x) ** 2).sum(axis=1)))\n",
      "/tmp/ipykernel_2816/2434844461.py:34: PerformanceWarning: Concatenating sparse arrays with multiple fill values: '[0, 1.0, 9.0]'. Picking the first and converting the rest.\n",
      "  euclidean_distances = centroid_df.swifter.apply(lambda x: np.sqrt(((input_dataframe - x) ** 2).sum(axis=1)))\n",
      "/tmp/ipykernel_2816/2434844461.py:34: PerformanceWarning: Concatenating sparse arrays with multiple fill values: '[0, 1.0, 4.0, 25.0]'. Picking the first and converting the rest.\n",
      "  euclidean_distances = centroid_df.swifter.apply(lambda x: np.sqrt(((input_dataframe - x) ** 2).sum(axis=1)))\n",
      "/tmp/ipykernel_2816/2434844461.py:34: PerformanceWarning: Concatenating sparse arrays with multiple fill values: '[0, 1.0, 16.0, 4.0, 9.0, 25.0]'. Picking the first and converting the rest.\n",
      "  euclidean_distances = centroid_df.swifter.apply(lambda x: np.sqrt(((input_dataframe - x) ** 2).sum(axis=1)))\n"
     ]
    },
    {
     "name": "stdout",
     "output_type": "stream",
     "text": [
      "The input Threshold was 10\n",
      "The calculated threshold is 4.695563032998441\n"
     ]
    },
    {
     "data": {
      "application/vnd.jupyter.widget-view+json": {
       "model_id": "379a4faf7edc40009f1c2788240b21c6",
       "version_major": 2,
       "version_minor": 0
      },
      "text/plain": [
       "Pandas Apply:   0%|          | 0/5 [00:00<?, ?it/s]"
      ]
     },
     "metadata": {},
     "output_type": "display_data"
    },
    {
     "name": "stderr",
     "output_type": "stream",
     "text": [
      "/tmp/ipykernel_2816/2434844461.py:34: PerformanceWarning: Concatenating sparse arrays with multiple fill values: '[0, 1.0]'. Picking the first and converting the rest.\n",
      "  euclidean_distances = centroid_df.swifter.apply(lambda x: np.sqrt(((input_dataframe - x) ** 2).sum(axis=1)))\n"
     ]
    },
    {
     "name": "stdout",
     "output_type": "stream",
     "text": [
      "The input Threshold was 10\n",
      "The calculated threshold is 3.042712750111284\n"
     ]
    },
    {
     "data": {
      "application/vnd.jupyter.widget-view+json": {
       "model_id": "3f36d05ab857425497aa74fe1355eeb0",
       "version_major": 2,
       "version_minor": 0
      },
      "text/plain": [
       "Pandas Apply:   0%|          | 0/5 [00:00<?, ?it/s]"
      ]
     },
     "metadata": {},
     "output_type": "display_data"
    },
    {
     "name": "stderr",
     "output_type": "stream",
     "text": [
      "/tmp/ipykernel_2816/2434844461.py:34: PerformanceWarning: Concatenating sparse arrays with multiple fill values: '[0, 1.0]'. Picking the first and converting the rest.\n",
      "  euclidean_distances = centroid_df.swifter.apply(lambda x: np.sqrt(((input_dataframe - x) ** 2).sum(axis=1)))\n",
      "/tmp/ipykernel_2816/2434844461.py:34: PerformanceWarning: Concatenating sparse arrays with multiple fill values: '[0, 1.0, 4.0, 25.0]'. Picking the first and converting the rest.\n",
      "  euclidean_distances = centroid_df.swifter.apply(lambda x: np.sqrt(((input_dataframe - x) ** 2).sum(axis=1)))\n",
      "/tmp/ipykernel_2816/2434844461.py:34: PerformanceWarning: Concatenating sparse arrays with multiple fill values: '[1.0, 0, 4.0, 9.0]'. Picking the first and converting the rest.\n",
      "  euclidean_distances = centroid_df.swifter.apply(lambda x: np.sqrt(((input_dataframe - x) ** 2).sum(axis=1)))\n"
     ]
    },
    {
     "name": "stdout",
     "output_type": "stream",
     "text": [
      "The input Threshold was 10\n",
      "The calculated threshold is 3.6827858643887175\n"
     ]
    },
    {
     "data": {
      "application/vnd.jupyter.widget-view+json": {
       "model_id": "f75cc103af514040b8ebdc057c9b5161",
       "version_major": 2,
       "version_minor": 0
      },
      "text/plain": [
       "Pandas Apply:   0%|          | 0/5 [00:00<?, ?it/s]"
      ]
     },
     "metadata": {},
     "output_type": "display_data"
    },
    {
     "name": "stderr",
     "output_type": "stream",
     "text": [
      "/tmp/ipykernel_2816/2434844461.py:34: PerformanceWarning: Concatenating sparse arrays with multiple fill values: '[0, 1.0, 9.0, 4.0, 16.0]'. Picking the first and converting the rest.\n",
      "  euclidean_distances = centroid_df.swifter.apply(lambda x: np.sqrt(((input_dataframe - x) ** 2).sum(axis=1)))\n",
      "/tmp/ipykernel_2816/2434844461.py:34: PerformanceWarning: Concatenating sparse arrays with multiple fill values: '[0, 1.0, 16.0]'. Picking the first and converting the rest.\n",
      "  euclidean_distances = centroid_df.swifter.apply(lambda x: np.sqrt(((input_dataframe - x) ** 2).sum(axis=1)))\n",
      "/tmp/ipykernel_2816/2434844461.py:34: PerformanceWarning: Concatenating sparse arrays with multiple fill values: '[0, 1.0]'. Picking the first and converting the rest.\n",
      "  euclidean_distances = centroid_df.swifter.apply(lambda x: np.sqrt(((input_dataframe - x) ** 2).sum(axis=1)))\n",
      "/tmp/ipykernel_2816/2434844461.py:34: PerformanceWarning: Concatenating sparse arrays with multiple fill values: '[0, 1.0, 4.0]'. Picking the first and converting the rest.\n",
      "  euclidean_distances = centroid_df.swifter.apply(lambda x: np.sqrt(((input_dataframe - x) ** 2).sum(axis=1)))\n"
     ]
    },
    {
     "name": "stdout",
     "output_type": "stream",
     "text": [
      "The input Threshold was 10\n",
      "The calculated threshold is 4.064549090151045\n"
     ]
    },
    {
     "data": {
      "application/vnd.jupyter.widget-view+json": {
       "model_id": "b3de57ef5cee404cbe9a79a7d04618c2",
       "version_major": 2,
       "version_minor": 0
      },
      "text/plain": [
       "Pandas Apply:   0%|          | 0/5 [00:00<?, ?it/s]"
      ]
     },
     "metadata": {},
     "output_type": "display_data"
    },
    {
     "name": "stderr",
     "output_type": "stream",
     "text": [
      "/tmp/ipykernel_2816/2434844461.py:34: PerformanceWarning: Concatenating sparse arrays with multiple fill values: '[0, 1.0, 9.0, 4.0]'. Picking the first and converting the rest.\n",
      "  euclidean_distances = centroid_df.swifter.apply(lambda x: np.sqrt(((input_dataframe - x) ** 2).sum(axis=1)))\n",
      "/tmp/ipykernel_2816/2434844461.py:34: PerformanceWarning: Concatenating sparse arrays with multiple fill values: '[0, 1.0]'. Picking the first and converting the rest.\n",
      "  euclidean_distances = centroid_df.swifter.apply(lambda x: np.sqrt(((input_dataframe - x) ** 2).sum(axis=1)))\n",
      "/tmp/ipykernel_2816/2434844461.py:34: PerformanceWarning: Concatenating sparse arrays with multiple fill values: '[0, 1.0, 4.0]'. Picking the first and converting the rest.\n",
      "  euclidean_distances = centroid_df.swifter.apply(lambda x: np.sqrt(((input_dataframe - x) ** 2).sum(axis=1)))\n"
     ]
    },
    {
     "name": "stdout",
     "output_type": "stream",
     "text": [
      "The input Threshold was 10\n",
      "The calculated threshold is 3.4438647482694433\n"
     ]
    },
    {
     "data": {
      "application/vnd.jupyter.widget-view+json": {
       "model_id": "74456ec63f8f4d548b847df4bac11316",
       "version_major": 2,
       "version_minor": 0
      },
      "text/plain": [
       "Pandas Apply:   0%|          | 0/5 [00:00<?, ?it/s]"
      ]
     },
     "metadata": {},
     "output_type": "display_data"
    },
    {
     "name": "stderr",
     "output_type": "stream",
     "text": [
      "/tmp/ipykernel_2816/2434844461.py:34: PerformanceWarning: Concatenating sparse arrays with multiple fill values: '[0, 1.0, 4.0]'. Picking the first and converting the rest.\n",
      "  euclidean_distances = centroid_df.swifter.apply(lambda x: np.sqrt(((input_dataframe - x) ** 2).sum(axis=1)))\n",
      "/tmp/ipykernel_2816/2434844461.py:34: PerformanceWarning: Concatenating sparse arrays with multiple fill values: '[0, 1.0]'. Picking the first and converting the rest.\n",
      "  euclidean_distances = centroid_df.swifter.apply(lambda x: np.sqrt(((input_dataframe - x) ** 2).sum(axis=1)))\n",
      "/tmp/ipykernel_2816/2434844461.py:34: PerformanceWarning: Concatenating sparse arrays with multiple fill values: '[1.0, 0, 4.0, 16.0, 9.0]'. Picking the first and converting the rest.\n",
      "  euclidean_distances = centroid_df.swifter.apply(lambda x: np.sqrt(((input_dataframe - x) ** 2).sum(axis=1)))\n"
     ]
    },
    {
     "name": "stdout",
     "output_type": "stream",
     "text": [
      "The input Threshold was 10\n",
      "The calculated threshold is 3.4777743028114805\n"
     ]
    },
    {
     "data": {
      "application/vnd.jupyter.widget-view+json": {
       "model_id": "2c65582806844f3589859db21e979003",
       "version_major": 2,
       "version_minor": 0
      },
      "text/plain": [
       "Pandas Apply:   0%|          | 0/5 [00:00<?, ?it/s]"
      ]
     },
     "metadata": {},
     "output_type": "display_data"
    },
    {
     "name": "stderr",
     "output_type": "stream",
     "text": [
      "/tmp/ipykernel_2816/2434844461.py:34: PerformanceWarning: Concatenating sparse arrays with multiple fill values: '[0, 1.0, 4.0]'. Picking the first and converting the rest.\n",
      "  euclidean_distances = centroid_df.swifter.apply(lambda x: np.sqrt(((input_dataframe - x) ** 2).sum(axis=1)))\n",
      "/tmp/ipykernel_2816/2434844461.py:34: PerformanceWarning: Concatenating sparse arrays with multiple fill values: '[0, 1.0]'. Picking the first and converting the rest.\n",
      "  euclidean_distances = centroid_df.swifter.apply(lambda x: np.sqrt(((input_dataframe - x) ** 2).sum(axis=1)))\n",
      "/tmp/ipykernel_2816/2434844461.py:34: PerformanceWarning: Concatenating sparse arrays with multiple fill values: '[0, 1.0, 9.0, 4.0, 16.0]'. Picking the first and converting the rest.\n",
      "  euclidean_distances = centroid_df.swifter.apply(lambda x: np.sqrt(((input_dataframe - x) ** 2).sum(axis=1)))\n"
     ]
    },
    {
     "name": "stdout",
     "output_type": "stream",
     "text": [
      "The input Threshold was 10\n",
      "The calculated threshold is 3.4077464458753832\n"
     ]
    },
    {
     "data": {
      "application/vnd.jupyter.widget-view+json": {
       "model_id": "180de0d28399459c9ad2c06b18bacb1d",
       "version_major": 2,
       "version_minor": 0
      },
      "text/plain": [
       "Pandas Apply:   0%|          | 0/5 [00:00<?, ?it/s]"
      ]
     },
     "metadata": {},
     "output_type": "display_data"
    },
    {
     "name": "stderr",
     "output_type": "stream",
     "text": [
      "/tmp/ipykernel_2816/2434844461.py:34: PerformanceWarning: Concatenating sparse arrays with multiple fill values: '[0, 1.0, 4.0]'. Picking the first and converting the rest.\n",
      "  euclidean_distances = centroid_df.swifter.apply(lambda x: np.sqrt(((input_dataframe - x) ** 2).sum(axis=1)))\n",
      "/tmp/ipykernel_2816/2434844461.py:34: PerformanceWarning: Concatenating sparse arrays with multiple fill values: '[0, 1.0, 4.0, 9.0]'. Picking the first and converting the rest.\n",
      "  euclidean_distances = centroid_df.swifter.apply(lambda x: np.sqrt(((input_dataframe - x) ** 2).sum(axis=1)))\n",
      "/tmp/ipykernel_2816/2434844461.py:34: PerformanceWarning: Concatenating sparse arrays with multiple fill values: '[0, 1.0]'. Picking the first and converting the rest.\n",
      "  euclidean_distances = centroid_df.swifter.apply(lambda x: np.sqrt(((input_dataframe - x) ** 2).sum(axis=1)))\n"
     ]
    },
    {
     "name": "stdout",
     "output_type": "stream",
     "text": [
      "The input Threshold was 10\n",
      "The calculated threshold is 3.108263739090899\n"
     ]
    },
    {
     "data": {
      "application/vnd.jupyter.widget-view+json": {
       "model_id": "00d4edd6b2e341d4971d344859c34ae4",
       "version_major": 2,
       "version_minor": 0
      },
      "text/plain": [
       "Pandas Apply:   0%|          | 0/5 [00:00<?, ?it/s]"
      ]
     },
     "metadata": {},
     "output_type": "display_data"
    },
    {
     "name": "stderr",
     "output_type": "stream",
     "text": [
      "/tmp/ipykernel_2816/2434844461.py:34: PerformanceWarning: Concatenating sparse arrays with multiple fill values: '[0, 1.0]'. Picking the first and converting the rest.\n",
      "  euclidean_distances = centroid_df.swifter.apply(lambda x: np.sqrt(((input_dataframe - x) ** 2).sum(axis=1)))\n",
      "/tmp/ipykernel_2816/2434844461.py:34: PerformanceWarning: Concatenating sparse arrays with multiple fill values: '[0, 4.0, 1.0]'. Picking the first and converting the rest.\n",
      "  euclidean_distances = centroid_df.swifter.apply(lambda x: np.sqrt(((input_dataframe - x) ** 2).sum(axis=1)))\n",
      "/tmp/ipykernel_2816/2434844461.py:34: PerformanceWarning: Concatenating sparse arrays with multiple fill values: '[0, 1.0, 4.0]'. Picking the first and converting the rest.\n",
      "  euclidean_distances = centroid_df.swifter.apply(lambda x: np.sqrt(((input_dataframe - x) ** 2).sum(axis=1)))\n",
      "/tmp/ipykernel_2816/2434844461.py:34: PerformanceWarning: Concatenating sparse arrays with multiple fill values: '[0, 4.0, 1.0, 9.0]'. Picking the first and converting the rest.\n",
      "  euclidean_distances = centroid_df.swifter.apply(lambda x: np.sqrt(((input_dataframe - x) ** 2).sum(axis=1)))\n"
     ]
    },
    {
     "name": "stdout",
     "output_type": "stream",
     "text": [
      "The input Threshold was 10\n",
      "The calculated threshold is 3.734535766795555\n"
     ]
    },
    {
     "data": {
      "application/vnd.jupyter.widget-view+json": {
       "model_id": "72839759e5f845a8a27cc1b684551000",
       "version_major": 2,
       "version_minor": 0
      },
      "text/plain": [
       "Pandas Apply:   0%|          | 0/5 [00:00<?, ?it/s]"
      ]
     },
     "metadata": {},
     "output_type": "display_data"
    },
    {
     "name": "stderr",
     "output_type": "stream",
     "text": [
      "/tmp/ipykernel_2816/2434844461.py:34: PerformanceWarning: Concatenating sparse arrays with multiple fill values: '[0, 1.0, 4.0, 9.0]'. Picking the first and converting the rest.\n",
      "  euclidean_distances = centroid_df.swifter.apply(lambda x: np.sqrt(((input_dataframe - x) ** 2).sum(axis=1)))\n",
      "/tmp/ipykernel_2816/2434844461.py:34: PerformanceWarning: Concatenating sparse arrays with multiple fill values: '[0, 4.0, 1.0, 9.0]'. Picking the first and converting the rest.\n",
      "  euclidean_distances = centroid_df.swifter.apply(lambda x: np.sqrt(((input_dataframe - x) ** 2).sum(axis=1)))\n",
      "/tmp/ipykernel_2816/2434844461.py:34: PerformanceWarning: Concatenating sparse arrays with multiple fill values: '[0, 1.0]'. Picking the first and converting the rest.\n",
      "  euclidean_distances = centroid_df.swifter.apply(lambda x: np.sqrt(((input_dataframe - x) ** 2).sum(axis=1)))\n",
      "/tmp/ipykernel_2816/2434844461.py:34: PerformanceWarning: Concatenating sparse arrays with multiple fill values: '[0, 1.0, 9.0, 4.0, 16.0, 64.0]'. Picking the first and converting the rest.\n",
      "  euclidean_distances = centroid_df.swifter.apply(lambda x: np.sqrt(((input_dataframe - x) ** 2).sum(axis=1)))\n"
     ]
    },
    {
     "name": "stdout",
     "output_type": "stream",
     "text": [
      "The input Threshold was 10\n",
      "The calculated threshold is 4.877840258140135\n"
     ]
    },
    {
     "data": {
      "application/vnd.jupyter.widget-view+json": {
       "model_id": "c12552ed1dc34dd0903be59c82eb3fb4",
       "version_major": 2,
       "version_minor": 0
      },
      "text/plain": [
       "Pandas Apply:   0%|          | 0/5 [00:00<?, ?it/s]"
      ]
     },
     "metadata": {},
     "output_type": "display_data"
    },
    {
     "name": "stderr",
     "output_type": "stream",
     "text": [
      "/tmp/ipykernel_2816/2434844461.py:34: PerformanceWarning: Concatenating sparse arrays with multiple fill values: '[0, 1.0]'. Picking the first and converting the rest.\n",
      "  euclidean_distances = centroid_df.swifter.apply(lambda x: np.sqrt(((input_dataframe - x) ** 2).sum(axis=1)))\n",
      "/tmp/ipykernel_2816/2434844461.py:34: PerformanceWarning: Concatenating sparse arrays with multiple fill values: '[0, 1.0, 4.0, 9.0]'. Picking the first and converting the rest.\n",
      "  euclidean_distances = centroid_df.swifter.apply(lambda x: np.sqrt(((input_dataframe - x) ** 2).sum(axis=1)))\n"
     ]
    },
    {
     "name": "stdout",
     "output_type": "stream",
     "text": [
      "The input Threshold was 10\n",
      "The calculated threshold is 2.512127890187649\n"
     ]
    },
    {
     "data": {
      "application/vnd.jupyter.widget-view+json": {
       "model_id": "4710a78df0a7452fb29550197354d0a7",
       "version_major": 2,
       "version_minor": 0
      },
      "text/plain": [
       "Pandas Apply:   0%|          | 0/5 [00:00<?, ?it/s]"
      ]
     },
     "metadata": {},
     "output_type": "display_data"
    },
    {
     "name": "stderr",
     "output_type": "stream",
     "text": [
      "/tmp/ipykernel_2816/2434844461.py:34: PerformanceWarning: Concatenating sparse arrays with multiple fill values: '[0, 1.0]'. Picking the first and converting the rest.\n",
      "  euclidean_distances = centroid_df.swifter.apply(lambda x: np.sqrt(((input_dataframe - x) ** 2).sum(axis=1)))\n",
      "/tmp/ipykernel_2816/2434844461.py:34: PerformanceWarning: Concatenating sparse arrays with multiple fill values: '[0, 1.0, 16.0, 4.0, 9.0]'. Picking the first and converting the rest.\n",
      "  euclidean_distances = centroid_df.swifter.apply(lambda x: np.sqrt(((input_dataframe - x) ** 2).sum(axis=1)))\n",
      "/tmp/ipykernel_2816/2434844461.py:34: PerformanceWarning: Concatenating sparse arrays with multiple fill values: '[0, 1.0, 4.0, 9.0, 16.0]'. Picking the first and converting the rest.\n",
      "  euclidean_distances = centroid_df.swifter.apply(lambda x: np.sqrt(((input_dataframe - x) ** 2).sum(axis=1)))\n",
      "/tmp/ipykernel_2816/2434844461.py:34: PerformanceWarning: Concatenating sparse arrays with multiple fill values: '[0, 1.0, 4.0, 9.0]'. Picking the first and converting the rest.\n",
      "  euclidean_distances = centroid_df.swifter.apply(lambda x: np.sqrt(((input_dataframe - x) ** 2).sum(axis=1)))\n"
     ]
    },
    {
     "name": "stdout",
     "output_type": "stream",
     "text": [
      "The input Threshold was 10\n",
      "The calculated threshold is 4.829934684516469\n"
     ]
    },
    {
     "data": {
      "application/vnd.jupyter.widget-view+json": {
       "model_id": "cf60a1e67cf14ff2b42e2c369bc06d7d",
       "version_major": 2,
       "version_minor": 0
      },
      "text/plain": [
       "Pandas Apply:   0%|          | 0/5 [00:00<?, ?it/s]"
      ]
     },
     "metadata": {},
     "output_type": "display_data"
    },
    {
     "name": "stderr",
     "output_type": "stream",
     "text": [
      "/tmp/ipykernel_2816/2434844461.py:34: PerformanceWarning: Concatenating sparse arrays with multiple fill values: '[0, 1.0]'. Picking the first and converting the rest.\n",
      "  euclidean_distances = centroid_df.swifter.apply(lambda x: np.sqrt(((input_dataframe - x) ** 2).sum(axis=1)))\n",
      "/tmp/ipykernel_2816/2434844461.py:34: PerformanceWarning: Concatenating sparse arrays with multiple fill values: '[0, 1.0, 4.0, 9.0]'. Picking the first and converting the rest.\n",
      "  euclidean_distances = centroid_df.swifter.apply(lambda x: np.sqrt(((input_dataframe - x) ** 2).sum(axis=1)))\n",
      "/tmp/ipykernel_2816/2434844461.py:34: PerformanceWarning: Concatenating sparse arrays with multiple fill values: '[0, 1.0, 4.0]'. Picking the first and converting the rest.\n",
      "  euclidean_distances = centroid_df.swifter.apply(lambda x: np.sqrt(((input_dataframe - x) ** 2).sum(axis=1)))\n",
      "/tmp/ipykernel_2816/2434844461.py:34: PerformanceWarning: Concatenating sparse arrays with multiple fill values: '[0, 16.0, 1.0, 4.0]'. Picking the first and converting the rest.\n",
      "  euclidean_distances = centroid_df.swifter.apply(lambda x: np.sqrt(((input_dataframe - x) ** 2).sum(axis=1)))\n"
     ]
    },
    {
     "name": "stdout",
     "output_type": "stream",
     "text": [
      "The input Threshold was 10\n",
      "The calculated threshold is 3.9056594650384175\n"
     ]
    },
    {
     "data": {
      "application/vnd.jupyter.widget-view+json": {
       "model_id": "b941376d493941b682736b6a26ee5b7b",
       "version_major": 2,
       "version_minor": 0
      },
      "text/plain": [
       "Pandas Apply:   0%|          | 0/5 [00:00<?, ?it/s]"
      ]
     },
     "metadata": {},
     "output_type": "display_data"
    },
    {
     "name": "stderr",
     "output_type": "stream",
     "text": [
      "/tmp/ipykernel_2816/2434844461.py:34: PerformanceWarning: Concatenating sparse arrays with multiple fill values: '[0, 4.0, 1.0]'. Picking the first and converting the rest.\n",
      "  euclidean_distances = centroid_df.swifter.apply(lambda x: np.sqrt(((input_dataframe - x) ** 2).sum(axis=1)))\n",
      "/tmp/ipykernel_2816/2434844461.py:34: PerformanceWarning: Concatenating sparse arrays with multiple fill values: '[0, 1.0, 9.0, 4.0]'. Picking the first and converting the rest.\n",
      "  euclidean_distances = centroid_df.swifter.apply(lambda x: np.sqrt(((input_dataframe - x) ** 2).sum(axis=1)))\n",
      "/tmp/ipykernel_2816/2434844461.py:34: PerformanceWarning: Concatenating sparse arrays with multiple fill values: '[0, 1.0]'. Picking the first and converting the rest.\n",
      "  euclidean_distances = centroid_df.swifter.apply(lambda x: np.sqrt(((input_dataframe - x) ** 2).sum(axis=1)))\n"
     ]
    },
    {
     "name": "stdout",
     "output_type": "stream",
     "text": [
      "The input Threshold was 10\n",
      "The calculated threshold is 3.0329879875537373\n"
     ]
    }
   ],
   "source": [
    "error_values_kmeans_plus_plus=[]\n",
    "for no_of_clusters in range(2,6):\n",
    "    #Taking the cluster value from 2 to 5\n",
    "    for no_of_experiments in range(1,21):\n",
    "        #Performing experiments for each cluster 20 times\n",
    "        final_centroids,error_target_variable,sum_of_squared_error,run_time=kmeans_llyod_kpp(count_vectorizer_df,no_of_clusters,10,100)\n",
    "        #Storing the variables in dataframe\n",
    "        error_values_kmeans_plus_plus.append([no_of_clusters,no_of_experiments,error_target_variable,sum_of_squared_error,run_time])\n",
    "error_values_kmeans_plus_plus_df= pd.DataFrame(error_values_kmeans_plus_plus,columns=['No_of_Clusters', 'Iteration Number', 'Target Variable Error','Sum_of_squared_Errors','run_time'])  \n",
    "error_values_kmeans_plus_plus_df.to_csv('KPP_NYC_Full_data_02.csv')"
   ]
  },
  {
   "cell_type": "markdown",
   "id": "4d407296",
   "metadata": {},
   "source": [
    "# Done both the dataframes"
   ]
  },
  {
   "cell_type": "code",
   "execution_count": 312,
   "id": "280f5af2",
   "metadata": {},
   "outputs": [
    {
     "data": {
      "text/html": [
       "<div>\n",
       "<style scoped>\n",
       "    .dataframe tbody tr th:only-of-type {\n",
       "        vertical-align: middle;\n",
       "    }\n",
       "\n",
       "    .dataframe tbody tr th {\n",
       "        vertical-align: top;\n",
       "    }\n",
       "\n",
       "    .dataframe thead th {\n",
       "        text-align: right;\n",
       "    }\n",
       "</style>\n",
       "<table border=\"1\" class=\"dataframe\">\n",
       "  <thead>\n",
       "    <tr style=\"text-align: right;\">\n",
       "      <th></th>\n",
       "      <th>No_of_Clusters</th>\n",
       "      <th>Iteration Number</th>\n",
       "      <th>Target Variable Error</th>\n",
       "      <th>Sum_of_squared_Errors</th>\n",
       "      <th>run_time</th>\n",
       "    </tr>\n",
       "  </thead>\n",
       "  <tbody>\n",
       "    <tr>\n",
       "      <th>0</th>\n",
       "      <td>2</td>\n",
       "      <td>1</td>\n",
       "      <td>0.989</td>\n",
       "      <td>1.726854e+07</td>\n",
       "      <td>800.939299</td>\n",
       "    </tr>\n",
       "    <tr>\n",
       "      <th>1</th>\n",
       "      <td>2</td>\n",
       "      <td>2</td>\n",
       "      <td>0.989</td>\n",
       "      <td>1.726063e+07</td>\n",
       "      <td>805.787635</td>\n",
       "    </tr>\n",
       "    <tr>\n",
       "      <th>2</th>\n",
       "      <td>2</td>\n",
       "      <td>3</td>\n",
       "      <td>0.989</td>\n",
       "      <td>1.726267e+07</td>\n",
       "      <td>796.297279</td>\n",
       "    </tr>\n",
       "    <tr>\n",
       "      <th>3</th>\n",
       "      <td>2</td>\n",
       "      <td>4</td>\n",
       "      <td>0.989</td>\n",
       "      <td>1.728654e+07</td>\n",
       "      <td>792.505020</td>\n",
       "    </tr>\n",
       "    <tr>\n",
       "      <th>4</th>\n",
       "      <td>2</td>\n",
       "      <td>5</td>\n",
       "      <td>0.989</td>\n",
       "      <td>1.728654e+07</td>\n",
       "      <td>823.165903</td>\n",
       "    </tr>\n",
       "    <tr>\n",
       "      <th>...</th>\n",
       "      <td>...</td>\n",
       "      <td>...</td>\n",
       "      <td>...</td>\n",
       "      <td>...</td>\n",
       "      <td>...</td>\n",
       "    </tr>\n",
       "    <tr>\n",
       "      <th>75</th>\n",
       "      <td>5</td>\n",
       "      <td>16</td>\n",
       "      <td>0.989</td>\n",
       "      <td>1.721090e+07</td>\n",
       "      <td>1168.479554</td>\n",
       "    </tr>\n",
       "    <tr>\n",
       "      <th>76</th>\n",
       "      <td>5</td>\n",
       "      <td>17</td>\n",
       "      <td>0.989</td>\n",
       "      <td>1.722527e+07</td>\n",
       "      <td>1173.650828</td>\n",
       "    </tr>\n",
       "    <tr>\n",
       "      <th>77</th>\n",
       "      <td>5</td>\n",
       "      <td>18</td>\n",
       "      <td>0.989</td>\n",
       "      <td>1.727298e+07</td>\n",
       "      <td>1180.923944</td>\n",
       "    </tr>\n",
       "    <tr>\n",
       "      <th>78</th>\n",
       "      <td>5</td>\n",
       "      <td>19</td>\n",
       "      <td>0.989</td>\n",
       "      <td>1.725865e+07</td>\n",
       "      <td>1179.962063</td>\n",
       "    </tr>\n",
       "    <tr>\n",
       "      <th>79</th>\n",
       "      <td>5</td>\n",
       "      <td>20</td>\n",
       "      <td>0.989</td>\n",
       "      <td>1.723646e+07</td>\n",
       "      <td>1167.737996</td>\n",
       "    </tr>\n",
       "  </tbody>\n",
       "</table>\n",
       "<p>80 rows × 5 columns</p>\n",
       "</div>"
      ],
      "text/plain": [
       "    No_of_Clusters  Iteration Number  Target Variable Error  \\\n",
       "0                2                 1                  0.989   \n",
       "1                2                 2                  0.989   \n",
       "2                2                 3                  0.989   \n",
       "3                2                 4                  0.989   \n",
       "4                2                 5                  0.989   \n",
       "..             ...               ...                    ...   \n",
       "75               5                16                  0.989   \n",
       "76               5                17                  0.989   \n",
       "77               5                18                  0.989   \n",
       "78               5                19                  0.989   \n",
       "79               5                20                  0.989   \n",
       "\n",
       "    Sum_of_squared_Errors     run_time  \n",
       "0            1.726854e+07   800.939299  \n",
       "1            1.726063e+07   805.787635  \n",
       "2            1.726267e+07   796.297279  \n",
       "3            1.728654e+07   792.505020  \n",
       "4            1.728654e+07   823.165903  \n",
       "..                    ...          ...  \n",
       "75           1.721090e+07  1168.479554  \n",
       "76           1.722527e+07  1173.650828  \n",
       "77           1.727298e+07  1180.923944  \n",
       "78           1.725865e+07  1179.962063  \n",
       "79           1.723646e+07  1167.737996  \n",
       "\n",
       "[80 rows x 5 columns]"
      ]
     },
     "execution_count": 312,
     "metadata": {},
     "output_type": "execute_result"
    }
   ],
   "source": [
    "error_values_kmeans_plus_plus_df"
   ]
  },
  {
   "cell_type": "code",
   "execution_count": 313,
   "id": "2c0c9efc",
   "metadata": {},
   "outputs": [
    {
     "data": {
      "text/html": [
       "<div>\n",
       "<style scoped>\n",
       "    .dataframe tbody tr th:only-of-type {\n",
       "        vertical-align: middle;\n",
       "    }\n",
       "\n",
       "    .dataframe tbody tr th {\n",
       "        vertical-align: top;\n",
       "    }\n",
       "\n",
       "    .dataframe thead th {\n",
       "        text-align: right;\n",
       "    }\n",
       "</style>\n",
       "<table border=\"1\" class=\"dataframe\">\n",
       "  <thead>\n",
       "    <tr style=\"text-align: right;\">\n",
       "      <th></th>\n",
       "      <th>No_of_Clusters</th>\n",
       "      <th>Target Variable Error</th>\n",
       "      <th>Sum_of_squared_Errors</th>\n",
       "      <th>run_time</th>\n",
       "    </tr>\n",
       "  </thead>\n",
       "  <tbody>\n",
       "    <tr>\n",
       "      <th>0</th>\n",
       "      <td>2</td>\n",
       "      <td>0.989</td>\n",
       "      <td>1.725596e+07</td>\n",
       "      <td>814.231649</td>\n",
       "    </tr>\n",
       "    <tr>\n",
       "      <th>1</th>\n",
       "      <td>3</td>\n",
       "      <td>0.989</td>\n",
       "      <td>1.721939e+07</td>\n",
       "      <td>951.759722</td>\n",
       "    </tr>\n",
       "    <tr>\n",
       "      <th>2</th>\n",
       "      <td>4</td>\n",
       "      <td>0.989</td>\n",
       "      <td>1.717659e+07</td>\n",
       "      <td>1098.082392</td>\n",
       "    </tr>\n",
       "    <tr>\n",
       "      <th>3</th>\n",
       "      <td>5</td>\n",
       "      <td>0.989</td>\n",
       "      <td>1.718479e+07</td>\n",
       "      <td>1169.901751</td>\n",
       "    </tr>\n",
       "  </tbody>\n",
       "</table>\n",
       "</div>"
      ],
      "text/plain": [
       "   No_of_Clusters  Target Variable Error  Sum_of_squared_Errors     run_time\n",
       "0               2                  0.989           1.725596e+07   814.231649\n",
       "1               3                  0.989           1.721939e+07   951.759722\n",
       "2               4                  0.989           1.717659e+07  1098.082392\n",
       "3               5                  0.989           1.718479e+07  1169.901751"
      ]
     },
     "execution_count": 313,
     "metadata": {},
     "output_type": "execute_result"
    }
   ],
   "source": [
    "error_plot_kmeans_plus_plus=error_values_kmeans_plus_plus_df.groupby(['No_of_Clusters']).mean().reset_index()[['No_of_Clusters','Target Variable Error','Sum_of_squared_Errors','run_time']]\n",
    "error_plot_kmeans_plus_plus"
   ]
  },
  {
   "cell_type": "code",
   "execution_count": 314,
   "id": "d89e1b8b",
   "metadata": {},
   "outputs": [
    {
     "data": {
      "image/png": "[encoded data removed]",
      "text/plain": [
       "<Figure size 432x288 with 2 Axes>"
      ]
     },
     "metadata": {
      "needs_background": "light"
     },
     "output_type": "display_data"
    }
   ],
   "source": [
    "ax = error_plot_kmeans_plus_plus.plot(x='No_of_Clusters', y='Target Variable Error')\n",
    "ax2=error_plot_kmeans_plus_plus.plot(x='No_of_Clusters', y='Sum_of_squared_Errors',secondary_y=True, ax=ax)\n",
    "# set the axis labels and title\n",
    "ax.set_xlabel('No_of_Clusters')\n",
    "ax.set_ylabel('Target Variable Error')\n",
    "ax2.set_ylabel('Sum_of_squared_error')\n",
    "ax.set_title('Error and SSE vs No of clusters nyc K++')\n",
    "ax.legend(['Error'], loc='upper left')\n",
    "ax2.legend(['SSE'], loc='upper right')\n",
    "\n",
    "plt.show()"
   ]
  },
  {
   "cell_type": "code",
   "execution_count": 315,
   "id": "b0121b99",
   "metadata": {},
   "outputs": [
    {
     "data": {
      "image/png": "[encoded data removed]",
      "text/plain": [
       "<Figure size 432x720 with 1 Axes>"
      ]
     },
     "metadata": {
      "needs_background": "light"
     },
     "output_type": "display_data"
    },
    {
     "data": {
      "image/png": "[encoded data removed]",
      "text/plain": [
       "<Figure size 432x720 with 1 Axes>"
      ]
     },
     "metadata": {
      "needs_background": "light"
     },
     "output_type": "display_data"
    },
    {
     "data": {
      "image/png": "[encoded data removed]",
      "text/plain": [
       "<Figure size 432x720 with 1 Axes>"
      ]
     },
     "metadata": {
      "needs_background": "light"
     },
     "output_type": "display_data"
    },
    {
     "data": {
      "image/png": "[encoded data removed]",
      "text/plain": [
       "<Figure size 432x288 with 1 Axes>"
      ]
     },
     "metadata": {
      "needs_background": "light"
     },
     "output_type": "display_data"
    },
    {
     "data": {
      "image/png": "[encoded data removed]",
      "text/plain": [
       "<Figure size 432x288 with 1 Axes>"
      ]
     },
     "metadata": {
      "needs_background": "light"
     },
     "output_type": "display_data"
    },
    {
     "data": {
      "image/png": "[encoded data removed]",
      "text/plain": [
       "<Figure size 432x288 with 1 Axes>"
      ]
     },
     "metadata": {
      "needs_background": "light"
     },
     "output_type": "display_data"
    },
    {
     "data": {
      "image/png": "[encoded data removed]",
      "text/plain": [
       "<Figure size 432x288 with 1 Axes>"
      ]
     },
     "metadata": {
      "needs_background": "light"
     },
     "output_type": "display_data"
    }
   ],
   "source": [
    "import seaborn as sns\n",
    "plt.figure(figsize=(6, 10))\n",
    "#Plotting Box plot\n",
    "#Plotting values of errors for 80 iterations\n",
    "sns.boxplot(x=error_values_kmeans_plus_plus_df['No_of_Clusters'],y=error_values_kmeans_plus_plus_df['Target Variable Error'])\n",
    "plt.title('Box Plot for K means LLyod K++ NYC(error vs no of clusters)')\n",
    "plt.show()\n",
    "import seaborn as sns\n",
    "plt.figure(figsize=(6, 10))\n",
    "#Plotting Box plot\n",
    "#Plotting values of errors for 80 iterations\n",
    "sns.boxplot(x=error_values_kmeans_plus_plus_df['No_of_Clusters'],y=error_values_kmeans_plus_plus_df['Sum_of_squared_Errors'])\n",
    "plt.title('Box Plot for K means LLyod k++( NYC SSE vs no of clusters)')\n",
    "plt.show()\n",
    "import seaborn as sns\n",
    "plt.figure(figsize=(6, 10))\n",
    "#Plotting Box plot\n",
    "#Plotting values of errors for 80 iterations\n",
    "sns.boxplot(x=error_values_kmeans_plus_plus_df['No_of_Clusters'],y=error_values_kmeans_plus_plus_df['run_time'])\n",
    "plt.title('Box Plot for K means LLyod k++ NYC(Run Time vs no of clusters)')\n",
    "plt.show()\n",
    "sns.lineplot(x=\"No_of_Clusters\", y=\"Sum_of_squared_Errors\", hue=\"Algorithm_Used\", data=k_means_metric)\n",
    "plt.title('NYC_Comparison')\n",
    "plt.show()\n",
    "sns.barplot(x=\"No_of_Clusters\", y=\"Sum_of_squared_Errors\", hue=\"Algorithm_Used\", data=k_means_metric)\n",
    "plt.title('NYC_Comparison')\n",
    "plt.show()\n",
    "sns.barplot(x=\"No_of_Clusters\", y=\"Target Variable Error\", hue=\"Algorithm_Used\", data=k_means_metric)\n",
    "plt.title('NYC_Comparison')\n",
    "plt.show()\n",
    "sns.lineplot(x=\"No_of_Clusters\", y=\"run_time\", hue=\"Algorithm_Used\", data=k_means_metric)\n",
    "plt.title('NYC_Comparison')\n",
    "plt.show()\n"
   ]
  },
  {
   "cell_type": "markdown",
   "id": "3127215b",
   "metadata": {},
   "source": [
    "# Entire Dataset "
   ]
  },
  {
   "cell_type": "code",
   "execution_count": 279,
   "id": "7e4af47a",
   "metadata": {},
   "outputs": [],
   "source": [
    "df=pd.read_csv('KPP_NYC.csv')"
   ]
  },
  {
   "cell_type": "code",
   "execution_count": 282,
   "id": "cd54bc7c",
   "metadata": {},
   "outputs": [
    {
     "data": {
      "image/png": "[encoded data removed]",
      "text/plain": [
       "<Figure size 432x288 with 1 Axes>"
      ]
     },
     "metadata": {
      "needs_background": "light"
     },
     "output_type": "display_data"
    }
   ],
   "source": [
    "df.plot(x='No_of_Clusters', y='Sum_of_squared_Errors')\n",
    "plt.title('Entire Dataset of NYC SSE K++')\n",
    "plt.show()"
   ]
  },
  {
   "cell_type": "code",
   "execution_count": 270,
   "id": "be71b685",
   "metadata": {},
   "outputs": [],
   "source": [
    "error_values_kmeans_convergence['Algorithm_Used']='K_Means_SSE_Convergence'\n",
    "error_plot_kmeans_plus_plus['Algorithm_Used']='K++Initialization'\n",
    "error_plot['Algorithm_Used']='Llyod_Kmeans'"
   ]
  },
  {
   "cell_type": "code",
   "execution_count": 271,
   "id": "57e50613",
   "metadata": {},
   "outputs": [],
   "source": [
    "k_means_metric=pd.concat([error_values_kmeans_convergence,error_plot_kmeans_plus_plus,error_plot],axis=0)"
   ]
  },
  {
   "cell_type": "code",
   "execution_count": 272,
   "id": "1c4cba33",
   "metadata": {},
   "outputs": [
    {
     "data": {
      "text/html": [
       "<div>\n",
       "<style scoped>\n",
       "    .dataframe tbody tr th:only-of-type {\n",
       "        vertical-align: middle;\n",
       "    }\n",
       "\n",
       "    .dataframe tbody tr th {\n",
       "        vertical-align: top;\n",
       "    }\n",
       "\n",
       "    .dataframe thead th {\n",
       "        text-align: right;\n",
       "    }\n",
       "</style>\n",
       "<table border=\"1\" class=\"dataframe\">\n",
       "  <thead>\n",
       "    <tr style=\"text-align: right;\">\n",
       "      <th></th>\n",
       "      <th>No_of_Clusters</th>\n",
       "      <th>Target Variable Error</th>\n",
       "      <th>Sum_of_squared_Errors</th>\n",
       "      <th>run_time</th>\n",
       "      <th>Algorithm_Used</th>\n",
       "    </tr>\n",
       "  </thead>\n",
       "  <tbody>\n",
       "    <tr>\n",
       "      <th>0</th>\n",
       "      <td>2</td>\n",
       "      <td>0.987</td>\n",
       "      <td>323164.41775</td>\n",
       "      <td>19.125082</td>\n",
       "      <td>K_Means_SSE_Convergence</td>\n",
       "    </tr>\n",
       "    <tr>\n",
       "      <th>1</th>\n",
       "      <td>3</td>\n",
       "      <td>0.987</td>\n",
       "      <td>319200.39895</td>\n",
       "      <td>24.326908</td>\n",
       "      <td>K_Means_SSE_Convergence</td>\n",
       "    </tr>\n",
       "    <tr>\n",
       "      <th>2</th>\n",
       "      <td>4</td>\n",
       "      <td>0.987</td>\n",
       "      <td>317481.20300</td>\n",
       "      <td>29.791367</td>\n",
       "      <td>K_Means_SSE_Convergence</td>\n",
       "    </tr>\n",
       "    <tr>\n",
       "      <th>3</th>\n",
       "      <td>5</td>\n",
       "      <td>0.987</td>\n",
       "      <td>316789.35695</td>\n",
       "      <td>38.485259</td>\n",
       "      <td>K_Means_SSE_Convergence</td>\n",
       "    </tr>\n",
       "    <tr>\n",
       "      <th>0</th>\n",
       "      <td>2</td>\n",
       "      <td>0.987</td>\n",
       "      <td>323498.74155</td>\n",
       "      <td>10.852976</td>\n",
       "      <td>K++Initialization</td>\n",
       "    </tr>\n",
       "    <tr>\n",
       "      <th>1</th>\n",
       "      <td>3</td>\n",
       "      <td>0.987</td>\n",
       "      <td>321531.79425</td>\n",
       "      <td>12.703271</td>\n",
       "      <td>K++Initialization</td>\n",
       "    </tr>\n",
       "    <tr>\n",
       "      <th>2</th>\n",
       "      <td>4</td>\n",
       "      <td>0.987</td>\n",
       "      <td>322382.79765</td>\n",
       "      <td>14.441150</td>\n",
       "      <td>K++Initialization</td>\n",
       "    </tr>\n",
       "    <tr>\n",
       "      <th>3</th>\n",
       "      <td>5</td>\n",
       "      <td>0.987</td>\n",
       "      <td>321286.16060</td>\n",
       "      <td>16.245698</td>\n",
       "      <td>K++Initialization</td>\n",
       "    </tr>\n",
       "    <tr>\n",
       "      <th>0</th>\n",
       "      <td>2</td>\n",
       "      <td>0.987</td>\n",
       "      <td>323264.92750</td>\n",
       "      <td>10.678611</td>\n",
       "      <td>Llyod_Kmeans</td>\n",
       "    </tr>\n",
       "    <tr>\n",
       "      <th>1</th>\n",
       "      <td>3</td>\n",
       "      <td>0.987</td>\n",
       "      <td>321638.51665</td>\n",
       "      <td>12.615516</td>\n",
       "      <td>Llyod_Kmeans</td>\n",
       "    </tr>\n",
       "    <tr>\n",
       "      <th>2</th>\n",
       "      <td>4</td>\n",
       "      <td>0.987</td>\n",
       "      <td>322363.83065</td>\n",
       "      <td>14.404066</td>\n",
       "      <td>Llyod_Kmeans</td>\n",
       "    </tr>\n",
       "    <tr>\n",
       "      <th>3</th>\n",
       "      <td>5</td>\n",
       "      <td>0.987</td>\n",
       "      <td>320988.60535</td>\n",
       "      <td>16.202976</td>\n",
       "      <td>Llyod_Kmeans</td>\n",
       "    </tr>\n",
       "  </tbody>\n",
       "</table>\n",
       "</div>"
      ],
      "text/plain": [
       "   No_of_Clusters  Target Variable Error  Sum_of_squared_Errors   run_time  \\\n",
       "0               2                  0.987           323164.41775  19.125082   \n",
       "1               3                  0.987           319200.39895  24.326908   \n",
       "2               4                  0.987           317481.20300  29.791367   \n",
       "3               5                  0.987           316789.35695  38.485259   \n",
       "0               2                  0.987           323498.74155  10.852976   \n",
       "1               3                  0.987           321531.79425  12.703271   \n",
       "2               4                  0.987           322382.79765  14.441150   \n",
       "3               5                  0.987           321286.16060  16.245698   \n",
       "0               2                  0.987           323264.92750  10.678611   \n",
       "1               3                  0.987           321638.51665  12.615516   \n",
       "2               4                  0.987           322363.83065  14.404066   \n",
       "3               5                  0.987           320988.60535  16.202976   \n",
       "\n",
       "            Algorithm_Used  \n",
       "0  K_Means_SSE_Convergence  \n",
       "1  K_Means_SSE_Convergence  \n",
       "2  K_Means_SSE_Convergence  \n",
       "3  K_Means_SSE_Convergence  \n",
       "0        K++Initialization  \n",
       "1        K++Initialization  \n",
       "2        K++Initialization  \n",
       "3        K++Initialization  \n",
       "0             Llyod_Kmeans  \n",
       "1             Llyod_Kmeans  \n",
       "2             Llyod_Kmeans  \n",
       "3             Llyod_Kmeans  "
      ]
     },
     "execution_count": 272,
     "metadata": {},
     "output_type": "execute_result"
    }
   ],
   "source": [
    "k_means_metric"
   ]
  },
  {
   "cell_type": "code",
   "execution_count": null,
   "id": "eef9bcb8",
   "metadata": {},
   "outputs": [],
   "source": []
  },
  {
   "cell_type": "code",
   "execution_count": null,
   "id": "c25b84cf",
   "metadata": {},
   "outputs": [],
   "source": []
  },
  {
   "cell_type": "markdown",
   "id": "cfce7536",
   "metadata": {},
   "source": [
    "# K means using SSE"
   ]
  },
  {
   "cell_type": "code",
   "execution_count": 260,
   "id": "e9976e52",
   "metadata": {},
   "outputs": [],
   "source": [
    "\n",
    "import numpy as np\n",
    "import swifter\n",
    "from scipy.spatial.distance import euclidean\n",
    "from scipy.spatial.distance import cdist\n",
    "import time\n",
    "\n",
    "         \n",
    "def get_random_centroids(input_dataframe,no_of_clusters):\n",
    "    '''\n",
    "    The function takes a dataframe as an input and creates a random K centroids from uniform distribution\n",
    "    '''\n",
    "    #Initialize random centroids from dataset\n",
    "    list_of_centroids = []\n",
    "    \n",
    "    for cluster in range(no_of_clusters):\n",
    "        #Generates a centroids randomly from uniform distribution \n",
    "        random_centroid = input_dataframe.swifter.apply(lambda x:float(x.sample()))\n",
    "        #From the given dataset it randomly selects centroids\n",
    "        list_of_centroids.append(random_centroid)\n",
    "    \n",
    "    centroid_df=pd.concat(list_of_centroids,axis=1)\n",
    "    #Naming the column as Label for ease of purpose\n",
    "    centroid_df.index.name='Cluster_Assigned'\n",
    "    '''\n",
    "    The function returns a dataframe consisting of no of clusters required\n",
    "    '''\n",
    "    return centroid_df\n",
    "\n",
    "def get_labels(input_dataframe,centroid_df):\n",
    "    '''\n",
    "    This function takes centroids as input and takes the initial dataframe and gives them labels to which cluster\n",
    "    they belong to\n",
    "    '''\n",
    "    euclidean_distances = centroid_df.swifter.apply(lambda x: np.sqrt(((input_dataframe - x) ** 2).sum(axis=1)))\n",
    "    #Here we use idxmin functionality to handle ties in the dataset \n",
    "    #and it randomly assigns if euclideab distance results in a tie\n",
    "    '''\n",
    "    This function returns the index of minimum distances as a dataframe\n",
    "    '''\n",
    "    return pd.DataFrame(euclidean_distances.idxmin(axis=1))\n",
    "\n",
    "        \n",
    "def get_new_centroids(df_clustered_label,input_dataframe):\n",
    "    '''\n",
    "    The input dataframe is the dataframe with clusters labelled and the original dataframe\n",
    "    '''\n",
    "    df_original_label_join=input_dataframe.join(df_clustered_label)\n",
    "    #This is a dataframe that consists of datapoints as well as the cluster assigned \n",
    "    df_original_label_join.rename(columns={0:'Cluster_Assigned'},inplace=True)\n",
    "    #To get the new centroids we group by the Label column and take its mean\n",
    "    new_centroids=df_original_label_join.groupby('Cluster_Assigned').mean()\n",
    "    #Here transpose is taken to maintain consistency between original random centroids and \n",
    "    return new_centroids.T\n",
    "\n",
    "\n",
    "def kmeans_SSE_Convergence(input_dataframe,no_of_clusters,sum_of_squared_threshold,no_of_iterations):\n",
    "    '''\n",
    "    Treats K means as an optimization Problem and stops when difference in SSE reaches a threshold\n",
    "    The input to the function is the dataframe,no of clusters and a threshold which indicates the perecentage change\n",
    "    It indicates user can set the percentage change in the SSE and once the percentage change in SSE drops to the \n",
    "    Threshold we can see the algorithm has converged\n",
    "    '''\n",
    "    start_time=time.time()\n",
    "    iteration=0\n",
    "    #Step 1 of k means is to get random _Centroids\n",
    "    initial_centroid=get_random_centroids(input_dataframe,no_of_clusters)\n",
    "    #Randomly generated centroids would be stored on centroids \n",
    "    #Storing the column list to handle K ties \n",
    "    initial_centroid_column_list=initial_centroid.columns.to_list()\n",
    "    #Get initial labels\n",
    "    df_cluster_label=get_labels(input_dataframe,initial_centroid)\n",
    "    #Compute the initial Sum of squared Errors\n",
    "    initial_sum_of_squared_errors=sum_of_square_error_function(df_cluster_label,input_dataframe,initial_centroid,no_of_clusters)\n",
    "    \n",
    "    \n",
    "    while True:\n",
    "        '''\n",
    "        The while loop runs until convergence condition is met\n",
    "        '''\n",
    "        \n",
    "        df_new_centroids=get_new_centroids(df_cluster_label,input_dataframe)\n",
    "        '''\n",
    "        Handling (Maintaining K Centroids)\n",
    "        '''\n",
    "        new_list_of_columns=df_new_centroids.columns.to_list()\n",
    "        #Keeping the number of clusters same\n",
    "        initial_set_columns = set(initial_centroid_column_list)\n",
    "        new_set_columns = set(new_list_of_columns)\n",
    "        missing_columns = initial_set_columns - new_set_columns\n",
    "        for col in missing_columns:\n",
    "            df_new_centroids[col]=initial_centroid[col]\n",
    "            \n",
    "        '''\n",
    "        Assigning labels to new centroids\n",
    "        '''\n",
    "        df_cluster_label_iter=get_labels(input_dataframe,df_new_centroids)\n",
    "        '''\n",
    "        Calculating the current SSE\n",
    "        \n",
    "        '''\n",
    "        updated_sum_of_squared_errors=sum_of_square_error_function(df_cluster_label_iter,input_dataframe,df_new_centroids,no_of_clusters)\n",
    "        \n",
    "        #Calculating the convergence criteria\n",
    "        \n",
    "        percentage_change=((initial_sum_of_squared_errors-updated_sum_of_squared_errors)/(initial_sum_of_squared_errors))*100\n",
    "        \n",
    "        iteration+=1\n",
    "        #Stopping criteria\n",
    "        #Indicating new clusters have reduced the SSE\n",
    "        if percentage_change>0:\n",
    "            if percentage_change>=sum_of_squared_threshold or iteration>no_of_iterations:\n",
    "                print(\"The input SSE Threshold was {}\".format(sum_of_squared_threshold))\n",
    "                print(\"The percentage change is {}\".format(percentage_change))\n",
    "                print(\"The initial error was {} and final error was {}\".format(initial_sum_of_squared_errors,updated_sum_of_squared_errors))\n",
    "                error=cluster_error_target_variable(df_cluster_label_iter,input_dataframe,no_of_clusters,df_new_centroids)\n",
    "                end_time=time.time()\n",
    "                return df_new_centroids,error,updated_sum_of_squared_errors,end_time-start_time\n",
    "                break\n",
    "                \n",
    "        else:\n",
    "            initial_centroid= df_new_centroids\n",
    "            df_cluster_label=df_cluster_label_iter\n",
    "            initial_sum_of_squared_errors=updated_sum_of_squared_errors\n",
    "        \n",
    "\n",
    "def sum_of_square_error_function(df_cluster_label,input_dataframe,df_new_centroids,no_of_clusters):\n",
    "    '''\n",
    "    This function calculates the euclidean distance between new formed \n",
    "    centroids and the datapoints in that cluster\n",
    "    '''\n",
    "    df_data_label=input_dataframe.join(df_cluster_label)\n",
    "    #Renaming the column\n",
    "    df_data_label.rename(columns={0:'Cluster_Assigned'},inplace=True)\n",
    "    total_error=[]\n",
    "    for cluster in range(no_of_clusters):\n",
    "        df_data_label_cluster=df_data_label[df_data_label['Cluster_Assigned']==cluster]\n",
    "        df_data_label_cluster=df_data_label_cluster.drop('Cluster_Assigned',axis=1)\n",
    "        centroids=pd.DataFrame(df_new_centroids[cluster])\n",
    "        euclidean_distance=cdist(df_data_label_cluster,centroids.T,metric='euclidean')\n",
    "        total_error.append(np.nansum(euclidean_distance))\n",
    "    \n",
    "    return round(np.nansum(total_error),3)\n",
    "        \n",
    "        \n",
    "        \n",
    "def cluster_error_target_variable(df_cluster_label,input_dataframe,no_of_clusters,df_new_centroids):\n",
    "    '''\n",
    "    This calculates the error for every cluster and sums up the error based on the formula for error\n",
    "    '''\n",
    "    \n",
    "    target_variable_centroid=input_dataframe.groupby('editorsSelection').mean().reset_index()\n",
    "    '''\n",
    "    Target variable centroid is input dataframe taking mean\n",
    "    '''\n",
    "    new_centroids= df_new_centroids.T\n",
    "    #\n",
    "    df_data_label=input_dataframe.join(df_cluster_label)\n",
    "    #Renaming the column\n",
    "    df_data_label.rename(columns={0:'Cluster_Assigned'},inplace=True)\n",
    "\n",
    "    # Get the columns of the data dataframe\n",
    "    columns = input_dataframe.columns\n",
    "\n",
    "    sum_of_square_Error= []\n",
    "    # Compute the distance between each data point and its assigned centroid\n",
    "    for i in range(len(new_centroids)):   \n",
    "        s=[]\n",
    "        for j in range(len(target_variable_centroid)): ### mean centroid\n",
    "            #Calculating the error between target variable centroid and new centroids\n",
    "            distance = np.sum(np.square(target_variable_centroid[target_variable_centroid['editorsSelection']==j][columns] - new_centroids.iloc[i][columns]), axis=1)\n",
    "            #Storing the distance\n",
    "            s.append(distance.iloc[0])\n",
    "        sum_of_square_Error.append(s)\n",
    "    \n",
    "    \n",
    "    merged_new_label=pd.DataFrame(sum_of_square_Error).idxmin(axis=1)\n",
    "    \n",
    "    #Merging of cluster\n",
    "    mapping_dictionary=merged_new_label.to_dict() \n",
    "    \n",
    "    #Getting clusters to a new column\n",
    "    df_data_label['target_variable_cluster']=df_data_label['Cluster_Assigned'].replace(mapping_dictionary)\n",
    "    \n",
    "    \n",
    "    total_cluster_error = []\n",
    "    \n",
    "    for class_name in range(0,2):\n",
    "        df_cluster = df_data_label[df_data_label['target_variable_cluster'] == class_name] \n",
    "        yi = len(df_cluster[df_cluster['editorsSelection'] == 1]) \n",
    "        #Calculating Ni\n",
    "        ni = len(df_cluster[df_cluster['editorsSelection'] == 0]) \n",
    "        if yi == 0 and ni == 0:\n",
    "            error_ci = 0\n",
    "        else:\n",
    "            error_ci = ni / (ni + yi) # calculate the error rate of the current cluster\n",
    "        total_cluster_error.append(error_ci)\n",
    "    return round(sum(total_cluster_error),3)"
   ]
  },
  {
   "cell_type": "code",
   "execution_count": 311,
   "id": "b55ce465",
   "metadata": {
    "scrolled": false
   },
   "outputs": [
    {
     "data": {
      "application/vnd.jupyter.widget-view+json": {
       "model_id": "27f0bc9bbd764aa2b15f0a4caf364c6f",
       "version_major": 2,
       "version_minor": 0
      },
      "text/plain": [
       "Pandas Apply:   0%|          | 0/168 [00:00<?, ?it/s]"
      ]
     },
     "metadata": {},
     "output_type": "display_data"
    },
    {
     "data": {
      "application/vnd.jupyter.widget-view+json": {
       "model_id": "355b864b7bb24d76abce70dd2f036b43",
       "version_major": 2,
       "version_minor": 0
      },
      "text/plain": [
       "Pandas Apply:   0%|          | 0/168 [00:00<?, ?it/s]"
      ]
     },
     "metadata": {},
     "output_type": "display_data"
    },
    {
     "data": {
      "application/vnd.jupyter.widget-view+json": {
       "model_id": "3ed99704c2d441979bf1cf407cd85412",
       "version_major": 2,
       "version_minor": 0
      },
      "text/plain": [
       "Pandas Apply:   0%|          | 0/2 [00:00<?, ?it/s]"
      ]
     },
     "metadata": {},
     "output_type": "display_data"
    },
    {
     "data": {
      "application/vnd.jupyter.widget-view+json": {
       "model_id": "d8e8b262da3e4878a1087b7f4295e01d",
       "version_major": 2,
       "version_minor": 0
      },
      "text/plain": [
       "Pandas Apply:   0%|          | 0/2 [00:00<?, ?it/s]"
      ]
     },
     "metadata": {},
     "output_type": "display_data"
    },
    {
     "name": "stdout",
     "output_type": "stream",
     "text": [
      "The input SSE Threshold was 10\n",
      "The percentage change is 19.313666373168832\n",
      "The initial error was 21424358.949 and final error was 17286529.739\n"
     ]
    },
    {
     "data": {
      "application/vnd.jupyter.widget-view+json": {
       "model_id": "2fee1b0e39e547d2a55e3b077b0172bc",
       "version_major": 2,
       "version_minor": 0
      },
      "text/plain": [
       "Pandas Apply:   0%|          | 0/168 [00:00<?, ?it/s]"
      ]
     },
     "metadata": {},
     "output_type": "display_data"
    },
    {
     "data": {
      "application/vnd.jupyter.widget-view+json": {
       "model_id": "31a7f0e855274b319ec8183dbd8bf233",
       "version_major": 2,
       "version_minor": 0
      },
      "text/plain": [
       "Pandas Apply:   0%|          | 0/168 [00:00<?, ?it/s]"
      ]
     },
     "metadata": {},
     "output_type": "display_data"
    },
    {
     "data": {
      "application/vnd.jupyter.widget-view+json": {
       "model_id": "d4aaceb0cef54db18f5adc7b497c39d2",
       "version_major": 2,
       "version_minor": 0
      },
      "text/plain": [
       "Pandas Apply:   0%|          | 0/2 [00:00<?, ?it/s]"
      ]
     },
     "metadata": {},
     "output_type": "display_data"
    },
    {
     "data": {
      "application/vnd.jupyter.widget-view+json": {
       "model_id": "7dfec92b29a44af2a8ba5a432fdcfc28",
       "version_major": 2,
       "version_minor": 0
      },
      "text/plain": [
       "Pandas Apply:   0%|          | 0/2 [00:00<?, ?it/s]"
      ]
     },
     "metadata": {},
     "output_type": "display_data"
    },
    {
     "name": "stdout",
     "output_type": "stream",
     "text": [
      "The input SSE Threshold was 10\n",
      "The percentage change is 28.551935018706782\n",
      "The initial error was 23764943.842 and final error was 16979592.519\n"
     ]
    },
    {
     "data": {
      "application/vnd.jupyter.widget-view+json": {
       "model_id": "b4bb25eda89f42b181b4d05829b4ce27",
       "version_major": 2,
       "version_minor": 0
      },
      "text/plain": [
       "Pandas Apply:   0%|          | 0/168 [00:00<?, ?it/s]"
      ]
     },
     "metadata": {},
     "output_type": "display_data"
    },
    {
     "data": {
      "application/vnd.jupyter.widget-view+json": {
       "model_id": "a82a5c91764a4892bb34cba3364bfa32",
       "version_major": 2,
       "version_minor": 0
      },
      "text/plain": [
       "Pandas Apply:   0%|          | 0/168 [00:00<?, ?it/s]"
      ]
     },
     "metadata": {},
     "output_type": "display_data"
    },
    {
     "data": {
      "application/vnd.jupyter.widget-view+json": {
       "model_id": "25417cc768cd4336a4deffc28f536281",
       "version_major": 2,
       "version_minor": 0
      },
      "text/plain": [
       "Pandas Apply:   0%|          | 0/2 [00:00<?, ?it/s]"
      ]
     },
     "metadata": {},
     "output_type": "display_data"
    },
    {
     "data": {
      "application/vnd.jupyter.widget-view+json": {
       "model_id": "bbbd9d2303fa4d8393e18dfadbd76bd2",
       "version_major": 2,
       "version_minor": 0
      },
      "text/plain": [
       "Pandas Apply:   0%|          | 0/2 [00:00<?, ?it/s]"
      ]
     },
     "metadata": {},
     "output_type": "display_data"
    },
    {
     "name": "stdout",
     "output_type": "stream",
     "text": [
      "The input SSE Threshold was 10\n",
      "The percentage change is 15.12616221551244\n",
      "The initial error was 20309161.896 and final error was 17237165.123\n"
     ]
    },
    {
     "data": {
      "application/vnd.jupyter.widget-view+json": {
       "model_id": "7d9ed7f34259461bafa5eeac41ee39ce",
       "version_major": 2,
       "version_minor": 0
      },
      "text/plain": [
       "Pandas Apply:   0%|          | 0/168 [00:00<?, ?it/s]"
      ]
     },
     "metadata": {},
     "output_type": "display_data"
    },
    {
     "data": {
      "application/vnd.jupyter.widget-view+json": {
       "model_id": "a29765662f2b4eab9871d921e0040f4b",
       "version_major": 2,
       "version_minor": 0
      },
      "text/plain": [
       "Pandas Apply:   0%|          | 0/168 [00:00<?, ?it/s]"
      ]
     },
     "metadata": {},
     "output_type": "display_data"
    },
    {
     "data": {
      "application/vnd.jupyter.widget-view+json": {
       "model_id": "3cae5bd5694b44b9b9d4f79500344199",
       "version_major": 2,
       "version_minor": 0
      },
      "text/plain": [
       "Pandas Apply:   0%|          | 0/2 [00:00<?, ?it/s]"
      ]
     },
     "metadata": {},
     "output_type": "display_data"
    },
    {
     "data": {
      "application/vnd.jupyter.widget-view+json": {
       "model_id": "89c32d9a6f7d45e3a15227bdea5ea86f",
       "version_major": 2,
       "version_minor": 0
      },
      "text/plain": [
       "Pandas Apply:   0%|          | 0/2 [00:00<?, ?it/s]"
      ]
     },
     "metadata": {},
     "output_type": "display_data"
    },
    {
     "name": "stdout",
     "output_type": "stream",
     "text": [
      "The input SSE Threshold was 10\n",
      "The percentage change is 37.77462193101246\n",
      "The initial error was 27780522.196 and final error was 17286534.966\n"
     ]
    },
    {
     "data": {
      "application/vnd.jupyter.widget-view+json": {
       "model_id": "64757a586b6e4ed384679d6638789b09",
       "version_major": 2,
       "version_minor": 0
      },
      "text/plain": [
       "Pandas Apply:   0%|          | 0/168 [00:00<?, ?it/s]"
      ]
     },
     "metadata": {},
     "output_type": "display_data"
    },
    {
     "data": {
      "application/vnd.jupyter.widget-view+json": {
       "model_id": "c3777aa7b3e44b0c9cd6b180a7423c8b",
       "version_major": 2,
       "version_minor": 0
      },
      "text/plain": [
       "Pandas Apply:   0%|          | 0/168 [00:00<?, ?it/s]"
      ]
     },
     "metadata": {},
     "output_type": "display_data"
    },
    {
     "data": {
      "application/vnd.jupyter.widget-view+json": {
       "model_id": "fb28db82b7db47b7875981b71ba2cd34",
       "version_major": 2,
       "version_minor": 0
      },
      "text/plain": [
       "Pandas Apply:   0%|          | 0/2 [00:00<?, ?it/s]"
      ]
     },
     "metadata": {},
     "output_type": "display_data"
    },
    {
     "data": {
      "application/vnd.jupyter.widget-view+json": {
       "model_id": "79a21a77938e4cdf9fc729db0630c913",
       "version_major": 2,
       "version_minor": 0
      },
      "text/plain": [
       "Pandas Apply:   0%|          | 0/2 [00:00<?, ?it/s]"
      ]
     },
     "metadata": {},
     "output_type": "display_data"
    },
    {
     "name": "stdout",
     "output_type": "stream",
     "text": [
      "The input SSE Threshold was 10\n",
      "The percentage change is 21.333142169022253\n",
      "The initial error was 21795037.525 and final error was 17145471.184\n"
     ]
    },
    {
     "data": {
      "application/vnd.jupyter.widget-view+json": {
       "model_id": "235e459ae0bf4824a5134041d621ef75",
       "version_major": 2,
       "version_minor": 0
      },
      "text/plain": [
       "Pandas Apply:   0%|          | 0/168 [00:00<?, ?it/s]"
      ]
     },
     "metadata": {},
     "output_type": "display_data"
    },
    {
     "data": {
      "application/vnd.jupyter.widget-view+json": {
       "model_id": "f3b6aeb8c0874971a4bdd7c0920be52c",
       "version_major": 2,
       "version_minor": 0
      },
      "text/plain": [
       "Pandas Apply:   0%|          | 0/168 [00:00<?, ?it/s]"
      ]
     },
     "metadata": {},
     "output_type": "display_data"
    },
    {
     "data": {
      "application/vnd.jupyter.widget-view+json": {
       "model_id": "7043caed351d4889bc4ff3decbda3a0a",
       "version_major": 2,
       "version_minor": 0
      },
      "text/plain": [
       "Pandas Apply:   0%|          | 0/2 [00:00<?, ?it/s]"
      ]
     },
     "metadata": {},
     "output_type": "display_data"
    },
    {
     "data": {
      "application/vnd.jupyter.widget-view+json": {
       "model_id": "0ab2b6f4b2c0428f9a1833e09027c746",
       "version_major": 2,
       "version_minor": 0
      },
      "text/plain": [
       "Pandas Apply:   0%|          | 0/2 [00:00<?, ?it/s]"
      ]
     },
     "metadata": {},
     "output_type": "display_data"
    },
    {
     "name": "stdout",
     "output_type": "stream",
     "text": [
      "The input SSE Threshold was 10\n",
      "The percentage change is 29.7167208475411\n",
      "The initial error was 24220964.446 and final error was 17023288.055\n"
     ]
    },
    {
     "data": {
      "application/vnd.jupyter.widget-view+json": {
       "model_id": "30c471f3d753401cb1667281fcfd332d",
       "version_major": 2,
       "version_minor": 0
      },
      "text/plain": [
       "Pandas Apply:   0%|          | 0/168 [00:00<?, ?it/s]"
      ]
     },
     "metadata": {},
     "output_type": "display_data"
    },
    {
     "data": {
      "application/vnd.jupyter.widget-view+json": {
       "model_id": "62c0dca768ea4a8ba53cb4876e9a3c44",
       "version_major": 2,
       "version_minor": 0
      },
      "text/plain": [
       "Pandas Apply:   0%|          | 0/168 [00:00<?, ?it/s]"
      ]
     },
     "metadata": {},
     "output_type": "display_data"
    },
    {
     "data": {
      "application/vnd.jupyter.widget-view+json": {
       "model_id": "18e5c2c4507c46ea86d68b39f3b438a3",
       "version_major": 2,
       "version_minor": 0
      },
      "text/plain": [
       "Pandas Apply:   0%|          | 0/2 [00:00<?, ?it/s]"
      ]
     },
     "metadata": {},
     "output_type": "display_data"
    },
    {
     "data": {
      "application/vnd.jupyter.widget-view+json": {
       "model_id": "4479a4212062424fb3842b50a5a54a2c",
       "version_major": 2,
       "version_minor": 0
      },
      "text/plain": [
       "Pandas Apply:   0%|          | 0/2 [00:00<?, ?it/s]"
      ]
     },
     "metadata": {},
     "output_type": "display_data"
    },
    {
     "name": "stdout",
     "output_type": "stream",
     "text": [
      "The input SSE Threshold was 10\n",
      "The percentage change is 17.993282620209214\n",
      "The initial error was 21079414.952 and final error was 17286536.245\n"
     ]
    },
    {
     "data": {
      "application/vnd.jupyter.widget-view+json": {
       "model_id": "a1e7ec256eed44e483f57381357c63b8",
       "version_major": 2,
       "version_minor": 0
      },
      "text/plain": [
       "Pandas Apply:   0%|          | 0/168 [00:00<?, ?it/s]"
      ]
     },
     "metadata": {},
     "output_type": "display_data"
    },
    {
     "data": {
      "application/vnd.jupyter.widget-view+json": {
       "model_id": "685d7d667f1b4feba2196bd4b7f9d831",
       "version_major": 2,
       "version_minor": 0
      },
      "text/plain": [
       "Pandas Apply:   0%|          | 0/168 [00:00<?, ?it/s]"
      ]
     },
     "metadata": {},
     "output_type": "display_data"
    },
    {
     "data": {
      "application/vnd.jupyter.widget-view+json": {
       "model_id": "052b487861024672a48eba73ae765245",
       "version_major": 2,
       "version_minor": 0
      },
      "text/plain": [
       "Pandas Apply:   0%|          | 0/2 [00:00<?, ?it/s]"
      ]
     },
     "metadata": {},
     "output_type": "display_data"
    },
    {
     "data": {
      "application/vnd.jupyter.widget-view+json": {
       "model_id": "d8b8c90bd1b54b35906890c4291365fc",
       "version_major": 2,
       "version_minor": 0
      },
      "text/plain": [
       "Pandas Apply:   0%|          | 0/2 [00:00<?, ?it/s]"
      ]
     },
     "metadata": {},
     "output_type": "display_data"
    },
    {
     "name": "stdout",
     "output_type": "stream",
     "text": [
      "The input SSE Threshold was 10\n",
      "The percentage change is 15.159933488145011\n",
      "The initial error was 20375443.147 and final error was 17286539.518\n"
     ]
    },
    {
     "data": {
      "application/vnd.jupyter.widget-view+json": {
       "model_id": "4b36e69603aa43ee8a5cbda6348e85da",
       "version_major": 2,
       "version_minor": 0
      },
      "text/plain": [
       "Pandas Apply:   0%|          | 0/168 [00:00<?, ?it/s]"
      ]
     },
     "metadata": {},
     "output_type": "display_data"
    },
    {
     "data": {
      "application/vnd.jupyter.widget-view+json": {
       "model_id": "565cc9cf3e7e42e681dcc1785d4115d5",
       "version_major": 2,
       "version_minor": 0
      },
      "text/plain": [
       "Pandas Apply:   0%|          | 0/168 [00:00<?, ?it/s]"
      ]
     },
     "metadata": {},
     "output_type": "display_data"
    },
    {
     "data": {
      "application/vnd.jupyter.widget-view+json": {
       "model_id": "a95fab79d9f84accabfda537345a3d0d",
       "version_major": 2,
       "version_minor": 0
      },
      "text/plain": [
       "Pandas Apply:   0%|          | 0/2 [00:00<?, ?it/s]"
      ]
     },
     "metadata": {},
     "output_type": "display_data"
    },
    {
     "data": {
      "application/vnd.jupyter.widget-view+json": {
       "model_id": "e83d4dd4bef8474fb804b2ee8e4200ee",
       "version_major": 2,
       "version_minor": 0
      },
      "text/plain": [
       "Pandas Apply:   0%|          | 0/2 [00:00<?, ?it/s]"
      ]
     },
     "metadata": {},
     "output_type": "display_data"
    },
    {
     "name": "stdout",
     "output_type": "stream",
     "text": [
      "The input SSE Threshold was 10\n",
      "The percentage change is 20.78872183498947\n",
      "The initial error was 21785696.855 and final error was 17256728.936\n"
     ]
    },
    {
     "data": {
      "application/vnd.jupyter.widget-view+json": {
       "model_id": "0d7b5bfa05344fb591f1320174684476",
       "version_major": 2,
       "version_minor": 0
      },
      "text/plain": [
       "Pandas Apply:   0%|          | 0/168 [00:00<?, ?it/s]"
      ]
     },
     "metadata": {},
     "output_type": "display_data"
    },
    {
     "data": {
      "application/vnd.jupyter.widget-view+json": {
       "model_id": "82b49f812e2d4b8497f55d0b00ed6f6e",
       "version_major": 2,
       "version_minor": 0
      },
      "text/plain": [
       "Pandas Apply:   0%|          | 0/168 [00:00<?, ?it/s]"
      ]
     },
     "metadata": {},
     "output_type": "display_data"
    },
    {
     "data": {
      "application/vnd.jupyter.widget-view+json": {
       "model_id": "da663232bd414e9b8d74910af723880e",
       "version_major": 2,
       "version_minor": 0
      },
      "text/plain": [
       "Pandas Apply:   0%|          | 0/2 [00:00<?, ?it/s]"
      ]
     },
     "metadata": {},
     "output_type": "display_data"
    },
    {
     "data": {
      "application/vnd.jupyter.widget-view+json": {
       "model_id": "53a0a85f0bde492da32a39e42c378b96",
       "version_major": 2,
       "version_minor": 0
      },
      "text/plain": [
       "Pandas Apply:   0%|          | 0/2 [00:00<?, ?it/s]"
      ]
     },
     "metadata": {},
     "output_type": "display_data"
    },
    {
     "name": "stdout",
     "output_type": "stream",
     "text": [
      "The input SSE Threshold was 10\n",
      "The percentage change is 27.919971867034416\n",
      "The initial error was 23982424.391 and final error was 17286538.248\n"
     ]
    },
    {
     "data": {
      "application/vnd.jupyter.widget-view+json": {
       "model_id": "62adcf633d174faa842b51f66969bfab",
       "version_major": 2,
       "version_minor": 0
      },
      "text/plain": [
       "Pandas Apply:   0%|          | 0/168 [00:00<?, ?it/s]"
      ]
     },
     "metadata": {},
     "output_type": "display_data"
    },
    {
     "data": {
      "application/vnd.jupyter.widget-view+json": {
       "model_id": "a74b46725d6f47adb0bf3ba8b3fada6f",
       "version_major": 2,
       "version_minor": 0
      },
      "text/plain": [
       "Pandas Apply:   0%|          | 0/168 [00:00<?, ?it/s]"
      ]
     },
     "metadata": {},
     "output_type": "display_data"
    },
    {
     "data": {
      "application/vnd.jupyter.widget-view+json": {
       "model_id": "36adc32e9b034a36b3dfcd7356ae61d4",
       "version_major": 2,
       "version_minor": 0
      },
      "text/plain": [
       "Pandas Apply:   0%|          | 0/2 [00:00<?, ?it/s]"
      ]
     },
     "metadata": {},
     "output_type": "display_data"
    },
    {
     "data": {
      "application/vnd.jupyter.widget-view+json": {
       "model_id": "f5d2185c70ea497490ef27db4823a64f",
       "version_major": 2,
       "version_minor": 0
      },
      "text/plain": [
       "Pandas Apply:   0%|          | 0/2 [00:00<?, ?it/s]"
      ]
     },
     "metadata": {},
     "output_type": "display_data"
    },
    {
     "name": "stdout",
     "output_type": "stream",
     "text": [
      "The input SSE Threshold was 10\n",
      "The percentage change is 24.487574457073418\n",
      "The initial error was 22892304.037 and final error was 17286534.041\n"
     ]
    },
    {
     "data": {
      "application/vnd.jupyter.widget-view+json": {
       "model_id": "df7959f3620a4b2793592be7cd902dd8",
       "version_major": 2,
       "version_minor": 0
      },
      "text/plain": [
       "Pandas Apply:   0%|          | 0/168 [00:00<?, ?it/s]"
      ]
     },
     "metadata": {},
     "output_type": "display_data"
    },
    {
     "data": {
      "application/vnd.jupyter.widget-view+json": {
       "model_id": "595d3224758b45aa98692e8662c6c50f",
       "version_major": 2,
       "version_minor": 0
      },
      "text/plain": [
       "Pandas Apply:   0%|          | 0/168 [00:00<?, ?it/s]"
      ]
     },
     "metadata": {},
     "output_type": "display_data"
    },
    {
     "data": {
      "application/vnd.jupyter.widget-view+json": {
       "model_id": "7bee2d9f507d4af5a7601fb8e43a12a2",
       "version_major": 2,
       "version_minor": 0
      },
      "text/plain": [
       "Pandas Apply:   0%|          | 0/2 [00:00<?, ?it/s]"
      ]
     },
     "metadata": {},
     "output_type": "display_data"
    },
    {
     "data": {
      "application/vnd.jupyter.widget-view+json": {
       "model_id": "8fb5dd7123b44ad09a45b37b80984f9b",
       "version_major": 2,
       "version_minor": 0
      },
      "text/plain": [
       "Pandas Apply:   0%|          | 0/2 [00:00<?, ?it/s]"
      ]
     },
     "metadata": {},
     "output_type": "display_data"
    },
    {
     "name": "stdout",
     "output_type": "stream",
     "text": [
      "The input SSE Threshold was 10\n",
      "The percentage change is 30.885868663324178\n",
      "The initial error was 24726030.468 and final error was 17089181.172\n"
     ]
    },
    {
     "data": {
      "application/vnd.jupyter.widget-view+json": {
       "model_id": "8948579ba85e40c38d5bbeeb21755b3d",
       "version_major": 2,
       "version_minor": 0
      },
      "text/plain": [
       "Pandas Apply:   0%|          | 0/168 [00:00<?, ?it/s]"
      ]
     },
     "metadata": {},
     "output_type": "display_data"
    },
    {
     "data": {
      "application/vnd.jupyter.widget-view+json": {
       "model_id": "75b0448926994458b7d60d210f73172e",
       "version_major": 2,
       "version_minor": 0
      },
      "text/plain": [
       "Pandas Apply:   0%|          | 0/168 [00:00<?, ?it/s]"
      ]
     },
     "metadata": {},
     "output_type": "display_data"
    },
    {
     "data": {
      "application/vnd.jupyter.widget-view+json": {
       "model_id": "589064a6d487498783cd114a6b5f8483",
       "version_major": 2,
       "version_minor": 0
      },
      "text/plain": [
       "Pandas Apply:   0%|          | 0/2 [00:00<?, ?it/s]"
      ]
     },
     "metadata": {},
     "output_type": "display_data"
    },
    {
     "data": {
      "application/vnd.jupyter.widget-view+json": {
       "model_id": "c61e627283cb418e85f9b118a66d8528",
       "version_major": 2,
       "version_minor": 0
      },
      "text/plain": [
       "Pandas Apply:   0%|          | 0/2 [00:00<?, ?it/s]"
      ]
     },
     "metadata": {},
     "output_type": "display_data"
    },
    {
     "name": "stdout",
     "output_type": "stream",
     "text": [
      "The input SSE Threshold was 10\n",
      "The percentage change is 22.098084240730902\n",
      "The initial error was 21936792.883 and final error was 17089181.912\n"
     ]
    },
    {
     "data": {
      "application/vnd.jupyter.widget-view+json": {
       "model_id": "f000774132d14ae4bbfae8283749e5cc",
       "version_major": 2,
       "version_minor": 0
      },
      "text/plain": [
       "Pandas Apply:   0%|          | 0/168 [00:00<?, ?it/s]"
      ]
     },
     "metadata": {},
     "output_type": "display_data"
    },
    {
     "data": {
      "application/vnd.jupyter.widget-view+json": {
       "model_id": "3fd0a422fda2448d9aa58dc538711114",
       "version_major": 2,
       "version_minor": 0
      },
      "text/plain": [
       "Pandas Apply:   0%|          | 0/168 [00:00<?, ?it/s]"
      ]
     },
     "metadata": {},
     "output_type": "display_data"
    },
    {
     "data": {
      "application/vnd.jupyter.widget-view+json": {
       "model_id": "0c64104714c64a6c9b3e966ff77e4b08",
       "version_major": 2,
       "version_minor": 0
      },
      "text/plain": [
       "Pandas Apply:   0%|          | 0/2 [00:00<?, ?it/s]"
      ]
     },
     "metadata": {},
     "output_type": "display_data"
    },
    {
     "data": {
      "application/vnd.jupyter.widget-view+json": {
       "model_id": "fe697b47b20e4c51bf853c517118d5b8",
       "version_major": 2,
       "version_minor": 0
      },
      "text/plain": [
       "Pandas Apply:   0%|          | 0/2 [00:00<?, ?it/s]"
      ]
     },
     "metadata": {},
     "output_type": "display_data"
    },
    {
     "name": "stdout",
     "output_type": "stream",
     "text": [
      "The input SSE Threshold was 10\n",
      "The percentage change is 38.92244974280853\n",
      "The initial error was 28235915.77 and final error was 17245805.645\n"
     ]
    },
    {
     "data": {
      "application/vnd.jupyter.widget-view+json": {
       "model_id": "e2e812c7ef6341d48b5f1b511c7fe27f",
       "version_major": 2,
       "version_minor": 0
      },
      "text/plain": [
       "Pandas Apply:   0%|          | 0/168 [00:00<?, ?it/s]"
      ]
     },
     "metadata": {},
     "output_type": "display_data"
    },
    {
     "data": {
      "application/vnd.jupyter.widget-view+json": {
       "model_id": "9ce6464bbc604ef2aa8a3314e896d1bf",
       "version_major": 2,
       "version_minor": 0
      },
      "text/plain": [
       "Pandas Apply:   0%|          | 0/168 [00:00<?, ?it/s]"
      ]
     },
     "metadata": {},
     "output_type": "display_data"
    },
    {
     "data": {
      "application/vnd.jupyter.widget-view+json": {
       "model_id": "96135fd575f14ab6ac0bd9cfbecc7cd5",
       "version_major": 2,
       "version_minor": 0
      },
      "text/plain": [
       "Pandas Apply:   0%|          | 0/2 [00:00<?, ?it/s]"
      ]
     },
     "metadata": {},
     "output_type": "display_data"
    },
    {
     "data": {
      "application/vnd.jupyter.widget-view+json": {
       "model_id": "aeab6a9a426b448982a65478d1b80f6c",
       "version_major": 2,
       "version_minor": 0
      },
      "text/plain": [
       "Pandas Apply:   0%|          | 0/2 [00:00<?, ?it/s]"
      ]
     },
     "metadata": {},
     "output_type": "display_data"
    },
    {
     "name": "stdout",
     "output_type": "stream",
     "text": [
      "The input SSE Threshold was 10\n",
      "The percentage change is 27.35974499073062\n",
      "The initial error was 23631583.961 and final error was 17166042.852\n"
     ]
    },
    {
     "data": {
      "application/vnd.jupyter.widget-view+json": {
       "model_id": "014ff7c47d5440f693a8ac40c80f8eca",
       "version_major": 2,
       "version_minor": 0
      },
      "text/plain": [
       "Pandas Apply:   0%|          | 0/168 [00:00<?, ?it/s]"
      ]
     },
     "metadata": {},
     "output_type": "display_data"
    },
    {
     "data": {
      "application/vnd.jupyter.widget-view+json": {
       "model_id": "abcd8792d92a412da4a329955154a974",
       "version_major": 2,
       "version_minor": 0
      },
      "text/plain": [
       "Pandas Apply:   0%|          | 0/168 [00:00<?, ?it/s]"
      ]
     },
     "metadata": {},
     "output_type": "display_data"
    },
    {
     "data": {
      "application/vnd.jupyter.widget-view+json": {
       "model_id": "79b7170a2fce4915b9b0fd32fbb26968",
       "version_major": 2,
       "version_minor": 0
      },
      "text/plain": [
       "Pandas Apply:   0%|          | 0/2 [00:00<?, ?it/s]"
      ]
     },
     "metadata": {},
     "output_type": "display_data"
    },
    {
     "data": {
      "application/vnd.jupyter.widget-view+json": {
       "model_id": "bd5237095ce54b45978e0f2d74230293",
       "version_major": 2,
       "version_minor": 0
      },
      "text/plain": [
       "Pandas Apply:   0%|          | 0/2 [00:00<?, ?it/s]"
      ]
     },
     "metadata": {},
     "output_type": "display_data"
    },
    {
     "name": "stdout",
     "output_type": "stream",
     "text": [
      "The input SSE Threshold was 10\n",
      "The percentage change is 35.02339218264382\n",
      "The initial error was 26199101.184 and final error was 17023287.228\n"
     ]
    },
    {
     "data": {
      "application/vnd.jupyter.widget-view+json": {
       "model_id": "8819e9da752745fda1230e1dee6e9250",
       "version_major": 2,
       "version_minor": 0
      },
      "text/plain": [
       "Pandas Apply:   0%|          | 0/168 [00:00<?, ?it/s]"
      ]
     },
     "metadata": {},
     "output_type": "display_data"
    },
    {
     "data": {
      "application/vnd.jupyter.widget-view+json": {
       "model_id": "f047702b339541cca54abdf918ad5986",
       "version_major": 2,
       "version_minor": 0
      },
      "text/plain": [
       "Pandas Apply:   0%|          | 0/168 [00:00<?, ?it/s]"
      ]
     },
     "metadata": {},
     "output_type": "display_data"
    },
    {
     "data": {
      "application/vnd.jupyter.widget-view+json": {
       "model_id": "5dc440bcc7194f6881ba603dfb3e11a3",
       "version_major": 2,
       "version_minor": 0
      },
      "text/plain": [
       "Pandas Apply:   0%|          | 0/2 [00:00<?, ?it/s]"
      ]
     },
     "metadata": {},
     "output_type": "display_data"
    },
    {
     "data": {
      "application/vnd.jupyter.widget-view+json": {
       "model_id": "6727625df16848cb8165bc37fd96c6c6",
       "version_major": 2,
       "version_minor": 0
      },
      "text/plain": [
       "Pandas Apply:   0%|          | 0/2 [00:00<?, ?it/s]"
      ]
     },
     "metadata": {},
     "output_type": "display_data"
    },
    {
     "name": "stdout",
     "output_type": "stream",
     "text": [
      "The input SSE Threshold was 10\n",
      "The percentage change is 32.23311746017494\n",
      "The initial error was 25508775.188 and final error was 17286501.719\n"
     ]
    },
    {
     "data": {
      "application/vnd.jupyter.widget-view+json": {
       "model_id": "ee1827f5ad5b4d5981f077c5fa31e22f",
       "version_major": 2,
       "version_minor": 0
      },
      "text/plain": [
       "Pandas Apply:   0%|          | 0/168 [00:00<?, ?it/s]"
      ]
     },
     "metadata": {},
     "output_type": "display_data"
    },
    {
     "data": {
      "application/vnd.jupyter.widget-view+json": {
       "model_id": "eee89c9ffe4449f180625bf85922f03b",
       "version_major": 2,
       "version_minor": 0
      },
      "text/plain": [
       "Pandas Apply:   0%|          | 0/168 [00:00<?, ?it/s]"
      ]
     },
     "metadata": {},
     "output_type": "display_data"
    },
    {
     "data": {
      "application/vnd.jupyter.widget-view+json": {
       "model_id": "b1553ee63b8642dfa386dbbe13d03226",
       "version_major": 2,
       "version_minor": 0
      },
      "text/plain": [
       "Pandas Apply:   0%|          | 0/2 [00:00<?, ?it/s]"
      ]
     },
     "metadata": {},
     "output_type": "display_data"
    },
    {
     "data": {
      "application/vnd.jupyter.widget-view+json": {
       "model_id": "5e4afd8a6757452d8fe50f2c3f3c8a00",
       "version_major": 2,
       "version_minor": 0
      },
      "text/plain": [
       "Pandas Apply:   0%|          | 0/2 [00:00<?, ?it/s]"
      ]
     },
     "metadata": {},
     "output_type": "display_data"
    },
    {
     "name": "stdout",
     "output_type": "stream",
     "text": [
      "The input SSE Threshold was 10\n",
      "The percentage change is 30.069245356832315\n",
      "The initial error was 24719500.459 and final error was 17286533.215\n"
     ]
    },
    {
     "data": {
      "application/vnd.jupyter.widget-view+json": {
       "model_id": "c5fc2a91d31f4f15a2594264174663f9",
       "version_major": 2,
       "version_minor": 0
      },
      "text/plain": [
       "Pandas Apply:   0%|          | 0/168 [00:00<?, ?it/s]"
      ]
     },
     "metadata": {},
     "output_type": "display_data"
    },
    {
     "data": {
      "application/vnd.jupyter.widget-view+json": {
       "model_id": "f49810f3b1ed4b3eb98846181d7df2e6",
       "version_major": 2,
       "version_minor": 0
      },
      "text/plain": [
       "Pandas Apply:   0%|          | 0/168 [00:00<?, ?it/s]"
      ]
     },
     "metadata": {},
     "output_type": "display_data"
    },
    {
     "data": {
      "application/vnd.jupyter.widget-view+json": {
       "model_id": "5d42456dc943461faaa6a38e06da8962",
       "version_major": 2,
       "version_minor": 0
      },
      "text/plain": [
       "Pandas Apply:   0%|          | 0/2 [00:00<?, ?it/s]"
      ]
     },
     "metadata": {},
     "output_type": "display_data"
    },
    {
     "data": {
      "application/vnd.jupyter.widget-view+json": {
       "model_id": "a0b81d00aa0e4f83bae2852b0713fdbd",
       "version_major": 2,
       "version_minor": 0
      },
      "text/plain": [
       "Pandas Apply:   0%|          | 0/2 [00:00<?, ?it/s]"
      ]
     },
     "metadata": {},
     "output_type": "display_data"
    },
    {
     "name": "stdout",
     "output_type": "stream",
     "text": [
      "The input SSE Threshold was 10\n",
      "The percentage change is 48.5301151133681\n",
      "The initial error was 33585737.903 and final error was 17286540.637\n"
     ]
    },
    {
     "data": {
      "application/vnd.jupyter.widget-view+json": {
       "model_id": "caace90cc61d42d295de044888592c69",
       "version_major": 2,
       "version_minor": 0
      },
      "text/plain": [
       "Pandas Apply:   0%|          | 0/168 [00:00<?, ?it/s]"
      ]
     },
     "metadata": {},
     "output_type": "display_data"
    },
    {
     "data": {
      "application/vnd.jupyter.widget-view+json": {
       "model_id": "48a3239d85ed4ff8a15d21aec279f983",
       "version_major": 2,
       "version_minor": 0
      },
      "text/plain": [
       "Pandas Apply:   0%|          | 0/168 [00:00<?, ?it/s]"
      ]
     },
     "metadata": {},
     "output_type": "display_data"
    },
    {
     "data": {
      "application/vnd.jupyter.widget-view+json": {
       "model_id": "c157e38d40d94db18ae96503f5e4b4e5",
       "version_major": 2,
       "version_minor": 0
      },
      "text/plain": [
       "Pandas Apply:   0%|          | 0/2 [00:00<?, ?it/s]"
      ]
     },
     "metadata": {},
     "output_type": "display_data"
    },
    {
     "data": {
      "application/vnd.jupyter.widget-view+json": {
       "model_id": "e48e1f2f744d47a9801bc6324b458245",
       "version_major": 2,
       "version_minor": 0
      },
      "text/plain": [
       "Pandas Apply:   0%|          | 0/2 [00:00<?, ?it/s]"
      ]
     },
     "metadata": {},
     "output_type": "display_data"
    },
    {
     "name": "stdout",
     "output_type": "stream",
     "text": [
      "The input SSE Threshold was 10\n",
      "The percentage change is 33.279892982831896\n",
      "The initial error was 25863915.943 and final error was 17256432.396\n"
     ]
    },
    {
     "data": {
      "application/vnd.jupyter.widget-view+json": {
       "model_id": "d1f882374b684520bbdfdb21f2864859",
       "version_major": 2,
       "version_minor": 0
      },
      "text/plain": [
       "Pandas Apply:   0%|          | 0/168 [00:00<?, ?it/s]"
      ]
     },
     "metadata": {},
     "output_type": "display_data"
    },
    {
     "data": {
      "application/vnd.jupyter.widget-view+json": {
       "model_id": "b9b3fd19f17044b391383f981e2438cb",
       "version_major": 2,
       "version_minor": 0
      },
      "text/plain": [
       "Pandas Apply:   0%|          | 0/168 [00:00<?, ?it/s]"
      ]
     },
     "metadata": {},
     "output_type": "display_data"
    },
    {
     "data": {
      "application/vnd.jupyter.widget-view+json": {
       "model_id": "589a5dd903ba4a11ad950f7dd05fb366",
       "version_major": 2,
       "version_minor": 0
      },
      "text/plain": [
       "Pandas Apply:   0%|          | 0/168 [00:00<?, ?it/s]"
      ]
     },
     "metadata": {},
     "output_type": "display_data"
    },
    {
     "data": {
      "application/vnd.jupyter.widget-view+json": {
       "model_id": "dfbf1b4a8aa345ad8164ec6568b83706",
       "version_major": 2,
       "version_minor": 0
      },
      "text/plain": [
       "Pandas Apply:   0%|          | 0/3 [00:00<?, ?it/s]"
      ]
     },
     "metadata": {},
     "output_type": "display_data"
    },
    {
     "data": {
      "application/vnd.jupyter.widget-view+json": {
       "model_id": "d5a96b02952e41e28fe8ee18fffba277",
       "version_major": 2,
       "version_minor": 0
      },
      "text/plain": [
       "Pandas Apply:   0%|          | 0/3 [00:00<?, ?it/s]"
      ]
     },
     "metadata": {},
     "output_type": "display_data"
    },
    {
     "name": "stdout",
     "output_type": "stream",
     "text": [
      "The input SSE Threshold was 10\n",
      "The percentage change is 30.381716746222708\n",
      "The initial error was 24389520.062 and final error was 16979565.161\n"
     ]
    },
    {
     "data": {
      "application/vnd.jupyter.widget-view+json": {
       "model_id": "9ce5e9d703bb4dd38a343f05618d69f2",
       "version_major": 2,
       "version_minor": 0
      },
      "text/plain": [
       "Pandas Apply:   0%|          | 0/168 [00:00<?, ?it/s]"
      ]
     },
     "metadata": {},
     "output_type": "display_data"
    },
    {
     "data": {
      "application/vnd.jupyter.widget-view+json": {
       "model_id": "b44b770da7be48c88a634f07ea91c30e",
       "version_major": 2,
       "version_minor": 0
      },
      "text/plain": [
       "Pandas Apply:   0%|          | 0/168 [00:00<?, ?it/s]"
      ]
     },
     "metadata": {},
     "output_type": "display_data"
    },
    {
     "data": {
      "application/vnd.jupyter.widget-view+json": {
       "model_id": "df5e64cf1f6844d8b061177a81a46293",
       "version_major": 2,
       "version_minor": 0
      },
      "text/plain": [
       "Pandas Apply:   0%|          | 0/168 [00:00<?, ?it/s]"
      ]
     },
     "metadata": {},
     "output_type": "display_data"
    },
    {
     "data": {
      "application/vnd.jupyter.widget-view+json": {
       "model_id": "b743c170683744db9e90a10b82c73dbf",
       "version_major": 2,
       "version_minor": 0
      },
      "text/plain": [
       "Pandas Apply:   0%|          | 0/3 [00:00<?, ?it/s]"
      ]
     },
     "metadata": {},
     "output_type": "display_data"
    },
    {
     "data": {
      "application/vnd.jupyter.widget-view+json": {
       "model_id": "e996c8109dae4b46a46d3046fa26574e",
       "version_major": 2,
       "version_minor": 0
      },
      "text/plain": [
       "Pandas Apply:   0%|          | 0/3 [00:00<?, ?it/s]"
      ]
     },
     "metadata": {},
     "output_type": "display_data"
    },
    {
     "name": "stdout",
     "output_type": "stream",
     "text": [
      "The input SSE Threshold was 10\n",
      "The percentage change is 21.386056327445406\n",
      "The initial error was 21894864.169 and final error was 17212416.185\n"
     ]
    },
    {
     "data": {
      "application/vnd.jupyter.widget-view+json": {
       "model_id": "b0e00b9586d4429497df8ed27addf80e",
       "version_major": 2,
       "version_minor": 0
      },
      "text/plain": [
       "Pandas Apply:   0%|          | 0/168 [00:00<?, ?it/s]"
      ]
     },
     "metadata": {},
     "output_type": "display_data"
    },
    {
     "data": {
      "application/vnd.jupyter.widget-view+json": {
       "model_id": "2fe7afe4ab9a47cd956491dd9f7aac02",
       "version_major": 2,
       "version_minor": 0
      },
      "text/plain": [
       "Pandas Apply:   0%|          | 0/168 [00:00<?, ?it/s]"
      ]
     },
     "metadata": {},
     "output_type": "display_data"
    },
    {
     "data": {
      "application/vnd.jupyter.widget-view+json": {
       "model_id": "208af971900241f6837000a719c8e7e4",
       "version_major": 2,
       "version_minor": 0
      },
      "text/plain": [
       "Pandas Apply:   0%|          | 0/168 [00:00<?, ?it/s]"
      ]
     },
     "metadata": {},
     "output_type": "display_data"
    },
    {
     "data": {
      "application/vnd.jupyter.widget-view+json": {
       "model_id": "3f01837f3cba43219aede6a079f8e500",
       "version_major": 2,
       "version_minor": 0
      },
      "text/plain": [
       "Pandas Apply:   0%|          | 0/3 [00:00<?, ?it/s]"
      ]
     },
     "metadata": {},
     "output_type": "display_data"
    },
    {
     "data": {
      "application/vnd.jupyter.widget-view+json": {
       "model_id": "944b70fb383f46f2b9bd05ca33d05fdb",
       "version_major": 2,
       "version_minor": 0
      },
      "text/plain": [
       "Pandas Apply:   0%|          | 0/3 [00:00<?, ?it/s]"
      ]
     },
     "metadata": {},
     "output_type": "display_data"
    },
    {
     "name": "stdout",
     "output_type": "stream",
     "text": [
      "The input SSE Threshold was 10\n",
      "The percentage change is 27.325496735887768\n",
      "The initial error was 23786232.817 and final error was 17286526.545\n"
     ]
    },
    {
     "data": {
      "application/vnd.jupyter.widget-view+json": {
       "model_id": "cfc27ad96d084dfbb45921280ee40dd0",
       "version_major": 2,
       "version_minor": 0
      },
      "text/plain": [
       "Pandas Apply:   0%|          | 0/168 [00:00<?, ?it/s]"
      ]
     },
     "metadata": {},
     "output_type": "display_data"
    },
    {
     "data": {
      "application/vnd.jupyter.widget-view+json": {
       "model_id": "0b7811ef2f0f4d619a1af6fa2bcf9e67",
       "version_major": 2,
       "version_minor": 0
      },
      "text/plain": [
       "Pandas Apply:   0%|          | 0/168 [00:00<?, ?it/s]"
      ]
     },
     "metadata": {},
     "output_type": "display_data"
    },
    {
     "data": {
      "application/vnd.jupyter.widget-view+json": {
       "model_id": "c4b0390240bc45b8ba0747c8302c6275",
       "version_major": 2,
       "version_minor": 0
      },
      "text/plain": [
       "Pandas Apply:   0%|          | 0/168 [00:00<?, ?it/s]"
      ]
     },
     "metadata": {},
     "output_type": "display_data"
    },
    {
     "data": {
      "application/vnd.jupyter.widget-view+json": {
       "model_id": "73f95ac013264bbb857bd980f1bfeba8",
       "version_major": 2,
       "version_minor": 0
      },
      "text/plain": [
       "Pandas Apply:   0%|          | 0/3 [00:00<?, ?it/s]"
      ]
     },
     "metadata": {},
     "output_type": "display_data"
    },
    {
     "data": {
      "application/vnd.jupyter.widget-view+json": {
       "model_id": "15907134ef8e40b5adfc9d6a0db0d3e0",
       "version_major": 2,
       "version_minor": 0
      },
      "text/plain": [
       "Pandas Apply:   0%|          | 0/3 [00:00<?, ?it/s]"
      ]
     },
     "metadata": {},
     "output_type": "display_data"
    },
    {
     "name": "stdout",
     "output_type": "stream",
     "text": [
      "The input SSE Threshold was 10\n",
      "The percentage change is 22.613508174374015\n",
      "The initial error was 22155632.635 and final error was 17145466.838\n"
     ]
    },
    {
     "data": {
      "application/vnd.jupyter.widget-view+json": {
       "model_id": "acb3eeb0969e40fa86d100d97c2948f0",
       "version_major": 2,
       "version_minor": 0
      },
      "text/plain": [
       "Pandas Apply:   0%|          | 0/168 [00:00<?, ?it/s]"
      ]
     },
     "metadata": {},
     "output_type": "display_data"
    },
    {
     "data": {
      "application/vnd.jupyter.widget-view+json": {
       "model_id": "a1a1e4a2d50e42128cd4397ac390e8f9",
       "version_major": 2,
       "version_minor": 0
      },
      "text/plain": [
       "Pandas Apply:   0%|          | 0/168 [00:00<?, ?it/s]"
      ]
     },
     "metadata": {},
     "output_type": "display_data"
    },
    {
     "data": {
      "application/vnd.jupyter.widget-view+json": {
       "model_id": "8b94d0a49cc9458c93ee073c39277e5c",
       "version_major": 2,
       "version_minor": 0
      },
      "text/plain": [
       "Pandas Apply:   0%|          | 0/168 [00:00<?, ?it/s]"
      ]
     },
     "metadata": {},
     "output_type": "display_data"
    },
    {
     "data": {
      "application/vnd.jupyter.widget-view+json": {
       "model_id": "f7fc198ece514aa9818810c49b8cb194",
       "version_major": 2,
       "version_minor": 0
      },
      "text/plain": [
       "Pandas Apply:   0%|          | 0/3 [00:00<?, ?it/s]"
      ]
     },
     "metadata": {},
     "output_type": "display_data"
    },
    {
     "data": {
      "application/vnd.jupyter.widget-view+json": {
       "model_id": "d7dbd8ce601b44839b9f1c69f8348217",
       "version_major": 2,
       "version_minor": 0
      },
      "text/plain": [
       "Pandas Apply:   0%|          | 0/3 [00:00<?, ?it/s]"
      ]
     },
     "metadata": {},
     "output_type": "display_data"
    },
    {
     "name": "stdout",
     "output_type": "stream",
     "text": [
      "The input SSE Threshold was 10\n",
      "The percentage change is 29.954922406775943\n",
      "The initial error was 24043657.003 and final error was 16841398.204\n"
     ]
    },
    {
     "data": {
      "application/vnd.jupyter.widget-view+json": {
       "model_id": "c46c5be4d19f4408bc8593d007fdb1f9",
       "version_major": 2,
       "version_minor": 0
      },
      "text/plain": [
       "Pandas Apply:   0%|          | 0/168 [00:00<?, ?it/s]"
      ]
     },
     "metadata": {},
     "output_type": "display_data"
    },
    {
     "data": {
      "application/vnd.jupyter.widget-view+json": {
       "model_id": "46078661f269467abaef1c231c5bd7e9",
       "version_major": 2,
       "version_minor": 0
      },
      "text/plain": [
       "Pandas Apply:   0%|          | 0/168 [00:00<?, ?it/s]"
      ]
     },
     "metadata": {},
     "output_type": "display_data"
    },
    {
     "data": {
      "application/vnd.jupyter.widget-view+json": {
       "model_id": "d80656942f174a2191b9d6cbe8dccdd2",
       "version_major": 2,
       "version_minor": 0
      },
      "text/plain": [
       "Pandas Apply:   0%|          | 0/168 [00:00<?, ?it/s]"
      ]
     },
     "metadata": {},
     "output_type": "display_data"
    },
    {
     "data": {
      "application/vnd.jupyter.widget-view+json": {
       "model_id": "4cfc15390f504af48b2f275214d943c0",
       "version_major": 2,
       "version_minor": 0
      },
      "text/plain": [
       "Pandas Apply:   0%|          | 0/3 [00:00<?, ?it/s]"
      ]
     },
     "metadata": {},
     "output_type": "display_data"
    },
    {
     "data": {
      "application/vnd.jupyter.widget-view+json": {
       "model_id": "f2d07dc3c4164096a77e2a1de38238fb",
       "version_major": 2,
       "version_minor": 0
      },
      "text/plain": [
       "Pandas Apply:   0%|          | 0/3 [00:00<?, ?it/s]"
      ]
     },
     "metadata": {},
     "output_type": "display_data"
    },
    {
     "name": "stdout",
     "output_type": "stream",
     "text": [
      "The input SSE Threshold was 10\n",
      "The percentage change is 23.896723317757065\n",
      "The initial error was 22525354.315 and final error was 17142532.718\n"
     ]
    },
    {
     "data": {
      "application/vnd.jupyter.widget-view+json": {
       "model_id": "06cc00ab92024597bcaacc7c72052618",
       "version_major": 2,
       "version_minor": 0
      },
      "text/plain": [
       "Pandas Apply:   0%|          | 0/168 [00:00<?, ?it/s]"
      ]
     },
     "metadata": {},
     "output_type": "display_data"
    },
    {
     "data": {
      "application/vnd.jupyter.widget-view+json": {
       "model_id": "be7de78aae7047678efbbe252e2277e8",
       "version_major": 2,
       "version_minor": 0
      },
      "text/plain": [
       "Pandas Apply:   0%|          | 0/168 [00:00<?, ?it/s]"
      ]
     },
     "metadata": {},
     "output_type": "display_data"
    },
    {
     "data": {
      "application/vnd.jupyter.widget-view+json": {
       "model_id": "135fff724bfc470c893ecb64877cbbcc",
       "version_major": 2,
       "version_minor": 0
      },
      "text/plain": [
       "Pandas Apply:   0%|          | 0/168 [00:00<?, ?it/s]"
      ]
     },
     "metadata": {},
     "output_type": "display_data"
    },
    {
     "data": {
      "application/vnd.jupyter.widget-view+json": {
       "model_id": "312e578f8b75476dbfdfcb70efbc25a2",
       "version_major": 2,
       "version_minor": 0
      },
      "text/plain": [
       "Pandas Apply:   0%|          | 0/3 [00:00<?, ?it/s]"
      ]
     },
     "metadata": {},
     "output_type": "display_data"
    },
    {
     "data": {
      "application/vnd.jupyter.widget-view+json": {
       "model_id": "120501a3022e4a65a2194990ea592a93",
       "version_major": 2,
       "version_minor": 0
      },
      "text/plain": [
       "Pandas Apply:   0%|          | 0/3 [00:00<?, ?it/s]"
      ]
     },
     "metadata": {},
     "output_type": "display_data"
    },
    {
     "name": "stdout",
     "output_type": "stream",
     "text": [
      "The input SSE Threshold was 10\n",
      "The percentage change is 21.21995172673622\n",
      "The initial error was 21710046.881 and final error was 17103185.413\n"
     ]
    },
    {
     "data": {
      "application/vnd.jupyter.widget-view+json": {
       "model_id": "ff5e340c14c345c181ed9202507f9816",
       "version_major": 2,
       "version_minor": 0
      },
      "text/plain": [
       "Pandas Apply:   0%|          | 0/168 [00:00<?, ?it/s]"
      ]
     },
     "metadata": {},
     "output_type": "display_data"
    },
    {
     "data": {
      "application/vnd.jupyter.widget-view+json": {
       "model_id": "79d62e2f42644abaa43d50a7789c8fe9",
       "version_major": 2,
       "version_minor": 0
      },
      "text/plain": [
       "Pandas Apply:   0%|          | 0/168 [00:00<?, ?it/s]"
      ]
     },
     "metadata": {},
     "output_type": "display_data"
    },
    {
     "data": {
      "application/vnd.jupyter.widget-view+json": {
       "model_id": "34358e54d365495583f06a825903f449",
       "version_major": 2,
       "version_minor": 0
      },
      "text/plain": [
       "Pandas Apply:   0%|          | 0/168 [00:00<?, ?it/s]"
      ]
     },
     "metadata": {},
     "output_type": "display_data"
    },
    {
     "data": {
      "application/vnd.jupyter.widget-view+json": {
       "model_id": "5a78411deff548099d42fa1916302cf7",
       "version_major": 2,
       "version_minor": 0
      },
      "text/plain": [
       "Pandas Apply:   0%|          | 0/3 [00:00<?, ?it/s]"
      ]
     },
     "metadata": {},
     "output_type": "display_data"
    },
    {
     "data": {
      "application/vnd.jupyter.widget-view+json": {
       "model_id": "56651b0d4e224cdf800b10da5ae482c4",
       "version_major": 2,
       "version_minor": 0
      },
      "text/plain": [
       "Pandas Apply:   0%|          | 0/3 [00:00<?, ?it/s]"
      ]
     },
     "metadata": {},
     "output_type": "display_data"
    },
    {
     "name": "stdout",
     "output_type": "stream",
     "text": [
      "The input SSE Threshold was 10\n",
      "The percentage change is 16.782344139706808\n",
      "The initial error was 20608558.901 and final error was 17149959.624\n"
     ]
    },
    {
     "data": {
      "application/vnd.jupyter.widget-view+json": {
       "model_id": "99afbceeb02b49ac8ee9ad5d0d6aafe7",
       "version_major": 2,
       "version_minor": 0
      },
      "text/plain": [
       "Pandas Apply:   0%|          | 0/168 [00:00<?, ?it/s]"
      ]
     },
     "metadata": {},
     "output_type": "display_data"
    },
    {
     "data": {
      "application/vnd.jupyter.widget-view+json": {
       "model_id": "0ff0216c90cc4f2e894665d1312c45f7",
       "version_major": 2,
       "version_minor": 0
      },
      "text/plain": [
       "Pandas Apply:   0%|          | 0/168 [00:00<?, ?it/s]"
      ]
     },
     "metadata": {},
     "output_type": "display_data"
    },
    {
     "data": {
      "application/vnd.jupyter.widget-view+json": {
       "model_id": "c5891925b48f4dd4bf83509c22cc5dfb",
       "version_major": 2,
       "version_minor": 0
      },
      "text/plain": [
       "Pandas Apply:   0%|          | 0/168 [00:00<?, ?it/s]"
      ]
     },
     "metadata": {},
     "output_type": "display_data"
    },
    {
     "data": {
      "application/vnd.jupyter.widget-view+json": {
       "model_id": "d7ef3313f95b484493a3bcf0b3ec1a8f",
       "version_major": 2,
       "version_minor": 0
      },
      "text/plain": [
       "Pandas Apply:   0%|          | 0/3 [00:00<?, ?it/s]"
      ]
     },
     "metadata": {},
     "output_type": "display_data"
    },
    {
     "data": {
      "application/vnd.jupyter.widget-view+json": {
       "model_id": "438c3a040c044c9bb962dac8066b0fd8",
       "version_major": 2,
       "version_minor": 0
      },
      "text/plain": [
       "Pandas Apply:   0%|          | 0/3 [00:00<?, ?it/s]"
      ]
     },
     "metadata": {},
     "output_type": "display_data"
    },
    {
     "name": "stdout",
     "output_type": "stream",
     "text": [
      "The input SSE Threshold was 10\n",
      "The percentage change is 30.94326303090515\n",
      "The initial error was 24998882.239 and final error was 17263412.353\n"
     ]
    },
    {
     "data": {
      "application/vnd.jupyter.widget-view+json": {
       "model_id": "3f11ae93218c4ca0bd1671f7cdabe110",
       "version_major": 2,
       "version_minor": 0
      },
      "text/plain": [
       "Pandas Apply:   0%|          | 0/168 [00:00<?, ?it/s]"
      ]
     },
     "metadata": {},
     "output_type": "display_data"
    },
    {
     "data": {
      "application/vnd.jupyter.widget-view+json": {
       "model_id": "ddf403d3954f4062b614d98c496c7d95",
       "version_major": 2,
       "version_minor": 0
      },
      "text/plain": [
       "Pandas Apply:   0%|          | 0/168 [00:00<?, ?it/s]"
      ]
     },
     "metadata": {},
     "output_type": "display_data"
    },
    {
     "data": {
      "application/vnd.jupyter.widget-view+json": {
       "model_id": "ec297d036d5444bbbb041cb65e19c0b2",
       "version_major": 2,
       "version_minor": 0
      },
      "text/plain": [
       "Pandas Apply:   0%|          | 0/168 [00:00<?, ?it/s]"
      ]
     },
     "metadata": {},
     "output_type": "display_data"
    },
    {
     "data": {
      "application/vnd.jupyter.widget-view+json": {
       "model_id": "93f43f0488fd4104908ab4aaff4b7030",
       "version_major": 2,
       "version_minor": 0
      },
      "text/plain": [
       "Pandas Apply:   0%|          | 0/3 [00:00<?, ?it/s]"
      ]
     },
     "metadata": {},
     "output_type": "display_data"
    },
    {
     "data": {
      "application/vnd.jupyter.widget-view+json": {
       "model_id": "b083854564e9421a9d08f87659a9c657",
       "version_major": 2,
       "version_minor": 0
      },
      "text/plain": [
       "Pandas Apply:   0%|          | 0/3 [00:00<?, ?it/s]"
      ]
     },
     "metadata": {},
     "output_type": "display_data"
    },
    {
     "name": "stdout",
     "output_type": "stream",
     "text": [
      "The input SSE Threshold was 10\n",
      "The percentage change is 27.162262027261303\n",
      "The initial error was 23732891.552 and final error was 17286501.362\n"
     ]
    },
    {
     "data": {
      "application/vnd.jupyter.widget-view+json": {
       "model_id": "a5501ab2a71f421e9895d63ed690cf97",
       "version_major": 2,
       "version_minor": 0
      },
      "text/plain": [
       "Pandas Apply:   0%|          | 0/168 [00:00<?, ?it/s]"
      ]
     },
     "metadata": {},
     "output_type": "display_data"
    },
    {
     "data": {
      "application/vnd.jupyter.widget-view+json": {
       "model_id": "e2bbbc0b54274a6fb54371ee9ade012b",
       "version_major": 2,
       "version_minor": 0
      },
      "text/plain": [
       "Pandas Apply:   0%|          | 0/168 [00:00<?, ?it/s]"
      ]
     },
     "metadata": {},
     "output_type": "display_data"
    },
    {
     "data": {
      "application/vnd.jupyter.widget-view+json": {
       "model_id": "cda63300ec6e4eedb5012af761f27d2f",
       "version_major": 2,
       "version_minor": 0
      },
      "text/plain": [
       "Pandas Apply:   0%|          | 0/168 [00:00<?, ?it/s]"
      ]
     },
     "metadata": {},
     "output_type": "display_data"
    },
    {
     "data": {
      "application/vnd.jupyter.widget-view+json": {
       "model_id": "2a768734b4bf46168d53ea3ad6e3d7d5",
       "version_major": 2,
       "version_minor": 0
      },
      "text/plain": [
       "Pandas Apply:   0%|          | 0/3 [00:00<?, ?it/s]"
      ]
     },
     "metadata": {},
     "output_type": "display_data"
    },
    {
     "data": {
      "application/vnd.jupyter.widget-view+json": {
       "model_id": "3e191aafcdb14f01baad7ffb18fd5623",
       "version_major": 2,
       "version_minor": 0
      },
      "text/plain": [
       "Pandas Apply:   0%|          | 0/3 [00:00<?, ?it/s]"
      ]
     },
     "metadata": {},
     "output_type": "display_data"
    },
    {
     "name": "stdout",
     "output_type": "stream",
     "text": [
      "The input SSE Threshold was 10\n",
      "The percentage change is 28.15015512596226\n",
      "The initial error was 24003814.035 and final error was 17246703.148\n"
     ]
    },
    {
     "data": {
      "application/vnd.jupyter.widget-view+json": {
       "model_id": "cb038dd8f7df4bcbbf3c6052a15f779a",
       "version_major": 2,
       "version_minor": 0
      },
      "text/plain": [
       "Pandas Apply:   0%|          | 0/168 [00:00<?, ?it/s]"
      ]
     },
     "metadata": {},
     "output_type": "display_data"
    },
    {
     "data": {
      "application/vnd.jupyter.widget-view+json": {
       "model_id": "3a84930187ce4618a293fcf60e60a0a6",
       "version_major": 2,
       "version_minor": 0
      },
      "text/plain": [
       "Pandas Apply:   0%|          | 0/168 [00:00<?, ?it/s]"
      ]
     },
     "metadata": {},
     "output_type": "display_data"
    },
    {
     "data": {
      "application/vnd.jupyter.widget-view+json": {
       "model_id": "52c253e714c84448a2c878bc49e3bb2f",
       "version_major": 2,
       "version_minor": 0
      },
      "text/plain": [
       "Pandas Apply:   0%|          | 0/168 [00:00<?, ?it/s]"
      ]
     },
     "metadata": {},
     "output_type": "display_data"
    },
    {
     "data": {
      "application/vnd.jupyter.widget-view+json": {
       "model_id": "740c46dbc8954fbf95c6c53b8406f278",
       "version_major": 2,
       "version_minor": 0
      },
      "text/plain": [
       "Pandas Apply:   0%|          | 0/3 [00:00<?, ?it/s]"
      ]
     },
     "metadata": {},
     "output_type": "display_data"
    },
    {
     "data": {
      "application/vnd.jupyter.widget-view+json": {
       "model_id": "9274029303394acfbd2476f47e867c94",
       "version_major": 2,
       "version_minor": 0
      },
      "text/plain": [
       "Pandas Apply:   0%|          | 0/3 [00:00<?, ?it/s]"
      ]
     },
     "metadata": {},
     "output_type": "display_data"
    },
    {
     "name": "stdout",
     "output_type": "stream",
     "text": [
      "The input SSE Threshold was 10\n",
      "The percentage change is 25.30116295433314\n",
      "The initial error was 23141597.596 and final error was 17286504.278\n"
     ]
    },
    {
     "data": {
      "application/vnd.jupyter.widget-view+json": {
       "model_id": "79f079fc0a704a28849e583529f44746",
       "version_major": 2,
       "version_minor": 0
      },
      "text/plain": [
       "Pandas Apply:   0%|          | 0/168 [00:00<?, ?it/s]"
      ]
     },
     "metadata": {},
     "output_type": "display_data"
    },
    {
     "data": {
      "application/vnd.jupyter.widget-view+json": {
       "model_id": "ac5ed488e5574c8d90745c849934226e",
       "version_major": 2,
       "version_minor": 0
      },
      "text/plain": [
       "Pandas Apply:   0%|          | 0/168 [00:00<?, ?it/s]"
      ]
     },
     "metadata": {},
     "output_type": "display_data"
    },
    {
     "data": {
      "application/vnd.jupyter.widget-view+json": {
       "model_id": "64128f13c3e2493d9089b7ee56cd5b03",
       "version_major": 2,
       "version_minor": 0
      },
      "text/plain": [
       "Pandas Apply:   0%|          | 0/168 [00:00<?, ?it/s]"
      ]
     },
     "metadata": {},
     "output_type": "display_data"
    },
    {
     "data": {
      "application/vnd.jupyter.widget-view+json": {
       "model_id": "4d85f43bc61d492bb6c42d88659cf114",
       "version_major": 2,
       "version_minor": 0
      },
      "text/plain": [
       "Pandas Apply:   0%|          | 0/3 [00:00<?, ?it/s]"
      ]
     },
     "metadata": {},
     "output_type": "display_data"
    },
    {
     "data": {
      "application/vnd.jupyter.widget-view+json": {
       "model_id": "150a310757f044f09519587ae4b1a85c",
       "version_major": 2,
       "version_minor": 0
      },
      "text/plain": [
       "Pandas Apply:   0%|          | 0/3 [00:00<?, ?it/s]"
      ]
     },
     "metadata": {},
     "output_type": "display_data"
    },
    {
     "name": "stdout",
     "output_type": "stream",
     "text": [
      "The input SSE Threshold was 10\n",
      "The percentage change is 19.346426898889874\n",
      "The initial error was 21289765.684 and final error was 17170956.729\n"
     ]
    },
    {
     "data": {
      "application/vnd.jupyter.widget-view+json": {
       "model_id": "b642196910d34d438293f6d6c6578b42",
       "version_major": 2,
       "version_minor": 0
      },
      "text/plain": [
       "Pandas Apply:   0%|          | 0/168 [00:00<?, ?it/s]"
      ]
     },
     "metadata": {},
     "output_type": "display_data"
    },
    {
     "data": {
      "application/vnd.jupyter.widget-view+json": {
       "model_id": "0579b7e2e8c24257b65d877f3ccf9924",
       "version_major": 2,
       "version_minor": 0
      },
      "text/plain": [
       "Pandas Apply:   0%|          | 0/168 [00:00<?, ?it/s]"
      ]
     },
     "metadata": {},
     "output_type": "display_data"
    },
    {
     "data": {
      "application/vnd.jupyter.widget-view+json": {
       "model_id": "ddeaf73c459e44fcb972b27cd67c4120",
       "version_major": 2,
       "version_minor": 0
      },
      "text/plain": [
       "Pandas Apply:   0%|          | 0/168 [00:00<?, ?it/s]"
      ]
     },
     "metadata": {},
     "output_type": "display_data"
    },
    {
     "data": {
      "application/vnd.jupyter.widget-view+json": {
       "model_id": "09411d96405242aebaa0c60da0581fac",
       "version_major": 2,
       "version_minor": 0
      },
      "text/plain": [
       "Pandas Apply:   0%|          | 0/3 [00:00<?, ?it/s]"
      ]
     },
     "metadata": {},
     "output_type": "display_data"
    },
    {
     "data": {
      "application/vnd.jupyter.widget-view+json": {
       "model_id": "c5fa26bef2a64d0e841af49d109bd62b",
       "version_major": 2,
       "version_minor": 0
      },
      "text/plain": [
       "Pandas Apply:   0%|          | 0/3 [00:00<?, ?it/s]"
      ]
     },
     "metadata": {},
     "output_type": "display_data"
    },
    {
     "name": "stdout",
     "output_type": "stream",
     "text": [
      "The input SSE Threshold was 10\n",
      "The percentage change is 14.42286887461629\n",
      "The initial error was 20087622.977 and final error was 17190411.455\n"
     ]
    },
    {
     "data": {
      "application/vnd.jupyter.widget-view+json": {
       "model_id": "22664d34b8ea4ca19231ecc5dc8ccdcb",
       "version_major": 2,
       "version_minor": 0
      },
      "text/plain": [
       "Pandas Apply:   0%|          | 0/168 [00:00<?, ?it/s]"
      ]
     },
     "metadata": {},
     "output_type": "display_data"
    },
    {
     "data": {
      "application/vnd.jupyter.widget-view+json": {
       "model_id": "f97bc221d4f54d85b4951a4cfc53651e",
       "version_major": 2,
       "version_minor": 0
      },
      "text/plain": [
       "Pandas Apply:   0%|          | 0/168 [00:00<?, ?it/s]"
      ]
     },
     "metadata": {},
     "output_type": "display_data"
    },
    {
     "data": {
      "application/vnd.jupyter.widget-view+json": {
       "model_id": "cca6e536562743b4b69041c4e4d2a024",
       "version_major": 2,
       "version_minor": 0
      },
      "text/plain": [
       "Pandas Apply:   0%|          | 0/168 [00:00<?, ?it/s]"
      ]
     },
     "metadata": {},
     "output_type": "display_data"
    },
    {
     "data": {
      "application/vnd.jupyter.widget-view+json": {
       "model_id": "b23e9be8a01f4c109f78912494f86819",
       "version_major": 2,
       "version_minor": 0
      },
      "text/plain": [
       "Pandas Apply:   0%|          | 0/3 [00:00<?, ?it/s]"
      ]
     },
     "metadata": {},
     "output_type": "display_data"
    },
    {
     "data": {
      "application/vnd.jupyter.widget-view+json": {
       "model_id": "13c0c7dcaa9d4b4a9a55e21e99191a3b",
       "version_major": 2,
       "version_minor": 0
      },
      "text/plain": [
       "Pandas Apply:   0%|          | 0/3 [00:00<?, ?it/s]"
      ]
     },
     "metadata": {},
     "output_type": "display_data"
    },
    {
     "name": "stdout",
     "output_type": "stream",
     "text": [
      "The input SSE Threshold was 10\n",
      "The percentage change is 13.198371969062034\n",
      "The initial error was 19544398.855 and final error was 16964856.395\n"
     ]
    },
    {
     "data": {
      "application/vnd.jupyter.widget-view+json": {
       "model_id": "71863166bc714f63912f720ce2481e23",
       "version_major": 2,
       "version_minor": 0
      },
      "text/plain": [
       "Pandas Apply:   0%|          | 0/168 [00:00<?, ?it/s]"
      ]
     },
     "metadata": {},
     "output_type": "display_data"
    },
    {
     "data": {
      "application/vnd.jupyter.widget-view+json": {
       "model_id": "ec59533d2e38429fac539c95feb77ae3",
       "version_major": 2,
       "version_minor": 0
      },
      "text/plain": [
       "Pandas Apply:   0%|          | 0/168 [00:00<?, ?it/s]"
      ]
     },
     "metadata": {},
     "output_type": "display_data"
    },
    {
     "data": {
      "application/vnd.jupyter.widget-view+json": {
       "model_id": "887a63038db44a9eab64a26f1564b577",
       "version_major": 2,
       "version_minor": 0
      },
      "text/plain": [
       "Pandas Apply:   0%|          | 0/168 [00:00<?, ?it/s]"
      ]
     },
     "metadata": {},
     "output_type": "display_data"
    },
    {
     "data": {
      "application/vnd.jupyter.widget-view+json": {
       "model_id": "2889b5b123e041ecb40e803448449861",
       "version_major": 2,
       "version_minor": 0
      },
      "text/plain": [
       "Pandas Apply:   0%|          | 0/3 [00:00<?, ?it/s]"
      ]
     },
     "metadata": {},
     "output_type": "display_data"
    },
    {
     "data": {
      "application/vnd.jupyter.widget-view+json": {
       "model_id": "415a4eaaf4af40f5a39bc2d40a6c93b3",
       "version_major": 2,
       "version_minor": 0
      },
      "text/plain": [
       "Pandas Apply:   0%|          | 0/3 [00:00<?, ?it/s]"
      ]
     },
     "metadata": {},
     "output_type": "display_data"
    },
    {
     "name": "stdout",
     "output_type": "stream",
     "text": [
      "The input SSE Threshold was 10\n",
      "The percentage change is 17.192591582400883\n",
      "The initial error was 20788184.567 and final error was 17214156.897\n"
     ]
    },
    {
     "data": {
      "application/vnd.jupyter.widget-view+json": {
       "model_id": "67cc5ba6679944448c056b7b808db611",
       "version_major": 2,
       "version_minor": 0
      },
      "text/plain": [
       "Pandas Apply:   0%|          | 0/168 [00:00<?, ?it/s]"
      ]
     },
     "metadata": {},
     "output_type": "display_data"
    },
    {
     "data": {
      "application/vnd.jupyter.widget-view+json": {
       "model_id": "fddfd039377148849af5e2af4d9d41dd",
       "version_major": 2,
       "version_minor": 0
      },
      "text/plain": [
       "Pandas Apply:   0%|          | 0/168 [00:00<?, ?it/s]"
      ]
     },
     "metadata": {},
     "output_type": "display_data"
    },
    {
     "data": {
      "application/vnd.jupyter.widget-view+json": {
       "model_id": "b0b20684be4a451f9ca152b85d86557a",
       "version_major": 2,
       "version_minor": 0
      },
      "text/plain": [
       "Pandas Apply:   0%|          | 0/168 [00:00<?, ?it/s]"
      ]
     },
     "metadata": {},
     "output_type": "display_data"
    },
    {
     "data": {
      "application/vnd.jupyter.widget-view+json": {
       "model_id": "18cc7df7eadc46c28c9e1161e344b304",
       "version_major": 2,
       "version_minor": 0
      },
      "text/plain": [
       "Pandas Apply:   0%|          | 0/3 [00:00<?, ?it/s]"
      ]
     },
     "metadata": {},
     "output_type": "display_data"
    },
    {
     "data": {
      "application/vnd.jupyter.widget-view+json": {
       "model_id": "a4fa443f26414bfe89bbc55884cb0b43",
       "version_major": 2,
       "version_minor": 0
      },
      "text/plain": [
       "Pandas Apply:   0%|          | 0/3 [00:00<?, ?it/s]"
      ]
     },
     "metadata": {},
     "output_type": "display_data"
    },
    {
     "name": "stdout",
     "output_type": "stream",
     "text": [
      "The input SSE Threshold was 10\n",
      "The percentage change is 24.200156435639038\n",
      "The initial error was 22720064.441 and final error was 17221773.304\n"
     ]
    },
    {
     "data": {
      "application/vnd.jupyter.widget-view+json": {
       "model_id": "d4f8308fba8143d4bf94981e66207f39",
       "version_major": 2,
       "version_minor": 0
      },
      "text/plain": [
       "Pandas Apply:   0%|          | 0/168 [00:00<?, ?it/s]"
      ]
     },
     "metadata": {},
     "output_type": "display_data"
    },
    {
     "data": {
      "application/vnd.jupyter.widget-view+json": {
       "model_id": "cd9e8cd31d024d0cbed7d77a8f0167d1",
       "version_major": 2,
       "version_minor": 0
      },
      "text/plain": [
       "Pandas Apply:   0%|          | 0/168 [00:00<?, ?it/s]"
      ]
     },
     "metadata": {},
     "output_type": "display_data"
    },
    {
     "data": {
      "application/vnd.jupyter.widget-view+json": {
       "model_id": "6a5f63c318ae44259d6de2f3379e973d",
       "version_major": 2,
       "version_minor": 0
      },
      "text/plain": [
       "Pandas Apply:   0%|          | 0/168 [00:00<?, ?it/s]"
      ]
     },
     "metadata": {},
     "output_type": "display_data"
    },
    {
     "data": {
      "application/vnd.jupyter.widget-view+json": {
       "model_id": "25ca58667d6b4524ad68dfb0eeb8cce3",
       "version_major": 2,
       "version_minor": 0
      },
      "text/plain": [
       "Pandas Apply:   0%|          | 0/3 [00:00<?, ?it/s]"
      ]
     },
     "metadata": {},
     "output_type": "display_data"
    },
    {
     "data": {
      "application/vnd.jupyter.widget-view+json": {
       "model_id": "0b0ba8fa850341769c7c491e1d9df448",
       "version_major": 2,
       "version_minor": 0
      },
      "text/plain": [
       "Pandas Apply:   0%|          | 0/3 [00:00<?, ?it/s]"
      ]
     },
     "metadata": {},
     "output_type": "display_data"
    },
    {
     "name": "stdout",
     "output_type": "stream",
     "text": [
      "The input SSE Threshold was 10\n",
      "The percentage change is 35.5775532457927\n",
      "The initial error was 26404160.233 and final error was 17010206.067\n"
     ]
    },
    {
     "data": {
      "application/vnd.jupyter.widget-view+json": {
       "model_id": "ecffb4a087914c5ab5d9e0e16dc62c33",
       "version_major": 2,
       "version_minor": 0
      },
      "text/plain": [
       "Pandas Apply:   0%|          | 0/168 [00:00<?, ?it/s]"
      ]
     },
     "metadata": {},
     "output_type": "display_data"
    },
    {
     "data": {
      "application/vnd.jupyter.widget-view+json": {
       "model_id": "0b94cdd24f954209a43ed1dfd7a05b70",
       "version_major": 2,
       "version_minor": 0
      },
      "text/plain": [
       "Pandas Apply:   0%|          | 0/168 [00:00<?, ?it/s]"
      ]
     },
     "metadata": {},
     "output_type": "display_data"
    },
    {
     "data": {
      "application/vnd.jupyter.widget-view+json": {
       "model_id": "03e2fc04233f46feb9d90bcc1b9ff5a2",
       "version_major": 2,
       "version_minor": 0
      },
      "text/plain": [
       "Pandas Apply:   0%|          | 0/168 [00:00<?, ?it/s]"
      ]
     },
     "metadata": {},
     "output_type": "display_data"
    },
    {
     "data": {
      "application/vnd.jupyter.widget-view+json": {
       "model_id": "428cf4405de04d8c80ac14a5f1d5823e",
       "version_major": 2,
       "version_minor": 0
      },
      "text/plain": [
       "Pandas Apply:   0%|          | 0/3 [00:00<?, ?it/s]"
      ]
     },
     "metadata": {},
     "output_type": "display_data"
    },
    {
     "data": {
      "application/vnd.jupyter.widget-view+json": {
       "model_id": "199814e0e0664d7c9cf39e4adf32c9fe",
       "version_major": 2,
       "version_minor": 0
      },
      "text/plain": [
       "Pandas Apply:   0%|          | 0/3 [00:00<?, ?it/s]"
      ]
     },
     "metadata": {},
     "output_type": "display_data"
    },
    {
     "name": "stdout",
     "output_type": "stream",
     "text": [
      "The input SSE Threshold was 10\n",
      "The percentage change is 29.85682426186217\n",
      "The initial error was 24644631.038 and final error was 17286526.859\n"
     ]
    },
    {
     "data": {
      "application/vnd.jupyter.widget-view+json": {
       "model_id": "bc1e5bc80055467aabe422ae46f139df",
       "version_major": 2,
       "version_minor": 0
      },
      "text/plain": [
       "Pandas Apply:   0%|          | 0/168 [00:00<?, ?it/s]"
      ]
     },
     "metadata": {},
     "output_type": "display_data"
    },
    {
     "data": {
      "application/vnd.jupyter.widget-view+json": {
       "model_id": "52a252c8c9754cb6a07cae5050227180",
       "version_major": 2,
       "version_minor": 0
      },
      "text/plain": [
       "Pandas Apply:   0%|          | 0/168 [00:00<?, ?it/s]"
      ]
     },
     "metadata": {},
     "output_type": "display_data"
    },
    {
     "data": {
      "application/vnd.jupyter.widget-view+json": {
       "model_id": "cf7b24823803492c999794496fde896f",
       "version_major": 2,
       "version_minor": 0
      },
      "text/plain": [
       "Pandas Apply:   0%|          | 0/168 [00:00<?, ?it/s]"
      ]
     },
     "metadata": {},
     "output_type": "display_data"
    },
    {
     "data": {
      "application/vnd.jupyter.widget-view+json": {
       "model_id": "798428dff0154ac4878d78b57e3b78f2",
       "version_major": 2,
       "version_minor": 0
      },
      "text/plain": [
       "Pandas Apply:   0%|          | 0/3 [00:00<?, ?it/s]"
      ]
     },
     "metadata": {},
     "output_type": "display_data"
    },
    {
     "data": {
      "application/vnd.jupyter.widget-view+json": {
       "model_id": "0ecd2b65ac7049628ac2524f2f012ea7",
       "version_major": 2,
       "version_minor": 0
      },
      "text/plain": [
       "Pandas Apply:   0%|          | 0/3 [00:00<?, ?it/s]"
      ]
     },
     "metadata": {},
     "output_type": "display_data"
    },
    {
     "name": "stdout",
     "output_type": "stream",
     "text": [
      "The input SSE Threshold was 10\n",
      "The percentage change is 39.65235230702896\n",
      "The initial error was 28621454.309 and final error was 17272374.411\n"
     ]
    },
    {
     "data": {
      "application/vnd.jupyter.widget-view+json": {
       "model_id": "e918a17e789b48f7abee4bbc1e47b5b4",
       "version_major": 2,
       "version_minor": 0
      },
      "text/plain": [
       "Pandas Apply:   0%|          | 0/168 [00:00<?, ?it/s]"
      ]
     },
     "metadata": {},
     "output_type": "display_data"
    },
    {
     "data": {
      "application/vnd.jupyter.widget-view+json": {
       "model_id": "770825de862049d1b1482061bbfb8be1",
       "version_major": 2,
       "version_minor": 0
      },
      "text/plain": [
       "Pandas Apply:   0%|          | 0/168 [00:00<?, ?it/s]"
      ]
     },
     "metadata": {},
     "output_type": "display_data"
    },
    {
     "data": {
      "application/vnd.jupyter.widget-view+json": {
       "model_id": "517f74b9d0e04959bbc3b2660ea952c2",
       "version_major": 2,
       "version_minor": 0
      },
      "text/plain": [
       "Pandas Apply:   0%|          | 0/168 [00:00<?, ?it/s]"
      ]
     },
     "metadata": {},
     "output_type": "display_data"
    },
    {
     "data": {
      "application/vnd.jupyter.widget-view+json": {
       "model_id": "c0675d81ebad46fbaa39adb2d1dc447a",
       "version_major": 2,
       "version_minor": 0
      },
      "text/plain": [
       "Pandas Apply:   0%|          | 0/168 [00:00<?, ?it/s]"
      ]
     },
     "metadata": {},
     "output_type": "display_data"
    },
    {
     "data": {
      "application/vnd.jupyter.widget-view+json": {
       "model_id": "cd53e3c2eb77430982bac00281b0c953",
       "version_major": 2,
       "version_minor": 0
      },
      "text/plain": [
       "Pandas Apply:   0%|          | 0/4 [00:00<?, ?it/s]"
      ]
     },
     "metadata": {},
     "output_type": "display_data"
    },
    {
     "data": {
      "application/vnd.jupyter.widget-view+json": {
       "model_id": "2c748f13ce864ecf90b17c888d83d26c",
       "version_major": 2,
       "version_minor": 0
      },
      "text/plain": [
       "Pandas Apply:   0%|          | 0/4 [00:00<?, ?it/s]"
      ]
     },
     "metadata": {},
     "output_type": "display_data"
    },
    {
     "name": "stdout",
     "output_type": "stream",
     "text": [
      "The input SSE Threshold was 10\n",
      "The percentage change is 32.40058597983284\n",
      "The initial error was 25571951.73 and final error was 17286489.523\n"
     ]
    },
    {
     "data": {
      "application/vnd.jupyter.widget-view+json": {
       "model_id": "a0b9d5394c954ffd90eb8f23501fb03a",
       "version_major": 2,
       "version_minor": 0
      },
      "text/plain": [
       "Pandas Apply:   0%|          | 0/168 [00:00<?, ?it/s]"
      ]
     },
     "metadata": {},
     "output_type": "display_data"
    },
    {
     "data": {
      "application/vnd.jupyter.widget-view+json": {
       "model_id": "bd228f59c8bf490ab8778d06c8d6ad32",
       "version_major": 2,
       "version_minor": 0
      },
      "text/plain": [
       "Pandas Apply:   0%|          | 0/168 [00:00<?, ?it/s]"
      ]
     },
     "metadata": {},
     "output_type": "display_data"
    },
    {
     "data": {
      "application/vnd.jupyter.widget-view+json": {
       "model_id": "9d4652fa80f444b4a4d7d7ab2d2b89ec",
       "version_major": 2,
       "version_minor": 0
      },
      "text/plain": [
       "Pandas Apply:   0%|          | 0/168 [00:00<?, ?it/s]"
      ]
     },
     "metadata": {},
     "output_type": "display_data"
    },
    {
     "data": {
      "application/vnd.jupyter.widget-view+json": {
       "model_id": "c95295efa73749199339546f0dac6f7f",
       "version_major": 2,
       "version_minor": 0
      },
      "text/plain": [
       "Pandas Apply:   0%|          | 0/168 [00:00<?, ?it/s]"
      ]
     },
     "metadata": {},
     "output_type": "display_data"
    },
    {
     "data": {
      "application/vnd.jupyter.widget-view+json": {
       "model_id": "21be35bbb39340669765b669c45ab977",
       "version_major": 2,
       "version_minor": 0
      },
      "text/plain": [
       "Pandas Apply:   0%|          | 0/4 [00:00<?, ?it/s]"
      ]
     },
     "metadata": {},
     "output_type": "display_data"
    },
    {
     "data": {
      "application/vnd.jupyter.widget-view+json": {
       "model_id": "980a65dd9bfa42748412551fda1a4941",
       "version_major": 2,
       "version_minor": 0
      },
      "text/plain": [
       "Pandas Apply:   0%|          | 0/4 [00:00<?, ?it/s]"
      ]
     },
     "metadata": {},
     "output_type": "display_data"
    },
    {
     "name": "stdout",
     "output_type": "stream",
     "text": [
      "The input SSE Threshold was 10\n",
      "The percentage change is 17.57892852151582\n",
      "The initial error was 20520426.126 and final error was 16913155.085\n"
     ]
    },
    {
     "data": {
      "application/vnd.jupyter.widget-view+json": {
       "model_id": "eaf63f9bf8544c82a16516390bce929a",
       "version_major": 2,
       "version_minor": 0
      },
      "text/plain": [
       "Pandas Apply:   0%|          | 0/168 [00:00<?, ?it/s]"
      ]
     },
     "metadata": {},
     "output_type": "display_data"
    },
    {
     "data": {
      "application/vnd.jupyter.widget-view+json": {
       "model_id": "3644fb08ac234faf8bc6c8fbd594834c",
       "version_major": 2,
       "version_minor": 0
      },
      "text/plain": [
       "Pandas Apply:   0%|          | 0/168 [00:00<?, ?it/s]"
      ]
     },
     "metadata": {},
     "output_type": "display_data"
    },
    {
     "data": {
      "application/vnd.jupyter.widget-view+json": {
       "model_id": "fdc4256353564de7b23ae776998c2d59",
       "version_major": 2,
       "version_minor": 0
      },
      "text/plain": [
       "Pandas Apply:   0%|          | 0/168 [00:00<?, ?it/s]"
      ]
     },
     "metadata": {},
     "output_type": "display_data"
    },
    {
     "data": {
      "application/vnd.jupyter.widget-view+json": {
       "model_id": "7ce2db16ab0a4399aeac7cde1af4c3f5",
       "version_major": 2,
       "version_minor": 0
      },
      "text/plain": [
       "Pandas Apply:   0%|          | 0/168 [00:00<?, ?it/s]"
      ]
     },
     "metadata": {},
     "output_type": "display_data"
    },
    {
     "data": {
      "application/vnd.jupyter.widget-view+json": {
       "model_id": "cc6705ee8a19434fbb5e6ab8fc5d7412",
       "version_major": 2,
       "version_minor": 0
      },
      "text/plain": [
       "Pandas Apply:   0%|          | 0/4 [00:00<?, ?it/s]"
      ]
     },
     "metadata": {},
     "output_type": "display_data"
    },
    {
     "data": {
      "application/vnd.jupyter.widget-view+json": {
       "model_id": "b5dbb11309914016a4f7f73338d1b36f",
       "version_major": 2,
       "version_minor": 0
      },
      "text/plain": [
       "Pandas Apply:   0%|          | 0/4 [00:00<?, ?it/s]"
      ]
     },
     "metadata": {},
     "output_type": "display_data"
    },
    {
     "name": "stdout",
     "output_type": "stream",
     "text": [
      "The input SSE Threshold was 10\n",
      "The percentage change is 25.59891013749106\n",
      "The initial error was 23190560.454 and final error was 17254029.723\n"
     ]
    },
    {
     "data": {
      "application/vnd.jupyter.widget-view+json": {
       "model_id": "9cd9dd67a4ec4773a2ad3d9060b092b5",
       "version_major": 2,
       "version_minor": 0
      },
      "text/plain": [
       "Pandas Apply:   0%|          | 0/168 [00:00<?, ?it/s]"
      ]
     },
     "metadata": {},
     "output_type": "display_data"
    },
    {
     "data": {
      "application/vnd.jupyter.widget-view+json": {
       "model_id": "893e247e676640fd89b960ce7cbbbe20",
       "version_major": 2,
       "version_minor": 0
      },
      "text/plain": [
       "Pandas Apply:   0%|          | 0/168 [00:00<?, ?it/s]"
      ]
     },
     "metadata": {},
     "output_type": "display_data"
    },
    {
     "data": {
      "application/vnd.jupyter.widget-view+json": {
       "model_id": "99b335e4ca9f4da08c132d0caeb89ee1",
       "version_major": 2,
       "version_minor": 0
      },
      "text/plain": [
       "Pandas Apply:   0%|          | 0/168 [00:00<?, ?it/s]"
      ]
     },
     "metadata": {},
     "output_type": "display_data"
    },
    {
     "data": {
      "application/vnd.jupyter.widget-view+json": {
       "model_id": "4a924e4cb01d41da9c2b5f00722c8a85",
       "version_major": 2,
       "version_minor": 0
      },
      "text/plain": [
       "Pandas Apply:   0%|          | 0/168 [00:00<?, ?it/s]"
      ]
     },
     "metadata": {},
     "output_type": "display_data"
    },
    {
     "data": {
      "application/vnd.jupyter.widget-view+json": {
       "model_id": "9caf266ae83746ddb24c0e33298be4a7",
       "version_major": 2,
       "version_minor": 0
      },
      "text/plain": [
       "Pandas Apply:   0%|          | 0/4 [00:00<?, ?it/s]"
      ]
     },
     "metadata": {},
     "output_type": "display_data"
    },
    {
     "data": {
      "application/vnd.jupyter.widget-view+json": {
       "model_id": "c4ab96e398034621a578699ea03757fd",
       "version_major": 2,
       "version_minor": 0
      },
      "text/plain": [
       "Pandas Apply:   0%|          | 0/4 [00:00<?, ?it/s]"
      ]
     },
     "metadata": {},
     "output_type": "display_data"
    },
    {
     "name": "stdout",
     "output_type": "stream",
     "text": [
      "The input SSE Threshold was 10\n",
      "The percentage change is 13.528055095922383\n",
      "The initial error was 19773583.542 and final error was 17098602.266\n"
     ]
    },
    {
     "data": {
      "application/vnd.jupyter.widget-view+json": {
       "model_id": "adac16d5f9f74582905fc45ec5686245",
       "version_major": 2,
       "version_minor": 0
      },
      "text/plain": [
       "Pandas Apply:   0%|          | 0/168 [00:00<?, ?it/s]"
      ]
     },
     "metadata": {},
     "output_type": "display_data"
    },
    {
     "data": {
      "application/vnd.jupyter.widget-view+json": {
       "model_id": "ed240038d6784451963bff8014c3daae",
       "version_major": 2,
       "version_minor": 0
      },
      "text/plain": [
       "Pandas Apply:   0%|          | 0/168 [00:00<?, ?it/s]"
      ]
     },
     "metadata": {},
     "output_type": "display_data"
    },
    {
     "data": {
      "application/vnd.jupyter.widget-view+json": {
       "model_id": "454a83b6d9004724866adf54e5349378",
       "version_major": 2,
       "version_minor": 0
      },
      "text/plain": [
       "Pandas Apply:   0%|          | 0/168 [00:00<?, ?it/s]"
      ]
     },
     "metadata": {},
     "output_type": "display_data"
    },
    {
     "data": {
      "application/vnd.jupyter.widget-view+json": {
       "model_id": "fb5bd9f50fb640f7bb002d0413edd1e6",
       "version_major": 2,
       "version_minor": 0
      },
      "text/plain": [
       "Pandas Apply:   0%|          | 0/168 [00:00<?, ?it/s]"
      ]
     },
     "metadata": {},
     "output_type": "display_data"
    },
    {
     "data": {
      "application/vnd.jupyter.widget-view+json": {
       "model_id": "dc21ae21e5244f3c896676d3199c6fa0",
       "version_major": 2,
       "version_minor": 0
      },
      "text/plain": [
       "Pandas Apply:   0%|          | 0/4 [00:00<?, ?it/s]"
      ]
     },
     "metadata": {},
     "output_type": "display_data"
    },
    {
     "data": {
      "application/vnd.jupyter.widget-view+json": {
       "model_id": "8982cf182f914346946ae752d0bd3f6b",
       "version_major": 2,
       "version_minor": 0
      },
      "text/plain": [
       "Pandas Apply:   0%|          | 0/4 [00:00<?, ?it/s]"
      ]
     },
     "metadata": {},
     "output_type": "display_data"
    },
    {
     "name": "stdout",
     "output_type": "stream",
     "text": [
      "The input SSE Threshold was 10\n",
      "The percentage change is 21.470780415503025\n",
      "The initial error was 21517824.46 and final error was 16897779.62\n"
     ]
    },
    {
     "data": {
      "application/vnd.jupyter.widget-view+json": {
       "model_id": "fe2d01c823714f4a9dd91cf555fae8f0",
       "version_major": 2,
       "version_minor": 0
      },
      "text/plain": [
       "Pandas Apply:   0%|          | 0/168 [00:00<?, ?it/s]"
      ]
     },
     "metadata": {},
     "output_type": "display_data"
    },
    {
     "data": {
      "application/vnd.jupyter.widget-view+json": {
       "model_id": "cad19b9b95054d349a19e79f905d204c",
       "version_major": 2,
       "version_minor": 0
      },
      "text/plain": [
       "Pandas Apply:   0%|          | 0/168 [00:00<?, ?it/s]"
      ]
     },
     "metadata": {},
     "output_type": "display_data"
    },
    {
     "data": {
      "application/vnd.jupyter.widget-view+json": {
       "model_id": "38dc1a702b2a444db5bb767a263462af",
       "version_major": 2,
       "version_minor": 0
      },
      "text/plain": [
       "Pandas Apply:   0%|          | 0/168 [00:00<?, ?it/s]"
      ]
     },
     "metadata": {},
     "output_type": "display_data"
    },
    {
     "data": {
      "application/vnd.jupyter.widget-view+json": {
       "model_id": "7082541a4ba246958eb218ac11adae12",
       "version_major": 2,
       "version_minor": 0
      },
      "text/plain": [
       "Pandas Apply:   0%|          | 0/168 [00:00<?, ?it/s]"
      ]
     },
     "metadata": {},
     "output_type": "display_data"
    },
    {
     "data": {
      "application/vnd.jupyter.widget-view+json": {
       "model_id": "5d0553e78cf44d8cb2a40481668788d0",
       "version_major": 2,
       "version_minor": 0
      },
      "text/plain": [
       "Pandas Apply:   0%|          | 0/4 [00:00<?, ?it/s]"
      ]
     },
     "metadata": {},
     "output_type": "display_data"
    },
    {
     "data": {
      "application/vnd.jupyter.widget-view+json": {
       "model_id": "76f04e52d4974f7f9886abbb614ba8ba",
       "version_major": 2,
       "version_minor": 0
      },
      "text/plain": [
       "Pandas Apply:   0%|          | 0/4 [00:00<?, ?it/s]"
      ]
     },
     "metadata": {},
     "output_type": "display_data"
    },
    {
     "name": "stdout",
     "output_type": "stream",
     "text": [
      "The input SSE Threshold was 10\n",
      "The percentage change is 20.812714993283254\n",
      "The initial error was 21216218.333 and final error was 16800547.279\n"
     ]
    },
    {
     "data": {
      "application/vnd.jupyter.widget-view+json": {
       "model_id": "c4c091e9e9fa47bf8623f1b1be26d97d",
       "version_major": 2,
       "version_minor": 0
      },
      "text/plain": [
       "Pandas Apply:   0%|          | 0/168 [00:00<?, ?it/s]"
      ]
     },
     "metadata": {},
     "output_type": "display_data"
    },
    {
     "data": {
      "application/vnd.jupyter.widget-view+json": {
       "model_id": "103011f938004689a6ddc2f9162e034f",
       "version_major": 2,
       "version_minor": 0
      },
      "text/plain": [
       "Pandas Apply:   0%|          | 0/168 [00:00<?, ?it/s]"
      ]
     },
     "metadata": {},
     "output_type": "display_data"
    },
    {
     "data": {
      "application/vnd.jupyter.widget-view+json": {
       "model_id": "0e9f1db177264ec79430bb0b6151f8e7",
       "version_major": 2,
       "version_minor": 0
      },
      "text/plain": [
       "Pandas Apply:   0%|          | 0/168 [00:00<?, ?it/s]"
      ]
     },
     "metadata": {},
     "output_type": "display_data"
    },
    {
     "data": {
      "application/vnd.jupyter.widget-view+json": {
       "model_id": "0db57d6ac561414580af9283de386426",
       "version_major": 2,
       "version_minor": 0
      },
      "text/plain": [
       "Pandas Apply:   0%|          | 0/168 [00:00<?, ?it/s]"
      ]
     },
     "metadata": {},
     "output_type": "display_data"
    },
    {
     "data": {
      "application/vnd.jupyter.widget-view+json": {
       "model_id": "0b1f4724002244a49245aaab409a74f9",
       "version_major": 2,
       "version_minor": 0
      },
      "text/plain": [
       "Pandas Apply:   0%|          | 0/4 [00:00<?, ?it/s]"
      ]
     },
     "metadata": {},
     "output_type": "display_data"
    },
    {
     "data": {
      "application/vnd.jupyter.widget-view+json": {
       "model_id": "e4fd4ca68ae9472595ee1e796f88be7a",
       "version_major": 2,
       "version_minor": 0
      },
      "text/plain": [
       "Pandas Apply:   0%|          | 0/4 [00:00<?, ?it/s]"
      ]
     },
     "metadata": {},
     "output_type": "display_data"
    },
    {
     "name": "stdout",
     "output_type": "stream",
     "text": [
      "The input SSE Threshold was 10\n",
      "The percentage change is 23.396322644411676\n",
      "The initial error was 21963380.712 and final error was 16824757.297\n"
     ]
    },
    {
     "data": {
      "application/vnd.jupyter.widget-view+json": {
       "model_id": "ffe2d2d3eab64640862dd7aec1eb6eeb",
       "version_major": 2,
       "version_minor": 0
      },
      "text/plain": [
       "Pandas Apply:   0%|          | 0/168 [00:00<?, ?it/s]"
      ]
     },
     "metadata": {},
     "output_type": "display_data"
    },
    {
     "data": {
      "application/vnd.jupyter.widget-view+json": {
       "model_id": "e90c8a9e72744e008439b0b07ca66c9c",
       "version_major": 2,
       "version_minor": 0
      },
      "text/plain": [
       "Pandas Apply:   0%|          | 0/168 [00:00<?, ?it/s]"
      ]
     },
     "metadata": {},
     "output_type": "display_data"
    },
    {
     "data": {
      "application/vnd.jupyter.widget-view+json": {
       "model_id": "7cd225fa43534daa99e7145ace5ba414",
       "version_major": 2,
       "version_minor": 0
      },
      "text/plain": [
       "Pandas Apply:   0%|          | 0/168 [00:00<?, ?it/s]"
      ]
     },
     "metadata": {},
     "output_type": "display_data"
    },
    {
     "data": {
      "application/vnd.jupyter.widget-view+json": {
       "model_id": "563f7c64d736443e8a64c20ce4f5c0b6",
       "version_major": 2,
       "version_minor": 0
      },
      "text/plain": [
       "Pandas Apply:   0%|          | 0/168 [00:00<?, ?it/s]"
      ]
     },
     "metadata": {},
     "output_type": "display_data"
    },
    {
     "data": {
      "application/vnd.jupyter.widget-view+json": {
       "model_id": "1971c213ccf04f53a4483587f66a819f",
       "version_major": 2,
       "version_minor": 0
      },
      "text/plain": [
       "Pandas Apply:   0%|          | 0/4 [00:00<?, ?it/s]"
      ]
     },
     "metadata": {},
     "output_type": "display_data"
    },
    {
     "data": {
      "application/vnd.jupyter.widget-view+json": {
       "model_id": "ff6b0693768d409abf597c963c33817f",
       "version_major": 2,
       "version_minor": 0
      },
      "text/plain": [
       "Pandas Apply:   0%|          | 0/4 [00:00<?, ?it/s]"
      ]
     },
     "metadata": {},
     "output_type": "display_data"
    },
    {
     "name": "stdout",
     "output_type": "stream",
     "text": [
      "The input SSE Threshold was 10\n",
      "The percentage change is 20.308579055171315\n",
      "The initial error was 21384967.999 and final error was 17041984.867\n"
     ]
    },
    {
     "data": {
      "application/vnd.jupyter.widget-view+json": {
       "model_id": "2c0e2466fa3c45459fb567b217f44489",
       "version_major": 2,
       "version_minor": 0
      },
      "text/plain": [
       "Pandas Apply:   0%|          | 0/168 [00:00<?, ?it/s]"
      ]
     },
     "metadata": {},
     "output_type": "display_data"
    },
    {
     "data": {
      "application/vnd.jupyter.widget-view+json": {
       "model_id": "46502cc0522a41d0bfd21c6e61b4d396",
       "version_major": 2,
       "version_minor": 0
      },
      "text/plain": [
       "Pandas Apply:   0%|          | 0/168 [00:00<?, ?it/s]"
      ]
     },
     "metadata": {},
     "output_type": "display_data"
    },
    {
     "data": {
      "application/vnd.jupyter.widget-view+json": {
       "model_id": "560e5d87b87044199ddf0f798c5fe449",
       "version_major": 2,
       "version_minor": 0
      },
      "text/plain": [
       "Pandas Apply:   0%|          | 0/168 [00:00<?, ?it/s]"
      ]
     },
     "metadata": {},
     "output_type": "display_data"
    },
    {
     "data": {
      "application/vnd.jupyter.widget-view+json": {
       "model_id": "442fdb94665c4258ba7a97fd3ccbcfc4",
       "version_major": 2,
       "version_minor": 0
      },
      "text/plain": [
       "Pandas Apply:   0%|          | 0/168 [00:00<?, ?it/s]"
      ]
     },
     "metadata": {},
     "output_type": "display_data"
    },
    {
     "data": {
      "application/vnd.jupyter.widget-view+json": {
       "model_id": "eccea0d2fe8748f6a118bdf616016f97",
       "version_major": 2,
       "version_minor": 0
      },
      "text/plain": [
       "Pandas Apply:   0%|          | 0/4 [00:00<?, ?it/s]"
      ]
     },
     "metadata": {},
     "output_type": "display_data"
    },
    {
     "data": {
      "application/vnd.jupyter.widget-view+json": {
       "model_id": "b0da7a4c94554a53aba85f1c51ad768f",
       "version_major": 2,
       "version_minor": 0
      },
      "text/plain": [
       "Pandas Apply:   0%|          | 0/4 [00:00<?, ?it/s]"
      ]
     },
     "metadata": {},
     "output_type": "display_data"
    },
    {
     "name": "stdout",
     "output_type": "stream",
     "text": [
      "The input SSE Threshold was 10\n",
      "The percentage change is 20.805317182755665\n",
      "The initial error was 21647815.486 and final error was 17143918.811\n"
     ]
    },
    {
     "data": {
      "application/vnd.jupyter.widget-view+json": {
       "model_id": "cce3bfc77e33455986af4f8062acc20a",
       "version_major": 2,
       "version_minor": 0
      },
      "text/plain": [
       "Pandas Apply:   0%|          | 0/168 [00:00<?, ?it/s]"
      ]
     },
     "metadata": {},
     "output_type": "display_data"
    },
    {
     "data": {
      "application/vnd.jupyter.widget-view+json": {
       "model_id": "e78fa084ccc24f63b15c623648d9b94d",
       "version_major": 2,
       "version_minor": 0
      },
      "text/plain": [
       "Pandas Apply:   0%|          | 0/168 [00:00<?, ?it/s]"
      ]
     },
     "metadata": {},
     "output_type": "display_data"
    },
    {
     "data": {
      "application/vnd.jupyter.widget-view+json": {
       "model_id": "5da913b81df3420389ea0458303ecf90",
       "version_major": 2,
       "version_minor": 0
      },
      "text/plain": [
       "Pandas Apply:   0%|          | 0/168 [00:00<?, ?it/s]"
      ]
     },
     "metadata": {},
     "output_type": "display_data"
    },
    {
     "data": {
      "application/vnd.jupyter.widget-view+json": {
       "model_id": "bac6f8f3d03e41e7976e8b3ca16c4326",
       "version_major": 2,
       "version_minor": 0
      },
      "text/plain": [
       "Pandas Apply:   0%|          | 0/168 [00:00<?, ?it/s]"
      ]
     },
     "metadata": {},
     "output_type": "display_data"
    },
    {
     "data": {
      "application/vnd.jupyter.widget-view+json": {
       "model_id": "59080cf2e34f4c77a5e61d7633e6ccac",
       "version_major": 2,
       "version_minor": 0
      },
      "text/plain": [
       "Pandas Apply:   0%|          | 0/4 [00:00<?, ?it/s]"
      ]
     },
     "metadata": {},
     "output_type": "display_data"
    },
    {
     "data": {
      "application/vnd.jupyter.widget-view+json": {
       "model_id": "087fbed9c7ec4bed92b821c19d85c534",
       "version_major": 2,
       "version_minor": 0
      },
      "text/plain": [
       "Pandas Apply:   0%|          | 0/4 [00:00<?, ?it/s]"
      ]
     },
     "metadata": {},
     "output_type": "display_data"
    },
    {
     "name": "stdout",
     "output_type": "stream",
     "text": [
      "The input SSE Threshold was 10\n",
      "The percentage change is 22.75984431146654\n",
      "The initial error was 22312190.903 and final error was 17233970.991\n"
     ]
    },
    {
     "data": {
      "application/vnd.jupyter.widget-view+json": {
       "model_id": "ee425cc5b2c847cfbfd05564b8eb3e5d",
       "version_major": 2,
       "version_minor": 0
      },
      "text/plain": [
       "Pandas Apply:   0%|          | 0/168 [00:00<?, ?it/s]"
      ]
     },
     "metadata": {},
     "output_type": "display_data"
    },
    {
     "data": {
      "application/vnd.jupyter.widget-view+json": {
       "model_id": "078d06dfee8b4ca0be57d6d00c8f2fd8",
       "version_major": 2,
       "version_minor": 0
      },
      "text/plain": [
       "Pandas Apply:   0%|          | 0/168 [00:00<?, ?it/s]"
      ]
     },
     "metadata": {},
     "output_type": "display_data"
    },
    {
     "data": {
      "application/vnd.jupyter.widget-view+json": {
       "model_id": "df9187e98a084c54afcdb8e1708d7d92",
       "version_major": 2,
       "version_minor": 0
      },
      "text/plain": [
       "Pandas Apply:   0%|          | 0/168 [00:00<?, ?it/s]"
      ]
     },
     "metadata": {},
     "output_type": "display_data"
    },
    {
     "data": {
      "application/vnd.jupyter.widget-view+json": {
       "model_id": "451cdba516de40aa808d80cd93b6ec1a",
       "version_major": 2,
       "version_minor": 0
      },
      "text/plain": [
       "Pandas Apply:   0%|          | 0/168 [00:00<?, ?it/s]"
      ]
     },
     "metadata": {},
     "output_type": "display_data"
    },
    {
     "data": {
      "application/vnd.jupyter.widget-view+json": {
       "model_id": "63999068a7cc44bdb8c1cfc5da510e0d",
       "version_major": 2,
       "version_minor": 0
      },
      "text/plain": [
       "Pandas Apply:   0%|          | 0/4 [00:00<?, ?it/s]"
      ]
     },
     "metadata": {},
     "output_type": "display_data"
    },
    {
     "data": {
      "application/vnd.jupyter.widget-view+json": {
       "model_id": "7562ca4a607f40a69294efa75d61299b",
       "version_major": 2,
       "version_minor": 0
      },
      "text/plain": [
       "Pandas Apply:   0%|          | 0/4 [00:00<?, ?it/s]"
      ]
     },
     "metadata": {},
     "output_type": "display_data"
    },
    {
     "name": "stdout",
     "output_type": "stream",
     "text": [
      "The input SSE Threshold was 10\n",
      "The percentage change is 35.69069747918511\n",
      "The initial error was 26341363.344 and final error was 16939947.041\n"
     ]
    },
    {
     "data": {
      "application/vnd.jupyter.widget-view+json": {
       "model_id": "297aa0bc00344cd59c1061215013d1e5",
       "version_major": 2,
       "version_minor": 0
      },
      "text/plain": [
       "Pandas Apply:   0%|          | 0/168 [00:00<?, ?it/s]"
      ]
     },
     "metadata": {},
     "output_type": "display_data"
    },
    {
     "data": {
      "application/vnd.jupyter.widget-view+json": {
       "model_id": "ef5490002fdb45678cd309ae64061a17",
       "version_major": 2,
       "version_minor": 0
      },
      "text/plain": [
       "Pandas Apply:   0%|          | 0/168 [00:00<?, ?it/s]"
      ]
     },
     "metadata": {},
     "output_type": "display_data"
    },
    {
     "data": {
      "application/vnd.jupyter.widget-view+json": {
       "model_id": "7d3eb5f9e82d4165ae440dc28c3fb9c1",
       "version_major": 2,
       "version_minor": 0
      },
      "text/plain": [
       "Pandas Apply:   0%|          | 0/168 [00:00<?, ?it/s]"
      ]
     },
     "metadata": {},
     "output_type": "display_data"
    },
    {
     "data": {
      "application/vnd.jupyter.widget-view+json": {
       "model_id": "5b4d4ea9a7524791871668c176aeebfd",
       "version_major": 2,
       "version_minor": 0
      },
      "text/plain": [
       "Pandas Apply:   0%|          | 0/168 [00:00<?, ?it/s]"
      ]
     },
     "metadata": {},
     "output_type": "display_data"
    },
    {
     "data": {
      "application/vnd.jupyter.widget-view+json": {
       "model_id": "f0a8b8c6268a47eaa678d4df1bb7b447",
       "version_major": 2,
       "version_minor": 0
      },
      "text/plain": [
       "Pandas Apply:   0%|          | 0/4 [00:00<?, ?it/s]"
      ]
     },
     "metadata": {},
     "output_type": "display_data"
    },
    {
     "data": {
      "application/vnd.jupyter.widget-view+json": {
       "model_id": "a6625a491d264ffa9291d58df5b88dbb",
       "version_major": 2,
       "version_minor": 0
      },
      "text/plain": [
       "Pandas Apply:   0%|          | 0/4 [00:00<?, ?it/s]"
      ]
     },
     "metadata": {},
     "output_type": "display_data"
    },
    {
     "name": "stdout",
     "output_type": "stream",
     "text": [
      "The input SSE Threshold was 10\n",
      "The percentage change is 21.508255176408042\n",
      "The initial error was 21643007.026 and final error was 16987973.847\n"
     ]
    },
    {
     "data": {
      "application/vnd.jupyter.widget-view+json": {
       "model_id": "7557267f0b424e5880c860a9b404739e",
       "version_major": 2,
       "version_minor": 0
      },
      "text/plain": [
       "Pandas Apply:   0%|          | 0/168 [00:00<?, ?it/s]"
      ]
     },
     "metadata": {},
     "output_type": "display_data"
    },
    {
     "data": {
      "application/vnd.jupyter.widget-view+json": {
       "model_id": "c18e5d64b20241079693c964837053a4",
       "version_major": 2,
       "version_minor": 0
      },
      "text/plain": [
       "Pandas Apply:   0%|          | 0/168 [00:00<?, ?it/s]"
      ]
     },
     "metadata": {},
     "output_type": "display_data"
    },
    {
     "data": {
      "application/vnd.jupyter.widget-view+json": {
       "model_id": "7fa1bc24dc654b0f9aa8c60d6ad91b08",
       "version_major": 2,
       "version_minor": 0
      },
      "text/plain": [
       "Pandas Apply:   0%|          | 0/168 [00:00<?, ?it/s]"
      ]
     },
     "metadata": {},
     "output_type": "display_data"
    },
    {
     "data": {
      "application/vnd.jupyter.widget-view+json": {
       "model_id": "0d7f2bd8f958448193a3635ffba98def",
       "version_major": 2,
       "version_minor": 0
      },
      "text/plain": [
       "Pandas Apply:   0%|          | 0/168 [00:00<?, ?it/s]"
      ]
     },
     "metadata": {},
     "output_type": "display_data"
    },
    {
     "data": {
      "application/vnd.jupyter.widget-view+json": {
       "model_id": "9981aab158e045509f29b1778becd826",
       "version_major": 2,
       "version_minor": 0
      },
      "text/plain": [
       "Pandas Apply:   0%|          | 0/4 [00:00<?, ?it/s]"
      ]
     },
     "metadata": {},
     "output_type": "display_data"
    },
    {
     "data": {
      "application/vnd.jupyter.widget-view+json": {
       "model_id": "6bae41c83f7444fa8f8e6ca15d1f7cd3",
       "version_major": 2,
       "version_minor": 0
      },
      "text/plain": [
       "Pandas Apply:   0%|          | 0/4 [00:00<?, ?it/s]"
      ]
     },
     "metadata": {},
     "output_type": "display_data"
    },
    {
     "name": "stdout",
     "output_type": "stream",
     "text": [
      "The input SSE Threshold was 10\n",
      "The percentage change is 26.533045904891956\n",
      "The initial error was 23393389.908 and final error was 17186411.025\n"
     ]
    },
    {
     "data": {
      "application/vnd.jupyter.widget-view+json": {
       "model_id": "41b34fd07b4c428895b9358669b5c3f6",
       "version_major": 2,
       "version_minor": 0
      },
      "text/plain": [
       "Pandas Apply:   0%|          | 0/168 [00:00<?, ?it/s]"
      ]
     },
     "metadata": {},
     "output_type": "display_data"
    },
    {
     "data": {
      "application/vnd.jupyter.widget-view+json": {
       "model_id": "469030990fd74d34998296c500884dad",
       "version_major": 2,
       "version_minor": 0
      },
      "text/plain": [
       "Pandas Apply:   0%|          | 0/168 [00:00<?, ?it/s]"
      ]
     },
     "metadata": {},
     "output_type": "display_data"
    },
    {
     "data": {
      "application/vnd.jupyter.widget-view+json": {
       "model_id": "83d3bb0b4d0e4e78a96de8b52c1e7377",
       "version_major": 2,
       "version_minor": 0
      },
      "text/plain": [
       "Pandas Apply:   0%|          | 0/168 [00:00<?, ?it/s]"
      ]
     },
     "metadata": {},
     "output_type": "display_data"
    },
    {
     "data": {
      "application/vnd.jupyter.widget-view+json": {
       "model_id": "cd572a792b6844b18526d9f4acb15bea",
       "version_major": 2,
       "version_minor": 0
      },
      "text/plain": [
       "Pandas Apply:   0%|          | 0/168 [00:00<?, ?it/s]"
      ]
     },
     "metadata": {},
     "output_type": "display_data"
    },
    {
     "data": {
      "application/vnd.jupyter.widget-view+json": {
       "model_id": "842adeb4f37449e490c0f30a68e51a88",
       "version_major": 2,
       "version_minor": 0
      },
      "text/plain": [
       "Pandas Apply:   0%|          | 0/4 [00:00<?, ?it/s]"
      ]
     },
     "metadata": {},
     "output_type": "display_data"
    },
    {
     "data": {
      "application/vnd.jupyter.widget-view+json": {
       "model_id": "655de471ced342348611653ec6343e1b",
       "version_major": 2,
       "version_minor": 0
      },
      "text/plain": [
       "Pandas Apply:   0%|          | 0/4 [00:00<?, ?it/s]"
      ]
     },
     "metadata": {},
     "output_type": "display_data"
    },
    {
     "name": "stdout",
     "output_type": "stream",
     "text": [
      "The input SSE Threshold was 10\n",
      "The percentage change is 19.897269391954126\n",
      "The initial error was 21168163.621 and final error was 16956277.08\n"
     ]
    },
    {
     "data": {
      "application/vnd.jupyter.widget-view+json": {
       "model_id": "096104e1007c43bc8d3f617d127fb77f",
       "version_major": 2,
       "version_minor": 0
      },
      "text/plain": [
       "Pandas Apply:   0%|          | 0/168 [00:00<?, ?it/s]"
      ]
     },
     "metadata": {},
     "output_type": "display_data"
    },
    {
     "data": {
      "application/vnd.jupyter.widget-view+json": {
       "model_id": "1b014118ba8b45a5bb7b3519bc6704e3",
       "version_major": 2,
       "version_minor": 0
      },
      "text/plain": [
       "Pandas Apply:   0%|          | 0/168 [00:00<?, ?it/s]"
      ]
     },
     "metadata": {},
     "output_type": "display_data"
    },
    {
     "data": {
      "application/vnd.jupyter.widget-view+json": {
       "model_id": "b5bd1a560ac642b398a06d54568073b5",
       "version_major": 2,
       "version_minor": 0
      },
      "text/plain": [
       "Pandas Apply:   0%|          | 0/168 [00:00<?, ?it/s]"
      ]
     },
     "metadata": {},
     "output_type": "display_data"
    },
    {
     "data": {
      "application/vnd.jupyter.widget-view+json": {
       "model_id": "5afd9d2a5924466d84f769c8a2723852",
       "version_major": 2,
       "version_minor": 0
      },
      "text/plain": [
       "Pandas Apply:   0%|          | 0/168 [00:00<?, ?it/s]"
      ]
     },
     "metadata": {},
     "output_type": "display_data"
    },
    {
     "data": {
      "application/vnd.jupyter.widget-view+json": {
       "model_id": "df246417a4574e7daf01929685625aff",
       "version_major": 2,
       "version_minor": 0
      },
      "text/plain": [
       "Pandas Apply:   0%|          | 0/4 [00:00<?, ?it/s]"
      ]
     },
     "metadata": {},
     "output_type": "display_data"
    },
    {
     "data": {
      "application/vnd.jupyter.widget-view+json": {
       "model_id": "5c9844c4f45e49b589cc7bda718bb09a",
       "version_major": 2,
       "version_minor": 0
      },
      "text/plain": [
       "Pandas Apply:   0%|          | 0/4 [00:00<?, ?it/s]"
      ]
     },
     "metadata": {},
     "output_type": "display_data"
    },
    {
     "name": "stdout",
     "output_type": "stream",
     "text": [
      "The input SSE Threshold was 10\n",
      "The percentage change is 17.84000295055887\n",
      "The initial error was 20671880.46 and final error was 16984016.376\n"
     ]
    },
    {
     "data": {
      "application/vnd.jupyter.widget-view+json": {
       "model_id": "e3761a1d8f0d405b918f23c6829cfa7f",
       "version_major": 2,
       "version_minor": 0
      },
      "text/plain": [
       "Pandas Apply:   0%|          | 0/168 [00:00<?, ?it/s]"
      ]
     },
     "metadata": {},
     "output_type": "display_data"
    },
    {
     "data": {
      "application/vnd.jupyter.widget-view+json": {
       "model_id": "2a21f7d4e4654b3ead9b75c0e7e2c2a2",
       "version_major": 2,
       "version_minor": 0
      },
      "text/plain": [
       "Pandas Apply:   0%|          | 0/168 [00:00<?, ?it/s]"
      ]
     },
     "metadata": {},
     "output_type": "display_data"
    },
    {
     "data": {
      "application/vnd.jupyter.widget-view+json": {
       "model_id": "2bf6be1c00ef4a108834316c7846a939",
       "version_major": 2,
       "version_minor": 0
      },
      "text/plain": [
       "Pandas Apply:   0%|          | 0/168 [00:00<?, ?it/s]"
      ]
     },
     "metadata": {},
     "output_type": "display_data"
    },
    {
     "data": {
      "application/vnd.jupyter.widget-view+json": {
       "model_id": "9d9e1843887a4014b75fd6fb665e9768",
       "version_major": 2,
       "version_minor": 0
      },
      "text/plain": [
       "Pandas Apply:   0%|          | 0/168 [00:00<?, ?it/s]"
      ]
     },
     "metadata": {},
     "output_type": "display_data"
    },
    {
     "data": {
      "application/vnd.jupyter.widget-view+json": {
       "model_id": "cb823cfcd81440539a70be33a4242a40",
       "version_major": 2,
       "version_minor": 0
      },
      "text/plain": [
       "Pandas Apply:   0%|          | 0/4 [00:00<?, ?it/s]"
      ]
     },
     "metadata": {},
     "output_type": "display_data"
    },
    {
     "data": {
      "application/vnd.jupyter.widget-view+json": {
       "model_id": "e73fdba11628405b86687e9a93230271",
       "version_major": 2,
       "version_minor": 0
      },
      "text/plain": [
       "Pandas Apply:   0%|          | 0/4 [00:00<?, ?it/s]"
      ]
     },
     "metadata": {},
     "output_type": "display_data"
    },
    {
     "name": "stdout",
     "output_type": "stream",
     "text": [
      "The input SSE Threshold was 10\n",
      "The percentage change is 22.502498452552636\n",
      "The initial error was 21858187.758 and final error was 16939549.396\n"
     ]
    },
    {
     "data": {
      "application/vnd.jupyter.widget-view+json": {
       "model_id": "d42d525e6031484a9fc617deb71f5b6f",
       "version_major": 2,
       "version_minor": 0
      },
      "text/plain": [
       "Pandas Apply:   0%|          | 0/168 [00:00<?, ?it/s]"
      ]
     },
     "metadata": {},
     "output_type": "display_data"
    },
    {
     "data": {
      "application/vnd.jupyter.widget-view+json": {
       "model_id": "ea84c39314d74571bfbd748658e94dae",
       "version_major": 2,
       "version_minor": 0
      },
      "text/plain": [
       "Pandas Apply:   0%|          | 0/168 [00:00<?, ?it/s]"
      ]
     },
     "metadata": {},
     "output_type": "display_data"
    },
    {
     "data": {
      "application/vnd.jupyter.widget-view+json": {
       "model_id": "dd922d3a88ef4997bae8c03d6834d783",
       "version_major": 2,
       "version_minor": 0
      },
      "text/plain": [
       "Pandas Apply:   0%|          | 0/168 [00:00<?, ?it/s]"
      ]
     },
     "metadata": {},
     "output_type": "display_data"
    },
    {
     "data": {
      "application/vnd.jupyter.widget-view+json": {
       "model_id": "dd23ff00ce074848b3ce96c7d7f72a7a",
       "version_major": 2,
       "version_minor": 0
      },
      "text/plain": [
       "Pandas Apply:   0%|          | 0/168 [00:00<?, ?it/s]"
      ]
     },
     "metadata": {},
     "output_type": "display_data"
    },
    {
     "data": {
      "application/vnd.jupyter.widget-view+json": {
       "model_id": "9d556601f6fd42d4b073515773fc6800",
       "version_major": 2,
       "version_minor": 0
      },
      "text/plain": [
       "Pandas Apply:   0%|          | 0/4 [00:00<?, ?it/s]"
      ]
     },
     "metadata": {},
     "output_type": "display_data"
    },
    {
     "data": {
      "application/vnd.jupyter.widget-view+json": {
       "model_id": "af90c83d7d394a8ba97b6b491f854d4b",
       "version_major": 2,
       "version_minor": 0
      },
      "text/plain": [
       "Pandas Apply:   0%|          | 0/4 [00:00<?, ?it/s]"
      ]
     },
     "metadata": {},
     "output_type": "display_data"
    },
    {
     "name": "stdout",
     "output_type": "stream",
     "text": [
      "The input SSE Threshold was 10\n",
      "The percentage change is 29.302350468247347\n",
      "The initial error was 24209944.365 and final error was 17115861.619\n"
     ]
    },
    {
     "data": {
      "application/vnd.jupyter.widget-view+json": {
       "model_id": "910e44b5237148e4bca7cbe564f306d8",
       "version_major": 2,
       "version_minor": 0
      },
      "text/plain": [
       "Pandas Apply:   0%|          | 0/168 [00:00<?, ?it/s]"
      ]
     },
     "metadata": {},
     "output_type": "display_data"
    },
    {
     "data": {
      "application/vnd.jupyter.widget-view+json": {
       "model_id": "cb9ff6ddfb5f45a984aa299eb7529471",
       "version_major": 2,
       "version_minor": 0
      },
      "text/plain": [
       "Pandas Apply:   0%|          | 0/168 [00:00<?, ?it/s]"
      ]
     },
     "metadata": {},
     "output_type": "display_data"
    },
    {
     "data": {
      "application/vnd.jupyter.widget-view+json": {
       "model_id": "f4581b6c4e8849dfb7818bf3e72f3745",
       "version_major": 2,
       "version_minor": 0
      },
      "text/plain": [
       "Pandas Apply:   0%|          | 0/168 [00:00<?, ?it/s]"
      ]
     },
     "metadata": {},
     "output_type": "display_data"
    },
    {
     "data": {
      "application/vnd.jupyter.widget-view+json": {
       "model_id": "48c38e6a7c3c4da98b1ac8a2fcf418f9",
       "version_major": 2,
       "version_minor": 0
      },
      "text/plain": [
       "Pandas Apply:   0%|          | 0/168 [00:00<?, ?it/s]"
      ]
     },
     "metadata": {},
     "output_type": "display_data"
    },
    {
     "data": {
      "application/vnd.jupyter.widget-view+json": {
       "model_id": "277c9bc4b7724aa7bcae1a72516d1801",
       "version_major": 2,
       "version_minor": 0
      },
      "text/plain": [
       "Pandas Apply:   0%|          | 0/4 [00:00<?, ?it/s]"
      ]
     },
     "metadata": {},
     "output_type": "display_data"
    },
    {
     "data": {
      "application/vnd.jupyter.widget-view+json": {
       "model_id": "86f5901b5f5c49ac99855b37d755732f",
       "version_major": 2,
       "version_minor": 0
      },
      "text/plain": [
       "Pandas Apply:   0%|          | 0/4 [00:00<?, ?it/s]"
      ]
     },
     "metadata": {},
     "output_type": "display_data"
    },
    {
     "name": "stdout",
     "output_type": "stream",
     "text": [
      "The input SSE Threshold was 10\n",
      "The percentage change is 17.342821035356597\n",
      "The initial error was 20465871.243 and final error was 16916511.82\n"
     ]
    },
    {
     "data": {
      "application/vnd.jupyter.widget-view+json": {
       "model_id": "5032f82549774c53a421b40d629924ec",
       "version_major": 2,
       "version_minor": 0
      },
      "text/plain": [
       "Pandas Apply:   0%|          | 0/168 [00:00<?, ?it/s]"
      ]
     },
     "metadata": {},
     "output_type": "display_data"
    },
    {
     "data": {
      "application/vnd.jupyter.widget-view+json": {
       "model_id": "288398fb59d44c41a4c1d5d2df3a1828",
       "version_major": 2,
       "version_minor": 0
      },
      "text/plain": [
       "Pandas Apply:   0%|          | 0/168 [00:00<?, ?it/s]"
      ]
     },
     "metadata": {},
     "output_type": "display_data"
    },
    {
     "data": {
      "application/vnd.jupyter.widget-view+json": {
       "model_id": "fe7bc14633054b5f9e2e178faf303c62",
       "version_major": 2,
       "version_minor": 0
      },
      "text/plain": [
       "Pandas Apply:   0%|          | 0/168 [00:00<?, ?it/s]"
      ]
     },
     "metadata": {},
     "output_type": "display_data"
    },
    {
     "data": {
      "application/vnd.jupyter.widget-view+json": {
       "model_id": "e3b05025fc6a42f9b618ba7c2213a788",
       "version_major": 2,
       "version_minor": 0
      },
      "text/plain": [
       "Pandas Apply:   0%|          | 0/168 [00:00<?, ?it/s]"
      ]
     },
     "metadata": {},
     "output_type": "display_data"
    },
    {
     "data": {
      "application/vnd.jupyter.widget-view+json": {
       "model_id": "0f404554f7d44aceafdd5d4755d1cab5",
       "version_major": 2,
       "version_minor": 0
      },
      "text/plain": [
       "Pandas Apply:   0%|          | 0/4 [00:00<?, ?it/s]"
      ]
     },
     "metadata": {},
     "output_type": "display_data"
    },
    {
     "data": {
      "application/vnd.jupyter.widget-view+json": {
       "model_id": "cc95a87678d44f92bb166e498abcb9a2",
       "version_major": 2,
       "version_minor": 0
      },
      "text/plain": [
       "Pandas Apply:   0%|          | 0/4 [00:00<?, ?it/s]"
      ]
     },
     "metadata": {},
     "output_type": "display_data"
    },
    {
     "name": "stdout",
     "output_type": "stream",
     "text": [
      "The input SSE Threshold was 10\n",
      "The percentage change is 36.89386081592127\n",
      "The initial error was 27174500.709 and final error was 17148778.24\n"
     ]
    },
    {
     "data": {
      "application/vnd.jupyter.widget-view+json": {
       "model_id": "7daf196f19134c12b591183cc1927949",
       "version_major": 2,
       "version_minor": 0
      },
      "text/plain": [
       "Pandas Apply:   0%|          | 0/168 [00:00<?, ?it/s]"
      ]
     },
     "metadata": {},
     "output_type": "display_data"
    },
    {
     "data": {
      "application/vnd.jupyter.widget-view+json": {
       "model_id": "f88fa288bd5847d1a1f21d0738255f87",
       "version_major": 2,
       "version_minor": 0
      },
      "text/plain": [
       "Pandas Apply:   0%|          | 0/168 [00:00<?, ?it/s]"
      ]
     },
     "metadata": {},
     "output_type": "display_data"
    },
    {
     "data": {
      "application/vnd.jupyter.widget-view+json": {
       "model_id": "2998a7b6cd564711a2a9b27984acecc0",
       "version_major": 2,
       "version_minor": 0
      },
      "text/plain": [
       "Pandas Apply:   0%|          | 0/168 [00:00<?, ?it/s]"
      ]
     },
     "metadata": {},
     "output_type": "display_data"
    },
    {
     "data": {
      "application/vnd.jupyter.widget-view+json": {
       "model_id": "b87f545a59144264b569807f4c343c6d",
       "version_major": 2,
       "version_minor": 0
      },
      "text/plain": [
       "Pandas Apply:   0%|          | 0/168 [00:00<?, ?it/s]"
      ]
     },
     "metadata": {},
     "output_type": "display_data"
    },
    {
     "data": {
      "application/vnd.jupyter.widget-view+json": {
       "model_id": "4ccb0c34ea3e4962ba61a0130c768172",
       "version_major": 2,
       "version_minor": 0
      },
      "text/plain": [
       "Pandas Apply:   0%|          | 0/4 [00:00<?, ?it/s]"
      ]
     },
     "metadata": {},
     "output_type": "display_data"
    },
    {
     "data": {
      "application/vnd.jupyter.widget-view+json": {
       "model_id": "dcd138b63d2747c0b84da5a9bbc9f761",
       "version_major": 2,
       "version_minor": 0
      },
      "text/plain": [
       "Pandas Apply:   0%|          | 0/4 [00:00<?, ?it/s]"
      ]
     },
     "metadata": {},
     "output_type": "display_data"
    },
    {
     "name": "stdout",
     "output_type": "stream",
     "text": [
      "The input SSE Threshold was 10\n",
      "The percentage change is 18.443531133136627\n",
      "The initial error was 21045588.304 and final error was 17164038.673\n"
     ]
    },
    {
     "data": {
      "application/vnd.jupyter.widget-view+json": {
       "model_id": "2c69df0577e04efb975f375261b4b98c",
       "version_major": 2,
       "version_minor": 0
      },
      "text/plain": [
       "Pandas Apply:   0%|          | 0/168 [00:00<?, ?it/s]"
      ]
     },
     "metadata": {},
     "output_type": "display_data"
    },
    {
     "data": {
      "application/vnd.jupyter.widget-view+json": {
       "model_id": "c9e009323c9c46c1a1220940b8231121",
       "version_major": 2,
       "version_minor": 0
      },
      "text/plain": [
       "Pandas Apply:   0%|          | 0/168 [00:00<?, ?it/s]"
      ]
     },
     "metadata": {},
     "output_type": "display_data"
    },
    {
     "data": {
      "application/vnd.jupyter.widget-view+json": {
       "model_id": "1cc08a1bb9a44513a1dbaa7e753a2b94",
       "version_major": 2,
       "version_minor": 0
      },
      "text/plain": [
       "Pandas Apply:   0%|          | 0/168 [00:00<?, ?it/s]"
      ]
     },
     "metadata": {},
     "output_type": "display_data"
    },
    {
     "data": {
      "application/vnd.jupyter.widget-view+json": {
       "model_id": "32dbe97c3f3249cfb33ed7d3c11f2a44",
       "version_major": 2,
       "version_minor": 0
      },
      "text/plain": [
       "Pandas Apply:   0%|          | 0/168 [00:00<?, ?it/s]"
      ]
     },
     "metadata": {},
     "output_type": "display_data"
    },
    {
     "data": {
      "application/vnd.jupyter.widget-view+json": {
       "model_id": "999e36fc9287459681a373b17b72a9b4",
       "version_major": 2,
       "version_minor": 0
      },
      "text/plain": [
       "Pandas Apply:   0%|          | 0/168 [00:00<?, ?it/s]"
      ]
     },
     "metadata": {},
     "output_type": "display_data"
    },
    {
     "data": {
      "application/vnd.jupyter.widget-view+json": {
       "model_id": "c15254370a7d4759ada0f65fb84442d6",
       "version_major": 2,
       "version_minor": 0
      },
      "text/plain": [
       "Pandas Apply:   0%|          | 0/5 [00:00<?, ?it/s]"
      ]
     },
     "metadata": {},
     "output_type": "display_data"
    },
    {
     "data": {
      "application/vnd.jupyter.widget-view+json": {
       "model_id": "9c93fbb9cd884fe3bd2e9b3203fa37ef",
       "version_major": 2,
       "version_minor": 0
      },
      "text/plain": [
       "Pandas Apply:   0%|          | 0/5 [00:00<?, ?it/s]"
      ]
     },
     "metadata": {},
     "output_type": "display_data"
    },
    {
     "name": "stdout",
     "output_type": "stream",
     "text": [
      "The input SSE Threshold was 10\n",
      "The percentage change is 24.38921820453034\n",
      "The initial error was 22466649.222 and final error was 16987209.12\n"
     ]
    },
    {
     "data": {
      "application/vnd.jupyter.widget-view+json": {
       "model_id": "014485869fd14b6a856c6965af0f5a66",
       "version_major": 2,
       "version_minor": 0
      },
      "text/plain": [
       "Pandas Apply:   0%|          | 0/168 [00:00<?, ?it/s]"
      ]
     },
     "metadata": {},
     "output_type": "display_data"
    },
    {
     "data": {
      "application/vnd.jupyter.widget-view+json": {
       "model_id": "b7f62392164d4d7eab4e705ab7e660ea",
       "version_major": 2,
       "version_minor": 0
      },
      "text/plain": [
       "Pandas Apply:   0%|          | 0/168 [00:00<?, ?it/s]"
      ]
     },
     "metadata": {},
     "output_type": "display_data"
    },
    {
     "data": {
      "application/vnd.jupyter.widget-view+json": {
       "model_id": "80ed4c34be454844bbb16f67480d383e",
       "version_major": 2,
       "version_minor": 0
      },
      "text/plain": [
       "Pandas Apply:   0%|          | 0/168 [00:00<?, ?it/s]"
      ]
     },
     "metadata": {},
     "output_type": "display_data"
    },
    {
     "data": {
      "application/vnd.jupyter.widget-view+json": {
       "model_id": "068c3bbacee94e7ca60b9d7eee886f8c",
       "version_major": 2,
       "version_minor": 0
      },
      "text/plain": [
       "Pandas Apply:   0%|          | 0/168 [00:00<?, ?it/s]"
      ]
     },
     "metadata": {},
     "output_type": "display_data"
    },
    {
     "data": {
      "application/vnd.jupyter.widget-view+json": {
       "model_id": "f726690e752d4db9b13e061937488e4e",
       "version_major": 2,
       "version_minor": 0
      },
      "text/plain": [
       "Pandas Apply:   0%|          | 0/168 [00:00<?, ?it/s]"
      ]
     },
     "metadata": {},
     "output_type": "display_data"
    },
    {
     "data": {
      "application/vnd.jupyter.widget-view+json": {
       "model_id": "b54ef06cbf12433984dff94a328a565b",
       "version_major": 2,
       "version_minor": 0
      },
      "text/plain": [
       "Pandas Apply:   0%|          | 0/5 [00:00<?, ?it/s]"
      ]
     },
     "metadata": {},
     "output_type": "display_data"
    },
    {
     "data": {
      "application/vnd.jupyter.widget-view+json": {
       "model_id": "3de2e6949b1740ceb4a2014f887e4a74",
       "version_major": 2,
       "version_minor": 0
      },
      "text/plain": [
       "Pandas Apply:   0%|          | 0/5 [00:00<?, ?it/s]"
      ]
     },
     "metadata": {},
     "output_type": "display_data"
    },
    {
     "name": "stdout",
     "output_type": "stream",
     "text": [
      "The input SSE Threshold was 10\n",
      "The percentage change is 24.758407529411393\n",
      "The initial error was 22515027.214 and final error was 16940665.021\n"
     ]
    },
    {
     "data": {
      "application/vnd.jupyter.widget-view+json": {
       "model_id": "ab93d073fff042ffb3d524513781cda2",
       "version_major": 2,
       "version_minor": 0
      },
      "text/plain": [
       "Pandas Apply:   0%|          | 0/168 [00:00<?, ?it/s]"
      ]
     },
     "metadata": {},
     "output_type": "display_data"
    },
    {
     "data": {
      "application/vnd.jupyter.widget-view+json": {
       "model_id": "4e684ddbcecf4ae2a7c13f5986fec4ab",
       "version_major": 2,
       "version_minor": 0
      },
      "text/plain": [
       "Pandas Apply:   0%|          | 0/168 [00:00<?, ?it/s]"
      ]
     },
     "metadata": {},
     "output_type": "display_data"
    },
    {
     "data": {
      "application/vnd.jupyter.widget-view+json": {
       "model_id": "846cd8bf28544e3fac9b7d8474040031",
       "version_major": 2,
       "version_minor": 0
      },
      "text/plain": [
       "Pandas Apply:   0%|          | 0/168 [00:00<?, ?it/s]"
      ]
     },
     "metadata": {},
     "output_type": "display_data"
    },
    {
     "data": {
      "application/vnd.jupyter.widget-view+json": {
       "model_id": "6e0906a336b243abb7f183adf188f75f",
       "version_major": 2,
       "version_minor": 0
      },
      "text/plain": [
       "Pandas Apply:   0%|          | 0/168 [00:00<?, ?it/s]"
      ]
     },
     "metadata": {},
     "output_type": "display_data"
    },
    {
     "data": {
      "application/vnd.jupyter.widget-view+json": {
       "model_id": "c3bf0dc46aa04a61a253b54ecbe7bdc9",
       "version_major": 2,
       "version_minor": 0
      },
      "text/plain": [
       "Pandas Apply:   0%|          | 0/168 [00:00<?, ?it/s]"
      ]
     },
     "metadata": {},
     "output_type": "display_data"
    },
    {
     "data": {
      "application/vnd.jupyter.widget-view+json": {
       "model_id": "33e8481c07474a4e9fe371f724adef60",
       "version_major": 2,
       "version_minor": 0
      },
      "text/plain": [
       "Pandas Apply:   0%|          | 0/5 [00:00<?, ?it/s]"
      ]
     },
     "metadata": {},
     "output_type": "display_data"
    },
    {
     "data": {
      "application/vnd.jupyter.widget-view+json": {
       "model_id": "3eafdfe4781b4ecdb9259e2a16209a71",
       "version_major": 2,
       "version_minor": 0
      },
      "text/plain": [
       "Pandas Apply:   0%|          | 0/5 [00:00<?, ?it/s]"
      ]
     },
     "metadata": {},
     "output_type": "display_data"
    },
    {
     "name": "stdout",
     "output_type": "stream",
     "text": [
      "The input SSE Threshold was 10\n",
      "The percentage change is 23.423157403675106\n",
      "The initial error was 22413586.941 and final error was 17163617.192\n"
     ]
    },
    {
     "data": {
      "application/vnd.jupyter.widget-view+json": {
       "model_id": "3aff0b86a76e46a28aef717f0b1b77a6",
       "version_major": 2,
       "version_minor": 0
      },
      "text/plain": [
       "Pandas Apply:   0%|          | 0/168 [00:00<?, ?it/s]"
      ]
     },
     "metadata": {},
     "output_type": "display_data"
    },
    {
     "data": {
      "application/vnd.jupyter.widget-view+json": {
       "model_id": "d378b4c55a5d459f8f619f07971320fc",
       "version_major": 2,
       "version_minor": 0
      },
      "text/plain": [
       "Pandas Apply:   0%|          | 0/168 [00:00<?, ?it/s]"
      ]
     },
     "metadata": {},
     "output_type": "display_data"
    },
    {
     "data": {
      "application/vnd.jupyter.widget-view+json": {
       "model_id": "ac2996d68290412abaa2a4637af76ddd",
       "version_major": 2,
       "version_minor": 0
      },
      "text/plain": [
       "Pandas Apply:   0%|          | 0/168 [00:00<?, ?it/s]"
      ]
     },
     "metadata": {},
     "output_type": "display_data"
    },
    {
     "data": {
      "application/vnd.jupyter.widget-view+json": {
       "model_id": "879a42ff282a4f65a8548475a916db43",
       "version_major": 2,
       "version_minor": 0
      },
      "text/plain": [
       "Pandas Apply:   0%|          | 0/168 [00:00<?, ?it/s]"
      ]
     },
     "metadata": {},
     "output_type": "display_data"
    },
    {
     "data": {
      "application/vnd.jupyter.widget-view+json": {
       "model_id": "0de9287b96754107a8013e41b2d17677",
       "version_major": 2,
       "version_minor": 0
      },
      "text/plain": [
       "Pandas Apply:   0%|          | 0/168 [00:00<?, ?it/s]"
      ]
     },
     "metadata": {},
     "output_type": "display_data"
    },
    {
     "data": {
      "application/vnd.jupyter.widget-view+json": {
       "model_id": "03fc0c063e7447bb9ec639c6a7ba4662",
       "version_major": 2,
       "version_minor": 0
      },
      "text/plain": [
       "Pandas Apply:   0%|          | 0/5 [00:00<?, ?it/s]"
      ]
     },
     "metadata": {},
     "output_type": "display_data"
    },
    {
     "data": {
      "application/vnd.jupyter.widget-view+json": {
       "model_id": "1cc1b80a6a3c456dbf1f9cbbf4f97fe1",
       "version_major": 2,
       "version_minor": 0
      },
      "text/plain": [
       "Pandas Apply:   0%|          | 0/5 [00:00<?, ?it/s]"
      ]
     },
     "metadata": {},
     "output_type": "display_data"
    },
    {
     "name": "stdout",
     "output_type": "stream",
     "text": [
      "The input SSE Threshold was 10\n",
      "The percentage change is 26.35705194569555\n",
      "The initial error was 22859329.334 and final error was 16834284.027\n"
     ]
    },
    {
     "data": {
      "application/vnd.jupyter.widget-view+json": {
       "model_id": "f24b8ca0aa3a419d806e13d7045bb3d3",
       "version_major": 2,
       "version_minor": 0
      },
      "text/plain": [
       "Pandas Apply:   0%|          | 0/168 [00:00<?, ?it/s]"
      ]
     },
     "metadata": {},
     "output_type": "display_data"
    },
    {
     "data": {
      "application/vnd.jupyter.widget-view+json": {
       "model_id": "9a541112da154637bcf4e1dc205c0538",
       "version_major": 2,
       "version_minor": 0
      },
      "text/plain": [
       "Pandas Apply:   0%|          | 0/168 [00:00<?, ?it/s]"
      ]
     },
     "metadata": {},
     "output_type": "display_data"
    },
    {
     "data": {
      "application/vnd.jupyter.widget-view+json": {
       "model_id": "620ba1fc62374746b438a878d4eaf149",
       "version_major": 2,
       "version_minor": 0
      },
      "text/plain": [
       "Pandas Apply:   0%|          | 0/168 [00:00<?, ?it/s]"
      ]
     },
     "metadata": {},
     "output_type": "display_data"
    },
    {
     "data": {
      "application/vnd.jupyter.widget-view+json": {
       "model_id": "3c095030d46e48ab98d9d23a514ffaa9",
       "version_major": 2,
       "version_minor": 0
      },
      "text/plain": [
       "Pandas Apply:   0%|          | 0/168 [00:00<?, ?it/s]"
      ]
     },
     "metadata": {},
     "output_type": "display_data"
    },
    {
     "data": {
      "application/vnd.jupyter.widget-view+json": {
       "model_id": "d70f40bee58b440d9a431f6ded4712c9",
       "version_major": 2,
       "version_minor": 0
      },
      "text/plain": [
       "Pandas Apply:   0%|          | 0/168 [00:00<?, ?it/s]"
      ]
     },
     "metadata": {},
     "output_type": "display_data"
    },
    {
     "data": {
      "application/vnd.jupyter.widget-view+json": {
       "model_id": "d86260086939475e806971a7a9171c22",
       "version_major": 2,
       "version_minor": 0
      },
      "text/plain": [
       "Pandas Apply:   0%|          | 0/5 [00:00<?, ?it/s]"
      ]
     },
     "metadata": {},
     "output_type": "display_data"
    },
    {
     "data": {
      "application/vnd.jupyter.widget-view+json": {
       "model_id": "e0a12c5bc6c54b0ea62bf9040d674d05",
       "version_major": 2,
       "version_minor": 0
      },
      "text/plain": [
       "Pandas Apply:   0%|          | 0/5 [00:00<?, ?it/s]"
      ]
     },
     "metadata": {},
     "output_type": "display_data"
    },
    {
     "name": "stdout",
     "output_type": "stream",
     "text": [
      "The input SSE Threshold was 10\n",
      "The percentage change is 21.181607905017074\n",
      "The initial error was 21506142.784 and final error was 16950795.944\n"
     ]
    },
    {
     "data": {
      "application/vnd.jupyter.widget-view+json": {
       "model_id": "a993a40201904e1cae8cbff7af0db202",
       "version_major": 2,
       "version_minor": 0
      },
      "text/plain": [
       "Pandas Apply:   0%|          | 0/168 [00:00<?, ?it/s]"
      ]
     },
     "metadata": {},
     "output_type": "display_data"
    },
    {
     "data": {
      "application/vnd.jupyter.widget-view+json": {
       "model_id": "5a2598d7a43946719d82a66ab54b1496",
       "version_major": 2,
       "version_minor": 0
      },
      "text/plain": [
       "Pandas Apply:   0%|          | 0/168 [00:00<?, ?it/s]"
      ]
     },
     "metadata": {},
     "output_type": "display_data"
    },
    {
     "data": {
      "application/vnd.jupyter.widget-view+json": {
       "model_id": "ca97cf724d2449649549eb41b29b1146",
       "version_major": 2,
       "version_minor": 0
      },
      "text/plain": [
       "Pandas Apply:   0%|          | 0/168 [00:00<?, ?it/s]"
      ]
     },
     "metadata": {},
     "output_type": "display_data"
    },
    {
     "data": {
      "application/vnd.jupyter.widget-view+json": {
       "model_id": "ba36289c6f6f40f0989367165f28b301",
       "version_major": 2,
       "version_minor": 0
      },
      "text/plain": [
       "Pandas Apply:   0%|          | 0/168 [00:00<?, ?it/s]"
      ]
     },
     "metadata": {},
     "output_type": "display_data"
    },
    {
     "data": {
      "application/vnd.jupyter.widget-view+json": {
       "model_id": "3a707b93be9d4a8c9c20c87b5a3da6e2",
       "version_major": 2,
       "version_minor": 0
      },
      "text/plain": [
       "Pandas Apply:   0%|          | 0/168 [00:00<?, ?it/s]"
      ]
     },
     "metadata": {},
     "output_type": "display_data"
    },
    {
     "ename": "KeyboardInterrupt",
     "evalue": "",
     "output_type": "error",
     "traceback": [
      "\u001b[0;31m---------------------------------------------------------------------------\u001b[0m",
      "\u001b[0;31mValueError\u001b[0m                                Traceback (most recent call last)",
      "File \u001b[0;32m~/.local/lib/python3.9/site-packages/swifter/swifter.py:429\u001b[0m, in \u001b[0;36mDataFrameAccessor.apply\u001b[0;34m(self, func, axis, raw, result_type, args, **kwds)\u001b[0m\n\u001b[1;32m    428\u001b[0m     sample_df \u001b[38;5;241m=\u001b[39m sample\u001b[38;5;241m.\u001b[39mapply(func, axis\u001b[38;5;241m=\u001b[39maxis, raw\u001b[38;5;241m=\u001b[39mraw, result_type\u001b[38;5;241m=\u001b[39mresult_type, args\u001b[38;5;241m=\u001b[39margs, \u001b[38;5;241m*\u001b[39m\u001b[38;5;241m*\u001b[39mkwds)\n\u001b[0;32m--> 429\u001b[0m     \u001b[38;5;28;43mself\u001b[39;49m\u001b[38;5;241;43m.\u001b[39;49m\u001b[43m_validate_apply\u001b[49m\u001b[43m(\u001b[49m\n\u001b[1;32m    430\u001b[0m \u001b[43m        \u001b[49m\u001b[43mnp\u001b[49m\u001b[38;5;241;43m.\u001b[39;49m\u001b[43marray_equal\u001b[49m\u001b[43m(\u001b[49m\u001b[43msample_df\u001b[49m\u001b[43m,\u001b[49m\u001b[43m \u001b[49m\u001b[43mtmp_df\u001b[49m\u001b[43m)\u001b[49m\u001b[43m \u001b[49m\u001b[38;5;241;43m&\u001b[39;49m\u001b[43m \u001b[49m\u001b[43m(\u001b[49m\u001b[38;5;28;43mhasattr\u001b[39;49m\u001b[43m(\u001b[49m\u001b[43mtmp_df\u001b[49m\u001b[43m,\u001b[49m\u001b[43m \u001b[49m\u001b[38;5;124;43m\"\u001b[39;49m\u001b[38;5;124;43mshape\u001b[39;49m\u001b[38;5;124;43m\"\u001b[39;49m\u001b[43m)\u001b[49m\u001b[43m)\u001b[49m\u001b[43m \u001b[49m\u001b[38;5;241;43m&\u001b[39;49m\u001b[43m \u001b[49m\u001b[43m(\u001b[49m\u001b[43msample_df\u001b[49m\u001b[38;5;241;43m.\u001b[39;49m\u001b[43mshape\u001b[49m\u001b[43m \u001b[49m\u001b[38;5;241;43m==\u001b[39;49m\u001b[43m \u001b[49m\u001b[43mtmp_df\u001b[49m\u001b[38;5;241;43m.\u001b[39;49m\u001b[43mshape\u001b[49m\u001b[43m)\u001b[49m\u001b[43m,\u001b[49m\n\u001b[1;32m    431\u001b[0m \u001b[43m        \u001b[49m\u001b[43merror_message\u001b[49m\u001b[38;5;241;43m=\u001b[39;49m\u001b[43m(\u001b[49m\u001b[38;5;124;43m\"\u001b[39;49m\u001b[38;5;124;43mVectorized function sample does not match pandas apply sample.\u001b[39;49m\u001b[38;5;124;43m\"\u001b[39;49m\u001b[43m)\u001b[49m\u001b[43m,\u001b[49m\n\u001b[1;32m    432\u001b[0m \u001b[43m    \u001b[49m\u001b[43m)\u001b[49m\n\u001b[1;32m    433\u001b[0m \u001b[38;5;28;01mreturn\u001b[39;00m func(\u001b[38;5;28mself\u001b[39m\u001b[38;5;241m.\u001b[39m_obj, \u001b[38;5;241m*\u001b[39margs, \u001b[38;5;241m*\u001b[39m\u001b[38;5;241m*\u001b[39mkwds)\n",
      "File \u001b[0;32m~/.local/lib/python3.9/site-packages/swifter/base.py:53\u001b[0m, in \u001b[0;36m_SwifterBaseObject._validate_apply\u001b[0;34m(expr, error_message)\u001b[0m\n\u001b[1;32m     52\u001b[0m \u001b[38;5;28;01mif\u001b[39;00m \u001b[38;5;129;01mnot\u001b[39;00m expr:\n\u001b[0;32m---> 53\u001b[0m     \u001b[38;5;28;01mraise\u001b[39;00m \u001b[38;5;167;01mValueError\u001b[39;00m(error_message)\n",
      "\u001b[0;31mValueError\u001b[0m: Vectorized function sample does not match pandas apply sample.",
      "\nDuring handling of the above exception, another exception occurred:\n",
      "\u001b[0;31mKeyboardInterrupt\u001b[0m                         Traceback (most recent call last)",
      "Input \u001b[0;32mIn [311]\u001b[0m, in \u001b[0;36m<cell line: 2>\u001b[0;34m()\u001b[0m\n\u001b[1;32m      2\u001b[0m \u001b[38;5;28;01mfor\u001b[39;00m no_of_clusters \u001b[38;5;129;01min\u001b[39;00m \u001b[38;5;28mrange\u001b[39m(\u001b[38;5;241m2\u001b[39m,\u001b[38;5;241m6\u001b[39m):\n\u001b[1;32m      3\u001b[0m     \u001b[38;5;66;03m#Taking the cluster value from 2 to 5\u001b[39;00m\n\u001b[1;32m      4\u001b[0m     \u001b[38;5;28;01mfor\u001b[39;00m no_of_experiments \u001b[38;5;129;01min\u001b[39;00m \u001b[38;5;28mrange\u001b[39m(\u001b[38;5;241m1\u001b[39m,\u001b[38;5;241m21\u001b[39m):\n\u001b[1;32m      5\u001b[0m         \u001b[38;5;66;03m#Performing experiments for each cluster 20 times\u001b[39;00m\n\u001b[0;32m----> 6\u001b[0m         final_centroids,error_target_variable,sum_of_squared_error,run_time\u001b[38;5;241m=\u001b[39m\u001b[43mkmeans_SSE_Convergence\u001b[49m\u001b[43m(\u001b[49m\u001b[43mcount_vectorizer_df\u001b[49m\u001b[43m,\u001b[49m\u001b[43mno_of_clusters\u001b[49m\u001b[43m,\u001b[49m\u001b[38;5;241;43m10\u001b[39;49m\u001b[43m,\u001b[49m\u001b[38;5;241;43m100\u001b[39;49m\u001b[43m)\u001b[49m\n\u001b[1;32m      7\u001b[0m         \u001b[38;5;66;03m#Storing the variables in dataframe\u001b[39;00m\n\u001b[1;32m      8\u001b[0m         error_values_kmeans_convergence\u001b[38;5;241m.\u001b[39mappend([no_of_clusters,no_of_experiments,error_target_variable,sum_of_squared_error,run_time])\n",
      "Input \u001b[0;32mIn [260]\u001b[0m, in \u001b[0;36mkmeans_SSE_Convergence\u001b[0;34m(input_dataframe, no_of_clusters, sum_of_squared_threshold, no_of_iterations)\u001b[0m\n\u001b[1;32m     69\u001b[0m initial_centroid_column_list\u001b[38;5;241m=\u001b[39minitial_centroid\u001b[38;5;241m.\u001b[39mcolumns\u001b[38;5;241m.\u001b[39mto_list()\n\u001b[1;32m     70\u001b[0m \u001b[38;5;66;03m#Get initial labels\u001b[39;00m\n\u001b[0;32m---> 71\u001b[0m df_cluster_label\u001b[38;5;241m=\u001b[39m\u001b[43mget_labels\u001b[49m\u001b[43m(\u001b[49m\u001b[43minput_dataframe\u001b[49m\u001b[43m,\u001b[49m\u001b[43minitial_centroid\u001b[49m\u001b[43m)\u001b[49m\n\u001b[1;32m     72\u001b[0m \u001b[38;5;66;03m#Compute the initial Sum of squared Errors\u001b[39;00m\n\u001b[1;32m     73\u001b[0m initial_sum_of_squared_errors\u001b[38;5;241m=\u001b[39msum_of_square_error_function(df_cluster_label,input_dataframe,initial_centroid,no_of_clusters)\n",
      "Input \u001b[0;32mIn [260]\u001b[0m, in \u001b[0;36mget_labels\u001b[0;34m(input_dataframe, centroid_df)\u001b[0m\n\u001b[1;32m     29\u001b[0m \u001b[38;5;28;01mdef\u001b[39;00m \u001b[38;5;21mget_labels\u001b[39m(input_dataframe,centroid_df):\n\u001b[1;32m     30\u001b[0m     \u001b[38;5;124;03m'''\u001b[39;00m\n\u001b[1;32m     31\u001b[0m \u001b[38;5;124;03m    This function takes centroids as input and takes the initial dataframe and gives them labels to which cluster\u001b[39;00m\n\u001b[1;32m     32\u001b[0m \u001b[38;5;124;03m    they belong to\u001b[39;00m\n\u001b[1;32m     33\u001b[0m \u001b[38;5;124;03m    '''\u001b[39;00m\n\u001b[0;32m---> 34\u001b[0m     euclidean_distances \u001b[38;5;241m=\u001b[39m \u001b[43mcentroid_df\u001b[49m\u001b[38;5;241;43m.\u001b[39;49m\u001b[43mswifter\u001b[49m\u001b[38;5;241;43m.\u001b[39;49m\u001b[43mapply\u001b[49m\u001b[43m(\u001b[49m\u001b[38;5;28;43;01mlambda\u001b[39;49;00m\u001b[43m \u001b[49m\u001b[43mx\u001b[49m\u001b[43m:\u001b[49m\u001b[43m \u001b[49m\u001b[43mnp\u001b[49m\u001b[38;5;241;43m.\u001b[39;49m\u001b[43msqrt\u001b[49m\u001b[43m(\u001b[49m\u001b[43m(\u001b[49m\u001b[43m(\u001b[49m\u001b[43minput_dataframe\u001b[49m\u001b[43m \u001b[49m\u001b[38;5;241;43m-\u001b[39;49m\u001b[43m \u001b[49m\u001b[43mx\u001b[49m\u001b[43m)\u001b[49m\u001b[43m \u001b[49m\u001b[38;5;241;43m*\u001b[39;49m\u001b[38;5;241;43m*\u001b[39;49m\u001b[43m \u001b[49m\u001b[38;5;241;43m2\u001b[39;49m\u001b[43m)\u001b[49m\u001b[38;5;241;43m.\u001b[39;49m\u001b[43msum\u001b[49m\u001b[43m(\u001b[49m\u001b[43maxis\u001b[49m\u001b[38;5;241;43m=\u001b[39;49m\u001b[38;5;241;43m1\u001b[39;49m\u001b[43m)\u001b[49m\u001b[43m)\u001b[49m\u001b[43m)\u001b[49m\n\u001b[1;32m     35\u001b[0m     \u001b[38;5;66;03m#Here we use idxmin functionality to handle ties in the dataset \u001b[39;00m\n\u001b[1;32m     36\u001b[0m     \u001b[38;5;66;03m#and it randomly assigns if euclideab distance results in a tie\u001b[39;00m\n\u001b[1;32m     37\u001b[0m     \u001b[38;5;124;03m'''\u001b[39;00m\n\u001b[1;32m     38\u001b[0m \u001b[38;5;124;03m    This function returns the index of minimum distances as a dataframe\u001b[39;00m\n\u001b[1;32m     39\u001b[0m \u001b[38;5;124;03m    '''\u001b[39;00m\n",
      "File \u001b[0;32m~/.local/lib/python3.9/site-packages/swifter/swifter.py:436\u001b[0m, in \u001b[0;36mDataFrameAccessor.apply\u001b[0;34m(self, func, axis, raw, result_type, args, **kwds)\u001b[0m\n\u001b[1;32m    434\u001b[0m \u001b[38;5;28;01mexcept\u001b[39;00m ERRORS_TO_HANDLE:  \u001b[38;5;66;03m# if can't vectorize, estimate time to pandas apply\u001b[39;00m\n\u001b[1;32m    435\u001b[0m     wrapped \u001b[38;5;241m=\u001b[39m \u001b[38;5;28mself\u001b[39m\u001b[38;5;241m.\u001b[39m_wrapped_apply(func, axis\u001b[38;5;241m=\u001b[39maxis, raw\u001b[38;5;241m=\u001b[39mraw, result_type\u001b[38;5;241m=\u001b[39mresult_type, args\u001b[38;5;241m=\u001b[39margs, \u001b[38;5;241m*\u001b[39m\u001b[38;5;241m*\u001b[39mkwds)\n\u001b[0;32m--> 436\u001b[0m     timed \u001b[38;5;241m=\u001b[39m \u001b[43mtimeit\u001b[49m\u001b[38;5;241;43m.\u001b[39;49m\u001b[43mtimeit\u001b[49m\u001b[43m(\u001b[49m\u001b[43mwrapped\u001b[49m\u001b[43m,\u001b[49m\u001b[43m \u001b[49m\u001b[43mnumber\u001b[49m\u001b[38;5;241;43m=\u001b[39;49m\u001b[43mN_REPEATS\u001b[49m\u001b[43m)\u001b[49m\n\u001b[1;32m    437\u001b[0m     sample_proc_est \u001b[38;5;241m=\u001b[39m timed \u001b[38;5;241m/\u001b[39m N_REPEATS\n\u001b[1;32m    438\u001b[0m     est_apply_duration \u001b[38;5;241m=\u001b[39m sample_proc_est \u001b[38;5;241m/\u001b[39m \u001b[38;5;28mself\u001b[39m\u001b[38;5;241m.\u001b[39m_SAMPLE_SIZE \u001b[38;5;241m*\u001b[39m \u001b[38;5;28mself\u001b[39m\u001b[38;5;241m.\u001b[39m_nrows\n",
      "File \u001b[0;32m/N/soft/rhel7/python/3.9.8/lib/python3.9/timeit.py:233\u001b[0m, in \u001b[0;36mtimeit\u001b[0;34m(stmt, setup, timer, number, globals)\u001b[0m\n\u001b[1;32m    230\u001b[0m \u001b[38;5;28;01mdef\u001b[39;00m \u001b[38;5;21mtimeit\u001b[39m(stmt\u001b[38;5;241m=\u001b[39m\u001b[38;5;124m\"\u001b[39m\u001b[38;5;124mpass\u001b[39m\u001b[38;5;124m\"\u001b[39m, setup\u001b[38;5;241m=\u001b[39m\u001b[38;5;124m\"\u001b[39m\u001b[38;5;124mpass\u001b[39m\u001b[38;5;124m\"\u001b[39m, timer\u001b[38;5;241m=\u001b[39mdefault_timer,\n\u001b[1;32m    231\u001b[0m            number\u001b[38;5;241m=\u001b[39mdefault_number, \u001b[38;5;28mglobals\u001b[39m\u001b[38;5;241m=\u001b[39m\u001b[38;5;28;01mNone\u001b[39;00m):\n\u001b[1;32m    232\u001b[0m     \u001b[38;5;124;03m\"\"\"Convenience function to create Timer object and call timeit method.\"\"\"\u001b[39;00m\n\u001b[0;32m--> 233\u001b[0m     \u001b[38;5;28;01mreturn\u001b[39;00m \u001b[43mTimer\u001b[49m\u001b[43m(\u001b[49m\u001b[43mstmt\u001b[49m\u001b[43m,\u001b[49m\u001b[43m \u001b[49m\u001b[43msetup\u001b[49m\u001b[43m,\u001b[49m\u001b[43m \u001b[49m\u001b[43mtimer\u001b[49m\u001b[43m,\u001b[49m\u001b[43m \u001b[49m\u001b[38;5;28;43mglobals\u001b[39;49m\u001b[43m)\u001b[49m\u001b[38;5;241;43m.\u001b[39;49m\u001b[43mtimeit\u001b[49m\u001b[43m(\u001b[49m\u001b[43mnumber\u001b[49m\u001b[43m)\u001b[49m\n",
      "File \u001b[0;32m/N/soft/rhel7/python/3.9.8/lib/python3.9/timeit.py:177\u001b[0m, in \u001b[0;36mTimer.timeit\u001b[0;34m(self, number)\u001b[0m\n\u001b[1;32m    175\u001b[0m gc\u001b[38;5;241m.\u001b[39mdisable()\n\u001b[1;32m    176\u001b[0m \u001b[38;5;28;01mtry\u001b[39;00m:\n\u001b[0;32m--> 177\u001b[0m     timing \u001b[38;5;241m=\u001b[39m \u001b[38;5;28;43mself\u001b[39;49m\u001b[38;5;241;43m.\u001b[39;49m\u001b[43minner\u001b[49m\u001b[43m(\u001b[49m\u001b[43mit\u001b[49m\u001b[43m,\u001b[49m\u001b[43m \u001b[49m\u001b[38;5;28;43mself\u001b[39;49m\u001b[38;5;241;43m.\u001b[39;49m\u001b[43mtimer\u001b[49m\u001b[43m)\u001b[49m\n\u001b[1;32m    178\u001b[0m \u001b[38;5;28;01mfinally\u001b[39;00m:\n\u001b[1;32m    179\u001b[0m     \u001b[38;5;28;01mif\u001b[39;00m gcold:\n",
      "File \u001b[0;32m<timeit-src>:6\u001b[0m, in \u001b[0;36minner\u001b[0;34m(_it, _timer, _stmt)\u001b[0m\n",
      "File \u001b[0;32m~/.local/lib/python3.9/site-packages/swifter/swifter.py:339\u001b[0m, in \u001b[0;36mDataFrameAccessor._wrapped_apply.<locals>.wrapped\u001b[0;34m()\u001b[0m\n\u001b[1;32m    337\u001b[0m \u001b[38;5;28;01mdef\u001b[39;00m \u001b[38;5;21mwrapped\u001b[39m():\n\u001b[1;32m    338\u001b[0m     \u001b[38;5;28;01mwith\u001b[39;00m suppress_stdout_stderr_logging():\n\u001b[0;32m--> 339\u001b[0m         \u001b[38;5;28;43mself\u001b[39;49m\u001b[38;5;241;43m.\u001b[39;49m\u001b[43m_obj\u001b[49m\u001b[38;5;241;43m.\u001b[39;49m\u001b[43miloc\u001b[49m\u001b[43m[\u001b[49m\u001b[38;5;28;43mself\u001b[39;49m\u001b[38;5;241;43m.\u001b[39;49m\u001b[43m_SAMPLE_INDEX\u001b[49m\u001b[43m]\u001b[49m\u001b[38;5;241;43m.\u001b[39;49m\u001b[43mapply\u001b[49m\u001b[43m(\u001b[49m\n\u001b[1;32m    340\u001b[0m \u001b[43m            \u001b[49m\u001b[43mfunc\u001b[49m\u001b[43m,\u001b[49m\u001b[43m \u001b[49m\u001b[43maxis\u001b[49m\u001b[38;5;241;43m=\u001b[39;49m\u001b[43maxis\u001b[49m\u001b[43m,\u001b[49m\u001b[43m \u001b[49m\u001b[43mraw\u001b[49m\u001b[38;5;241;43m=\u001b[39;49m\u001b[43mraw\u001b[49m\u001b[43m,\u001b[49m\u001b[43m \u001b[49m\u001b[43mresult_type\u001b[49m\u001b[38;5;241;43m=\u001b[39;49m\u001b[43mresult_type\u001b[49m\u001b[43m,\u001b[49m\u001b[43m \u001b[49m\u001b[43margs\u001b[49m\u001b[38;5;241;43m=\u001b[39;49m\u001b[43margs\u001b[49m\u001b[43m,\u001b[49m\u001b[43m \u001b[49m\u001b[38;5;241;43m*\u001b[39;49m\u001b[38;5;241;43m*\u001b[39;49m\u001b[43mkwds\u001b[49m\n\u001b[1;32m    341\u001b[0m \u001b[43m        \u001b[49m\u001b[43m)\u001b[49m\n",
      "File \u001b[0;32m~/.local/lib/python3.9/site-packages/pandas/core/frame.py:9568\u001b[0m, in \u001b[0;36mDataFrame.apply\u001b[0;34m(self, func, axis, raw, result_type, args, **kwargs)\u001b[0m\n\u001b[1;32m   9557\u001b[0m \u001b[38;5;28;01mfrom\u001b[39;00m \u001b[38;5;21;01mpandas\u001b[39;00m\u001b[38;5;21;01m.\u001b[39;00m\u001b[38;5;21;01mcore\u001b[39;00m\u001b[38;5;21;01m.\u001b[39;00m\u001b[38;5;21;01mapply\u001b[39;00m \u001b[38;5;28;01mimport\u001b[39;00m frame_apply\n\u001b[1;32m   9559\u001b[0m op \u001b[38;5;241m=\u001b[39m frame_apply(\n\u001b[1;32m   9560\u001b[0m     \u001b[38;5;28mself\u001b[39m,\n\u001b[1;32m   9561\u001b[0m     func\u001b[38;5;241m=\u001b[39mfunc,\n\u001b[0;32m   (...)\u001b[0m\n\u001b[1;32m   9566\u001b[0m     kwargs\u001b[38;5;241m=\u001b[39mkwargs,\n\u001b[1;32m   9567\u001b[0m )\n\u001b[0;32m-> 9568\u001b[0m \u001b[38;5;28;01mreturn\u001b[39;00m \u001b[43mop\u001b[49m\u001b[38;5;241;43m.\u001b[39;49m\u001b[43mapply\u001b[49m\u001b[43m(\u001b[49m\u001b[43m)\u001b[49m\u001b[38;5;241m.\u001b[39m__finalize__(\u001b[38;5;28mself\u001b[39m, method\u001b[38;5;241m=\u001b[39m\u001b[38;5;124m\"\u001b[39m\u001b[38;5;124mapply\u001b[39m\u001b[38;5;124m\"\u001b[39m)\n",
      "File \u001b[0;32m~/.local/lib/python3.9/site-packages/pandas/core/apply.py:764\u001b[0m, in \u001b[0;36mFrameApply.apply\u001b[0;34m(self)\u001b[0m\n\u001b[1;32m    761\u001b[0m \u001b[38;5;28;01melif\u001b[39;00m \u001b[38;5;28mself\u001b[39m\u001b[38;5;241m.\u001b[39mraw:\n\u001b[1;32m    762\u001b[0m     \u001b[38;5;28;01mreturn\u001b[39;00m \u001b[38;5;28mself\u001b[39m\u001b[38;5;241m.\u001b[39mapply_raw()\n\u001b[0;32m--> 764\u001b[0m \u001b[38;5;28;01mreturn\u001b[39;00m \u001b[38;5;28;43mself\u001b[39;49m\u001b[38;5;241;43m.\u001b[39;49m\u001b[43mapply_standard\u001b[49m\u001b[43m(\u001b[49m\u001b[43m)\u001b[49m\n",
      "File \u001b[0;32m~/.local/lib/python3.9/site-packages/pandas/core/apply.py:891\u001b[0m, in \u001b[0;36mFrameApply.apply_standard\u001b[0;34m(self)\u001b[0m\n\u001b[1;32m    890\u001b[0m \u001b[38;5;28;01mdef\u001b[39;00m \u001b[38;5;21mapply_standard\u001b[39m(\u001b[38;5;28mself\u001b[39m):\n\u001b[0;32m--> 891\u001b[0m     results, res_index \u001b[38;5;241m=\u001b[39m \u001b[38;5;28;43mself\u001b[39;49m\u001b[38;5;241;43m.\u001b[39;49m\u001b[43mapply_series_generator\u001b[49m\u001b[43m(\u001b[49m\u001b[43m)\u001b[49m\n\u001b[1;32m    893\u001b[0m     \u001b[38;5;66;03m# wrap results\u001b[39;00m\n\u001b[1;32m    894\u001b[0m     \u001b[38;5;28;01mreturn\u001b[39;00m \u001b[38;5;28mself\u001b[39m\u001b[38;5;241m.\u001b[39mwrap_results(results, res_index)\n",
      "File \u001b[0;32m~/.local/lib/python3.9/site-packages/pandas/core/apply.py:907\u001b[0m, in \u001b[0;36mFrameApply.apply_series_generator\u001b[0;34m(self)\u001b[0m\n\u001b[1;32m    904\u001b[0m \u001b[38;5;28;01mwith\u001b[39;00m option_context(\u001b[38;5;124m\"\u001b[39m\u001b[38;5;124mmode.chained_assignment\u001b[39m\u001b[38;5;124m\"\u001b[39m, \u001b[38;5;28;01mNone\u001b[39;00m):\n\u001b[1;32m    905\u001b[0m     \u001b[38;5;28;01mfor\u001b[39;00m i, v \u001b[38;5;129;01min\u001b[39;00m \u001b[38;5;28menumerate\u001b[39m(series_gen):\n\u001b[1;32m    906\u001b[0m         \u001b[38;5;66;03m# ignore SettingWithCopy here in case the user mutates\u001b[39;00m\n\u001b[0;32m--> 907\u001b[0m         results[i] \u001b[38;5;241m=\u001b[39m \u001b[38;5;28;43mself\u001b[39;49m\u001b[38;5;241;43m.\u001b[39;49m\u001b[43mf\u001b[49m\u001b[43m(\u001b[49m\u001b[43mv\u001b[49m\u001b[43m)\u001b[49m\n\u001b[1;32m    908\u001b[0m         \u001b[38;5;28;01mif\u001b[39;00m \u001b[38;5;28misinstance\u001b[39m(results[i], ABCSeries):\n\u001b[1;32m    909\u001b[0m             \u001b[38;5;66;03m# If we have a view on v, we need to make a copy because\u001b[39;00m\n\u001b[1;32m    910\u001b[0m             \u001b[38;5;66;03m#  series_generator will swap out the underlying data\u001b[39;00m\n\u001b[1;32m    911\u001b[0m             results[i] \u001b[38;5;241m=\u001b[39m results[i]\u001b[38;5;241m.\u001b[39mcopy(deep\u001b[38;5;241m=\u001b[39m\u001b[38;5;28;01mFalse\u001b[39;00m)\n",
      "Input \u001b[0;32mIn [260]\u001b[0m, in \u001b[0;36mget_labels.<locals>.<lambda>\u001b[0;34m(x)\u001b[0m\n\u001b[1;32m     29\u001b[0m \u001b[38;5;28;01mdef\u001b[39;00m \u001b[38;5;21mget_labels\u001b[39m(input_dataframe,centroid_df):\n\u001b[1;32m     30\u001b[0m     \u001b[38;5;124;03m'''\u001b[39;00m\n\u001b[1;32m     31\u001b[0m \u001b[38;5;124;03m    This function takes centroids as input and takes the initial dataframe and gives them labels to which cluster\u001b[39;00m\n\u001b[1;32m     32\u001b[0m \u001b[38;5;124;03m    they belong to\u001b[39;00m\n\u001b[1;32m     33\u001b[0m \u001b[38;5;124;03m    '''\u001b[39;00m\n\u001b[0;32m---> 34\u001b[0m     euclidean_distances \u001b[38;5;241m=\u001b[39m centroid_df\u001b[38;5;241m.\u001b[39mswifter\u001b[38;5;241m.\u001b[39mapply(\u001b[38;5;28;01mlambda\u001b[39;00m x: np\u001b[38;5;241m.\u001b[39msqrt(\u001b[43m(\u001b[49m\u001b[43m(\u001b[49m\u001b[43minput_dataframe\u001b[49m\u001b[43m \u001b[49m\u001b[38;5;241;43m-\u001b[39;49m\u001b[43m \u001b[49m\u001b[43mx\u001b[49m\u001b[43m)\u001b[49m\u001b[43m \u001b[49m\u001b[38;5;241;43m*\u001b[39;49m\u001b[38;5;241;43m*\u001b[39;49m\u001b[43m \u001b[49m\u001b[38;5;241;43m2\u001b[39;49m\u001b[43m)\u001b[49m\u001b[38;5;241;43m.\u001b[39;49m\u001b[43msum\u001b[49m\u001b[43m(\u001b[49m\u001b[43maxis\u001b[49m\u001b[38;5;241;43m=\u001b[39;49m\u001b[38;5;241;43m1\u001b[39;49m\u001b[43m)\u001b[49m))\n\u001b[1;32m     35\u001b[0m     \u001b[38;5;66;03m#Here we use idxmin functionality to handle ties in the dataset \u001b[39;00m\n\u001b[1;32m     36\u001b[0m     \u001b[38;5;66;03m#and it randomly assigns if euclideab distance results in a tie\u001b[39;00m\n\u001b[1;32m     37\u001b[0m     \u001b[38;5;124;03m'''\u001b[39;00m\n\u001b[1;32m     38\u001b[0m \u001b[38;5;124;03m    This function returns the index of minimum distances as a dataframe\u001b[39;00m\n\u001b[1;32m     39\u001b[0m \u001b[38;5;124;03m    '''\u001b[39;00m\n",
      "File \u001b[0;32m~/.local/lib/python3.9/site-packages/pandas/core/generic.py:11797\u001b[0m, in \u001b[0;36mNDFrame._add_numeric_operations.<locals>.sum\u001b[0;34m(self, axis, skipna, level, numeric_only, min_count, **kwargs)\u001b[0m\n\u001b[1;32m  11777\u001b[0m \u001b[38;5;129m@doc\u001b[39m(\n\u001b[1;32m  11778\u001b[0m     _num_doc,\n\u001b[1;32m  11779\u001b[0m     desc\u001b[38;5;241m=\u001b[39m\u001b[38;5;124m\"\u001b[39m\u001b[38;5;124mReturn the sum of the values over the requested axis.\u001b[39m\u001b[38;5;130;01m\\n\u001b[39;00m\u001b[38;5;130;01m\\n\u001b[39;00m\u001b[38;5;124m\"\u001b[39m\n\u001b[0;32m   (...)\u001b[0m\n\u001b[1;32m  11795\u001b[0m     \u001b[38;5;241m*\u001b[39m\u001b[38;5;241m*\u001b[39mkwargs,\n\u001b[1;32m  11796\u001b[0m ):\n\u001b[0;32m> 11797\u001b[0m     \u001b[38;5;28;01mreturn\u001b[39;00m \u001b[43mNDFrame\u001b[49m\u001b[38;5;241;43m.\u001b[39;49m\u001b[43msum\u001b[49m\u001b[43m(\u001b[49m\n\u001b[1;32m  11798\u001b[0m \u001b[43m        \u001b[49m\u001b[38;5;28;43mself\u001b[39;49m\u001b[43m,\u001b[49m\u001b[43m \u001b[49m\u001b[43maxis\u001b[49m\u001b[43m,\u001b[49m\u001b[43m \u001b[49m\u001b[43mskipna\u001b[49m\u001b[43m,\u001b[49m\u001b[43m \u001b[49m\u001b[43mlevel\u001b[49m\u001b[43m,\u001b[49m\u001b[43m \u001b[49m\u001b[43mnumeric_only\u001b[49m\u001b[43m,\u001b[49m\u001b[43m \u001b[49m\u001b[43mmin_count\u001b[49m\u001b[43m,\u001b[49m\u001b[43m \u001b[49m\u001b[38;5;241;43m*\u001b[39;49m\u001b[38;5;241;43m*\u001b[39;49m\u001b[43mkwargs\u001b[49m\n\u001b[1;32m  11799\u001b[0m \u001b[43m    \u001b[49m\u001b[43m)\u001b[49m\n",
      "File \u001b[0;32m~/.local/lib/python3.9/site-packages/pandas/core/generic.py:11501\u001b[0m, in \u001b[0;36mNDFrame.sum\u001b[0;34m(self, axis, skipna, level, numeric_only, min_count, **kwargs)\u001b[0m\n\u001b[1;32m  11492\u001b[0m \u001b[38;5;28;01mdef\u001b[39;00m \u001b[38;5;21msum\u001b[39m(\n\u001b[1;32m  11493\u001b[0m     \u001b[38;5;28mself\u001b[39m,\n\u001b[1;32m  11494\u001b[0m     axis: Axis \u001b[38;5;241m|\u001b[39m \u001b[38;5;28;01mNone\u001b[39;00m \u001b[38;5;241m=\u001b[39m \u001b[38;5;28;01mNone\u001b[39;00m,\n\u001b[0;32m   (...)\u001b[0m\n\u001b[1;32m  11499\u001b[0m     \u001b[38;5;241m*\u001b[39m\u001b[38;5;241m*\u001b[39mkwargs,\n\u001b[1;32m  11500\u001b[0m ):\n\u001b[0;32m> 11501\u001b[0m     \u001b[38;5;28;01mreturn\u001b[39;00m \u001b[38;5;28;43mself\u001b[39;49m\u001b[38;5;241;43m.\u001b[39;49m\u001b[43m_min_count_stat_function\u001b[49m\u001b[43m(\u001b[49m\n\u001b[1;32m  11502\u001b[0m \u001b[43m        \u001b[49m\u001b[38;5;124;43m\"\u001b[39;49m\u001b[38;5;124;43msum\u001b[39;49m\u001b[38;5;124;43m\"\u001b[39;49m\u001b[43m,\u001b[49m\u001b[43m \u001b[49m\u001b[43mnanops\u001b[49m\u001b[38;5;241;43m.\u001b[39;49m\u001b[43mnansum\u001b[49m\u001b[43m,\u001b[49m\u001b[43m \u001b[49m\u001b[43maxis\u001b[49m\u001b[43m,\u001b[49m\u001b[43m \u001b[49m\u001b[43mskipna\u001b[49m\u001b[43m,\u001b[49m\u001b[43m \u001b[49m\u001b[43mlevel\u001b[49m\u001b[43m,\u001b[49m\u001b[43m \u001b[49m\u001b[43mnumeric_only\u001b[49m\u001b[43m,\u001b[49m\u001b[43m \u001b[49m\u001b[43mmin_count\u001b[49m\u001b[43m,\u001b[49m\u001b[43m \u001b[49m\u001b[38;5;241;43m*\u001b[39;49m\u001b[38;5;241;43m*\u001b[39;49m\u001b[43mkwargs\u001b[49m\n\u001b[1;32m  11503\u001b[0m \u001b[43m    \u001b[49m\u001b[43m)\u001b[49m\n",
      "File \u001b[0;32m~/.local/lib/python3.9/site-packages/pandas/core/generic.py:11483\u001b[0m, in \u001b[0;36mNDFrame._min_count_stat_function\u001b[0;34m(self, name, func, axis, skipna, level, numeric_only, min_count, **kwargs)\u001b[0m\n\u001b[1;32m  11467\u001b[0m     warnings\u001b[38;5;241m.\u001b[39mwarn(\n\u001b[1;32m  11468\u001b[0m         \u001b[38;5;124m\"\u001b[39m\u001b[38;5;124mUsing the level keyword in DataFrame and Series aggregations is \u001b[39m\u001b[38;5;124m\"\u001b[39m\n\u001b[1;32m  11469\u001b[0m         \u001b[38;5;124m\"\u001b[39m\u001b[38;5;124mdeprecated and will be removed in a future version. Use groupby \u001b[39m\u001b[38;5;124m\"\u001b[39m\n\u001b[0;32m   (...)\u001b[0m\n\u001b[1;32m  11472\u001b[0m         stacklevel\u001b[38;5;241m=\u001b[39mfind_stack_level(),\n\u001b[1;32m  11473\u001b[0m     )\n\u001b[1;32m  11474\u001b[0m     \u001b[38;5;28;01mreturn\u001b[39;00m \u001b[38;5;28mself\u001b[39m\u001b[38;5;241m.\u001b[39m_agg_by_level(\n\u001b[1;32m  11475\u001b[0m         name,\n\u001b[1;32m  11476\u001b[0m         axis\u001b[38;5;241m=\u001b[39maxis,\n\u001b[0;32m   (...)\u001b[0m\n\u001b[1;32m  11480\u001b[0m         numeric_only\u001b[38;5;241m=\u001b[39mnumeric_only,\n\u001b[1;32m  11481\u001b[0m     )\n\u001b[0;32m> 11483\u001b[0m \u001b[38;5;28;01mreturn\u001b[39;00m \u001b[38;5;28;43mself\u001b[39;49m\u001b[38;5;241;43m.\u001b[39;49m\u001b[43m_reduce\u001b[49m\u001b[43m(\u001b[49m\n\u001b[1;32m  11484\u001b[0m \u001b[43m    \u001b[49m\u001b[43mfunc\u001b[49m\u001b[43m,\u001b[49m\n\u001b[1;32m  11485\u001b[0m \u001b[43m    \u001b[49m\u001b[43mname\u001b[49m\u001b[38;5;241;43m=\u001b[39;49m\u001b[43mname\u001b[49m\u001b[43m,\u001b[49m\n\u001b[1;32m  11486\u001b[0m \u001b[43m    \u001b[49m\u001b[43maxis\u001b[49m\u001b[38;5;241;43m=\u001b[39;49m\u001b[43maxis\u001b[49m\u001b[43m,\u001b[49m\n\u001b[1;32m  11487\u001b[0m \u001b[43m    \u001b[49m\u001b[43mskipna\u001b[49m\u001b[38;5;241;43m=\u001b[39;49m\u001b[43mskipna\u001b[49m\u001b[43m,\u001b[49m\n\u001b[1;32m  11488\u001b[0m \u001b[43m    \u001b[49m\u001b[43mnumeric_only\u001b[49m\u001b[38;5;241;43m=\u001b[39;49m\u001b[43mnumeric_only\u001b[49m\u001b[43m,\u001b[49m\n\u001b[1;32m  11489\u001b[0m \u001b[43m    \u001b[49m\u001b[43mmin_count\u001b[49m\u001b[38;5;241;43m=\u001b[39;49m\u001b[43mmin_count\u001b[49m\u001b[43m,\u001b[49m\n\u001b[1;32m  11490\u001b[0m \u001b[43m\u001b[49m\u001b[43m)\u001b[49m\n",
      "File \u001b[0;32m~/.local/lib/python3.9/site-packages/pandas/core/frame.py:10876\u001b[0m, in \u001b[0;36mDataFrame._reduce\u001b[0;34m(self, op, name, axis, skipna, numeric_only, filter_type, **kwds)\u001b[0m\n\u001b[1;32m  10873\u001b[0m \u001b[38;5;28;01massert\u001b[39;00m numeric_only \u001b[38;5;129;01mis\u001b[39;00m \u001b[38;5;28;01mNone\u001b[39;00m\n\u001b[1;32m  10875\u001b[0m data \u001b[38;5;241m=\u001b[39m \u001b[38;5;28mself\u001b[39m\n\u001b[0;32m> 10876\u001b[0m values \u001b[38;5;241m=\u001b[39m \u001b[43mdata\u001b[49m\u001b[38;5;241;43m.\u001b[39;49m\u001b[43mvalues\u001b[49m\n\u001b[1;32m  10878\u001b[0m \u001b[38;5;28;01mtry\u001b[39;00m:\n\u001b[1;32m  10879\u001b[0m     result \u001b[38;5;241m=\u001b[39m func(values)\n",
      "File \u001b[0;32m~/.local/lib/python3.9/site-packages/pandas/core/frame.py:11739\u001b[0m, in \u001b[0;36mDataFrame.values\u001b[0;34m(self)\u001b[0m\n\u001b[1;32m  11666\u001b[0m \u001b[38;5;124;03m\"\"\"\u001b[39;00m\n\u001b[1;32m  11667\u001b[0m \u001b[38;5;124;03mReturn a Numpy representation of the DataFrame.\u001b[39;00m\n\u001b[1;32m  11668\u001b[0m \n\u001b[0;32m   (...)\u001b[0m\n\u001b[1;32m  11736\u001b[0m \u001b[38;5;124;03m       ['monkey', nan, None]], dtype=object)\u001b[39;00m\n\u001b[1;32m  11737\u001b[0m \u001b[38;5;124;03m\"\"\"\u001b[39;00m\n\u001b[1;32m  11738\u001b[0m \u001b[38;5;28mself\u001b[39m\u001b[38;5;241m.\u001b[39m_consolidate_inplace()\n\u001b[0;32m> 11739\u001b[0m \u001b[38;5;28;01mreturn\u001b[39;00m \u001b[38;5;28;43mself\u001b[39;49m\u001b[38;5;241;43m.\u001b[39;49m\u001b[43m_mgr\u001b[49m\u001b[38;5;241;43m.\u001b[39;49m\u001b[43mas_array\u001b[49m\u001b[43m(\u001b[49m\u001b[43m)\u001b[49m\n",
      "File \u001b[0;32m~/.local/lib/python3.9/site-packages/pandas/core/internals/managers.py:1770\u001b[0m, in \u001b[0;36mBlockManager.as_array\u001b[0;34m(self, dtype, copy, na_value)\u001b[0m\n\u001b[1;32m   1768\u001b[0m             arr \u001b[38;5;241m=\u001b[39m arr\u001b[38;5;241m.\u001b[39mastype(dtype, copy\u001b[38;5;241m=\u001b[39m\u001b[38;5;28;01mFalse\u001b[39;00m)\n\u001b[1;32m   1769\u001b[0m \u001b[38;5;28;01melse\u001b[39;00m:\n\u001b[0;32m-> 1770\u001b[0m     arr \u001b[38;5;241m=\u001b[39m \u001b[38;5;28;43mself\u001b[39;49m\u001b[38;5;241;43m.\u001b[39;49m\u001b[43m_interleave\u001b[49m\u001b[43m(\u001b[49m\u001b[43mdtype\u001b[49m\u001b[38;5;241;43m=\u001b[39;49m\u001b[43mdtype\u001b[49m\u001b[43m,\u001b[49m\u001b[43m \u001b[49m\u001b[43mna_value\u001b[49m\u001b[38;5;241;43m=\u001b[39;49m\u001b[43mna_value\u001b[49m\u001b[43m)\u001b[49m\n\u001b[1;32m   1771\u001b[0m     \u001b[38;5;66;03m# The underlying data was copied within _interleave\u001b[39;00m\n\u001b[1;32m   1772\u001b[0m     copy \u001b[38;5;241m=\u001b[39m \u001b[38;5;28;01mFalse\u001b[39;00m\n",
      "File \u001b[0;32m~/.local/lib/python3.9/site-packages/pandas/core/internals/managers.py:1835\u001b[0m, in \u001b[0;36mBlockManager._interleave\u001b[0;34m(self, dtype, na_value)\u001b[0m\n\u001b[1;32m   1833\u001b[0m     \u001b[38;5;28;01melse\u001b[39;00m:\n\u001b[1;32m   1834\u001b[0m         arr \u001b[38;5;241m=\u001b[39m blk\u001b[38;5;241m.\u001b[39mget_values(dtype)\n\u001b[0;32m-> 1835\u001b[0m     result[rl\u001b[38;5;241m.\u001b[39mindexer] \u001b[38;5;241m=\u001b[39m arr\n\u001b[1;32m   1836\u001b[0m     itemmask[rl\u001b[38;5;241m.\u001b[39mindexer] \u001b[38;5;241m=\u001b[39m \u001b[38;5;241m1\u001b[39m\n\u001b[1;32m   1838\u001b[0m \u001b[38;5;28;01mif\u001b[39;00m \u001b[38;5;129;01mnot\u001b[39;00m itemmask\u001b[38;5;241m.\u001b[39mall():\n",
      "\u001b[0;31mKeyboardInterrupt\u001b[0m: "
     ]
    }
   ],
   "source": [
    "error_values_kmeans_convergence=[]\n",
    "for no_of_clusters in range(2,6):\n",
    "    #Taking the cluster value from 2 to 5\n",
    "    for no_of_experiments in range(1,21):\n",
    "        #Performing experiments for each cluster 20 times\n",
    "        final_centroids,error_target_variable,sum_of_squared_error,run_time=kmeans_SSE_Convergence(count_vectorizer_df,no_of_clusters,10,100)\n",
    "        #Storing the variables in dataframe\n",
    "        error_values_kmeans_convergence.append([no_of_clusters,no_of_experiments,error_target_variable,sum_of_squared_error,run_time])\n",
    "error_values_kmeans_convergence_df_full= pd.DataFrame(error_values_kmeans_convergence,columns=['No_of_Clusters', 'Iteration Number', 'Target Variable Error','Sum_of_squared_Errors','run_time'])  \n",
    "error_values_kmeans_convergence_df_full.to_csv('nyc_Sse_data_fukk_data_03_march.csv')"
   ]
  },
  {
   "cell_type": "markdown",
   "id": "4f74e584",
   "metadata": {},
   "source": [
    "# Done Both Dataframes"
   ]
  },
  {
   "cell_type": "code",
   "execution_count": 262,
   "id": "11afa3f1",
   "metadata": {},
   "outputs": [
    {
     "data": {
      "text/html": [
       "<div>\n",
       "<style scoped>\n",
       "    .dataframe tbody tr th:only-of-type {\n",
       "        vertical-align: middle;\n",
       "    }\n",
       "\n",
       "    .dataframe tbody tr th {\n",
       "        vertical-align: top;\n",
       "    }\n",
       "\n",
       "    .dataframe thead th {\n",
       "        text-align: right;\n",
       "    }\n",
       "</style>\n",
       "<table border=\"1\" class=\"dataframe\">\n",
       "  <thead>\n",
       "    <tr style=\"text-align: right;\">\n",
       "      <th></th>\n",
       "      <th>No_of_Clusters</th>\n",
       "      <th>Iteration Number</th>\n",
       "      <th>Target Variable Error</th>\n",
       "      <th>Sum_of_squared_Errors</th>\n",
       "      <th>run_time</th>\n",
       "    </tr>\n",
       "  </thead>\n",
       "  <tbody>\n",
       "    <tr>\n",
       "      <th>0</th>\n",
       "      <td>2</td>\n",
       "      <td>1</td>\n",
       "      <td>0.987</td>\n",
       "      <td>317878.061</td>\n",
       "      <td>19.744410</td>\n",
       "    </tr>\n",
       "    <tr>\n",
       "      <th>1</th>\n",
       "      <td>2</td>\n",
       "      <td>2</td>\n",
       "      <td>0.987</td>\n",
       "      <td>323528.786</td>\n",
       "      <td>19.373257</td>\n",
       "    </tr>\n",
       "    <tr>\n",
       "      <th>2</th>\n",
       "      <td>2</td>\n",
       "      <td>3</td>\n",
       "      <td>0.987</td>\n",
       "      <td>324554.100</td>\n",
       "      <td>19.070758</td>\n",
       "    </tr>\n",
       "    <tr>\n",
       "      <th>3</th>\n",
       "      <td>2</td>\n",
       "      <td>4</td>\n",
       "      <td>0.987</td>\n",
       "      <td>324551.914</td>\n",
       "      <td>20.030429</td>\n",
       "    </tr>\n",
       "    <tr>\n",
       "      <th>4</th>\n",
       "      <td>2</td>\n",
       "      <td>5</td>\n",
       "      <td>0.987</td>\n",
       "      <td>323339.223</td>\n",
       "      <td>18.989385</td>\n",
       "    </tr>\n",
       "    <tr>\n",
       "      <th>...</th>\n",
       "      <td>...</td>\n",
       "      <td>...</td>\n",
       "      <td>...</td>\n",
       "      <td>...</td>\n",
       "      <td>...</td>\n",
       "    </tr>\n",
       "    <tr>\n",
       "      <th>75</th>\n",
       "      <td>5</td>\n",
       "      <td>16</td>\n",
       "      <td>0.987</td>\n",
       "      <td>315650.628</td>\n",
       "      <td>38.673154</td>\n",
       "    </tr>\n",
       "    <tr>\n",
       "      <th>76</th>\n",
       "      <td>5</td>\n",
       "      <td>17</td>\n",
       "      <td>0.987</td>\n",
       "      <td>314343.849</td>\n",
       "      <td>39.018158</td>\n",
       "    </tr>\n",
       "    <tr>\n",
       "      <th>77</th>\n",
       "      <td>5</td>\n",
       "      <td>18</td>\n",
       "      <td>0.987</td>\n",
       "      <td>312601.780</td>\n",
       "      <td>38.846771</td>\n",
       "    </tr>\n",
       "    <tr>\n",
       "      <th>78</th>\n",
       "      <td>5</td>\n",
       "      <td>19</td>\n",
       "      <td>0.987</td>\n",
       "      <td>314152.048</td>\n",
       "      <td>37.687718</td>\n",
       "    </tr>\n",
       "    <tr>\n",
       "      <th>79</th>\n",
       "      <td>5</td>\n",
       "      <td>20</td>\n",
       "      <td>0.987</td>\n",
       "      <td>317688.822</td>\n",
       "      <td>39.600342</td>\n",
       "    </tr>\n",
       "  </tbody>\n",
       "</table>\n",
       "<p>80 rows × 5 columns</p>\n",
       "</div>"
      ],
      "text/plain": [
       "    No_of_Clusters  Iteration Number  Target Variable Error  \\\n",
       "0                2                 1                  0.987   \n",
       "1                2                 2                  0.987   \n",
       "2                2                 3                  0.987   \n",
       "3                2                 4                  0.987   \n",
       "4                2                 5                  0.987   \n",
       "..             ...               ...                    ...   \n",
       "75               5                16                  0.987   \n",
       "76               5                17                  0.987   \n",
       "77               5                18                  0.987   \n",
       "78               5                19                  0.987   \n",
       "79               5                20                  0.987   \n",
       "\n",
       "    Sum_of_squared_Errors   run_time  \n",
       "0              317878.061  19.744410  \n",
       "1              323528.786  19.373257  \n",
       "2              324554.100  19.070758  \n",
       "3              324551.914  20.030429  \n",
       "4              323339.223  18.989385  \n",
       "..                    ...        ...  \n",
       "75             315650.628  38.673154  \n",
       "76             314343.849  39.018158  \n",
       "77             312601.780  38.846771  \n",
       "78             314152.048  37.687718  \n",
       "79             317688.822  39.600342  \n",
       "\n",
       "[80 rows x 5 columns]"
      ]
     },
     "execution_count": 262,
     "metadata": {},
     "output_type": "execute_result"
    }
   ],
   "source": [
    "error_values_kmeans_convergence_df"
   ]
  },
  {
   "cell_type": "code",
   "execution_count": 269,
   "id": "f973a352",
   "metadata": {},
   "outputs": [
    {
     "data": {
      "text/html": [
       "<div>\n",
       "<style scoped>\n",
       "    .dataframe tbody tr th:only-of-type {\n",
       "        vertical-align: middle;\n",
       "    }\n",
       "\n",
       "    .dataframe tbody tr th {\n",
       "        vertical-align: top;\n",
       "    }\n",
       "\n",
       "    .dataframe thead th {\n",
       "        text-align: right;\n",
       "    }\n",
       "</style>\n",
       "<table border=\"1\" class=\"dataframe\">\n",
       "  <thead>\n",
       "    <tr style=\"text-align: right;\">\n",
       "      <th></th>\n",
       "      <th>No_of_Clusters</th>\n",
       "      <th>Target Variable Error</th>\n",
       "      <th>Sum_of_squared_Errors</th>\n",
       "      <th>run_time</th>\n",
       "    </tr>\n",
       "  </thead>\n",
       "  <tbody>\n",
       "    <tr>\n",
       "      <th>0</th>\n",
       "      <td>2</td>\n",
       "      <td>0.987</td>\n",
       "      <td>323164.41775</td>\n",
       "      <td>19.125082</td>\n",
       "    </tr>\n",
       "    <tr>\n",
       "      <th>1</th>\n",
       "      <td>3</td>\n",
       "      <td>0.987</td>\n",
       "      <td>319200.39895</td>\n",
       "      <td>24.326908</td>\n",
       "    </tr>\n",
       "    <tr>\n",
       "      <th>2</th>\n",
       "      <td>4</td>\n",
       "      <td>0.987</td>\n",
       "      <td>317481.20300</td>\n",
       "      <td>29.791367</td>\n",
       "    </tr>\n",
       "    <tr>\n",
       "      <th>3</th>\n",
       "      <td>5</td>\n",
       "      <td>0.987</td>\n",
       "      <td>316789.35695</td>\n",
       "      <td>38.485259</td>\n",
       "    </tr>\n",
       "  </tbody>\n",
       "</table>\n",
       "</div>"
      ],
      "text/plain": [
       "   No_of_Clusters  Target Variable Error  Sum_of_squared_Errors   run_time\n",
       "0               2                  0.987           323164.41775  19.125082\n",
       "1               3                  0.987           319200.39895  24.326908\n",
       "2               4                  0.987           317481.20300  29.791367\n",
       "3               5                  0.987           316789.35695  38.485259"
      ]
     },
     "execution_count": 269,
     "metadata": {},
     "output_type": "execute_result"
    }
   ],
   "source": [
    "error_values_kmeans_convergence=error_values_kmeans_convergence_df.groupby(['No_of_Clusters']).mean().reset_index()[['No_of_Clusters','Target Variable Error','Sum_of_squared_Errors','run_time']]\n",
    "error_values_kmeans_convergence"
   ]
  },
  {
   "cell_type": "markdown",
   "id": "3c6b1a5e",
   "metadata": {},
   "source": [
    "# Plots"
   ]
  },
  {
   "cell_type": "code",
   "execution_count": 307,
   "id": "ad67c032",
   "metadata": {},
   "outputs": [
    {
     "data": {
      "image/png": "[encoded data removed]",
      "text/plain": [
       "<Figure size 432x288 with 2 Axes>"
      ]
     },
     "metadata": {
      "needs_background": "light"
     },
     "output_type": "display_data"
    }
   ],
   "source": [
    "ax = error_values_kmeans_convergence.plot(x='No_of_Clusters', y='Target Variable Error')\n",
    "ax2 =error_values_kmeans_convergence.plot(x='No_of_Clusters', y='Sum_of_squared_Errors',secondary_y=True, ax=ax)\n",
    "# set the axis labels and title\n",
    "ax.set_xlabel('No_of_Clusters')\n",
    "ax.set_ylabel('Target Variable Error')\n",
    "ax2.set_ylabel('Sum_of_squared_error')\n",
    "ax.set_title('Error and SSE vs No of clusters SSE In NYC')\n",
    "ax.legend(['Error'], loc='upper left')\n",
    "ax2.legend(['SSE'], loc='upper right')\n",
    "\n",
    "plt.show()"
   ]
  },
  {
   "cell_type": "code",
   "execution_count": 284,
   "id": "96b24eb8",
   "metadata": {},
   "outputs": [
    {
     "data": {
      "image/png": "[encoded data removed]",
      "text/plain": [
       "<Figure size 432x720 with 1 Axes>"
      ]
     },
     "metadata": {
      "needs_background": "light"
     },
     "output_type": "display_data"
    },
    {
     "data": {
      "image/png": "[encoded data removed]",
      "text/plain": [
       "<Figure size 432x720 with 1 Axes>"
      ]
     },
     "metadata": {
      "needs_background": "light"
     },
     "output_type": "display_data"
    },
    {
     "data": {
      "image/png": "[encoded data removed]",
      "text/plain": [
       "<Figure size 432x720 with 1 Axes>"
      ]
     },
     "metadata": {
      "needs_background": "light"
     },
     "output_type": "display_data"
    }
   ],
   "source": [
    "import seaborn as sns\n",
    "plt.figure(figsize=(6, 10))\n",
    "#Plotting Box plot\n",
    "#Plotting values of errors for 80 iterations\n",
    "sns.boxplot(x=error_values_kmeans_convergence_df['No_of_Clusters'],y=error_values_kmeans_convergence_df['Target Variable Error'])\n",
    "plt.title('Box Plot for K means LLyod SSE NYC(error vs no of clusters)')\n",
    "plt.show()\n",
    "import seaborn as sns\n",
    "plt.figure(figsize=(6, 10))\n",
    "#Plotting Box plot\n",
    "#Plotting values of errors for 80 iterations\n",
    "sns.boxplot(x=error_values_kmeans_convergence_df['No_of_Clusters'],y=error_values_kmeans_convergence_df['Sum_of_squared_Errors'])\n",
    "plt.title('Box Plot for K means LLyod SSE NYC(SSE vs no of clusters)')\n",
    "plt.show()\n",
    "import seaborn as sns\n",
    "plt.figure(figsize=(6, 10))\n",
    "#Plotting Box plot\n",
    "#Plotting values of errors for 80 iterations\n",
    "sns.boxplot(x=error_values_kmeans_convergence_df['No_of_Clusters'],y=error_values_kmeans_convergence_df['run_time'])\n",
    "plt.title('Box Plot for K means LLyod SSE NYC (Run Time vs no of clusters)')\n",
    "plt.show()\n"
   ]
  },
  {
   "cell_type": "markdown",
   "id": "2dad3993",
   "metadata": {},
   "source": [
    "# Entire Dataset"
   ]
  },
  {
   "cell_type": "code",
   "execution_count": 297,
   "id": "fdf2b50c",
   "metadata": {},
   "outputs": [
    {
     "data": {
      "text/plain": [
       "Text(0.5, 1.0, 'NYC_DATASET_SSE')"
      ]
     },
     "execution_count": 297,
     "metadata": {},
     "output_type": "execute_result"
    },
    {
     "data": {
      "image/png": "[encoded data removed]",
      "text/plain": [
       "<Figure size 432x288 with 1 Axes>"
      ]
     },
     "metadata": {
      "needs_background": "light"
     },
     "output_type": "display_data"
    }
   ],
   "source": [
    "df=pd.read_csv('nyc_Sse_data.csv')\n",
    "df.plot(x='No_of_Clusters',y='Sum_of_squared_Errors')\n",
    "plt.title('NYC_DATASET_SSE')"
   ]
  },
  {
   "cell_type": "code",
   "execution_count": 238,
   "id": "541d9ece",
   "metadata": {},
   "outputs": [
    {
     "name": "stderr",
     "output_type": "stream",
     "text": [
      "  0%|          | 0/14 [00:00<?, ?it/s]/N/soft/rhel7/python/3.9.8/lib/python3.9/site-packages/sklearn/utils/validation.py:624: UserWarning: pandas.DataFrame with sparse columns found.It will be converted to a dense numpy array.\n",
      "  warnings.warn(\n",
      "  7%|▋         | 1/14 [02:02<26:28, 122.17s/it]/N/soft/rhel7/python/3.9.8/lib/python3.9/site-packages/sklearn/utils/validation.py:624: UserWarning: pandas.DataFrame with sparse columns found.It will be converted to a dense numpy array.\n",
      "  warnings.warn(\n",
      " 14%|█▍        | 2/14 [04:24<26:49, 134.12s/it]/N/soft/rhel7/python/3.9.8/lib/python3.9/site-packages/sklearn/utils/validation.py:624: UserWarning: pandas.DataFrame with sparse columns found.It will be converted to a dense numpy array.\n",
      "  warnings.warn(\n",
      " 21%|██▏       | 3/14 [07:24<28:23, 154.85s/it]/N/soft/rhel7/python/3.9.8/lib/python3.9/site-packages/sklearn/utils/validation.py:624: UserWarning: pandas.DataFrame with sparse columns found.It will be converted to a dense numpy array.\n",
      "  warnings.warn(\n",
      " 29%|██▊       | 4/14 [11:36<32:14, 193.40s/it]/N/soft/rhel7/python/3.9.8/lib/python3.9/site-packages/sklearn/utils/validation.py:624: UserWarning: pandas.DataFrame with sparse columns found.It will be converted to a dense numpy array.\n",
      "  warnings.warn(\n",
      " 36%|███▌      | 5/14 [16:30<34:25, 229.48s/it]/N/soft/rhel7/python/3.9.8/lib/python3.9/site-packages/sklearn/utils/validation.py:624: UserWarning: pandas.DataFrame with sparse columns found.It will be converted to a dense numpy array.\n",
      "  warnings.warn(\n",
      " 43%|████▎     | 6/14 [21:41<34:18, 257.32s/it]/N/soft/rhel7/python/3.9.8/lib/python3.9/site-packages/sklearn/utils/validation.py:624: UserWarning: pandas.DataFrame with sparse columns found.It will be converted to a dense numpy array.\n",
      "  warnings.warn(\n",
      " 50%|█████     | 7/14 [27:08<32:41, 280.20s/it]/N/soft/rhel7/python/3.9.8/lib/python3.9/site-packages/sklearn/utils/validation.py:624: UserWarning: pandas.DataFrame with sparse columns found.It will be converted to a dense numpy array.\n",
      "  warnings.warn(\n",
      " 57%|█████▋    | 8/14 [35:38<35:19, 353.20s/it]/N/soft/rhel7/python/3.9.8/lib/python3.9/site-packages/sklearn/utils/validation.py:624: UserWarning: pandas.DataFrame with sparse columns found.It will be converted to a dense numpy array.\n",
      "  warnings.warn(\n",
      " 64%|██████▍   | 9/14 [44:18<33:46, 405.38s/it]/N/soft/rhel7/python/3.9.8/lib/python3.9/site-packages/sklearn/utils/validation.py:624: UserWarning: pandas.DataFrame with sparse columns found.It will be converted to a dense numpy array.\n",
      "  warnings.warn(\n",
      " 71%|███████▏  | 10/14 [54:03<30:43, 460.86s/it]/N/soft/rhel7/python/3.9.8/lib/python3.9/site-packages/sklearn/utils/validation.py:624: UserWarning: pandas.DataFrame with sparse columns found.It will be converted to a dense numpy array.\n",
      "  warnings.warn(\n",
      " 79%|███████▊  | 11/14 [1:03:07<24:18, 486.20s/it]/N/soft/rhel7/python/3.9.8/lib/python3.9/site-packages/sklearn/utils/validation.py:624: UserWarning: pandas.DataFrame with sparse columns found.It will be converted to a dense numpy array.\n",
      "  warnings.warn(\n",
      " 86%|████████▌ | 12/14 [1:16:47<19:35, 587.75s/it]/N/soft/rhel7/python/3.9.8/lib/python3.9/site-packages/sklearn/utils/validation.py:624: UserWarning: pandas.DataFrame with sparse columns found.It will be converted to a dense numpy array.\n",
      "  warnings.warn(\n",
      " 93%|█████████▎| 13/14 [1:27:24<10:02, 602.87s/it]/N/soft/rhel7/python/3.9.8/lib/python3.9/site-packages/sklearn/utils/validation.py:624: UserWarning: pandas.DataFrame with sparse columns found.It will be converted to a dense numpy array.\n",
      "  warnings.warn(\n",
      "100%|██████████| 14/14 [1:39:21<00:00, 425.81s/it]\n"
     ]
    },
    {
     "data": {
      "image/png": "[encoded data removed]",
      "text/plain": [
       "<Figure size 432x288 with 1 Axes>"
      ]
     },
     "metadata": {
      "needs_background": "light"
     },
     "output_type": "display_data"
    }
   ],
   "source": [
    "import pandas as pd\n",
    "import numpy as np\n",
    "import matplotlib.pyplot as plt\n",
    "from sklearn.cluster import KMeans\n",
    "from tqdm import tqdm\n",
    "\n",
    "# Load data from CSV file\n",
    "data = count_vectorizer_df\n",
    "data=data.fillna(0)\n",
    "\n",
    "# Create a list to hold the Sum of Squared Distances (SSD)\n",
    "ssd = []\n",
    "\n",
    "# Create KMeans objects for k=2 to k=16\n",
    "for k in tqdm(range(2, 16)):\n",
    "    kmeans = KMeans(n_clusters=k,random_state=42)\n",
    "    kmeans.fit(data)\n",
    "    ssd.append(kmeans.inertia_)\n",
    "\n",
    "# Plot elbow curve\n",
    "plt.plot(range(2, 16), ssd)\n",
    "plt.title('Elbow Curve of New York Dataset')\n",
    "plt.xlabel('Number of Clusters')\n",
    "plt.ylabel('SSD')\n",
    "plt.show()\n",
    "\n",
    "\n"
   ]
  },
  {
   "cell_type": "code",
   "execution_count": null,
   "id": "f71fa247",
   "metadata": {},
   "outputs": [],
   "source": []
  },
  {
   "cell_type": "code",
   "execution_count": null,
   "id": "7964c9dd",
   "metadata": {},
   "outputs": [],
   "source": []
  },
  {
   "cell_type": "code",
   "execution_count": null,
   "id": "e046197e",
   "metadata": {},
   "outputs": [],
   "source": []
  },
  {
   "cell_type": "code",
   "execution_count": null,
   "id": "0d3bbd11",
   "metadata": {},
   "outputs": [],
   "source": []
  },
  {
   "cell_type": "code",
   "execution_count": null,
   "id": "82bb9ef4",
   "metadata": {},
   "outputs": [],
   "source": []
  },
  {
   "cell_type": "code",
   "execution_count": null,
   "id": "0bd8e2a9",
   "metadata": {},
   "outputs": [],
   "source": []
  },
  {
   "cell_type": "code",
   "execution_count": 69,
   "id": "d1f3900e",
   "metadata": {},
   "outputs": [],
   "source": []
  },
  {
   "cell_type": "code",
   "execution_count": null,
   "id": "795293d0",
   "metadata": {},
   "outputs": [],
   "source": []
  },
  {
   "cell_type": "code",
   "execution_count": 32,
   "id": "dc11e792",
   "metadata": {},
   "outputs": [],
   "source": []
  },
  {
   "cell_type": "code",
   "execution_count": null,
   "id": "b1c35a47",
   "metadata": {},
   "outputs": [],
   "source": []
  },
  {
   "cell_type": "code",
   "execution_count": null,
   "id": "39a4492f",
   "metadata": {},
   "outputs": [],
   "source": []
  },
  {
   "cell_type": "code",
   "execution_count": null,
   "id": "ceecbf1b",
   "metadata": {},
   "outputs": [],
   "source": []
  },
  {
   "cell_type": "code",
   "execution_count": null,
   "id": "846ca0a0",
   "metadata": {},
   "outputs": [],
   "source": []
  }
 ],
 "metadata": {
  "kernelspec": {
   "display_name": "Python 3 (ipykernel)",
   "language": "python",
   "name": "python3"
  },
  "language_info": {
   "codemirror_mode": {
    "name": "ipython",
    "version": 3
   },
   "file_extension": ".py",
   "mimetype": "text/x-python",
   "name": "python",
   "nbconvert_exporter": "python",
   "pygments_lexer": "ipython3",
   "version": "3.9.8"
  }
 },
 "nbformat": 4,
 "nbformat_minor": 5
}
